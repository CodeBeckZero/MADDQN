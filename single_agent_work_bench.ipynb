{
  "cells": [
    {
      "cell_type": "markdown",
      "metadata": {
        "id": "atpmeCKJQFm_"
      },
      "source": [
        "# Environment Setup"
      ]
    },
    {
      "cell_type": "markdown",
      "metadata": {
        "id": "oAeE9oqlQFnD"
      },
      "source": [
        "## Google Colab Installation"
      ]
    },
    {
      "cell_type": "markdown",
      "metadata": {
        "id": "C68ncf6KQFnE"
      },
      "source": [
        "### Install Python Environment"
      ]
    },
    {
      "cell_type": "code",
      "execution_count": 1,
      "metadata": {
        "colab": {
          "base_uri": "https://localhost:8080/"
        },
        "id": "H-8QZlwoQFnE",
        "outputId": "c93ef470-6de0-43da-f16a-7b75e1717e41"
      },
      "outputs": [
        {
          "name": "stdout",
          "output_type": "stream",
          "text": [
            "Running in another environment (e.g., VS Code)\n"
          ]
        }
      ],
      "source": [
        "try:\n",
        "    import google.colab\n",
        "    IN_COLAB = True\n",
        "except ImportError:\n",
        "    IN_COLAB = False\n",
        "\n",
        "if IN_COLAB:\n",
        "    # Code specific to Google Colab\n",
        "    print(\"Running in Google Colab\")\n",
        "\n",
        "    # Additional setup commands for Colab\n",
        "    !pip install neuralforecast\n",
        "    !pip install gymnasium\n",
        "    !pip install QuantStats\n",
        "else:\n",
        "    # Code for other environments (e.g., VS Code)\n",
        "    print(\"Running in another environment (e.g., VS Code)\")"
      ]
    },
    {
      "cell_type": "markdown",
      "metadata": {
        "id": "1s8-HY3ZQFnG"
      },
      "source": [
        "### Install RL Libraries"
      ]
    },
    {
      "cell_type": "code",
      "execution_count": 2,
      "metadata": {
        "colab": {
          "base_uri": "https://localhost:8080/"
        },
        "id": "ZT3SpOINQFnH",
        "outputId": "ff9fd1b4-d9dc-471a-a5cb-0119575dec34"
      },
      "outputs": [],
      "source": [
        "if IN_COLAB:\n",
        "    # Retrive required files\n",
        "    !wget --recursive --no-parent --cut-dirs=4 -P /content https://raw.githubusercontent.com//CodeBeckZero/MADDQN/main/environments/stockenv.py\n",
        "    !wget --recursive --no-parent --cut-dirs=4 -P /content https://raw.githubusercontent.com//CodeBeckZero/MADDQN/main/utilities/cleandata.py\n",
        "    !wget --recursive --no-parent --cut-dirs=4 -P /content https://raw.githubusercontent.com//CodeBeckZero/MADDQN/main/utilities/data.py\n",
        "    !wget --recursive --no-parent --cut-dirs=4 -P /content https://raw.githubusercontent.com//CodeBeckZero/MADDQN/main/utilities/epsilon_decay.py\n",
        "    !wget --recursive --no-parent --cut-dirs=4 -P /content https://raw.githubusercontent.com//CodeBeckZero/MADDQN/main/utilities/agentperform.py\n",
        "    !wget --recursive --no-parent --cut-dirs=4 -P /content https://raw.githubusercontent.com//CodeBeckZero/MADDQN/main/utilities/prob_evaluate.py\n",
        "    !wget --recursive --no-parent --cut-dirs=4 -P /content https://raw.githubusercontent.com//CodeBeckZero/MADDQN/main/agents/ddqn.py\n",
        "    !wget --recursive --no-parent --cut-dirs=4 -P /content https://raw.githubusercontent.com//CodeBeckZero/MADDQN/main/agents/random.py\n",
        "    !wget --recursive --no-parent --cut-dirs=4 -P /content https://raw.githubusercontent.com//CodeBeckZero/MADDQN/main/agents/baseagent.py\n",
        "    !wget --recursive --no-parent --cut-dirs=4 -P /content https://raw.githubusercontent.com//CodeBeckZero/MADDQN/main/rewards/stockmarket.py\n",
        "    # Move all directories and files from content/raw.githubusercontent.com to content/\n",
        "    !mv /content/raw.githubusercontent.com/* /content/\n",
        "\n",
        "    # Delete the raw.githubusercontent.com directory\n",
        "    !rm -rf /content/raw.githubusercontent.com"
      ]
    },
    {
      "cell_type": "markdown",
      "metadata": {
        "id": "hrbfXX7DQFnI"
      },
      "source": [
        "# Activate Python Libraries & Random Seed"
      ]
    },
    {
      "cell_type": "code",
      "execution_count": 3,
      "metadata": {
        "colab": {
          "base_uri": "https://localhost:8080/"
        },
        "id": "MKyWuV4wQFnI",
        "outputId": "324836b6-7087-48a0-d20a-823894e3aaa1"
      },
      "outputs": [
        {
          "name": "stdout",
          "output_type": "stream",
          "text": [
            "CUDA (GPU support) is not available. PyTorch is running on CPU.\n"
          ]
        }
      ],
      "source": [
        "import os\n",
        "import sys\n",
        "import json\n",
        "import torch\n",
        "import optuna\n",
        "import random\n",
        "import numpy as np\n",
        "import pandas as pd\n",
        "import torch.nn as nn\n",
        "import utilities.agentperform as agentperform\n",
        "import utilities.cleandata as cln\n",
        "from optuna.visualization import plot_parallel_coordinate\n",
        "from utilities.epsilon_decay import linear_decay\n",
        "from utilities.data import UniStockEnvDataStruct, TimesNetProcessing, ModifyDDQNAgentState\n",
        "from utilities import prob_evaluate\n",
        "from agents.ddqn import DdqnAgent\n",
        "from agents.random import RandomAgent\n",
        "from rewards.stockmarket import future_profit, risk_reward, zero_reward\n",
        "from environments.stockenv import ContinuousOHLCVEnv\n",
        "from datetime import datetime\n",
        "from neuralforecast.core import NeuralForecast\n",
        "from neuralforecast.models import TimesNet\n",
        "from neuralforecast.losses.numpy import mae, mse\n",
        "import logging\n",
        "from sklearn import preprocessing\n",
        "import matplotlib.pyplot as plt\n",
        "\n",
        "#\n",
        "logging.getLogger(\"pytorch_lightning.utilities.rank_zero\").addHandler(logging.NullHandler())\n",
        "logging.getLogger(\"pytorch_lightning.accelerators.cuda\").addHandler(logging.NullHandler())\n",
        "os.environ['NIXTLA_ID_AS_COL'] = '1' # Prevent Warning\n",
        "\n",
        "def set_seed(seed):\n",
        "    \"\"\"Set seed for reproducibility.\"\"\"\n",
        "    # Python random module\n",
        "    random.seed(seed)\n",
        "\n",
        "    # NumPy\n",
        "    np.random.seed(seed)\n",
        "\n",
        "    # PyTorch\n",
        "    torch.manual_seed(seed)\n",
        "\n",
        "    # If you are using CUDA\n",
        "    if torch.cuda.is_available():\n",
        "        torch.cuda.manual_seed(seed)\n",
        "        torch.cuda.manual_seed_all(seed)  # if you are using multi-GPU.\n",
        "        # Additional settings to force determinism in your operations:\n",
        "        torch.backends.cudnn.deterministic = True\n",
        "        torch.backends.cudnn.benchmark = False\n",
        "\n",
        "\n",
        "\n",
        "# Check if CUDA (GPU support) is available\n",
        "if torch.cuda.is_available():\n",
        "    # Get the current device\n",
        "    device = torch.device(\"cuda:0\")\n",
        "    print(f\"GPU Name: {torch.cuda.get_device_name(device)}\")\n",
        "else:\n",
        "    device = 'cpu'\n",
        "    print(\"CUDA (GPU support) is not available. PyTorch is running on CPU.\")\n",
        "\n",
        "\n",
        "def decimal_to_text(decimal_number):\n",
        "    # Remove the decimal point and convert to integer\n",
        "    integer_part = int(decimal_number * 1000)\n",
        "    # Convert the integer to text\n",
        "    text_representation = str(integer_part)\n",
        "    return text_representation"
      ]
    },
    {
      "cell_type": "markdown",
      "metadata": {
        "id": "xSGPXNdIQFnK"
      },
      "source": [
        "# RL Environment Setup"
      ]
    },
    {
      "cell_type": "markdown",
      "metadata": {
        "id": "zqgSqhMDQFnK"
      },
      "source": [
        "## Parameters & CSV Locations"
      ]
    },
    {
      "cell_type": "code",
      "execution_count": 4,
      "metadata": {
        "id": "_iIDvcGSQFnK"
      },
      "outputs": [],
      "source": [
        "RANDOM_SEED = 42\n",
        "set_seed(RANDOM_SEED)\n",
        "\n",
        "\n",
        "\n",
        "if not IN_COLAB:\n",
        "    pwd = \"C:/programming/MADDQN\"\n",
        "    sys.path.append(pwd)\n",
        "\n",
        "    # Output Path Location for CSV export\n",
        "    export_path = pwd + \"/output_data/test/\"\n",
        "else:\n",
        "    pwd = '/content'\n",
        "    export_path = pwd + \"/output_data/test/\"\n",
        "\n",
        "# Input Data Location, File Name, Stock name for labels\n",
        "input_url = 'https://raw.githubusercontent.com/CodeBeckZero/MADDQN/main/input_data'\n",
        "\n",
        "stock_inputs ={'DJI':'^DJI_daily.csv',\n",
        "               'NDAQ': '^IXIC_daily.csv',\n",
        "               'SP500': '^SPX_daily.csv',\n",
        "               'AAPL': 'AAPL_daily.csv',\n",
        "               'AMZN': 'AMZN_daily.csv',\n",
        "               'GOOGL': 'GOOGL_daily.csv',\n",
        "               'MSFT': 'MSFT_daily.csv',\n",
        "               'SINE': 'sine_wave_daily.csv',\n",
        "               'FORD': 'F_daily.csv',\n",
        "               'JNJ': 'JNJ_daily.csv',\n",
        "               'NEE': 'NEE_daily.csv',\n",
        "               'PFE': 'PFE_daily.csv',\n",
        "               'TSLA': 'TSLA_daily.csv',\n",
        "               'COKE': 'COKE_daily.csv',\n",
        "               'PG': 'PG_daily.csv'}\n",
        "\n",
        "# Training Inputs\n",
        "trn_keys = ['DJI','NDAQ','SP500']\n",
        "training_range = ('2007-01-01','2019-12-31')\n",
        "trn_dt_range = [datetime.strptime(dt_str, \"%Y-%m-%d\") for dt_str in training_range]\n",
        "\n",
        "# Validation Inputs\n",
        "validate = False\n",
        "val_keys = trn_keys\n",
        "validation_range = ('2020-01-01', '2021-12-31')\n",
        "val_dt_range = [datetime.strptime(dt_str, \"%Y-%m-%d\") for dt_str in validation_range]\n",
        "\n",
        "# Testing Inputs\n",
        "tst_keys = ['AAPL','AMZN','GOOGL','MSFT','FORD','JNJ','NEE','PFE','TSLA','COKE','PG']\n",
        "testing_range = ('2020-01-01', '2023-12-31')\n",
        "tst_dt_range = [datetime.strptime(dt_str, \"%Y-%m-%d\") for dt_str in testing_range]\n",
        "\n",
        "# Environmental Inputs\n",
        "window_size = 28 # Needs to match the size Timesnet is trained on\n",
        "price_based_on = 'close'\n",
        "columns = ['open','high','low','close','volume']\n",
        "\n",
        "\n",
        "# Metrics Interested in\n",
        "metrics = ['n_trades','n_wins', 'win_percentage','cumulative_return','sortino','max_drawdown','sharpe', 'trade_dur_avg']\n",
        "\n",
        "# Ranking type for Metrics\n",
        "aval_metrics_rank_dic = {'n_trades':'max','n_wins': 'max' ,'n_losses':'max','win_percentage':'max','cumulative_return':'max',\n",
        "                 'sortino':'max','max_drawdown':'min', 'sharpe':'max', 'trade_dur_avg':'max', 'trade_dur_min':'max',\n",
        "                 'trade_dur_max':'max','buy_hold':'max'}\n",
        "## See agentperform.py -> results dictionary for options\n",
        "\n",
        "# Modifying enviornment state before the\n",
        "scaling_params = {'columns': columns, 'scaling_type': 'col', 'scaler_func':preprocessing.StandardScaler()}\n",
        "scaling_range = ('2007-01-01','2020-12-31')\n",
        "scale_dt_range = [datetime.strptime(dt_str, \"%Y-%m-%d\") for dt_str in scaling_range]\n",
        "\n",
        "# Add Noise\n",
        "noise_mod_params = {'add_noise': True, 'add_noise_to_cols': columns, 'noise_mean': 0, 'noise_std': 0.1}\n",
        "\n",
        "env_mod_params = scaling_params | noise_mod_params"
      ]
    },
    {
      "cell_type": "markdown",
      "metadata": {
        "id": "6KjIdWWtQFnL"
      },
      "source": [
        "## RL Enviornment Generation"
      ]
    },
    {
      "cell_type": "code",
      "execution_count": 5,
      "metadata": {
        "id": "qDmzkFh8QFnM"
      },
      "outputs": [],
      "source": [
        "env_data = {}\n",
        "env = {}\n",
        "\n",
        "\n",
        "for stock, file in stock_inputs.items():\n",
        "    if stock in set(trn_keys + val_keys + tst_keys):\n",
        "        # Import\n",
        "        df = cln.YAHOO_csv_input(file, input_url)\n",
        "        data_dic = UniStockEnvDataStruct(df,columns,price_based_on,window_size)\n",
        "        env_data[stock] = data_dic\n",
        "        env[stock] = ContinuousOHLCVEnv(name=stock,\n",
        "                                        ohlcv_data = env_data[stock]['rw_raw_env'] ,\n",
        "                                        stock_price_data= env_data[stock]['rw_raw_price_env'],\n",
        "                                        commission_rate=0.005)"
      ]
    },
    {
      "cell_type": "markdown",
      "metadata": {
        "id": "9nOEPsX6QFnM"
      },
      "source": [
        "## Generating Indices"
      ]
    },
    {
      "cell_type": "code",
      "execution_count": 6,
      "metadata": {
        "id": "v654qbK7QFnM"
      },
      "outputs": [],
      "source": [
        "trn_idx = {}\n",
        "val_idx = {}\n",
        "tst_idx = {}\n",
        "scale_idx = {}\n",
        "\n",
        "for stock, file in stock_inputs.items():\n",
        "    if stock in set(trn_keys + val_keys + tst_keys):\n",
        "        if stock in trn_keys:\n",
        "            trn_idx[stock] = env_data[stock].gen_rw_idxs(trn_dt_range)\n",
        "        if stock in val_keys:\n",
        "            val_idx[stock] = env_data[stock].gen_rw_idxs(val_dt_range)\n",
        "        if stock in tst_keys:\n",
        "            tst_idx[stock] = env_data[stock].gen_rw_idxs(tst_dt_range)\n",
        "\n",
        "        scale_idx[stock] = env_data[stock].gen_idxs(scale_dt_range)"
      ]
    },
    {
      "cell_type": "markdown",
      "metadata": {
        "id": "j2RR5eb9QFnN"
      },
      "source": [
        "# Workbench Setup"
      ]
    },
    {
      "cell_type": "markdown",
      "metadata": {
        "id": "uAmGyMmuQFnN"
      },
      "source": [
        "## Parameters"
      ]
    },
    {
      "cell_type": "code",
      "execution_count": 8,
      "metadata": {
        "id": "yibhlUW2QFnN"
      },
      "outputs": [],
      "source": [
        "## Create Directory\n",
        "case_name = '/test_unit_run1'\n",
        "save_path_root = pwd + case_name\n",
        "os.makedirs(save_path_root, exist_ok=False)\n",
        "\n",
        "# Timesnet\n",
        "## Number of price predictions in the Future by TimesNet (Required for RL agent's input layer)\n",
        "n_prediction = 5\n",
        "## Need to Train TimesNet Preprocessing model (processed every cycle)\n",
        "train_tn_model = False\n",
        "## Importing TimesNet Preprocessing model (processed every cycle)\n",
        "import_tn_model = False\n",
        "tn_model_path = pwd + '/gen_data/timesnet/'\n",
        "## Use Imported CSVs from Preprocessing model (no processing, straight to RL agent)\n",
        "import_tn_csvs = True\n",
        "tn_csvs_path = pwd + '/gen_data/csvs/'\n",
        "## No modifaction of environmental state before input to agent\n",
        "no_tn_preprocessing = False\n",
        "\n",
        "# Limited Exploratory Hyperparmater Discover for single RL Agent\n",
        "hyperparam_discovery = True\n",
        "use_best_params = True\n",
        "\n",
        "# Traditional Training/Testing\n",
        "## Train Agent(s)\n",
        "train_agent = True\n",
        "# Test Agent(s)\n",
        "test_agent = True\n",
        "\n"
      ]
    },
    {
      "cell_type": "code",
      "execution_count": 9,
      "metadata": {
        "id": "SViA7zL9QFnN"
      },
      "outputs": [],
      "source": [
        "if  not(train_tn_model ^ import_tn_model ^ import_tn_csvs ^ no_tn_preprocessing):\n",
        "    raise ValueError(\"Only one preprocessing options can and must be selected\")\n"
      ]
    },
    {
      "cell_type": "markdown",
      "metadata": {
        "id": "TU5O6X0oQFnO"
      },
      "source": [
        "## Metric Function\n",
        "\n",
        "Function that generates metric from enviornment that will be used during validation phase of training or testing phase of model\n"
      ]
    },
    {
      "cell_type": "code",
      "execution_count": 10,
      "metadata": {
        "id": "GzYRJ4-dQFnO"
      },
      "outputs": [],
      "source": [
        "def metric_function(env):\n",
        "    metric = env.step_info[-1]['New Portfolio Value'] -  env.step_info[-1]['Portfolio Value']\n",
        "    return metric"
      ]
    },
    {
      "cell_type": "markdown",
      "metadata": {
        "id": "g1_EYhgoQFnP"
      },
      "source": [
        "# TimesNet Preprocessing"
      ]
    },
    {
      "cell_type": "markdown",
      "metadata": {
        "id": "E7OpXBjUQFnP"
      },
      "source": [
        "## Training"
      ]
    },
    {
      "cell_type": "markdown",
      "metadata": {
        "id": "ckS9XQTxQFnP"
      },
      "source": [
        "### Parameters"
      ]
    },
    {
      "cell_type": "code",
      "execution_count": 11,
      "metadata": {
        "id": "nMjZ8cZJQFnQ"
      },
      "outputs": [],
      "source": [
        "if train_tn_model:\n",
        "\n",
        "    model = TimesNet(h = n_prediction,          # Forecast horizon\n",
        "                    input_size = window_size,   # Length of Batches\n",
        "                    batch_size = 1,             # Number of timeseries to predict\n",
        "                    #futr_exog_list = remaining_columns,\n",
        "                    hidden_size = 128,          # Size of embedding for embedding and encoders,\n",
        "                    dropout = 0.40,             # Dropout for embeddings\n",
        "                    conv_hidden_size = 3,       # Channels for the inception block\n",
        "                    top_k = 5,                  # Top num of periods from FFT considered\n",
        "                    num_kernels = 13,           # number of kernels for the inception block\n",
        "                    encoder_layers = 3,         # num of encoders\n",
        "                    max_steps = 1000,           # of training steps\n",
        "                    early_stop_patience_steps = 10, #early stoppage on validation\n",
        "                    val_check_steps = 100,      # Val check every X steps,\n",
        "                    windows_batch_size = 150,   # Number of windows in training epoch,\n",
        "                    num_workers_loader = 7,\n",
        "                    learning_rate = 0.0003,\n",
        "                    random_seed = RANDOM_SEED)"
      ]
    },
    {
      "cell_type": "markdown",
      "metadata": {
        "id": "bKX00xoOQFnQ"
      },
      "source": [
        "### Code Execution"
      ]
    },
    {
      "cell_type": "code",
      "execution_count": 12,
      "metadata": {
        "id": "RRjzLmp2QFnR"
      },
      "outputs": [],
      "source": [
        "if train_tn_model:\n",
        "  nf = NeuralForecast(models=[model], freq='d')\n",
        "  results = {}\n",
        "  for key in trn_keys:\n",
        "    results[key] = nf.fit(df=env[key],val_size=0.2)\n",
        "\n",
        "  nf.save(path= tn_model_path,\n",
        "          model_index=None,\n",
        "          overwrite=True,\n",
        "          save_dataset=True)"
      ]
    },
    {
      "cell_type": "markdown",
      "metadata": {
        "id": "2JHWsNYIQFnR"
      },
      "source": [
        "## Load Model"
      ]
    },
    {
      "cell_type": "code",
      "execution_count": 13,
      "metadata": {
        "id": "YCtZ140VQFnS"
      },
      "outputs": [],
      "source": [
        "if import_tn_model:\n",
        "# Define the correct path\n",
        "  if IN_COLAB:\n",
        "\n",
        "    model_path = os.path.join(os.getcwd(), 'gen_data', 'timesnet')\n",
        "\n",
        "    # Ensure the directory and file exist\n",
        "    if os.path.exists(model_path):\n",
        "        nf = NeuralForecast.load(path=model_path)\n",
        "    else:\n",
        "        raise FileNotFoundError(f\"Model path {model_path} does not exist.\")"
      ]
    },
    {
      "cell_type": "markdown",
      "metadata": {
        "id": "cI00cUAeQFnS"
      },
      "source": [
        "## CSV Upload"
      ]
    },
    {
      "cell_type": "code",
      "execution_count": 14,
      "metadata": {
        "id": "iVuHiiPNQFnS"
      },
      "outputs": [],
      "source": [
        "if import_tn_csvs:\n",
        "    env_mod_func_dic = {}\n",
        "    if IN_COLAB:\n",
        "        # Input Data Location, File Name, Stock name for labels\n",
        "        csv_path = 'https://raw.githubusercontent.com/CodeBeckZero/MADDQN/main/gen_data/csvs/'\n",
        "\n",
        "    else:\n",
        "        csv_path  = tn_csvs_path\n",
        "\n",
        "    stock_tn ={'DJI':'DJI_tn.csv',\n",
        "                'NDAQ': 'NDAQ_tn.csv',\n",
        "                'SP500': 'SP500_tn.csv',\n",
        "                'AAPL': 'AAPL_tn.csv',\n",
        "                'AMZN': 'AMZN_tn.csv',\n",
        "                'GOOGL': 'GOOGL_tn.csv',\n",
        "                'MSFT': 'MSFT_tn.csv',\n",
        "                'FORD': 'FORD_tn.csv',\n",
        "                'JNJ': 'JNJ_tn.csv',\n",
        "                'NEE': 'NEE_tn.csv',\n",
        "                'PFE': 'PFE_tn.csv',\n",
        "                'TSLA': 'TSLA_tn.csv',\n",
        "                'COKE': 'COKE_tn.csv',\n",
        "                'PG': 'PG_tn.csv'}\n",
        "\n",
        "    for stock in set(trn_keys + val_keys + tst_keys):\n",
        "        import_csv_path = f'{csv_path}/{stock_tn[stock]}'\n",
        "        temp_env_mod_fuc = ModifyDDQNAgentState(uni_data=env_data[stock],\n",
        "                                                csv_import=import_tn_csvs,\n",
        "                                                csv_path=import_csv_path,\n",
        "                                                start_scale_idx=scale_idx[stock][0],\n",
        "                                                finish_scale_idx=scale_idx[stock][1],\n",
        "                                                **env_mod_params)\n",
        "        env_mod_func_dic[stock] = temp_env_mod_fuc\n",
        "\n"
      ]
    },
    {
      "cell_type": "markdown",
      "metadata": {
        "id": "wuCCAyfQQFnT"
      },
      "source": [
        "## Direct\n",
        "Current direct default is to take the rolling windows last entry and convert it to a list prior to input to agent. Agent's experience memory is currently list-based"
      ]
    },
    {
      "cell_type": "code",
      "execution_count": 15,
      "metadata": {
        "id": "13TlC9uQQFnT"
      },
      "outputs": [],
      "source": [
        "if no_tn_preprocessing:\n",
        "    env_mod_func_dic = {}\n",
        "    for stock in set(trn_keys + val_keys + tst_keys):\n",
        "        temp_env_mod_fuc = ModifyDDQNAgentState(uni_data=env_data[stock],\n",
        "                                                columns=columns,\n",
        "                                                csv_import= None,\n",
        "                                                csv_path= None,\n",
        "                                                scaling_type= None,\n",
        "                                                scaler_func=None,\n",
        "                                                device=device)\n",
        "        env_mod_func_dic[stock] = temp_env_mod_fuc"
      ]
    },
    {
      "cell_type": "markdown",
      "metadata": {
        "id": "90L1szCuQFnU"
      },
      "source": [
        "# Exploratory Hyperparameterization"
      ]
    },
    {
      "cell_type": "markdown",
      "metadata": {
        "id": "-WVVfJu8QFnU"
      },
      "source": [
        "## Interval Setup"
      ]
    },
    {
      "cell_type": "code",
      "execution_count": 16,
      "metadata": {
        "id": "TF9AGtlpQFnV"
      },
      "outputs": [
        {
          "data": {
            "text/plain": [
              "{'DJI': (0, 3497), 'NDAQ': (0, 3497), 'SP500': (0, 3497)}"
            ]
          },
          "metadata": {},
          "output_type": "display_data"
        },
        {
          "data": {
            "text/plain": [
              "{'DJI': (3525, 3749), 'NDAQ': (3525, 3749), 'SP500': (3525, 3749)}"
            ]
          },
          "metadata": {},
          "output_type": "display_data"
        },
        {
          "data": {
            "text/plain": [
              "{'AAPL': (3525, 4250),\n",
              " 'AMZN': (3525, 4250),\n",
              " 'GOOGL': (3525, 4250),\n",
              " 'MSFT': (3525, 4250),\n",
              " 'FORD': (3525, 4250),\n",
              " 'JNJ': (3525, 4250),\n",
              " 'NEE': (3525, 4250),\n",
              " 'PFE': (3525, 4250),\n",
              " 'TSLA': (2647, 3372),\n",
              " 'COKE': (3525, 4250),\n",
              " 'PG': (3525, 4250)}"
            ]
          },
          "metadata": {},
          "output_type": "display_data"
        }
      ],
      "source": [
        "if hyperparam_discovery:\n",
        "    # Training Inputs\n",
        "    hyp_training_range = ('2007-01-01','2020-12-31')\n",
        "    hyp_trn_dt_range = [datetime.strptime(dt_str, \"%Y-%m-%d\") for dt_str in hyp_training_range]\n",
        "\n",
        "    # Validation Inputs\n",
        "    hyp_validate = False\n",
        "    hyp_validation_range = ('2021-01-01', '2021-12-31')\n",
        "    hyp_val_dt_range = [datetime.strptime(dt_str, \"%Y-%m-%d\") for dt_str in hyp_validation_range]\n",
        "\n",
        "    # Testing Inputs\n",
        "    hyp_testing_range = ('2021-01-01', '2023-12-31')\n",
        "    hyp_tst_dt_range = [datetime.strptime(dt_str, \"%Y-%m-%d\") for dt_str in hyp_testing_range]\n",
        "\n",
        "  # Modifying enviornment state before the\n",
        "    hyp_scaling_params = {'columns': columns, 'scaling_type': 'col', 'scaler_func':preprocessing.StandardScaler()}\n",
        "    hyp_scaling_range = ('2007-01-01','2020-12-31')\n",
        "    hyp_scale_dt_range = [datetime.strptime(dt_str, \"%Y-%m-%d\") for dt_str in scaling_range]\n",
        "    \n",
        "    # Add Noise\n",
        "    hyp_noise_mod_params = {'add_noise': True, 'add_noise_to_cols': columns, 'noise_mean': 0, 'noise_std': 0.1}\n",
        "\n",
        "    hyp_env_mod_params = hyp_scaling_params | hyp_noise_mod_params\n",
        "    \n",
        "    \n",
        "    hyp_trn_idx = {}\n",
        "    hyp_val_idx = {}\n",
        "    hyp_tst_idx = {}\n",
        "    hyp_scale_idx = {}\n",
        "\n",
        "    for stock, file in stock_inputs.items():\n",
        "        if stock in set(trn_keys + val_keys + tst_keys):\n",
        "            if stock in trn_keys:\n",
        "                hyp_trn_idx[stock] = env_data[stock].gen_rw_idxs(hyp_trn_dt_range)\n",
        "            if stock in val_keys:\n",
        "                hyp_val_idx[stock] = env_data[stock].gen_rw_idxs(hyp_val_dt_range)\n",
        "            if stock in tst_keys:\n",
        "                hyp_tst_idx[stock] = env_data[stock].gen_rw_idxs(hyp_tst_dt_range)\n",
        "            \n",
        "            hyp_scale_idx[stock] = env_data[stock].gen_idxs(hyp_scale_dt_range)\n",
        "\n",
        "    display(hyp_trn_idx,hyp_val_idx,hyp_tst_idx)"
      ]
    },
    {
      "cell_type": "markdown",
      "metadata": {
        "id": "bPOgs_k5QFnV"
      },
      "source": [
        "## Parameter Search & Code Execution"
      ]
    },
    {
      "cell_type": "code",
      "execution_count": 17,
      "metadata": {
        "id": "_KBlSkuFQFnW"
      },
      "outputs": [
        {
          "name": "stderr",
          "output_type": "stream",
          "text": [
            "[I 2024-08-05 00:03:56,121] A new study created in memory with name: no-name-a3a9fb3c-2328-42ca-bf31-6989ae6ba619\n"
          ]
        },
        {
          "name": "stdout",
          "output_type": "stream",
          "text": [
            "Max Mem Length: 3490\n",
            "Directory 'C:/programming/MADDQN/test_unit_run1/hyp_param_search/2FC256_GELU_BT170BF600_Q1_TGT72_LR100' created successfully.\n",
            "DJI ENV: Agent hyp_profit_agent added\n",
            "DJI ENV: Agent hyp_profit_agent assigned as decision agent\n",
            "\n",
            "hyp_profit_agent: Training Initialized on DJI[0:3497]\n",
            "hyp_profit_agent: EP 1 of 1 Finished -> ΔQ1 = 2.23, ΔQ2 = 3.08 | ∑R = 826.75, μR = 0.24 σR = 3.05                                                                                                                                                         \n",
            "hyp_profit_agent: Training finished on DJI[0:3497]\n",
            "\n",
            "hyp_profit_agent: Q-Network Exported to file \"C:/programming/MADDQN/test_unit_run1/hyp_param_search/2FC256_GELU_BT170BF600_Q1_TGT72_LR100/model_save\"\n",
            "DJI ENV: Agent hyp_profit_agent removed\n",
            "NDAQ ENV: Agent hyp_profit_agent added\n",
            "NDAQ ENV: Agent hyp_profit_agent assigned as decision agent\n",
            "\n",
            "hyp_profit_agent: Training Initialized on NDAQ[0:3497]\n",
            "hyp_profit_agent: EP 1 of 1 Finished -> ΔQ1 = 2.68, ΔQ2 = 5.38 | ∑R = 2645.43, μR = 0.76 σR = 3.48                                                                                                                                                        \n",
            "hyp_profit_agent: Training finished on NDAQ[0:3497]\n",
            "\n",
            "hyp_profit_agent: Q-Network Exported to file \"C:/programming/MADDQN/test_unit_run1/hyp_param_search/2FC256_GELU_BT170BF600_Q1_TGT72_LR100/model_save\"\n",
            "NDAQ ENV: Agent hyp_profit_agent removed\n",
            "SP500 ENV: Agent hyp_profit_agent added\n",
            "SP500 ENV: Agent hyp_profit_agent assigned as decision agent\n",
            "\n",
            "hyp_profit_agent: Training Initialized on SP500[0:3497]\n",
            "hyp_profit_agent: EP 1 of 1 Finished -> ΔQ1 = 55255.71, ΔQ2 = 62401.48 | ∑R = 1181.68, μR = 0.34 σR = 2.83                                                                                                                                                \n",
            "hyp_profit_agent: Training finished on SP500[0:3497]\n",
            "\n",
            "hyp_profit_agent: Q-Network Exported to file \"C:/programming/MADDQN/test_unit_run1/hyp_param_search/2FC256_GELU_BT170BF600_Q1_TGT72_LR100/model_save\"\n",
            "SP500 ENV: Agent hyp_profit_agent removed\n",
            "AAPL ENV: Agent hyp_profit_agent added\n",
            "AAPL ENV: Agent hyp_profit_agent assigned as decision agent\n",
            "\n",
            "hyp_profit_agent: Testing Initialized on AAPL[3525:4250]\n",
            "hyp_profit_agent - AAPL[3525:4250] - Testing Finished - EP - 1 of 1-> ∑R = 0.00, μR = 0.00, σR = 0.00\n",
            "hyp_profit_agent: Testing Complete on AAPL[3525:4250]\n",
            "\n",
            "AAPL ENV: Agent hyp_profit_agent removed\n",
            "AMZN ENV: Agent hyp_profit_agent added\n",
            "AMZN ENV: Agent hyp_profit_agent assigned as decision agent\n",
            "\n",
            "hyp_profit_agent: Testing Initialized on AMZN[3525:4250]\n",
            "hyp_profit_agent - AMZN[3525:4250] - Testing Finished - EP - 1 of 1-> ∑R = 0.00, μR = 0.00, σR = 0.00\n",
            "hyp_profit_agent: Testing Complete on AMZN[3525:4250]\n",
            "\n",
            "AMZN ENV: Agent hyp_profit_agent removed\n",
            "GOOGL ENV: Agent hyp_profit_agent added\n",
            "GOOGL ENV: Agent hyp_profit_agent assigned as decision agent\n",
            "\n",
            "hyp_profit_agent: Testing Initialized on GOOGL[3525:4250]\n",
            "hyp_profit_agent - GOOGL[3525:4250] - Testing Finished - EP - 1 of 1-> ∑R = 0.00, μR = 0.00, σR = 0.00\n",
            "hyp_profit_agent: Testing Complete on GOOGL[3525:4250]\n",
            "\n",
            "GOOGL ENV: Agent hyp_profit_agent removed\n",
            "MSFT ENV: Agent hyp_profit_agent added\n",
            "MSFT ENV: Agent hyp_profit_agent assigned as decision agent\n",
            "\n",
            "hyp_profit_agent: Testing Initialized on MSFT[3525:4250]\n",
            "hyp_profit_agent - MSFT[3525:4250] - Testing Finished - EP - 1 of 1-> ∑R = 0.00, μR = 0.00, σR = 0.00\n",
            "hyp_profit_agent: Testing Complete on MSFT[3525:4250]\n",
            "\n",
            "MSFT ENV: Agent hyp_profit_agent removed\n",
            "FORD ENV: Agent hyp_profit_agent added\n",
            "FORD ENV: Agent hyp_profit_agent assigned as decision agent\n",
            "\n",
            "hyp_profit_agent: Testing Initialized on FORD[3525:4250]\n",
            "hyp_profit_agent - FORD[3525:4250] - Testing Finished - EP - 1 of 1-> ∑R = 0.00, μR = 0.00, σR = 0.00\n",
            "hyp_profit_agent: Testing Complete on FORD[3525:4250]\n",
            "\n",
            "FORD ENV: Agent hyp_profit_agent removed\n",
            "JNJ ENV: Agent hyp_profit_agent added\n",
            "JNJ ENV: Agent hyp_profit_agent assigned as decision agent\n",
            "\n",
            "hyp_profit_agent: Testing Initialized on JNJ[3525:4250]\n",
            "hyp_profit_agent - JNJ[3525:4250] - Testing Finished - EP - 1 of 1-> ∑R = 0.00, μR = 0.00, σR = 0.00\n",
            "hyp_profit_agent: Testing Complete on JNJ[3525:4250]\n",
            "\n",
            "JNJ ENV: Agent hyp_profit_agent removed\n",
            "NEE ENV: Agent hyp_profit_agent added\n",
            "NEE ENV: Agent hyp_profit_agent assigned as decision agent\n",
            "\n",
            "hyp_profit_agent: Testing Initialized on NEE[3525:4250]\n",
            "hyp_profit_agent - NEE[3525:4250] - Testing Finished - EP - 1 of 1-> ∑R = 0.00, μR = 0.00, σR = 0.00\n",
            "hyp_profit_agent: Testing Complete on NEE[3525:4250]\n",
            "\n",
            "NEE ENV: Agent hyp_profit_agent removed\n",
            "PFE ENV: Agent hyp_profit_agent added\n",
            "PFE ENV: Agent hyp_profit_agent assigned as decision agent\n",
            "\n",
            "hyp_profit_agent: Testing Initialized on PFE[3525:4250]\n",
            "hyp_profit_agent - PFE[3525:4250] - Testing Finished - EP - 1 of 1-> ∑R = 0.00, μR = 0.00, σR = 0.00\n",
            "hyp_profit_agent: Testing Complete on PFE[3525:4250]\n",
            "\n",
            "PFE ENV: Agent hyp_profit_agent removed\n",
            "TSLA ENV: Agent hyp_profit_agent added\n",
            "TSLA ENV: Agent hyp_profit_agent assigned as decision agent\n",
            "\n",
            "hyp_profit_agent: Testing Initialized on TSLA[2647:3372]\n",
            "hyp_profit_agent - TSLA[2647:3372] - Testing Finished - EP - 1 of 1-> ∑R = 0.00, μR = 0.00, σR = 0.00\n",
            "hyp_profit_agent: Testing Complete on TSLA[2647:3372]\n",
            "\n",
            "TSLA ENV: Agent hyp_profit_agent removed\n",
            "COKE ENV: Agent hyp_profit_agent added\n",
            "COKE ENV: Agent hyp_profit_agent assigned as decision agent\n",
            "\n",
            "hyp_profit_agent: Testing Initialized on COKE[3525:4250]\n",
            "hyp_profit_agent - COKE[3525:4250] - Testing Finished - EP - 1 of 1-> ∑R = 0.00, μR = 0.00, σR = 0.00\n",
            "hyp_profit_agent: Testing Complete on COKE[3525:4250]\n",
            "\n",
            "COKE ENV: Agent hyp_profit_agent removed\n",
            "PG ENV: Agent hyp_profit_agent added\n",
            "PG ENV: Agent hyp_profit_agent assigned as decision agent\n",
            "\n",
            "hyp_profit_agent: Testing Initialized on PG[3525:4250]\n",
            "hyp_profit_agent - PG[3525:4250] - Testing Finished - EP - 1 of 1-> ∑R = 0.00, μR = 0.00, σR = 0.00\n",
            "hyp_profit_agent: Testing Complete on PG[3525:4250]\n",
            "\n",
            "PG ENV: Agent hyp_profit_agent removed\n"
          ]
        },
        {
          "name": "stderr",
          "output_type": "stream",
          "text": [
            "[I 2024-08-05 00:07:35,015] Trial 0 finished with value: 0.0 and parameters: {'hidden_size': 256, 'update_q_freq': 1, 'update_tgt_freq': 72, 'activation_function': 'GELU', 'opt_lre': 0.1, 'gamma': 0.9, 'buffer_size': 600, 'batch_size': 170}. Best is trial 0 with value: 0.0.\n"
          ]
        },
        {
          "name": "stdout",
          "output_type": "stream",
          "text": [
            "Directory 'C:/programming/MADDQN/test_unit_run1/hyp_param_search/2FC512_GELU_BT125BF330_Q3_TGT35_LR10' created successfully.\n",
            "DJI ENV: Agent hyp_profit_agent added\n",
            "DJI ENV: Agent hyp_profit_agent assigned as decision agent\n",
            "\n",
            "hyp_profit_agent: Training Initialized on DJI[0:3497]\n",
            "hyp_profit_agent: EP 1 of 1 Finished -> ΔQ1 = 1238.82, ΔQ2 = 1670.67 | ∑R = 3036.88, μR = 0.87 σR = 3.08                                                                                                                                                  \n",
            "hyp_profit_agent: Training finished on DJI[0:3497]\n",
            "\n",
            "hyp_profit_agent: Q-Network Exported to file \"C:/programming/MADDQN/test_unit_run1/hyp_param_search/2FC512_GELU_BT125BF330_Q3_TGT35_LR10/model_save\"\n",
            "DJI ENV: Agent hyp_profit_agent removed\n",
            "NDAQ ENV: Agent hyp_profit_agent added\n",
            "NDAQ ENV: Agent hyp_profit_agent assigned as decision agent\n",
            "\n",
            "hyp_profit_agent: Training Initialized on NDAQ[0:3497]\n",
            "hyp_profit_agent: EP 1 of 1 Finished -> ΔQ1 = 17.32, ΔQ2 = 4.75 | ∑R = 3457.52, μR = 0.99 σR = 3.47                                                                                                                                                       \n",
            "hyp_profit_agent: Training finished on NDAQ[0:3497]\n",
            "\n",
            "hyp_profit_agent: Q-Network Exported to file \"C:/programming/MADDQN/test_unit_run1/hyp_param_search/2FC512_GELU_BT125BF330_Q3_TGT35_LR10/model_save\"\n",
            "NDAQ ENV: Agent hyp_profit_agent removed\n",
            "SP500 ENV: Agent hyp_profit_agent added\n",
            "SP500 ENV: Agent hyp_profit_agent assigned as decision agent\n",
            "\n",
            "hyp_profit_agent: Training Initialized on SP500[0:3497]\n",
            "hyp_profit_agent: EP 1 of 1 Finished -> ΔQ1 = 1950.25, ΔQ2 = 978.35 | ∑R = 2431.70, μR = 0.70 σR = 3.61                                                                                                                                                   \n",
            "hyp_profit_agent: Training finished on SP500[0:3497]\n",
            "\n",
            "hyp_profit_agent: Q-Network Exported to file \"C:/programming/MADDQN/test_unit_run1/hyp_param_search/2FC512_GELU_BT125BF330_Q3_TGT35_LR10/model_save\"\n",
            "SP500 ENV: Agent hyp_profit_agent removed\n",
            "AAPL ENV: Agent hyp_profit_agent added\n",
            "AAPL ENV: Agent hyp_profit_agent assigned as decision agent\n",
            "\n",
            "hyp_profit_agent: Testing Initialized on AAPL[3525:4250]\n",
            "hyp_profit_agent - AAPL[3525:4250] - Testing Finished - EP - 1 of 1-> ∑R = 0.00, μR = 0.00, σR = 0.00\n",
            "hyp_profit_agent: Testing Complete on AAPL[3525:4250]\n",
            "\n",
            "AAPL ENV: Agent hyp_profit_agent removed\n",
            "AMZN ENV: Agent hyp_profit_agent added\n",
            "AMZN ENV: Agent hyp_profit_agent assigned as decision agent\n",
            "\n",
            "hyp_profit_agent: Testing Initialized on AMZN[3525:4250]\n",
            "hyp_profit_agent - AMZN[3525:4250] - Testing Finished - EP - 1 of 1-> ∑R = 0.00, μR = 0.00, σR = 0.00\n",
            "hyp_profit_agent: Testing Complete on AMZN[3525:4250]\n",
            "\n",
            "AMZN ENV: Agent hyp_profit_agent removed\n",
            "GOOGL ENV: Agent hyp_profit_agent added\n",
            "GOOGL ENV: Agent hyp_profit_agent assigned as decision agent\n",
            "\n",
            "hyp_profit_agent: Testing Initialized on GOOGL[3525:4250]\n",
            "hyp_profit_agent - GOOGL[3525:4250] - Testing Finished - EP - 1 of 1-> ∑R = 0.00, μR = 0.00, σR = 0.00\n",
            "hyp_profit_agent: Testing Complete on GOOGL[3525:4250]\n",
            "\n",
            "GOOGL ENV: Agent hyp_profit_agent removed\n",
            "MSFT ENV: Agent hyp_profit_agent added\n",
            "MSFT ENV: Agent hyp_profit_agent assigned as decision agent\n",
            "\n",
            "hyp_profit_agent: Testing Initialized on MSFT[3525:4250]\n",
            "hyp_profit_agent - MSFT[3525:4250] - Testing Finished - EP - 1 of 1-> ∑R = 0.00, μR = 0.00, σR = 0.00\n",
            "hyp_profit_agent: Testing Complete on MSFT[3525:4250]\n",
            "\n",
            "MSFT ENV: Agent hyp_profit_agent removed\n",
            "FORD ENV: Agent hyp_profit_agent added\n",
            "FORD ENV: Agent hyp_profit_agent assigned as decision agent\n",
            "\n",
            "hyp_profit_agent: Testing Initialized on FORD[3525:4250]\n",
            "hyp_profit_agent - FORD[3525:4250] - Testing Finished - EP - 1 of 1-> ∑R = 0.00, μR = 0.00, σR = 0.00\n",
            "hyp_profit_agent: Testing Complete on FORD[3525:4250]\n",
            "\n",
            "FORD ENV: Agent hyp_profit_agent removed\n",
            "JNJ ENV: Agent hyp_profit_agent added\n",
            "JNJ ENV: Agent hyp_profit_agent assigned as decision agent\n",
            "\n",
            "hyp_profit_agent: Testing Initialized on JNJ[3525:4250]\n",
            "hyp_profit_agent - JNJ[3525:4250] - Testing Finished - EP - 1 of 1-> ∑R = 0.00, μR = 0.00, σR = 0.00\n",
            "hyp_profit_agent: Testing Complete on JNJ[3525:4250]\n",
            "\n",
            "JNJ ENV: Agent hyp_profit_agent removed\n",
            "NEE ENV: Agent hyp_profit_agent added\n",
            "NEE ENV: Agent hyp_profit_agent assigned as decision agent\n",
            "\n",
            "hyp_profit_agent: Testing Initialized on NEE[3525:4250]\n",
            "hyp_profit_agent - NEE[3525:4250] - Testing Finished - EP - 1 of 1-> ∑R = 0.00, μR = 0.00, σR = 0.00\n",
            "hyp_profit_agent: Testing Complete on NEE[3525:4250]\n",
            "\n",
            "NEE ENV: Agent hyp_profit_agent removed\n",
            "PFE ENV: Agent hyp_profit_agent added\n",
            "PFE ENV: Agent hyp_profit_agent assigned as decision agent\n",
            "\n",
            "hyp_profit_agent: Testing Initialized on PFE[3525:4250]\n",
            "hyp_profit_agent - PFE[3525:4250] - Testing Finished - EP - 1 of 1-> ∑R = 0.00, μR = 0.00, σR = 0.00\n",
            "hyp_profit_agent: Testing Complete on PFE[3525:4250]\n",
            "\n",
            "PFE ENV: Agent hyp_profit_agent removed\n",
            "TSLA ENV: Agent hyp_profit_agent added\n",
            "TSLA ENV: Agent hyp_profit_agent assigned as decision agent\n",
            "\n",
            "hyp_profit_agent: Testing Initialized on TSLA[2647:3372]\n",
            "hyp_profit_agent - TSLA[2647:3372] - Testing Finished - EP - 1 of 1-> ∑R = 0.00, μR = 0.00, σR = 0.00\n",
            "hyp_profit_agent: Testing Complete on TSLA[2647:3372]\n",
            "\n",
            "TSLA ENV: Agent hyp_profit_agent removed\n",
            "COKE ENV: Agent hyp_profit_agent added\n",
            "COKE ENV: Agent hyp_profit_agent assigned as decision agent\n",
            "\n",
            "hyp_profit_agent: Testing Initialized on COKE[3525:4250]\n",
            "hyp_profit_agent - COKE[3525:4250] - Testing Finished - EP - 1 of 1-> ∑R = 0.00, μR = 0.00, σR = 0.00\n",
            "hyp_profit_agent: Testing Complete on COKE[3525:4250]\n",
            "\n",
            "COKE ENV: Agent hyp_profit_agent removed\n",
            "PG ENV: Agent hyp_profit_agent added\n",
            "PG ENV: Agent hyp_profit_agent assigned as decision agent\n",
            "\n",
            "hyp_profit_agent: Testing Initialized on PG[3525:4250]\n",
            "hyp_profit_agent - PG[3525:4250] - Testing Finished - EP - 1 of 1-> ∑R = 0.00, μR = 0.00, σR = 0.00\n",
            "hyp_profit_agent: Testing Complete on PG[3525:4250]\n",
            "\n",
            "PG ENV: Agent hyp_profit_agent removed\n"
          ]
        },
        {
          "name": "stderr",
          "output_type": "stream",
          "text": [
            "[I 2024-08-05 00:10:52,295] Trial 1 finished with value: 0.0 and parameters: {'hidden_size': 512, 'update_q_freq': 3, 'update_tgt_freq': 35, 'activation_function': 'GELU', 'opt_lre': 0.01, 'gamma': 0.93, 'buffer_size': 330, 'batch_size': 125}. Best is trial 0 with value: 0.0.\n"
          ]
        },
        {
          "data": {
            "application/vnd.plotly.v1+json": {
              "config": {
                "plotlyServerURL": "https://plot.ly"
              },
              "data": [
                {
                  "dimensions": [
                    {
                      "label": "Objective Value",
                      "range": [
                        0,
                        0
                      ],
                      "values": [
                        0,
                        0
                      ]
                    },
                    {
                      "label": "activation_function",
                      "range": [
                        0,
                        0
                      ],
                      "ticktext": [
                        "GELU"
                      ],
                      "tickvals": [
                        0
                      ],
                      "values": [
                        0,
                        0
                      ]
                    },
                    {
                      "label": "batch_size",
                      "range": [
                        125,
                        170
                      ],
                      "values": [
                        125,
                        170
                      ]
                    },
                    {
                      "label": "buffer_size",
                      "range": [
                        330,
                        600
                      ],
                      "values": [
                        330,
                        600
                      ]
                    },
                    {
                      "label": "gamma",
                      "range": [
                        0.9,
                        0.93
                      ],
                      "values": [
                        0.93,
                        0.9
                      ]
                    },
                    {
                      "label": "hidden_size",
                      "range": [
                        256,
                        512
                      ],
                      "values": [
                        512,
                        256
                      ]
                    },
                    {
                      "label": "opt_lre",
                      "range": [
                        0,
                        1
                      ],
                      "ticktext": [
                        "0.01",
                        "0.1"
                      ],
                      "tickvals": [
                        0,
                        1
                      ],
                      "values": [
                        0,
                        1
                      ]
                    },
                    {
                      "label": "update_q_freq",
                      "range": [
                        1,
                        3
                      ],
                      "values": [
                        3,
                        1
                      ]
                    },
                    {
                      "label": "update_tgt_freq",
                      "range": [
                        35,
                        72
                      ],
                      "values": [
                        35,
                        72
                      ]
                    }
                  ],
                  "labelangle": 30,
                  "labelside": "bottom",
                  "line": {
                    "color": [
                      0,
                      0
                    ],
                    "colorbar": {
                      "title": {
                        "text": "Objective Value"
                      }
                    },
                    "colorscale": [
                      [
                        0,
                        "rgb(247,251,255)"
                      ],
                      [
                        0.125,
                        "rgb(222,235,247)"
                      ],
                      [
                        0.25,
                        "rgb(198,219,239)"
                      ],
                      [
                        0.375,
                        "rgb(158,202,225)"
                      ],
                      [
                        0.5,
                        "rgb(107,174,214)"
                      ],
                      [
                        0.625,
                        "rgb(66,146,198)"
                      ],
                      [
                        0.75,
                        "rgb(33,113,181)"
                      ],
                      [
                        0.875,
                        "rgb(8,81,156)"
                      ],
                      [
                        1,
                        "rgb(8,48,107)"
                      ]
                    ],
                    "reversescale": false,
                    "showscale": true
                  },
                  "type": "parcoords"
                }
              ],
              "layout": {
                "template": {
                  "data": {
                    "bar": [
                      {
                        "error_x": {
                          "color": "#2a3f5f"
                        },
                        "error_y": {
                          "color": "#2a3f5f"
                        },
                        "marker": {
                          "line": {
                            "color": "#E5ECF6",
                            "width": 0.5
                          },
                          "pattern": {
                            "fillmode": "overlay",
                            "size": 10,
                            "solidity": 0.2
                          }
                        },
                        "type": "bar"
                      }
                    ],
                    "barpolar": [
                      {
                        "marker": {
                          "line": {
                            "color": "#E5ECF6",
                            "width": 0.5
                          },
                          "pattern": {
                            "fillmode": "overlay",
                            "size": 10,
                            "solidity": 0.2
                          }
                        },
                        "type": "barpolar"
                      }
                    ],
                    "carpet": [
                      {
                        "aaxis": {
                          "endlinecolor": "#2a3f5f",
                          "gridcolor": "white",
                          "linecolor": "white",
                          "minorgridcolor": "white",
                          "startlinecolor": "#2a3f5f"
                        },
                        "baxis": {
                          "endlinecolor": "#2a3f5f",
                          "gridcolor": "white",
                          "linecolor": "white",
                          "minorgridcolor": "white",
                          "startlinecolor": "#2a3f5f"
                        },
                        "type": "carpet"
                      }
                    ],
                    "choropleth": [
                      {
                        "colorbar": {
                          "outlinewidth": 0,
                          "ticks": ""
                        },
                        "type": "choropleth"
                      }
                    ],
                    "contour": [
                      {
                        "colorbar": {
                          "outlinewidth": 0,
                          "ticks": ""
                        },
                        "colorscale": [
                          [
                            0,
                            "#0d0887"
                          ],
                          [
                            0.1111111111111111,
                            "#46039f"
                          ],
                          [
                            0.2222222222222222,
                            "#7201a8"
                          ],
                          [
                            0.3333333333333333,
                            "#9c179e"
                          ],
                          [
                            0.4444444444444444,
                            "#bd3786"
                          ],
                          [
                            0.5555555555555556,
                            "#d8576b"
                          ],
                          [
                            0.6666666666666666,
                            "#ed7953"
                          ],
                          [
                            0.7777777777777778,
                            "#fb9f3a"
                          ],
                          [
                            0.8888888888888888,
                            "#fdca26"
                          ],
                          [
                            1,
                            "#f0f921"
                          ]
                        ],
                        "type": "contour"
                      }
                    ],
                    "contourcarpet": [
                      {
                        "colorbar": {
                          "outlinewidth": 0,
                          "ticks": ""
                        },
                        "type": "contourcarpet"
                      }
                    ],
                    "heatmap": [
                      {
                        "colorbar": {
                          "outlinewidth": 0,
                          "ticks": ""
                        },
                        "colorscale": [
                          [
                            0,
                            "#0d0887"
                          ],
                          [
                            0.1111111111111111,
                            "#46039f"
                          ],
                          [
                            0.2222222222222222,
                            "#7201a8"
                          ],
                          [
                            0.3333333333333333,
                            "#9c179e"
                          ],
                          [
                            0.4444444444444444,
                            "#bd3786"
                          ],
                          [
                            0.5555555555555556,
                            "#d8576b"
                          ],
                          [
                            0.6666666666666666,
                            "#ed7953"
                          ],
                          [
                            0.7777777777777778,
                            "#fb9f3a"
                          ],
                          [
                            0.8888888888888888,
                            "#fdca26"
                          ],
                          [
                            1,
                            "#f0f921"
                          ]
                        ],
                        "type": "heatmap"
                      }
                    ],
                    "heatmapgl": [
                      {
                        "colorbar": {
                          "outlinewidth": 0,
                          "ticks": ""
                        },
                        "colorscale": [
                          [
                            0,
                            "#0d0887"
                          ],
                          [
                            0.1111111111111111,
                            "#46039f"
                          ],
                          [
                            0.2222222222222222,
                            "#7201a8"
                          ],
                          [
                            0.3333333333333333,
                            "#9c179e"
                          ],
                          [
                            0.4444444444444444,
                            "#bd3786"
                          ],
                          [
                            0.5555555555555556,
                            "#d8576b"
                          ],
                          [
                            0.6666666666666666,
                            "#ed7953"
                          ],
                          [
                            0.7777777777777778,
                            "#fb9f3a"
                          ],
                          [
                            0.8888888888888888,
                            "#fdca26"
                          ],
                          [
                            1,
                            "#f0f921"
                          ]
                        ],
                        "type": "heatmapgl"
                      }
                    ],
                    "histogram": [
                      {
                        "marker": {
                          "pattern": {
                            "fillmode": "overlay",
                            "size": 10,
                            "solidity": 0.2
                          }
                        },
                        "type": "histogram"
                      }
                    ],
                    "histogram2d": [
                      {
                        "colorbar": {
                          "outlinewidth": 0,
                          "ticks": ""
                        },
                        "colorscale": [
                          [
                            0,
                            "#0d0887"
                          ],
                          [
                            0.1111111111111111,
                            "#46039f"
                          ],
                          [
                            0.2222222222222222,
                            "#7201a8"
                          ],
                          [
                            0.3333333333333333,
                            "#9c179e"
                          ],
                          [
                            0.4444444444444444,
                            "#bd3786"
                          ],
                          [
                            0.5555555555555556,
                            "#d8576b"
                          ],
                          [
                            0.6666666666666666,
                            "#ed7953"
                          ],
                          [
                            0.7777777777777778,
                            "#fb9f3a"
                          ],
                          [
                            0.8888888888888888,
                            "#fdca26"
                          ],
                          [
                            1,
                            "#f0f921"
                          ]
                        ],
                        "type": "histogram2d"
                      }
                    ],
                    "histogram2dcontour": [
                      {
                        "colorbar": {
                          "outlinewidth": 0,
                          "ticks": ""
                        },
                        "colorscale": [
                          [
                            0,
                            "#0d0887"
                          ],
                          [
                            0.1111111111111111,
                            "#46039f"
                          ],
                          [
                            0.2222222222222222,
                            "#7201a8"
                          ],
                          [
                            0.3333333333333333,
                            "#9c179e"
                          ],
                          [
                            0.4444444444444444,
                            "#bd3786"
                          ],
                          [
                            0.5555555555555556,
                            "#d8576b"
                          ],
                          [
                            0.6666666666666666,
                            "#ed7953"
                          ],
                          [
                            0.7777777777777778,
                            "#fb9f3a"
                          ],
                          [
                            0.8888888888888888,
                            "#fdca26"
                          ],
                          [
                            1,
                            "#f0f921"
                          ]
                        ],
                        "type": "histogram2dcontour"
                      }
                    ],
                    "mesh3d": [
                      {
                        "colorbar": {
                          "outlinewidth": 0,
                          "ticks": ""
                        },
                        "type": "mesh3d"
                      }
                    ],
                    "parcoords": [
                      {
                        "line": {
                          "colorbar": {
                            "outlinewidth": 0,
                            "ticks": ""
                          }
                        },
                        "type": "parcoords"
                      }
                    ],
                    "pie": [
                      {
                        "automargin": true,
                        "type": "pie"
                      }
                    ],
                    "scatter": [
                      {
                        "fillpattern": {
                          "fillmode": "overlay",
                          "size": 10,
                          "solidity": 0.2
                        },
                        "type": "scatter"
                      }
                    ],
                    "scatter3d": [
                      {
                        "line": {
                          "colorbar": {
                            "outlinewidth": 0,
                            "ticks": ""
                          }
                        },
                        "marker": {
                          "colorbar": {
                            "outlinewidth": 0,
                            "ticks": ""
                          }
                        },
                        "type": "scatter3d"
                      }
                    ],
                    "scattercarpet": [
                      {
                        "marker": {
                          "colorbar": {
                            "outlinewidth": 0,
                            "ticks": ""
                          }
                        },
                        "type": "scattercarpet"
                      }
                    ],
                    "scattergeo": [
                      {
                        "marker": {
                          "colorbar": {
                            "outlinewidth": 0,
                            "ticks": ""
                          }
                        },
                        "type": "scattergeo"
                      }
                    ],
                    "scattergl": [
                      {
                        "marker": {
                          "colorbar": {
                            "outlinewidth": 0,
                            "ticks": ""
                          }
                        },
                        "type": "scattergl"
                      }
                    ],
                    "scattermapbox": [
                      {
                        "marker": {
                          "colorbar": {
                            "outlinewidth": 0,
                            "ticks": ""
                          }
                        },
                        "type": "scattermapbox"
                      }
                    ],
                    "scatterpolar": [
                      {
                        "marker": {
                          "colorbar": {
                            "outlinewidth": 0,
                            "ticks": ""
                          }
                        },
                        "type": "scatterpolar"
                      }
                    ],
                    "scatterpolargl": [
                      {
                        "marker": {
                          "colorbar": {
                            "outlinewidth": 0,
                            "ticks": ""
                          }
                        },
                        "type": "scatterpolargl"
                      }
                    ],
                    "scatterternary": [
                      {
                        "marker": {
                          "colorbar": {
                            "outlinewidth": 0,
                            "ticks": ""
                          }
                        },
                        "type": "scatterternary"
                      }
                    ],
                    "surface": [
                      {
                        "colorbar": {
                          "outlinewidth": 0,
                          "ticks": ""
                        },
                        "colorscale": [
                          [
                            0,
                            "#0d0887"
                          ],
                          [
                            0.1111111111111111,
                            "#46039f"
                          ],
                          [
                            0.2222222222222222,
                            "#7201a8"
                          ],
                          [
                            0.3333333333333333,
                            "#9c179e"
                          ],
                          [
                            0.4444444444444444,
                            "#bd3786"
                          ],
                          [
                            0.5555555555555556,
                            "#d8576b"
                          ],
                          [
                            0.6666666666666666,
                            "#ed7953"
                          ],
                          [
                            0.7777777777777778,
                            "#fb9f3a"
                          ],
                          [
                            0.8888888888888888,
                            "#fdca26"
                          ],
                          [
                            1,
                            "#f0f921"
                          ]
                        ],
                        "type": "surface"
                      }
                    ],
                    "table": [
                      {
                        "cells": {
                          "fill": {
                            "color": "#EBF0F8"
                          },
                          "line": {
                            "color": "white"
                          }
                        },
                        "header": {
                          "fill": {
                            "color": "#C8D4E3"
                          },
                          "line": {
                            "color": "white"
                          }
                        },
                        "type": "table"
                      }
                    ]
                  },
                  "layout": {
                    "annotationdefaults": {
                      "arrowcolor": "#2a3f5f",
                      "arrowhead": 0,
                      "arrowwidth": 1
                    },
                    "autotypenumbers": "strict",
                    "coloraxis": {
                      "colorbar": {
                        "outlinewidth": 0,
                        "ticks": ""
                      }
                    },
                    "colorscale": {
                      "diverging": [
                        [
                          0,
                          "#8e0152"
                        ],
                        [
                          0.1,
                          "#c51b7d"
                        ],
                        [
                          0.2,
                          "#de77ae"
                        ],
                        [
                          0.3,
                          "#f1b6da"
                        ],
                        [
                          0.4,
                          "#fde0ef"
                        ],
                        [
                          0.5,
                          "#f7f7f7"
                        ],
                        [
                          0.6,
                          "#e6f5d0"
                        ],
                        [
                          0.7,
                          "#b8e186"
                        ],
                        [
                          0.8,
                          "#7fbc41"
                        ],
                        [
                          0.9,
                          "#4d9221"
                        ],
                        [
                          1,
                          "#276419"
                        ]
                      ],
                      "sequential": [
                        [
                          0,
                          "#0d0887"
                        ],
                        [
                          0.1111111111111111,
                          "#46039f"
                        ],
                        [
                          0.2222222222222222,
                          "#7201a8"
                        ],
                        [
                          0.3333333333333333,
                          "#9c179e"
                        ],
                        [
                          0.4444444444444444,
                          "#bd3786"
                        ],
                        [
                          0.5555555555555556,
                          "#d8576b"
                        ],
                        [
                          0.6666666666666666,
                          "#ed7953"
                        ],
                        [
                          0.7777777777777778,
                          "#fb9f3a"
                        ],
                        [
                          0.8888888888888888,
                          "#fdca26"
                        ],
                        [
                          1,
                          "#f0f921"
                        ]
                      ],
                      "sequentialminus": [
                        [
                          0,
                          "#0d0887"
                        ],
                        [
                          0.1111111111111111,
                          "#46039f"
                        ],
                        [
                          0.2222222222222222,
                          "#7201a8"
                        ],
                        [
                          0.3333333333333333,
                          "#9c179e"
                        ],
                        [
                          0.4444444444444444,
                          "#bd3786"
                        ],
                        [
                          0.5555555555555556,
                          "#d8576b"
                        ],
                        [
                          0.6666666666666666,
                          "#ed7953"
                        ],
                        [
                          0.7777777777777778,
                          "#fb9f3a"
                        ],
                        [
                          0.8888888888888888,
                          "#fdca26"
                        ],
                        [
                          1,
                          "#f0f921"
                        ]
                      ]
                    },
                    "colorway": [
                      "#636efa",
                      "#EF553B",
                      "#00cc96",
                      "#ab63fa",
                      "#FFA15A",
                      "#19d3f3",
                      "#FF6692",
                      "#B6E880",
                      "#FF97FF",
                      "#FECB52"
                    ],
                    "font": {
                      "color": "#2a3f5f"
                    },
                    "geo": {
                      "bgcolor": "white",
                      "lakecolor": "white",
                      "landcolor": "#E5ECF6",
                      "showlakes": true,
                      "showland": true,
                      "subunitcolor": "white"
                    },
                    "hoverlabel": {
                      "align": "left"
                    },
                    "hovermode": "closest",
                    "mapbox": {
                      "style": "light"
                    },
                    "paper_bgcolor": "white",
                    "plot_bgcolor": "#E5ECF6",
                    "polar": {
                      "angularaxis": {
                        "gridcolor": "white",
                        "linecolor": "white",
                        "ticks": ""
                      },
                      "bgcolor": "#E5ECF6",
                      "radialaxis": {
                        "gridcolor": "white",
                        "linecolor": "white",
                        "ticks": ""
                      }
                    },
                    "scene": {
                      "xaxis": {
                        "backgroundcolor": "#E5ECF6",
                        "gridcolor": "white",
                        "gridwidth": 2,
                        "linecolor": "white",
                        "showbackground": true,
                        "ticks": "",
                        "zerolinecolor": "white"
                      },
                      "yaxis": {
                        "backgroundcolor": "#E5ECF6",
                        "gridcolor": "white",
                        "gridwidth": 2,
                        "linecolor": "white",
                        "showbackground": true,
                        "ticks": "",
                        "zerolinecolor": "white"
                      },
                      "zaxis": {
                        "backgroundcolor": "#E5ECF6",
                        "gridcolor": "white",
                        "gridwidth": 2,
                        "linecolor": "white",
                        "showbackground": true,
                        "ticks": "",
                        "zerolinecolor": "white"
                      }
                    },
                    "shapedefaults": {
                      "line": {
                        "color": "#2a3f5f"
                      }
                    },
                    "ternary": {
                      "aaxis": {
                        "gridcolor": "white",
                        "linecolor": "white",
                        "ticks": ""
                      },
                      "baxis": {
                        "gridcolor": "white",
                        "linecolor": "white",
                        "ticks": ""
                      },
                      "bgcolor": "#E5ECF6",
                      "caxis": {
                        "gridcolor": "white",
                        "linecolor": "white",
                        "ticks": ""
                      }
                    },
                    "title": {
                      "x": 0.05
                    },
                    "xaxis": {
                      "automargin": true,
                      "gridcolor": "white",
                      "linecolor": "white",
                      "ticks": "",
                      "title": {
                        "standoff": 15
                      },
                      "zerolinecolor": "white",
                      "zerolinewidth": 2
                    },
                    "yaxis": {
                      "automargin": true,
                      "gridcolor": "white",
                      "linecolor": "white",
                      "ticks": "",
                      "title": {
                        "standoff": 15
                      },
                      "zerolinecolor": "white",
                      "zerolinewidth": 2
                    }
                  }
                },
                "title": {
                  "text": "Parallel Coordinate Plot"
                }
              }
            }
          },
          "metadata": {},
          "output_type": "display_data"
        },
        {
          "name": "stdout",
          "output_type": "stream",
          "text": [
            "Best value:  0.0\n",
            "Best params:  {'hidden_size': 256, 'update_q_freq': 1, 'update_tgt_freq': 72, 'activation_function': 'GELU', 'opt_lre': 0.1, 'gamma': 0.9, 'buffer_size': 600, 'batch_size': 170}\n"
          ]
        },
        {
          "data": {
            "text/plain": [
              "{'hidden_size': 256,\n",
              " 'update_q_freq': 1,\n",
              " 'update_tgt_freq': 72,\n",
              " 'activation_function': GELU(approximate='none'),\n",
              " 'opt_lre': 0.1,\n",
              " 'gamma': 0.9,\n",
              " 'buffer_size': 600,\n",
              " 'batch_size': 170}"
            ]
          },
          "metadata": {},
          "output_type": "display_data"
        }
      ],
      "source": [
        "if hyperparam_discovery:\n",
        "\n",
        "    # For Objective function, need to create agent name before to link agent with enviornment\n",
        "    agent_name = 'hyp_profit_agent'\n",
        "    agent_path = save_path_root + '/hyp_param_search'\n",
        "    metric = 'val_tot_r'\n",
        "    max_len_buf = np.round(hyp_trn_idx['DJI'][1] - hyp_trn_idx['DJI'][0] + window_size, -2) -10 # manual input, could be error here if\n",
        "    print(f'Max Mem Length: {max_len_buf}')\n",
        "    \n",
        "    ## Activation Function Passing\n",
        "    activation_functions = {\n",
        "    'ELU': nn.ELU(),\n",
        "    'LRELUs02': nn.LeakyReLU(negative_slope=0.2),\n",
        "    'GELU': nn.GELU()}\n",
        "    \n",
        "\n",
        "    def objective(trial):\n",
        "        \n",
        "\n",
        "        # Define the hyperparameters to search over\n",
        "\n",
        "        ## NN hyperparameters\n",
        "        #sug_hidden_layers = trial.suggest_int('hidden_layers', low=1, high=3)\n",
        "        sug_hidden_size = trial.suggest_int('hidden_size', low=256, high=512, step=128)\n",
        "        sug_update_q_freq = trial.suggest_int('update_q_freq',low=1,high=5)\n",
        "        sug_update_tgt_freq = trial.suggest_int('update_tgt_freq',low=15,high=200)\n",
        "        sug_activation_function_name = trial.suggest_categorical('activation_function', list(activation_functions.keys()))\n",
        "        sug_activation_function = activation_functions[sug_activation_function_name]\n",
        "\n",
        "        \"\"\"\n",
        "        ## Reward Function Passing\n",
        "        reward_functions = {\n",
        "        'profit': future_profit(None,5),\n",
        "        'risk': risk_reward(None,5),\n",
        "        }\n",
        "        sug_reward_function_name = trial.suggest_categorical('reward_function', list(reward_functions.keys()))\n",
        "        sug_reward_function = reward_functions[sug_reward_function_name]\n",
        "        \"\"\"\n",
        "        ## Optimizer hyperparameters\n",
        "        sug_opt_lre = trial.suggest_categorical('opt_lre',[0.0001,.0001,0.01,0.1])\n",
        "        sug_gamma = trial.suggest_float('gamma',low=0.90,high=0.99,step=0.01)\n",
        "        ## Memory Replay hyperparameters\n",
        "        sug_buffer_size = trial.suggest_int('buffer_size',low=220,high=600,step=10)\n",
        "        sug_batch_size = trial.suggest_int('batch_size',low=50,high=200,step=5)\n",
        "\n",
        "        # Define Training Parameters\n",
        "        hyp_training_params = {'training_episodes': 1,\n",
        "                   'epsilon_decya_func': linear_decay,\n",
        "                   'initial_epsilon': 0.9,\n",
        "                   'final_epsilon': 0.1,\n",
        "                   'update_q_freq': sug_update_q_freq,\n",
        "                   'update_tgt_freq': sug_update_tgt_freq,                   \n",
        "                   'save_path': export_path,\n",
        "                   'metric_func': metric_function\n",
        "                   }\n",
        "\n",
        "        hyp_earlystop_params = {'min_training_episodes': 1,\n",
        "                   'early_stop': False,\n",
        "                   'stop_metric': None,\n",
        "                   'stop_patience': 2,\n",
        "                   'stop_delta': 0.001\n",
        "                    }\n",
        "        \n",
        "        \n",
        "        # Saving Setup\n",
        "        ## Current Parameter Values:\n",
        "        #cur_n_fcl = trial.params['hidden_layers']\n",
        "        cur_fcl_size = trial.params['hidden_size']\n",
        "        cur_q_freq = trial.params['update_q_freq']\n",
        "        cur_tgt_freq = trial.params['update_tgt_freq']\n",
        "        cur_act_func = trial.params['activation_function']\n",
        "        #cur_rwd_func = trial.params['reward_function']\n",
        "        cur_lre = decimal_to_text(trial.params['opt_lre'])\n",
        "        cur_buf_size = trial.params['buffer_size']\n",
        "        cur_bat_size = trial.params['batch_size']\n",
        "\n",
        "        ## Create Notation for Hyperparameter Setup\n",
        "        test_name = (f'2FC{cur_fcl_size}_{cur_act_func}_' +\n",
        "                    f'BT{cur_bat_size}BF{cur_buf_size}_Q{cur_q_freq}_' +\n",
        "                    f'TGT{cur_tgt_freq}_LR{cur_lre}')\n",
        "\n",
        "        ## Create Dir to save results\n",
        "        test_name_path =  agent_path + '/' + test_name\n",
        "        if not os.path.exists(test_name_path):\n",
        "            os.makedirs(test_name_path)\n",
        "            print(f\"Directory '{test_name_path}' created successfully.\")\n",
        "        else:\n",
        "            print(f\"Directory '{test_name_path}' already exists.\")\n",
        "\n",
        "        # Create Agent with hyperparameters\n",
        "        best_agent = DdqnAgent(name=agent_name,\n",
        "                            environment=None,\n",
        "                            reward_function = future_profit,\n",
        "                            reward_params = {'n':5},\n",
        "                            env_state_mod_func = None,\n",
        "                            input_size= 15,\n",
        "                            hidden_size= sug_hidden_size,\n",
        "                            output_size=3,\n",
        "                            activation_function = sug_activation_function,\n",
        "                            num_hidden_layers = 2,\n",
        "                            buffer_size= sug_buffer_size,\n",
        "                            batch_size = sug_batch_size,\n",
        "                            alpha = sug_opt_lre,\n",
        "                            gamma = sug_gamma,\n",
        "                            opt_wgt_dcy = 0.01,\n",
        "                            dropout_rate = 0.20,\n",
        "                            device = device)\n",
        "\n",
        "        # Training Model\n",
        "        for key, rl_env in env.items():\n",
        "\n",
        "            if key in trn_keys:\n",
        "                rl_env.add_agent(agent_name)\n",
        "                rl_env.set_decision_agent(agent_name)\n",
        "                \n",
        "                if hyp_validate:\n",
        "                    hyp_idx_params = {'start_idx': hyp_trn_idx[key][0],\n",
        "                                'end_idx':hyp_trn_idx[key][1],\n",
        "                                'val_start_idx': hyp_val_idx[key][0],\n",
        "                                'val_end_idx': hyp_val_idx[key][1]}\n",
        "                else:\n",
        "                    hyp_idx_params ={'start_idx': hyp_trn_idx[key][0],\n",
        "                                'end_idx':hyp_trn_idx[key][1],\n",
        "                                'val_start_idx': None,\n",
        "                                'val_end_idx': None}\n",
        "                \n",
        "                hyp_combined_params = hyp_training_params | hyp_earlystop_params | hyp_idx_params\n",
        "                \n",
        "                best_agent.set_env_stat_modify_func(env_mod_func_dic[key].process)\n",
        "                best_agent.set_environment(rl_env)\n",
        "                best_agent.train(**hyp_combined_params)\n",
        "                \n",
        "                # Save Agent\n",
        "                file_root_name = f'{key}_TRN_{hyp_trn_idx[key][0]}-{hyp_trn_idx[key][1]}'\n",
        "                best_agent.export_Q_nn(test_name_path+\"/model_save\")\n",
        "\n",
        "                # Create/Export Records\n",
        "                env_data_record = rl_env.get_step_data()\n",
        "                agent_data_record = best_agent.get_step_data()\n",
        "                training_record =  pd.concat([env_data_record, agent_data_record], axis=1, join='inner')\n",
        "                training_record.to_csv(f'{test_name_path}/{file_root_name}_step_data.csv')\n",
        "                episodic_training_record = best_agent.get_training_episodic_data()\n",
        "                episodic_training_record.to_csv(f'{test_name_path}/{file_root_name}_epi_data.csv')\n",
        "                \n",
        "                \n",
        "                \n",
        "                rl_env.remove_agent(agent_name)\n",
        "\n",
        "        # Test Model\n",
        "\n",
        "        scores = []\n",
        "        for key, rl_env in env.items():\n",
        "\n",
        "            if key in tst_keys:\n",
        "                rl_env.add_agent(agent_name)\n",
        "                rl_env.set_decision_agent(agent_name)\n",
        "                \n",
        "                best_agent.set_env_stat_modify_func(env_mod_func_dic[key].process)\n",
        "                best_agent.set_environment(rl_env)\n",
        "                best_agent.test(start_idx = hyp_tst_idx[key][0],\n",
        "                            end_idx = hyp_tst_idx[key][1],\n",
        "                            metric_func= metric_function,\n",
        "                            testing_episodes=1)\n",
        "                rl_env.remove_agent(agent_name)\n",
        "\n",
        "                ## Save Test Metric Result(s) into\n",
        "                ddqn_tst = best_agent.get_testing_episodic_data()\n",
        "                score = ddqn_tst['tot_r'].mean()\n",
        "                scores.append(score)\n",
        "\n",
        "                ## Export Test data\n",
        "                a = rl_env.get_step_data()\n",
        "                b = best_agent.get_step_data()\n",
        "                combined_df = pd.concat([a,b],axis=1)\n",
        "                tst_df_file_name  = f'TST-{key}' + test_name + '.csv'\n",
        "                trn_df_save_path = test_name_path + '/' + tst_df_file_name\n",
        "                combined_df.to_csv(trn_df_save_path)\n",
        "\n",
        "                ## Generate Trading Graphic\n",
        "                tst_graph_file_name = trn_df_save_path[:-4] + '.png'\n",
        "                agentperform.agent_stock_performance(env[key].stock_price_data[hyp_tst_idx[key][0]:hyp_tst_idx[key][1]][:,-1,0], # Selecting all batches, last price of window, closing price\n",
        "                                                    combined_df['Env Action'].to_numpy(),\n",
        "                                                    key,\n",
        "                                                    best_agent.get_name(),\n",
        "                                                    display_graph=False,\n",
        "                                                    save_graphic=True,\n",
        "                                                    path_file=tst_graph_file_name)\n",
        "\n",
        "        mean = np.mean(scores)\n",
        "        return mean\n",
        "\n",
        "    study = optuna.create_study(direction='maximize')\n",
        "    study.optimize(objective, n_trials=2)\n",
        "    \n",
        "    \n",
        "    best_params = study.best_params\n",
        "    \n",
        "    # Export best Parameters\n",
        "    best_param_file_name = save_path_root + '/hyp_param_search/train_params.txt'\n",
        "\n",
        "    with open(best_param_file_name, 'w') as file:\n",
        "        for key, value in best_params.items():\n",
        "            file.write(f'{key}:\\t{value}')\n",
        "    \n",
        "    fig = plot_parallel_coordinate(study)\n",
        "    fig.show()\n",
        "    \n",
        "    # Save the figure as a PNG file\n",
        "    fig.update_layout(width=1700, height=1100)\n",
        "    fig.write_image(save_path_root + '/hyp_param_search/parallel_coordinate_plot.png')\n",
        "    \n",
        "    print(\"Best value: \", study.best_value)\n",
        "    print(\"Best params: \", study.best_params)   \n",
        "\n",
        "    best_params['activation_function'] = activation_functions[best_params['activation_function']] \n",
        "    display(best_params)\n",
        "\n",
        "\n",
        "\n"
      ]
    },
    {
      "cell_type": "code",
      "execution_count": 29,
      "metadata": {},
      "outputs": [],
      "source": [
        "# Save the figure as a PNG file\n",
        "fig.update_layout(width=1700, height=1100)\n",
        "fig.write_image(save_path_root + '/hyp_param_search/parallel_coordinate_plot.png')\n"
      ]
    },
    {
      "cell_type": "markdown",
      "metadata": {
        "id": "zwUdEMmhQFnX"
      },
      "source": [
        "# Agent Setup"
      ]
    },
    {
      "cell_type": "markdown",
      "metadata": {
        "id": "95MUF9R5QFnp"
      },
      "source": [
        "## Parameters"
      ]
    },
    {
      "cell_type": "code",
      "execution_count": 18,
      "metadata": {
        "id": "OA5UDlQjQFnp"
      },
      "outputs": [],
      "source": [
        "# Agent Type Setup\n",
        "agent_classes = {'profit_1': DdqnAgent,\n",
        "                 'profit_2': DdqnAgent,\n",
        "                 #'final': DdqnAgent,\n",
        "                 'random':RandomAgent}\n",
        "\n",
        "# Mul\n",
        "agent_setup = {'profit_1': ['profit_1'],\n",
        "                 'profit_2': ['profit_2'],\n",
        "                 'random': ['random']}\n",
        "                 #'final': ['profit_1', 'profit_2']}# for multi agent key is decision agent\n",
        "                 #'macro': 'macro',\n",
        "                 #'opt': ['profit', 'risk', 'macro']}\n",
        "\n",
        "agent_name_list = list(agent_classes.keys())\n",
        "\n",
        "agents_to_train = ['profit_1','profit_2']\n",
        "\n",
        "import_agents = False\n",
        "\n",
        "agent_configs_to_import = {'profit_1': f'c:/Programming/MADDQN/test005/profit_1/profit_1_config.json',\n",
        "                           'profit_2': f'c:/Programming/MADDQN/test005/profit_2/profit_2_config.json'}\n",
        "\n",
        "agents_to_import = {'profit_1': f'c:/Programming/MADDQN/test005/profit_1/profit_1_model',\n",
        "                    'profit_2': f'c:/Programming/MADDQN/test005/profit_2/profit_2_model'}\n",
        "\n",
        "agent_params = {\n",
        "    agent_name_list[0]:{\n",
        "        'name': agent_name_list[0],\n",
        "        'environment': None,\n",
        "        'reward_function': future_profit,\n",
        "        'reward_params': {'n':5},\n",
        "        'env_state_mod_func': None,  #Is Set in Training Loop\n",
        "        'input_size': 15,\n",
        "        'hidden_size': 256,\n",
        "        'output_size':3,\n",
        "        'activation_function': nn.ReLU(),\n",
        "        'num_hidden_layers': 3,\n",
        "        'buffer_size': 400,\n",
        "        'batch_size': 100,\n",
        "        'alpha': 0.005,\n",
        "        'gamma':0.90,\n",
        "        'opt_wgt_dcy': 0,\n",
        "        'dropout_rate': 0.15,\n",
        "        'device': device\n",
        "    },\n",
        "    agent_name_list[1]:{\n",
        "        'name': agent_name_list[1],\n",
        "        'environment': None,\n",
        "        'reward_function': future_profit,\n",
        "        'reward_params': {'n':5},\n",
        "        'env_state_mod_func': None, #Is Set in Training Loop\n",
        "        'input_size': 15,\n",
        "        'hidden_size': 512,\n",
        "        'output_size':3,\n",
        "        'activation_function': nn.ELU(),\n",
        "        'num_hidden_layers': 3,\n",
        "        'buffer_size': 300,\n",
        "        'batch_size': 100,\n",
        "        'alpha': 0.001,\n",
        "        'gamma':0.90,\n",
        "        'opt_wgt_dcy': 1e-3,\n",
        "        'dropout_rate': 0.20,\n",
        "        'device': device\n",
        "    },\n",
        "        agent_name_list[2]:{\n",
        "        'name': agent_name_list[2],\n",
        "        'environment': None,\n",
        "        'reward_function': zero_reward,\n",
        "        'reward_params': {},\n",
        "        }}\n",
        "\n",
        "if import_agents:\n",
        "    for agent, config_loc in agent_configs_to_import.items():\n",
        "        with open(config_loc, 'r') as json_file:\n",
        "            config_data = json.load(json_file)\n",
        "        agent_params[agent].update(config_data)\n",
        "        agent_params[agent].update({'device':device})   # Ensure Current Device is used for computing GPU (config)\n",
        "\n",
        "if use_best_params:\n",
        "    # Update first agent with best parameters\n",
        "    filtered_new_agent_params = {key: best_params[key] for key in agent_params[agent_name_list[0]] if key in best_params}\n",
        "    agent_params[agent_name_list[0]].update(filtered_new_agent_params)\n",
        "\n",
        "    \n",
        "    \n"
      ]
    },
    {
      "cell_type": "markdown",
      "metadata": {
        "id": "dbtjT_9IQFnq"
      },
      "source": [
        "## Agent Generation"
      ]
    },
    {
      "cell_type": "code",
      "execution_count": 19,
      "metadata": {
        "id": "5Wcjvy7-QFnq"
      },
      "outputs": [
        {
          "name": "stdout",
          "output_type": "stream",
          "text": [
            "{'profit_1': {'name': 'profit_1', 'environment': None, 'reward_function': <function future_profit at 0x000001FB49E07A60>, 'reward_params': {'n': 5}, 'env_state_mod_func': None, 'input_size': 15, 'hidden_size': 256, 'output_size': 3, 'activation_function': GELU(approximate='none'), 'num_hidden_layers': 3, 'buffer_size': 600, 'batch_size': 170, 'alpha': 0.005, 'gamma': 0.9, 'opt_wgt_dcy': 0, 'dropout_rate': 0.15, 'device': 'cpu'}, 'profit_2': {'name': 'profit_2', 'environment': None, 'reward_function': <function future_profit at 0x000001FB49E07A60>, 'reward_params': {'n': 5}, 'env_state_mod_func': None, 'input_size': 15, 'hidden_size': 512, 'output_size': 3, 'activation_function': ELU(alpha=1.0), 'num_hidden_layers': 3, 'buffer_size': 300, 'batch_size': 100, 'alpha': 0.001, 'gamma': 0.9, 'opt_wgt_dcy': 0.001, 'dropout_rate': 0.2, 'device': 'cpu'}, 'random': {'name': 'random', 'environment': None, 'reward_function': <function zero_reward at 0x000001FB49E1F4C0>, 'reward_params': {}}}\n"
          ]
        }
      ],
      "source": [
        "agents_dic = {}\n",
        "\n",
        "for agent_name, agent_class in agent_classes.items():\n",
        "    selected_agent = agent_class(**agent_params[agent_name])\n",
        "    agents_dic[agent_name] = selected_agent\n",
        "    if agent_name in agents_to_import.keys() and import_agents:\n",
        "        agents_dic[agent_name].import_Q_nn(agents_to_import[agent_name])\n",
        "\n",
        "print(agent_params)"
      ]
    },
    {
      "cell_type": "markdown",
      "metadata": {
        "id": "k4y7pGWBQFnq"
      },
      "source": [
        "# Training Parameters"
      ]
    },
    {
      "cell_type": "code",
      "execution_count": 20,
      "metadata": {
        "id": "nswPoExzQFnr"
      },
      "outputs": [],
      "source": [
        "training_params = {'training_episodes': 1,\n",
        "                   'epsilon_decya_func': linear_decay,\n",
        "                   'initial_epsilon': 0.9,\n",
        "                   'final_epsilon': 0.1,\n",
        "                   'update_q_freq': 1,\n",
        "                   'update_tgt_freq': 50,\n",
        "                   'save_path': export_path,\n",
        "                   'metric_func': metric_function\n",
        "                   }\n",
        "\n",
        "earlystop_params = {'min_training_episodes': 1,\n",
        "                   'early_stop': False,\n",
        "                   'stop_metric': None,\n",
        "                   'stop_patience': 2,\n",
        "                   'stop_delta': 0.001\n",
        "                    }\n",
        "\n"
      ]
    },
    {
      "cell_type": "code",
      "execution_count": 21,
      "metadata": {},
      "outputs": [],
      "source": [
        "if use_best_params:\n",
        "    # Update training params with best parameters\n",
        "    filtered_traing_params = {key: best_params[key] for key in training_params if key in best_params}\n",
        "    training_params.update(filtered_traing_params)"
      ]
    },
    {
      "cell_type": "code",
      "execution_count": 22,
      "metadata": {
        "colab": {
          "base_uri": "https://localhost:8080/"
        },
        "id": "jX37f6UKQFnr",
        "outputId": "d5599fb9-5897-4b14-b5fa-b806c405ed42"
      },
      "outputs": [
        {
          "name": "stdout",
          "output_type": "stream",
          "text": [
            "DJI ENV: Agent profit_1 added\n",
            "DJI ENV: Agent profit_1 assigned as decision agent\n",
            "\n",
            "profit_1: Training Initialized on DJI[0:3244]\n",
            "profit_1: EP 1 of 1 Finished -> ΔQ1 = 7354.24, ΔQ2 = 11951.04 | ∑R = 1309.45, μR = 0.40 σR = 3.04                                                                                                                                                         \n",
            "profit_1: Training finished on DJI[0:3244]\n",
            "\n",
            "profit_1: Q-Network Exported to file \"C:/programming/MADDQN/test_unit_run1/profit_1/profit_1_model\"\n",
            "DJI ENV: Agent profit_1 removed\n",
            "NDAQ ENV: Agent profit_1 added\n",
            "NDAQ ENV: Agent profit_1 assigned as decision agent\n",
            "\n",
            "profit_1: Training Initialized on NDAQ[0:3244]\n",
            "profit_1: EP 1 of 1 Finished -> ΔQ1 = 5.95, ΔQ2 = 4.62 | ∑R = 1346.41, μR = 0.42 σR = 5.37                                                                                                                                                                \n",
            "profit_1: Training finished on NDAQ[0:3244]\n",
            "\n",
            "profit_1: Q-Network Exported to file \"C:/programming/MADDQN/test_unit_run1/profit_1/profit_1_model\"\n",
            "NDAQ ENV: Agent profit_1 removed\n",
            "SP500 ENV: Agent profit_1 added\n",
            "SP500 ENV: Agent profit_1 assigned as decision agent\n",
            "\n",
            "profit_1: Training Initialized on SP500[0:3244]\n",
            "profit_1: EP 1 of 1 Finished -> ΔQ1 = 1.46, ΔQ2 = 1.30 | ∑R = 2618.91, μR = 0.81 σR = 4.79                                                                                                                                                                \n",
            "profit_1: Training finished on SP500[0:3244]\n",
            "\n",
            "profit_1: Q-Network Exported to file \"C:/programming/MADDQN/test_unit_run1/profit_1/profit_1_model\"\n",
            "SP500 ENV: Agent profit_1 removed\n",
            "DJI ENV: Agent profit_2 added\n",
            "DJI ENV: Agent profit_2 assigned as decision agent\n",
            "\n",
            "profit_2: Training Initialized on DJI[0:3244]\n",
            "profit_2: EP 1 of 1 Finished -> ΔQ1 = 3.46, ΔQ2 = 2.77 | ∑R = 1794.97, μR = 0.55 σR = 2.23                                                                                                                                                                \n",
            "profit_2: Training finished on DJI[0:3244]\n",
            "\n",
            "profit_2: Q-Network Exported to file \"C:/programming/MADDQN/test_unit_run1/profit_2/profit_2_model\"\n",
            "DJI ENV: Agent profit_2 removed\n",
            "NDAQ ENV: Agent profit_2 added\n",
            "NDAQ ENV: Agent profit_2 assigned as decision agent\n",
            "\n",
            "profit_2: Training Initialized on NDAQ[0:3244]\n",
            "profit_2: EP 1 of 1 Finished -> ΔQ1 = 1.95, ΔQ2 = 0.93 | ∑R = 256.37, μR = 0.08 σR = 2.49                                                                                                                                                                 \n",
            "profit_2: Training finished on NDAQ[0:3244]\n",
            "\n",
            "profit_2: Q-Network Exported to file \"C:/programming/MADDQN/test_unit_run1/profit_2/profit_2_model\"\n",
            "NDAQ ENV: Agent profit_2 removed\n",
            "SP500 ENV: Agent profit_2 added\n",
            "SP500 ENV: Agent profit_2 assigned as decision agent\n",
            "\n",
            "profit_2: Training Initialized on SP500[0:3244]\n",
            "profit_2: EP 1 of 1 Finished -> ΔQ1 = 1.13, ΔQ2 = 1.14 | ∑R = 1851.56, μR = 0.57 σR = 2.64                                                                                                                                                                \n",
            "profit_2: Training finished on SP500[0:3244]\n",
            "\n",
            "profit_2: Q-Network Exported to file \"C:/programming/MADDQN/test_unit_run1/profit_2/profit_2_model\"\n",
            "SP500 ENV: Agent profit_2 removed\n"
          ]
        }
      ],
      "source": [
        "\n",
        "if train_agent:\n",
        "    \n",
        "    # Export Training Parameters (Does nost handle imported parameters Q_value/Tgt_value)\n",
        "    train_param_file_name = save_path_root + '/train_params.txt'\n",
        "    with open(train_param_file_name, 'w') as file:\n",
        "        for key, value in training_params.items():\n",
        "            file.write(f'{key}:\\t\\t{value}\\n')\n",
        "    # Export Early Stop Paramters:\n",
        "    train_param_file_name = save_path_root + '/earlystop_params.txt'\n",
        "    with open(train_param_file_name, 'w') as file:\n",
        "        for key, value in training_params.items():\n",
        "            file.write(f'{key}:\\t\\t{value}\\n')   \n",
        "    # Agent Params\n",
        "    train_param_file_name = save_path_root + '/agent_params.txt'\n",
        "    with open(train_param_file_name, 'w') as file:\n",
        "        for agent in agent_params:\n",
        "            file.write(f'{agent}------\\n')\n",
        "            for key, value in agent_params[agent].items():\n",
        "                file.write(f'\\t{key}:\\t\\t{value}\\n')\n",
        "\n",
        "    # Which Agents to Train\n",
        "    filtered_agents = {\n",
        "        decision_agent: agents_in_setup\n",
        "        for decision_agent, agents_in_setup in agent_setup.items()\n",
        "        if decision_agent in agents_to_train\n",
        "    }\n",
        "\n",
        "    for decision_agent, agents_in_setup in filtered_agents.items():\n",
        "        for key in trn_keys:\n",
        "            rl_env = env[key]\n",
        "\n",
        "            if validate:\n",
        "                idx_params = {'start_idx': trn_idx[key][0],\n",
        "                              'end_idx':trn_idx[key][1],\n",
        "                              'val_start_idx': val_idx[key][0],\n",
        "                              'val_end_idx': val_idx[key][1]}\n",
        "            else:\n",
        "                idx_params ={'start_idx': trn_idx[key][0],\n",
        "                             'end_idx':trn_idx[key][1],\n",
        "                             'val_start_idx': None,\n",
        "                             'val_end_idx': None}\n",
        "\n",
        "            combined_params = training_params | earlystop_params | idx_params\n",
        "\n",
        "            # Setup agents with environment\n",
        "            rl_env.add_agent(decision_agent)\n",
        "            rl_env.set_decision_agent(decision_agent)   \n",
        "            agents_dic[decision_agent].set_environment(rl_env)\n",
        "\n",
        "            # Multi-Agent Setup\n",
        "            if decision_agent not in agents_in_setup or len(agents_in_setup) != 1:\n",
        "                subagent_list = []\n",
        "                for agent in agents_in_setup:\n",
        "                    subagent_list.append(agents_dic[agent])\n",
        "                env_mod_func_dic[key].add_subagents(subagent_list)\n",
        "            \n",
        "            #Train Agent    \n",
        "            agents_dic[decision_agent].set_env_stat_modify_func(env_mod_func_dic[key].process)\n",
        "            agents_dic[decision_agent].train(**combined_params)\n",
        "            \n",
        "            # Remove Multi-Agent Setup in ENV_MOD function\n",
        "            if decision_agent not in agents_in_setup or len(agents_in_setup) != 1:\n",
        "                env_mod_func_dic[key].remove_subagents()\n",
        "\n",
        "            # Save Agent\n",
        "            save_agent_path = save_path_root + f'/{decision_agent}/'\n",
        "            os.makedirs(save_agent_path, exist_ok=True)\n",
        "            file_root_name = f'{key}_TRN_{trn_idx[key][0]}-{trn_idx[key][1]}'\n",
        "            agents_dic[decision_agent].export_Q_nn(f'{save_agent_path}{decision_agent}_model')\n",
        "            agents_dic[decision_agent].save_config(f'{save_agent_path}{decision_agent}_config.json')\n",
        "            \n",
        "            # Create/Export Records\n",
        "            env_data_record = rl_env.get_step_data()\n",
        "            agent_data_record = agents_dic[decision_agent].get_step_data()\n",
        "            training_record =  pd.concat([env_data_record, agent_data_record], axis=1, join='inner')\n",
        "            training_record.to_csv(f'{save_agent_path}{file_root_name}_step_data.csv')\n",
        "            episodic_training_record = agents_dic[decision_agent].get_training_episodic_data()\n",
        "            episodic_training_record.to_csv(f'{save_agent_path}{file_root_name}_epi_data.csv')\n",
        "\n",
        "            # Remove Agent\n",
        "            rl_env.remove_agent(decision_agent)\n",
        "            agents_dic[decision_agent].set_environment(None)\n",
        "\n"
      ]
    },
    {
      "cell_type": "markdown",
      "metadata": {
        "id": "CVcrJ5qVQFns"
      },
      "source": [
        "# Agent Testing"
      ]
    },
    {
      "cell_type": "markdown",
      "metadata": {
        "id": "Xc6ZYhOsQFns"
      },
      "source": [
        "## Parameters"
      ]
    },
    {
      "cell_type": "code",
      "execution_count": 23,
      "metadata": {
        "id": "qegyTiiIQFns"
      },
      "outputs": [],
      "source": [
        "testing_params = {DdqnAgent: {\n",
        "                   'metric_func': metric_function,\n",
        "                   'metric_func_arg': {},\n",
        "                   'testing_episodes':1},\n",
        "                  RandomAgent: {\n",
        "                    'metric_func': metric_function,\n",
        "                   'metric_func_arg': {},\n",
        "                   'testing_episodes':5}}"
      ]
    },
    {
      "cell_type": "markdown",
      "metadata": {
        "id": "9rF1E25JQFns"
      },
      "source": [
        "## Testing"
      ]
    },
    {
      "cell_type": "code",
      "execution_count": 24,
      "metadata": {
        "id": "8buSLH7yQFnt"
      },
      "outputs": [
        {
          "name": "stdout",
          "output_type": "stream",
          "text": [
            "AAPL ENV: Agent profit_1 added\n",
            "AAPL ENV: Agent profit_1 assigned as decision agent\n",
            "\n",
            "profit_1: Testing Initialized on AAPL[3272:4250]\n",
            "profit_1 - AAPL[3272:4250] - Testing Finished - EP - 1 of 1-> ∑R = 0.00, μR = 0.00, σR = 0.00\n",
            "profit_1: Testing Complete on AAPL[3272:4250]\n",
            "\n",
            "AAPL ENV: Agent profit_1 removed\n",
            "AAPL ENV: Agent profit_2 added\n",
            "AAPL ENV: Agent profit_2 assigned as decision agent\n",
            "\n",
            "profit_2: Testing Initialized on AAPL[3272:4250]\n",
            "profit_2 - AAPL[3272:4250] - Testing Finished - EP - 1 of 1-> ∑R = 0.00, μR = 0.00, σR = 0.00\n",
            "profit_2: Testing Complete on AAPL[3272:4250]\n",
            "\n",
            "AAPL ENV: Agent profit_2 removed\n",
            "AAPL ENV: Agent random added\n",
            "AAPL ENV: Agent random assigned as decision agent\n",
            "random: Testing Initialized on AAPL[3272:4250]\n",
            "random: EP 5 of 5 Finished -> ∑R = -85832.44, μR = -87.76, σR = 1004.74                                                                                                                                 \n",
            "random: Testing Complete on AAPL[3272:4250]\n",
            "AAPL ENV: Agent random removed\n",
            "AMZN ENV: Agent profit_1 added\n",
            "AMZN ENV: Agent profit_1 assigned as decision agent\n",
            "\n",
            "profit_1: Testing Initialized on AMZN[3272:4250]\n",
            "profit_1 - AMZN[3272:4250] - Testing Finished - EP - 1 of 1-> ∑R = 0.00, μR = 0.00, σR = 0.00\n",
            "profit_1: Testing Complete on AMZN[3272:4250]\n",
            "\n",
            "AMZN ENV: Agent profit_1 removed\n",
            "AMZN ENV: Agent profit_2 added\n",
            "AMZN ENV: Agent profit_2 assigned as decision agent\n",
            "\n",
            "profit_2: Testing Initialized on AMZN[3272:4250]\n",
            "profit_2 - AMZN[3272:4250] - Testing Finished - EP - 1 of 1-> ∑R = 0.00, μR = 0.00, σR = 0.00\n",
            "profit_2: Testing Complete on AMZN[3272:4250]\n",
            "\n",
            "AMZN ENV: Agent profit_2 removed\n",
            "AMZN ENV: Agent random added\n",
            "AMZN ENV: Agent random assigned as decision agent\n",
            "random: Testing Initialized on AMZN[3272:4250]\n",
            "random: EP 5 of 5 Finished -> ∑R = -87528.11, μR = -89.50, σR = 966.10                                                                                                                                  \n",
            "random: Testing Complete on AMZN[3272:4250]\n",
            "AMZN ENV: Agent random removed\n",
            "GOOGL ENV: Agent profit_1 added\n",
            "GOOGL ENV: Agent profit_1 assigned as decision agent\n",
            "\n",
            "profit_1: Testing Initialized on GOOGL[3272:4250]\n",
            "profit_1 - GOOGL[3272:4250] - Testing Finished - EP - 1 of 1-> ∑R = 0.00, μR = 0.00, σR = 0.00\n",
            "profit_1: Testing Complete on GOOGL[3272:4250]\n",
            "\n",
            "GOOGL ENV: Agent profit_1 removed\n",
            "GOOGL ENV: Agent profit_2 added\n",
            "GOOGL ENV: Agent profit_2 assigned as decision agent\n",
            "\n",
            "profit_2: Testing Initialized on GOOGL[3272:4250]\n",
            "profit_2 - GOOGL[3272:4250] - Testing Finished - EP - 1 of 1-> ∑R = 0.00, μR = 0.00, σR = 0.00\n",
            "profit_2: Testing Complete on GOOGL[3272:4250]\n",
            "\n",
            "GOOGL ENV: Agent profit_2 removed\n",
            "GOOGL ENV: Agent random added\n",
            "GOOGL ENV: Agent random assigned as decision agent\n",
            "random: Testing Initialized on GOOGL[3272:4250]\n",
            "random: EP 5 of 5 Finished -> ∑R = -87391.53, μR = -89.36, σR = 781.72                                                                                                                                  \n",
            "random: Testing Complete on GOOGL[3272:4250]\n",
            "GOOGL ENV: Agent random removed\n",
            "MSFT ENV: Agent profit_1 added\n",
            "MSFT ENV: Agent profit_1 assigned as decision agent\n",
            "\n",
            "profit_1: Testing Initialized on MSFT[3272:4250]\n",
            "profit_1 - MSFT[3272:4250] - Testing Finished - EP - 1 of 1-> ∑R = 0.00, μR = 0.00, σR = 0.00\n",
            "profit_1: Testing Complete on MSFT[3272:4250]\n",
            "\n",
            "MSFT ENV: Agent profit_1 removed\n",
            "MSFT ENV: Agent profit_2 added\n",
            "MSFT ENV: Agent profit_2 assigned as decision agent\n",
            "\n",
            "profit_2: Testing Initialized on MSFT[3272:4250]\n",
            "profit_2 - MSFT[3272:4250] - Testing Finished - EP - 1 of 1-> ∑R = 0.00, μR = 0.00, σR = 0.00\n",
            "profit_2: Testing Complete on MSFT[3272:4250]\n",
            "\n",
            "MSFT ENV: Agent profit_2 removed\n",
            "MSFT ENV: Agent random added\n",
            "MSFT ENV: Agent random assigned as decision agent\n",
            "random: Testing Initialized on MSFT[3272:4250]\n",
            "random: EP 5 of 5 Finished -> ∑R = -86024.95, μR = -87.96, σR = 943.31                                                                                                                                  \n",
            "random: Testing Complete on MSFT[3272:4250]\n",
            "MSFT ENV: Agent random removed\n",
            "FORD ENV: Agent profit_1 added\n",
            "FORD ENV: Agent profit_1 assigned as decision agent\n",
            "\n",
            "profit_1: Testing Initialized on FORD[3272:4250]\n",
            "profit_1 - FORD[3272:4250] - Testing Finished - EP - 1 of 1-> ∑R = 0.00, μR = 0.00, σR = 0.00\n",
            "profit_1: Testing Complete on FORD[3272:4250]\n",
            "\n",
            "FORD ENV: Agent profit_1 removed\n",
            "FORD ENV: Agent profit_2 added\n",
            "FORD ENV: Agent profit_2 assigned as decision agent\n",
            "\n",
            "profit_2: Testing Initialized on FORD[3272:4250]\n",
            "profit_2 - FORD[3272:4250] - Testing Finished - EP - 1 of 1-> ∑R = 0.00, μR = 0.00, σR = 0.00\n",
            "profit_2: Testing Complete on FORD[3272:4250]\n",
            "\n",
            "FORD ENV: Agent profit_2 removed\n",
            "FORD ENV: Agent random added\n",
            "FORD ENV: Agent random assigned as decision agent\n",
            "random: Testing Initialized on FORD[3272:4250]\n",
            "random: EP 5 of 5 Finished -> ∑R = -79005.31, μR = -80.78, σR = 1472.59                                                                                                                                 \n",
            "random: Testing Complete on FORD[3272:4250]\n",
            "FORD ENV: Agent random removed\n",
            "JNJ ENV: Agent profit_1 added\n",
            "JNJ ENV: Agent profit_1 assigned as decision agent\n",
            "\n",
            "profit_1: Testing Initialized on JNJ[3272:4250]\n",
            "profit_1 - JNJ[3272:4250] - Testing Finished - EP - 1 of 1-> ∑R = 0.00, μR = 0.00, σR = 0.00\n",
            "profit_1: Testing Complete on JNJ[3272:4250]\n",
            "\n",
            "JNJ ENV: Agent profit_1 removed\n",
            "JNJ ENV: Agent profit_2 added\n",
            "JNJ ENV: Agent profit_2 assigned as decision agent\n",
            "\n",
            "profit_2: Testing Initialized on JNJ[3272:4250]\n",
            "profit_2 - JNJ[3272:4250] - Testing Finished - EP - 1 of 1-> ∑R = 2612.04, μR = 2.67, σR = 1304.23\n",
            "profit_2: Testing Complete on JNJ[3272:4250]\n",
            "\n"
          ]
        },
        {
          "name": "stderr",
          "output_type": "stream",
          "text": [
            "c:\\Users\\beckm\\Anaconda3\\envs\\MADDQN\\Lib\\site-packages\\quantstats\\stats.py:349: RuntimeWarning:\n",
            "\n",
            "divide by zero encountered in scalar divide\n",
            "\n"
          ]
        },
        {
          "name": "stdout",
          "output_type": "stream",
          "text": [
            "JNJ ENV: Agent profit_2 removed\n",
            "JNJ ENV: Agent random added\n",
            "JNJ ENV: Agent random assigned as decision agent\n",
            "random: Testing Initialized on JNJ[3272:4250]\n",
            "random: EP 5 of 5 Finished -> ∑R = -93426.48, μR = -95.53, σR = 467.30                                                                                                                                  \n",
            "random: Testing Complete on JNJ[3272:4250]\n",
            "JNJ ENV: Agent random removed\n",
            "NEE ENV: Agent profit_1 added\n",
            "NEE ENV: Agent profit_1 assigned as decision agent\n",
            "\n",
            "profit_1: Testing Initialized on NEE[3272:4250]\n",
            "profit_1 - NEE[3272:4250] - Testing Finished - EP - 1 of 1-> ∑R = 0.00, μR = 0.00, σR = 0.00\n",
            "profit_1: Testing Complete on NEE[3272:4250]\n",
            "\n",
            "NEE ENV: Agent profit_1 removed\n",
            "NEE ENV: Agent profit_2 added\n",
            "NEE ENV: Agent profit_2 assigned as decision agent\n",
            "\n",
            "profit_2: Testing Initialized on NEE[3272:4250]\n",
            "profit_2 - NEE[3272:4250] - Testing Finished - EP - 1 of 1-> ∑R = 0.00, μR = 0.00, σR = 0.00\n",
            "profit_2: Testing Complete on NEE[3272:4250]\n",
            "\n",
            "NEE ENV: Agent profit_2 removed\n",
            "NEE ENV: Agent random added\n",
            "NEE ENV: Agent random assigned as decision agent\n",
            "random: Testing Initialized on NEE[3272:4250]\n",
            "random: EP 5 of 5 Finished -> ∑R = -89320.74, μR = -91.33, σR = 956.46                                                                                                                                  \n",
            "random: Testing Complete on NEE[3272:4250]\n",
            "NEE ENV: Agent random removed\n",
            "PFE ENV: Agent profit_1 added\n",
            "PFE ENV: Agent profit_1 assigned as decision agent\n",
            "\n",
            "profit_1: Testing Initialized on PFE[3272:4250]\n",
            "profit_1 - PFE[3272:4250] - Testing Finished - EP - 1 of 1-> ∑R = 0.00, μR = 0.00, σR = 0.00\n",
            "profit_1: Testing Complete on PFE[3272:4250]\n",
            "\n",
            "PFE ENV: Agent profit_1 removed\n",
            "PFE ENV: Agent profit_2 added\n",
            "PFE ENV: Agent profit_2 assigned as decision agent\n",
            "\n",
            "profit_2: Testing Initialized on PFE[3272:4250]\n",
            "profit_2 - PFE[3272:4250] - Testing Finished - EP - 1 of 1-> ∑R = -20501.66, μR = -20.96, σR = 2083.67\n",
            "profit_2: Testing Complete on PFE[3272:4250]\n",
            "\n",
            "PFE ENV: Agent profit_2 removed\n",
            "PFE ENV: Agent random added\n",
            "PFE ENV: Agent random assigned as decision agent\n",
            "random: Testing Initialized on PFE[3272:4250]\n",
            "random: EP 5 of 5 Finished -> ∑R = -91641.30, μR = -93.70, σR = 710.10                                                                                                                                  \n",
            "random: Testing Complete on PFE[3272:4250]\n",
            "PFE ENV: Agent random removed\n",
            "TSLA ENV: Agent profit_1 added\n",
            "TSLA ENV: Agent profit_1 assigned as decision agent\n",
            "\n",
            "profit_1: Testing Initialized on TSLA[2394:3372]\n",
            "profit_1 - TSLA[2394:3372] - Testing Finished - EP - 1 of 1-> ∑R = 0.00, μR = 0.00, σR = 0.00\n",
            "profit_1: Testing Complete on TSLA[2394:3372]\n",
            "\n",
            "TSLA ENV: Agent profit_1 removed\n",
            "TSLA ENV: Agent profit_2 added\n",
            "TSLA ENV: Agent profit_2 assigned as decision agent\n",
            "\n",
            "profit_2: Testing Initialized on TSLA[2394:3372]\n",
            "profit_2 - TSLA[2394:3372] - Testing Finished - EP - 1 of 1-> ∑R = 0.00, μR = 0.00, σR = 0.00\n",
            "profit_2: Testing Complete on TSLA[2394:3372]\n",
            "\n",
            "TSLA ENV: Agent profit_2 removed\n",
            "TSLA ENV: Agent random added\n",
            "TSLA ENV: Agent random assigned as decision agent\n",
            "random: Testing Initialized on TSLA[2394:3372]\n",
            "random: EP 5 of 5 Finished -> ∑R = -84903.74, μR = -86.81, σR = 1758.71                                                                                                                                 \n",
            "random: Testing Complete on TSLA[2394:3372]\n",
            "TSLA ENV: Agent random removed\n",
            "COKE ENV: Agent profit_1 added\n",
            "COKE ENV: Agent profit_1 assigned as decision agent\n",
            "\n",
            "profit_1: Testing Initialized on COKE[3272:4250]\n",
            "profit_1 - COKE[3272:4250] - Testing Finished - EP - 1 of 1-> ∑R = 0.00, μR = 0.00, σR = 0.00\n",
            "profit_1: Testing Complete on COKE[3272:4250]\n",
            "\n",
            "COKE ENV: Agent profit_1 removed\n",
            "COKE ENV: Agent profit_2 added\n",
            "COKE ENV: Agent profit_2 assigned as decision agent\n",
            "\n",
            "profit_2: Testing Initialized on COKE[3272:4250]\n",
            "profit_2 - COKE[3272:4250] - Testing Finished - EP - 1 of 1-> ∑R = 0.00, μR = 0.00, σR = 0.00\n",
            "profit_2: Testing Complete on COKE[3272:4250]\n",
            "\n",
            "COKE ENV: Agent profit_2 removed\n",
            "COKE ENV: Agent random added\n",
            "COKE ENV: Agent random assigned as decision agent\n",
            "random: Testing Initialized on COKE[3272:4250]\n",
            "random: EP 5 of 5 Finished -> ∑R = -81778.11, μR = -83.62, σR = 1011.85                                                                                                                                 \n",
            "random: Testing Complete on COKE[3272:4250]\n",
            "COKE ENV: Agent random removed\n",
            "PG ENV: Agent profit_1 added\n",
            "PG ENV: Agent profit_1 assigned as decision agent\n",
            "\n",
            "profit_1: Testing Initialized on PG[3272:4250]\n",
            "profit_1 - PG[3272:4250] - Testing Finished - EP - 1 of 1-> ∑R = 0.00, μR = 0.00, σR = 0.00\n",
            "profit_1: Testing Complete on PG[3272:4250]\n",
            "\n",
            "PG ENV: Agent profit_1 removed\n",
            "PG ENV: Agent profit_2 added\n",
            "PG ENV: Agent profit_2 assigned as decision agent\n",
            "\n",
            "profit_2: Testing Initialized on PG[3272:4250]\n",
            "profit_2 - PG[3272:4250] - Testing Finished - EP - 1 of 1-> ∑R = 0.00, μR = 0.00, σR = 0.00\n",
            "profit_2: Testing Complete on PG[3272:4250]\n",
            "\n",
            "PG ENV: Agent profit_2 removed\n",
            "PG ENV: Agent random added\n",
            "PG ENV: Agent random assigned as decision agent\n",
            "random: Testing Initialized on PG[3272:4250]\n",
            "random: EP 5 of 5 Finished -> ∑R = -87447.26, μR = -89.41, σR = 725.20                                                                                                                                  \n",
            "random: Testing Complete on PG[3272:4250]\n",
            "PG ENV: Agent random removed\n"
          ]
        },
        {
          "data": {
            "text/plain": [
              "{'AAPL': {'profit_1': {'3272:4250': {0: {'n_trades': 0,\n",
              "     'n_wins': 0,\n",
              "     'n_losses': 0,\n",
              "     'win_percentage': 0,\n",
              "     'cumulative_return': 0,\n",
              "     'sortino': 0,\n",
              "     'max_drawdown': 0,\n",
              "     'sharpe': 0,\n",
              "     'trade_dur_avg': 0,\n",
              "     'trade_dur_min': 0,\n",
              "     'trade_dur_max': 0,\n",
              "     'buy_hold': 2.4227784730913644}}},\n",
              "  'profit_2': {'3272:4250': {0: {'n_trades': 0,\n",
              "     'n_wins': 0,\n",
              "     'n_losses': 0,\n",
              "     'win_percentage': 0,\n",
              "     'cumulative_return': 0,\n",
              "     'sortino': 0,\n",
              "     'max_drawdown': 0,\n",
              "     'sharpe': 0,\n",
              "     'trade_dur_avg': 0,\n",
              "     'trade_dur_min': 0,\n",
              "     'trade_dur_max': 0,\n",
              "     'buy_hold': 2.4227784730913644}}},\n",
              "  'random': {'3272:4250': {0: {'n_trades': 233,\n",
              "     'n_wins': 119,\n",
              "     'n_losses': 114,\n",
              "     'win_percentage': 51.072961373390555,\n",
              "     'cumulative_return': 0.697503015197694,\n",
              "     'sortino': -0.7827124385396201,\n",
              "     'max_drawdown': -44.026448179419695,\n",
              "     'sharpe': -0.5967793767149783,\n",
              "     'trade_dur_avg': 1.9957081545064377,\n",
              "     'trade_dur_min': 1,\n",
              "     'trade_dur_max': 7,\n",
              "     'buy_hold': 2.4227784730913644},\n",
              "    1: {'n_trades': 247,\n",
              "     'n_wins': 131,\n",
              "     'n_losses': 116,\n",
              "     'win_percentage': 53.036437246963565,\n",
              "     'cumulative_return': 1.45887740654004,\n",
              "     'sortino': 1.5138085085152162,\n",
              "     'max_drawdown': -44.29715725563855,\n",
              "     'sharpe': 1.0084619238138277,\n",
              "     'trade_dur_avg': 1.8987854251012146,\n",
              "     'trade_dur_min': 1,\n",
              "     'trade_dur_max': 8,\n",
              "     'buy_hold': 2.4227784730913644},\n",
              "    2: {'n_trades': 239,\n",
              "     'n_wins': 140,\n",
              "     'n_losses': 99,\n",
              "     'win_percentage': 58.57740585774059,\n",
              "     'cumulative_return': 3.8681803664889864,\n",
              "     'sortino': 6.42991566018611,\n",
              "     'max_drawdown': -18.096028699722368,\n",
              "     'sharpe': 3.5577498636419103,\n",
              "     'trade_dur_avg': 2.0502092050209204,\n",
              "     'trade_dur_min': 1,\n",
              "     'trade_dur_max': 8,\n",
              "     'buy_hold': 2.4227784730913644},\n",
              "    3: {'n_trades': 232,\n",
              "     'n_wins': 125,\n",
              "     'n_losses': 106,\n",
              "     'win_percentage': 53.879310344827594,\n",
              "     'cumulative_return': 1.7092820944277043,\n",
              "     'sortino': 2.3506908568565046,\n",
              "     'max_drawdown': -37.28736797715106,\n",
              "     'sharpe': 1.5744177049096313,\n",
              "     'trade_dur_avg': 2.0991379310344827,\n",
              "     'trade_dur_min': 1,\n",
              "     'trade_dur_max': 9,\n",
              "     'buy_hold': 2.4227784730913644},\n",
              "    4: {'n_trades': 247,\n",
              "     'n_wins': 138,\n",
              "     'n_losses': 108,\n",
              "     'win_percentage': 55.87044534412956,\n",
              "     'cumulative_return': 1.6847433062203896,\n",
              "     'sortino': 2.138064678024441,\n",
              "     'max_drawdown': -27.450339505889197,\n",
              "     'sharpe': 1.4847285643786332,\n",
              "     'trade_dur_avg': 2.032388663967611,\n",
              "     'trade_dur_min': 1,\n",
              "     'trade_dur_max': 10,\n",
              "     'buy_hold': 2.4227784730913644}}}},\n",
              " 'AMZN': {'profit_1': {'3272:4250': {0: {'n_trades': 0,\n",
              "     'n_wins': 0,\n",
              "     'n_losses': 0,\n",
              "     'win_percentage': 0,\n",
              "     'cumulative_return': 0,\n",
              "     'sortino': 0,\n",
              "     'max_drawdown': 0,\n",
              "     'sharpe': 0,\n",
              "     'trade_dur_avg': 0,\n",
              "     'trade_dur_min': 0,\n",
              "     'trade_dur_max': 0,\n",
              "     'buy_hold': 1.4262599962804536}}},\n",
              "  'profit_2': {'3272:4250': {0: {'n_trades': 0,\n",
              "     'n_wins': 0,\n",
              "     'n_losses': 0,\n",
              "     'win_percentage': 0,\n",
              "     'cumulative_return': 0,\n",
              "     'sortino': 0,\n",
              "     'max_drawdown': 0,\n",
              "     'sharpe': 0,\n",
              "     'trade_dur_avg': 0,\n",
              "     'trade_dur_min': 0,\n",
              "     'trade_dur_max': 0,\n",
              "     'buy_hold': 1.4262599962804536}}},\n",
              "  'random': {'3272:4250': {0: {'n_trades': 248,\n",
              "     'n_wins': 130,\n",
              "     'n_losses': 118,\n",
              "     'win_percentage': 52.41935483870967,\n",
              "     'cumulative_return': 0.9114957692948065,\n",
              "     'sortino': 0.15083373536747632,\n",
              "     'max_drawdown': -54.61223474609509,\n",
              "     'sharpe': 0.10705887404313566,\n",
              "     'trade_dur_avg': 1.9637096774193548,\n",
              "     'trade_dur_min': 1,\n",
              "     'trade_dur_max': 12,\n",
              "     'buy_hold': 1.4262599962804536},\n",
              "    1: {'n_trades': 229,\n",
              "     'n_wins': 115,\n",
              "     'n_losses': 113,\n",
              "     'win_percentage': 50.21834061135371,\n",
              "     'cumulative_return': 1.0111304362045757,\n",
              "     'sortino': 0.43271866267665066,\n",
              "     'max_drawdown': -49.61289689973029,\n",
              "     'sharpe': 0.2914505737588896,\n",
              "     'trade_dur_avg': 2.087336244541485,\n",
              "     'trade_dur_min': 1,\n",
              "     'trade_dur_max': 11,\n",
              "     'buy_hold': 1.4262599962804536},\n",
              "    2: {'n_trades': 232,\n",
              "     'n_wins': 118,\n",
              "     'n_losses': 113,\n",
              "     'win_percentage': 50.86206896551724,\n",
              "     'cumulative_return': 0.7367601012024535,\n",
              "     'sortino': -0.4651256872842613,\n",
              "     'max_drawdown': -47.7379971051595,\n",
              "     'sharpe': -0.3352381324213742,\n",
              "     'trade_dur_avg': 2.125,\n",
              "     'trade_dur_min': 1,\n",
              "     'trade_dur_max': 8,\n",
              "     'buy_hold': 1.4262599962804536},\n",
              "    3: {'n_trades': 242,\n",
              "     'n_wins': 111,\n",
              "     'n_losses': 128,\n",
              "     'win_percentage': 45.867768595041326,\n",
              "     'cumulative_return': 0.983027030254915,\n",
              "     'sortino': 0.3686719435265724,\n",
              "     'max_drawdown': -50.18344643425837,\n",
              "     'sharpe': 0.24059562855786146,\n",
              "     'trade_dur_avg': 2.090909090909091,\n",
              "     'trade_dur_min': 1,\n",
              "     'trade_dur_max': 16,\n",
              "     'buy_hold': 1.4262599962804536},\n",
              "    4: {'n_trades': 256,\n",
              "     'n_wins': 122,\n",
              "     'n_losses': 132,\n",
              "     'win_percentage': 47.65625,\n",
              "     'cumulative_return': 1.6229177321304358,\n",
              "     'sortino': 2.0159022909387114,\n",
              "     'max_drawdown': -29.78599334059592,\n",
              "     'sharpe': 1.225611464760257,\n",
              "     'trade_dur_avg': 1.94140625,\n",
              "     'trade_dur_min': 1,\n",
              "     'trade_dur_max': 7,\n",
              "     'buy_hold': 1.4262599962804536}}}},\n",
              " 'GOOGL': {'profit_1': {'3272:4250': {0: {'n_trades': 0,\n",
              "     'n_wins': 0,\n",
              "     'n_losses': 0,\n",
              "     'win_percentage': 0,\n",
              "     'cumulative_return': 0,\n",
              "     'sortino': 0,\n",
              "     'max_drawdown': 0,\n",
              "     'sharpe': 0,\n",
              "     'trade_dur_avg': 0,\n",
              "     'trade_dur_min': 0,\n",
              "     'trade_dur_max': 0,\n",
              "     'buy_hold': 1.8573509933774832}}},\n",
              "  'profit_2': {'3272:4250': {0: {'n_trades': 0,\n",
              "     'n_wins': 0,\n",
              "     'n_losses': 0,\n",
              "     'win_percentage': 0,\n",
              "     'cumulative_return': 0,\n",
              "     'sortino': 0,\n",
              "     'max_drawdown': 0,\n",
              "     'sharpe': 0,\n",
              "     'trade_dur_avg': 0,\n",
              "     'trade_dur_min': 0,\n",
              "     'trade_dur_max': 0,\n",
              "     'buy_hold': 1.8573509933774832}}},\n",
              "  'random': {'3272:4250': {0: {'n_trades': 250,\n",
              "     'n_wins': 135,\n",
              "     'n_losses': 115,\n",
              "     'win_percentage': 54.0,\n",
              "     'cumulative_return': 1.2104729482250285,\n",
              "     'sortino': 0.9042930998541491,\n",
              "     'max_drawdown': -42.63554123154593,\n",
              "     'sharpe': 0.6395898378669544,\n",
              "     'trade_dur_avg': 2.064,\n",
              "     'trade_dur_min': 1,\n",
              "     'trade_dur_max': 11,\n",
              "     'buy_hold': 1.8573509933774832},\n",
              "    1: {'n_trades': 250,\n",
              "     'n_wins': 130,\n",
              "     'n_losses': 120,\n",
              "     'win_percentage': 52.0,\n",
              "     'cumulative_return': 1.237705534767676,\n",
              "     'sortino': 0.9667820220311074,\n",
              "     'max_drawdown': -35.52100436873691,\n",
              "     'sharpe': 0.678965851328663,\n",
              "     'trade_dur_avg': 1.988,\n",
              "     'trade_dur_min': 1,\n",
              "     'trade_dur_max': 8,\n",
              "     'buy_hold': 1.8573509933774832},\n",
              "    2: {'n_trades': 252,\n",
              "     'n_wins': 125,\n",
              "     'n_losses': 127,\n",
              "     'win_percentage': 49.60317460317461,\n",
              "     'cumulative_return': 0.6960375801762423,\n",
              "     'sortino': -0.7709525212512001,\n",
              "     'max_drawdown': -51.558244410482814,\n",
              "     'sharpe': -0.5919217043898205,\n",
              "     'trade_dur_avg': 2.007936507936508,\n",
              "     'trade_dur_min': 1,\n",
              "     'trade_dur_max': 12,\n",
              "     'buy_hold': 1.8573509933774832},\n",
              "    3: {'n_trades': 252,\n",
              "     'n_wins': 137,\n",
              "     'n_losses': 115,\n",
              "     'win_percentage': 54.36507936507936,\n",
              "     'cumulative_return': 1.9459564697924638,\n",
              "     'sortino': 2.870740847825957,\n",
              "     'max_drawdown': -48.92749383568867,\n",
              "     'sharpe': 1.7795534408564195,\n",
              "     'trade_dur_avg': 1.8571428571428572,\n",
              "     'trade_dur_min': 1,\n",
              "     'trade_dur_max': 9,\n",
              "     'buy_hold': 1.8573509933774832},\n",
              "    4: {'n_trades': 244,\n",
              "     'n_wins': 131,\n",
              "     'n_losses': 112,\n",
              "     'win_percentage': 53.68852459016394,\n",
              "     'cumulative_return': 1.455452668085989,\n",
              "     'sortino': 1.5532139011897912,\n",
              "     'max_drawdown': -40.17531900315346,\n",
              "     'sharpe': 1.0524722758922735,\n",
              "     'trade_dur_avg': 1.9877049180327868,\n",
              "     'trade_dur_min': 1,\n",
              "     'trade_dur_max': 6,\n",
              "     'buy_hold': 1.8573509933774832}}}},\n",
              " 'MSFT': {'profit_1': {'3272:4250': {0: {'n_trades': 0,\n",
              "     'n_wins': 0,\n",
              "     'n_losses': 0,\n",
              "     'win_percentage': 0,\n",
              "     'cumulative_return': 0,\n",
              "     'sortino': 0,\n",
              "     'max_drawdown': 0,\n",
              "     'sharpe': 0,\n",
              "     'trade_dur_avg': 0,\n",
              "     'trade_dur_min': 0,\n",
              "     'trade_dur_max': 0,\n",
              "     'buy_hold': 2.034699631316417}}},\n",
              "  'profit_2': {'3272:4250': {0: {'n_trades': 0,\n",
              "     'n_wins': 0,\n",
              "     'n_losses': 0,\n",
              "     'win_percentage': 0,\n",
              "     'cumulative_return': 0,\n",
              "     'sortino': 0,\n",
              "     'max_drawdown': 0,\n",
              "     'sharpe': 0,\n",
              "     'trade_dur_avg': 0,\n",
              "     'trade_dur_min': 0,\n",
              "     'trade_dur_max': 0,\n",
              "     'buy_hold': 2.034699631316417}}},\n",
              "  'random': {'3272:4250': {0: {'n_trades': 235,\n",
              "     'n_wins': 123,\n",
              "     'n_losses': 111,\n",
              "     'win_percentage': 52.34042553191489,\n",
              "     'cumulative_return': 1.2610744677760934,\n",
              "     'sortino': 1.127720995043268,\n",
              "     'max_drawdown': -26.35109064840031,\n",
              "     'sharpe': 0.7836156172661463,\n",
              "     'trade_dur_avg': 2.097872340425532,\n",
              "     'trade_dur_min': 1,\n",
              "     'trade_dur_max': 11,\n",
              "     'buy_hold': 2.034699631316417},\n",
              "    1: {'n_trades': 246,\n",
              "     'n_wins': 117,\n",
              "     'n_losses': 129,\n",
              "     'win_percentage': 47.5609756097561,\n",
              "     'cumulative_return': 1.0213875727585227,\n",
              "     'sortino': 0.37407562401359656,\n",
              "     'max_drawdown': -34.672655780662595,\n",
              "     'sharpe': 0.2564217030139336,\n",
              "     'trade_dur_avg': 2.0813008130081303,\n",
              "     'trade_dur_min': 1,\n",
              "     'trade_dur_max': 11,\n",
              "     'buy_hold': 2.034699631316417},\n",
              "    2: {'n_trades': 245,\n",
              "     'n_wins': 133,\n",
              "     'n_losses': 111,\n",
              "     'win_percentage': 54.285714285714285,\n",
              "     'cumulative_return': 1.1141803900567442,\n",
              "     'sortino': 0.6873677866316462,\n",
              "     'max_drawdown': -26.357532287371477,\n",
              "     'sharpe': 0.4850939906648321,\n",
              "     'trade_dur_avg': 2.048979591836735,\n",
              "     'trade_dur_min': 1,\n",
              "     'trade_dur_max': 13,\n",
              "     'buy_hold': 2.034699631316417},\n",
              "    3: {'n_trades': 252,\n",
              "     'n_wins': 141,\n",
              "     'n_losses': 110,\n",
              "     'win_percentage': 55.952380952380956,\n",
              "     'cumulative_return': 1.5078741623776932,\n",
              "     'sortino': 1.6847007399866056,\n",
              "     'max_drawdown': -36.06695993996949,\n",
              "     'sharpe': 1.1960130170272052,\n",
              "     'trade_dur_avg': 1.8214285714285714,\n",
              "     'trade_dur_min': 1,\n",
              "     'trade_dur_max': 10,\n",
              "     'buy_hold': 2.034699631316417},\n",
              "    4: {'n_trades': 256,\n",
              "     'n_wins': 144,\n",
              "     'n_losses': 112,\n",
              "     'win_percentage': 56.25,\n",
              "     'cumulative_return': 1.80989952510803,\n",
              "     'sortino': 2.3946987903990204,\n",
              "     'max_drawdown': -30.917667709904396,\n",
              "     'sharpe': 1.5903927739561856,\n",
              "     'trade_dur_avg': 1.921875,\n",
              "     'trade_dur_min': 1,\n",
              "     'trade_dur_max': 7,\n",
              "     'buy_hold': 2.034699631316417}}}},\n",
              " 'FORD': {'profit_1': {'3272:4250': {0: {'n_trades': 0,\n",
              "     'n_wins': 0,\n",
              "     'n_losses': 0,\n",
              "     'win_percentage': 0,\n",
              "     'cumulative_return': 0,\n",
              "     'sortino': 0,\n",
              "     'max_drawdown': 0,\n",
              "     'sharpe': 0,\n",
              "     'trade_dur_avg': 0,\n",
              "     'trade_dur_min': 0,\n",
              "     'trade_dur_max': 0,\n",
              "     'buy_hold': 1.5234567901234568}}},\n",
              "  'profit_2': {'3272:4250': {0: {'n_trades': 0,\n",
              "     'n_wins': 0,\n",
              "     'n_losses': 0,\n",
              "     'win_percentage': 0,\n",
              "     'cumulative_return': 0,\n",
              "     'sortino': 0,\n",
              "     'max_drawdown': 0,\n",
              "     'sharpe': 0,\n",
              "     'trade_dur_avg': 0,\n",
              "     'trade_dur_min': 0,\n",
              "     'trade_dur_max': 0,\n",
              "     'buy_hold': 1.5234567901234568}}},\n",
              "  'random': {'3272:4250': {0: {'n_trades': 252,\n",
              "     'n_wins': 127,\n",
              "     'n_losses': 125,\n",
              "     'win_percentage': 50.39682539682539,\n",
              "     'cumulative_return': 1.3173488766157695,\n",
              "     'sortino': 1.1713521377511136,\n",
              "     'max_drawdown': -42.555920414642614,\n",
              "     'sharpe': 0.7312475722164591,\n",
              "     'trade_dur_avg': 1.9087301587301588,\n",
              "     'trade_dur_min': 1,\n",
              "     'trade_dur_max': 12,\n",
              "     'buy_hold': 1.5234567901234568},\n",
              "    1: {'n_trades': 246,\n",
              "     'n_wins': 120,\n",
              "     'n_losses': 124,\n",
              "     'win_percentage': 48.78048780487805,\n",
              "     'cumulative_return': 0.8486965456795512,\n",
              "     'sortino': 0.17863874971926266,\n",
              "     'max_drawdown': -44.47705594310256,\n",
              "     'sharpe': 0.12036910590785607,\n",
              "     'trade_dur_avg': 2.0813008130081303,\n",
              "     'trade_dur_min': 1,\n",
              "     'trade_dur_max': 10,\n",
              "     'buy_hold': 1.5234567901234568},\n",
              "    2: {'n_trades': 247,\n",
              "     'n_wins': 141,\n",
              "     'n_losses': 103,\n",
              "     'win_percentage': 57.08502024291497,\n",
              "     'cumulative_return': 1.8827141592840724,\n",
              "     'sortino': 1.9861969530232115,\n",
              "     'max_drawdown': -45.094438254240124,\n",
              "     'sharpe': 1.2324734364594954,\n",
              "     'trade_dur_avg': 1.9352226720647774,\n",
              "     'trade_dur_min': 1,\n",
              "     'trade_dur_max': 8,\n",
              "     'buy_hold': 1.5234567901234568},\n",
              "    3: {'n_trades': 254,\n",
              "     'n_wins': 124,\n",
              "     'n_losses': 128,\n",
              "     'win_percentage': 48.818897637795274,\n",
              "     'cumulative_return': 0.8783983712636199,\n",
              "     'sortino': 0.1925638275998532,\n",
              "     'max_drawdown': -32.09031003520777,\n",
              "     'sharpe': 0.13415843173340797,\n",
              "     'trade_dur_avg': 1.921259842519685,\n",
              "     'trade_dur_min': 1,\n",
              "     'trade_dur_max': 9,\n",
              "     'buy_hold': 1.5234567901234568},\n",
              "    4: {'n_trades': 238,\n",
              "     'n_wins': 123,\n",
              "     'n_losses': 113,\n",
              "     'win_percentage': 51.68067226890757,\n",
              "     'cumulative_return': 2.2878527101205948,\n",
              "     'sortino': 2.7019796498954043,\n",
              "     'max_drawdown': -35.97545952578434,\n",
              "     'sharpe': 1.6585736807427227,\n",
              "     'trade_dur_avg': 1.9915966386554622,\n",
              "     'trade_dur_min': 1,\n",
              "     'trade_dur_max': 8,\n",
              "     'buy_hold': 1.5234567901234568}}}},\n",
              " 'JNJ': {'profit_1': {'3272:4250': {0: {'n_trades': 0,\n",
              "     'n_wins': 0,\n",
              "     'n_losses': 0,\n",
              "     'win_percentage': 0,\n",
              "     'cumulative_return': 0,\n",
              "     'sortino': 0,\n",
              "     'max_drawdown': 0,\n",
              "     'sharpe': 0,\n",
              "     'trade_dur_avg': 0,\n",
              "     'trade_dur_min': 0,\n",
              "     'trade_dur_max': 0,\n",
              "     'buy_hold': 1.0301993552207382}}},\n",
              "  'profit_2': {'3272:4250': {0: {'n_trades': 1,\n",
              "     'n_wins': 1,\n",
              "     'n_losses': 0,\n",
              "     'win_percentage': 100.0,\n",
              "     'cumulative_return': 1.0363359587001126,\n",
              "     'sortino': 0,\n",
              "     'max_drawdown': 0.0,\n",
              "     'sharpe': 0,\n",
              "     'trade_dur_avg': 976.0,\n",
              "     'trade_dur_min': 976,\n",
              "     'trade_dur_max': 976,\n",
              "     'buy_hold': 1.0301993552207382}}},\n",
              "  'random': {'3272:4250': {0: {'n_trades': 241,\n",
              "     'n_wins': 117,\n",
              "     'n_losses': 124,\n",
              "     'win_percentage': 48.54771784232365,\n",
              "     'cumulative_return': 0.9733071969195014,\n",
              "     'sortino': 0.04991327667897616,\n",
              "     'max_drawdown': -20.164587331386883,\n",
              "     'sharpe': 0.03157290379409939,\n",
              "     'trade_dur_avg': 2.0580912863070537,\n",
              "     'trade_dur_min': 1,\n",
              "     'trade_dur_max': 9,\n",
              "     'buy_hold': 1.0301993552207382},\n",
              "    1: {'n_trades': 235,\n",
              "     'n_wins': 105,\n",
              "     'n_losses': 130,\n",
              "     'win_percentage': 44.680851063829785,\n",
              "     'cumulative_return': 0.8817206013627923,\n",
              "     'sortino': -0.46275644017473627,\n",
              "     'max_drawdown': -25.997169210642713,\n",
              "     'sharpe': -0.28941992410038153,\n",
              "     'trade_dur_avg': 2.1446808510638298,\n",
              "     'trade_dur_min': 1,\n",
              "     'trade_dur_max': 14,\n",
              "     'buy_hold': 1.0301993552207382},\n",
              "    2: {'n_trades': 242,\n",
              "     'n_wins': 117,\n",
              "     'n_losses': 123,\n",
              "     'win_percentage': 48.34710743801653,\n",
              "     'cumulative_return': 0.9491895912102088,\n",
              "     'sortino': -0.11061952719346695,\n",
              "     'max_drawdown': -26.50434471494798,\n",
              "     'sharpe': -0.07504025157383226,\n",
              "     'trade_dur_avg': 2.012396694214876,\n",
              "     'trade_dur_min': 1,\n",
              "     'trade_dur_max': 16,\n",
              "     'buy_hold': 1.0301993552207382},\n",
              "    3: {'n_trades': 252,\n",
              "     'n_wins': 125,\n",
              "     'n_losses': 127,\n",
              "     'win_percentage': 49.60317460317461,\n",
              "     'cumulative_return': 0.9229563339527523,\n",
              "     'sortino': -0.2734534543535915,\n",
              "     'max_drawdown': -22.9542090036024,\n",
              "     'sharpe': -0.1953469703929722,\n",
              "     'trade_dur_avg': 1.9047619047619047,\n",
              "     'trade_dur_min': 1,\n",
              "     'trade_dur_max': 11,\n",
              "     'buy_hold': 1.0301993552207382},\n",
              "    4: {'n_trades': 242,\n",
              "     'n_wins': 115,\n",
              "     'n_losses': 125,\n",
              "     'win_percentage': 47.5206611570248,\n",
              "     'cumulative_return': 0.7420216725420222,\n",
              "     'sortino': -1.4200493582017912,\n",
              "     'max_drawdown': -36.067226432564546,\n",
              "     'sharpe': -1.0872306222780648,\n",
              "     'trade_dur_avg': 2.0578512396694215,\n",
              "     'trade_dur_min': 1,\n",
              "     'trade_dur_max': 9,\n",
              "     'buy_hold': 1.0301993552207382}}}},\n",
              " 'NEE': {'profit_1': {'3272:4250': {0: {'n_trades': 0,\n",
              "     'n_wins': 0,\n",
              "     'n_losses': 0,\n",
              "     'win_percentage': 0,\n",
              "     'cumulative_return': 0,\n",
              "     'sortino': 0,\n",
              "     'max_drawdown': 0,\n",
              "     'sharpe': 0,\n",
              "     'trade_dur_avg': 0,\n",
              "     'trade_dur_min': 0,\n",
              "     'trade_dur_max': 0,\n",
              "     'buy_hold': 0.8968253968253967}}},\n",
              "  'profit_2': {'3272:4250': {0: {'n_trades': 0,\n",
              "     'n_wins': 0,\n",
              "     'n_losses': 0,\n",
              "     'win_percentage': 0,\n",
              "     'cumulative_return': 0,\n",
              "     'sortino': 0,\n",
              "     'max_drawdown': 0,\n",
              "     'sharpe': 0,\n",
              "     'trade_dur_avg': 0,\n",
              "     'trade_dur_min': 0,\n",
              "     'trade_dur_max': 0,\n",
              "     'buy_hold': 0.8968253968253967}}},\n",
              "  'random': {'3272:4250': {0: {'n_trades': 257,\n",
              "     'n_wins': 123,\n",
              "     'n_losses': 134,\n",
              "     'win_percentage': 47.85992217898833,\n",
              "     'cumulative_return': 0.6016850458488352,\n",
              "     'sortino': -0.9132628370710885,\n",
              "     'max_drawdown': -42.36961208443475,\n",
              "     'sharpe': -0.7411849205594045,\n",
              "     'trade_dur_avg': 1.8910505836575875,\n",
              "     'trade_dur_min': 1,\n",
              "     'trade_dur_max': 12,\n",
              "     'buy_hold': 0.8968253968253967},\n",
              "    1: {'n_trades': 247,\n",
              "     'n_wins': 133,\n",
              "     'n_losses': 113,\n",
              "     'win_percentage': 53.84615384615385,\n",
              "     'cumulative_return': 1.155253903710976,\n",
              "     'sortino': 0.7676675631912184,\n",
              "     'max_drawdown': -38.35665557387592,\n",
              "     'sharpe': 0.563140155825331,\n",
              "     'trade_dur_avg': 2.0040485829959516,\n",
              "     'trade_dur_min': 1,\n",
              "     'trade_dur_max': 10,\n",
              "     'buy_hold': 0.8968253968253967},\n",
              "    2: {'n_trades': 245,\n",
              "     'n_wins': 119,\n",
              "     'n_losses': 125,\n",
              "     'win_percentage': 48.57142857142857,\n",
              "     'cumulative_return': 0.917089675277076,\n",
              "     'sortino': -0.02953638858507582,\n",
              "     'max_drawdown': -30.94317272768824,\n",
              "     'sharpe': -0.02197021288096365,\n",
              "     'trade_dur_avg': 2.061224489795918,\n",
              "     'trade_dur_min': 1,\n",
              "     'trade_dur_max': 9,\n",
              "     'buy_hold': 0.8968253968253967},\n",
              "    3: {'n_trades': 247,\n",
              "     'n_wins': 135,\n",
              "     'n_losses': 112,\n",
              "     'win_percentage': 54.655870445344135,\n",
              "     'cumulative_return': 1.0760503803931,\n",
              "     'sortino': 0.5568685111210828,\n",
              "     'max_drawdown': -36.95212745980812,\n",
              "     'sharpe': 0.393455377022004,\n",
              "     'trade_dur_avg': 2.020242914979757,\n",
              "     'trade_dur_min': 1,\n",
              "     'trade_dur_max': 8,\n",
              "     'buy_hold': 0.8968253968253967},\n",
              "    4: {'n_trades': 245,\n",
              "     'n_wins': 119,\n",
              "     'n_losses': 125,\n",
              "     'win_percentage': 48.57142857142857,\n",
              "     'cumulative_return': 1.2477857237472947,\n",
              "     'sortino': 1.2246956167477239,\n",
              "     'max_drawdown': -21.95854618102522,\n",
              "     'sharpe': 0.702104742946955,\n",
              "     'trade_dur_avg': 1.9795918367346939,\n",
              "     'trade_dur_min': 1,\n",
              "     'trade_dur_max': 10,\n",
              "     'buy_hold': 0.8968253968253967}}}},\n",
              " 'PFE': {'profit_1': {'3272:4250': {0: {'n_trades': 0,\n",
              "     'n_wins': 0,\n",
              "     'n_losses': 0,\n",
              "     'win_percentage': 0,\n",
              "     'cumulative_return': 0,\n",
              "     'sortino': 0,\n",
              "     'max_drawdown': 0,\n",
              "     'sharpe': 0,\n",
              "     'trade_dur_avg': 0,\n",
              "     'trade_dur_min': 0,\n",
              "     'trade_dur_max': 0,\n",
              "     'buy_hold': 0.7966242390702822}}},\n",
              "  'profit_2': {'3272:4250': {0: {'n_trades': 1,\n",
              "     'n_wins': 0,\n",
              "     'n_losses': 1,\n",
              "     'win_percentage': 0.0,\n",
              "     'cumulative_return': 0.8039653728008935,\n",
              "     'sortino': -15.874507866387544,\n",
              "     'max_drawdown': 0.0,\n",
              "     'sharpe': 0,\n",
              "     'trade_dur_avg': 976.0,\n",
              "     'trade_dur_min': 976,\n",
              "     'trade_dur_max': 976,\n",
              "     'buy_hold': 0.7966242390702822}}},\n",
              "  'random': {'3272:4250': {0: {'n_trades': 244,\n",
              "     'n_wins': 110,\n",
              "     'n_losses': 133,\n",
              "     'win_percentage': 45.08196721311475,\n",
              "     'cumulative_return': 0.733646592860222,\n",
              "     'sortino': -0.8443341520429815,\n",
              "     'max_drawdown': -38.80908796121505,\n",
              "     'sharpe': -0.617184076196458,\n",
              "     'trade_dur_avg': 2.028688524590164,\n",
              "     'trade_dur_min': 1,\n",
              "     'trade_dur_max': 14,\n",
              "     'buy_hold': 0.7966242390702822},\n",
              "    1: {'n_trades': 243,\n",
              "     'n_wins': 111,\n",
              "     'n_losses': 131,\n",
              "     'win_percentage': 45.67901234567901,\n",
              "     'cumulative_return': 0.5944802357738691,\n",
              "     'sortino': -1.4893596562622538,\n",
              "     'max_drawdown': -43.092266204323145,\n",
              "     'sharpe': -1.163474951555768,\n",
              "     'trade_dur_avg': 1.962962962962963,\n",
              "     'trade_dur_min': 1,\n",
              "     'trade_dur_max': 10,\n",
              "     'buy_hold': 0.7966242390702822},\n",
              "    2: {'n_trades': 241,\n",
              "     'n_wins': 112,\n",
              "     'n_losses': 127,\n",
              "     'win_percentage': 46.47302904564315,\n",
              "     'cumulative_return': 0.9166225971268773,\n",
              "     'sortino': -0.09012633384404219,\n",
              "     'max_drawdown': -34.74284220696803,\n",
              "     'sharpe': -0.060968462849377854,\n",
              "     'trade_dur_avg': 2.008298755186722,\n",
              "     'trade_dur_min': 1,\n",
              "     'trade_dur_max': 13,\n",
              "     'buy_hold': 0.7966242390702822},\n",
              "    3: {'n_trades': 248,\n",
              "     'n_wins': 114,\n",
              "     'n_losses': 133,\n",
              "     'win_percentage': 45.96774193548387,\n",
              "     'cumulative_return': 0.8775628855230827,\n",
              "     'sortino': -0.1356759979164954,\n",
              "     'max_drawdown': -49.70481186145644,\n",
              "     'sharpe': -0.09580381811137802,\n",
              "     'trade_dur_avg': 2.0443548387096775,\n",
              "     'trade_dur_min': 1,\n",
              "     'trade_dur_max': 9,\n",
              "     'buy_hold': 0.7966242390702822},\n",
              "    4: {'n_trades': 250,\n",
              "     'n_wins': 119,\n",
              "     'n_losses': 131,\n",
              "     'win_percentage': 47.599999999999994,\n",
              "     'cumulative_return': 1.0295301291817793,\n",
              "     'sortino': 0.38689549969587805,\n",
              "     'max_drawdown': -30.197309797046902,\n",
              "     'sharpe': 0.25836480963539843,\n",
              "     'trade_dur_avg': 1.968,\n",
              "     'trade_dur_min': 1,\n",
              "     'trade_dur_max': 8,\n",
              "     'buy_hold': 0.7966242390702822}}}},\n",
              " 'TSLA': {'profit_1': {'2394:3372': {0: {'n_trades': 0,\n",
              "     'n_wins': 0,\n",
              "     'n_losses': 0,\n",
              "     'win_percentage': 0,\n",
              "     'cumulative_return': 0,\n",
              "     'sortino': 0,\n",
              "     'max_drawdown': 0,\n",
              "     'sharpe': 0,\n",
              "     'trade_dur_avg': 0,\n",
              "     'trade_dur_min': 0,\n",
              "     'trade_dur_max': 0,\n",
              "     'buy_hold': 4.903738136742204}}},\n",
              "  'profit_2': {'2394:3372': {0: {'n_trades': 0,\n",
              "     'n_wins': 0,\n",
              "     'n_losses': 0,\n",
              "     'win_percentage': 0,\n",
              "     'cumulative_return': 0,\n",
              "     'sortino': 0,\n",
              "     'max_drawdown': 0,\n",
              "     'sharpe': 0,\n",
              "     'trade_dur_avg': 0,\n",
              "     'trade_dur_min': 0,\n",
              "     'trade_dur_max': 0,\n",
              "     'buy_hold': 4.903738136742204}}},\n",
              "  'random': {'2394:3372': {0: {'n_trades': 236,\n",
              "     'n_wins': 142,\n",
              "     'n_losses': 94,\n",
              "     'win_percentage': 60.16949152542372,\n",
              "     'cumulative_return': 5.121514327322238,\n",
              "     'sortino': 3.8641987076704125,\n",
              "     'max_drawdown': -56.909213212250876,\n",
              "     'sharpe': 2.3507377763093515,\n",
              "     'trade_dur_avg': 2.0677966101694913,\n",
              "     'trade_dur_min': 1,\n",
              "     'trade_dur_max': 10,\n",
              "     'buy_hold': 4.903738136742204},\n",
              "    1: {'n_trades': 243,\n",
              "     'n_wins': 115,\n",
              "     'n_losses': 126,\n",
              "     'win_percentage': 47.325102880658434,\n",
              "     'cumulative_return': 2.2033248453709153,\n",
              "     'sortino': 2.2832016561394424,\n",
              "     'max_drawdown': -59.863639539154946,\n",
              "     'sharpe': 1.3127634121354768,\n",
              "     'trade_dur_avg': 2.0823045267489713,\n",
              "     'trade_dur_min': 1,\n",
              "     'trade_dur_max': 9,\n",
              "     'buy_hold': 4.903738136742204},\n",
              "    2: {'n_trades': 257,\n",
              "     'n_wins': 123,\n",
              "     'n_losses': 134,\n",
              "     'win_percentage': 47.85992217898833,\n",
              "     'cumulative_return': 0.45704339010933503,\n",
              "     'sortino': -0.4946119259126258,\n",
              "     'max_drawdown': -78.46815358637829,\n",
              "     'sharpe': -0.35465363299114744,\n",
              "     'trade_dur_avg': 1.8093385214007782,\n",
              "     'trade_dur_min': 1,\n",
              "     'trade_dur_max': 8,\n",
              "     'buy_hold': 4.903738136742204},\n",
              "    3: {'n_trades': 247,\n",
              "     'n_wins': 132,\n",
              "     'n_losses': 115,\n",
              "     'win_percentage': 53.441295546558706,\n",
              "     'cumulative_return': 1.088798376081849,\n",
              "     'sortino': 0.8406785876165113,\n",
              "     'max_drawdown': -72.16230171080386,\n",
              "     'sharpe': 0.6073562538792646,\n",
              "     'trade_dur_avg': 2.0121457489878543,\n",
              "     'trade_dur_min': 1,\n",
              "     'trade_dur_max': 7,\n",
              "     'buy_hold': 4.903738136742204},\n",
              "    4: {'n_trades': 248,\n",
              "     'n_wins': 139,\n",
              "     'n_losses': 109,\n",
              "     'win_percentage': 56.048387096774185,\n",
              "     'cumulative_return': 1.804796337914253,\n",
              "     'sortino': 1.6493731795165272,\n",
              "     'max_drawdown': -50.11559029673882,\n",
              "     'sharpe': 1.0969926472437195,\n",
              "     'trade_dur_avg': 1.9637096774193548,\n",
              "     'trade_dur_min': 1,\n",
              "     'trade_dur_max': 10,\n",
              "     'buy_hold': 4.903738136742204}}}},\n",
              " 'COKE': {'profit_1': {'3272:4250': {0: {'n_trades': 0,\n",
              "     'n_wins': 0,\n",
              "     'n_losses': 0,\n",
              "     'win_percentage': 0,\n",
              "     'cumulative_return': 0,\n",
              "     'sortino': 0,\n",
              "     'max_drawdown': 0,\n",
              "     'sharpe': 0,\n",
              "     'trade_dur_avg': 0,\n",
              "     'trade_dur_min': 0,\n",
              "     'trade_dur_max': 0,\n",
              "     'buy_hold': 3.3071033602722246}}},\n",
              "  'profit_2': {'3272:4250': {0: {'n_trades': 0,\n",
              "     'n_wins': 0,\n",
              "     'n_losses': 0,\n",
              "     'win_percentage': 0,\n",
              "     'cumulative_return': 0,\n",
              "     'sortino': 0,\n",
              "     'max_drawdown': 0,\n",
              "     'sharpe': 0,\n",
              "     'trade_dur_avg': 0,\n",
              "     'trade_dur_min': 0,\n",
              "     'trade_dur_max': 0,\n",
              "     'buy_hold': 3.3071033602722246}}},\n",
              "  'random': {'3272:4250': {0: {'n_trades': 243,\n",
              "     'n_wins': 127,\n",
              "     'n_losses': 116,\n",
              "     'win_percentage': 52.2633744855967,\n",
              "     'cumulative_return': 1.75661947975571,\n",
              "     'sortino': 2.064276763137515,\n",
              "     'max_drawdown': -30.577208175597224,\n",
              "     'sharpe': 1.3197297511797126,\n",
              "     'trade_dur_avg': 1.9423868312757202,\n",
              "     'trade_dur_min': 1,\n",
              "     'trade_dur_max': 10,\n",
              "     'buy_hold': 3.3071033602722246},\n",
              "    1: {'n_trades': 244,\n",
              "     'n_wins': 128,\n",
              "     'n_losses': 116,\n",
              "     'win_percentage': 52.459016393442624,\n",
              "     'cumulative_return': 2.325193941566973,\n",
              "     'sortino': 3.3416063048421347,\n",
              "     'max_drawdown': -32.36817023333227,\n",
              "     'sharpe': 1.8528881880108445,\n",
              "     'trade_dur_avg': 2.0163934426229506,\n",
              "     'trade_dur_min': 1,\n",
              "     'trade_dur_max': 10,\n",
              "     'buy_hold': 3.3071033602722246},\n",
              "    2: {'n_trades': 243,\n",
              "     'n_wins': 131,\n",
              "     'n_losses': 112,\n",
              "     'win_percentage': 53.90946502057613,\n",
              "     'cumulative_return': 2.7180982401221954,\n",
              "     'sortino': 3.2682024415996036,\n",
              "     'max_drawdown': -24.72208814343606,\n",
              "     'sharpe': 1.9879754202139714,\n",
              "     'trade_dur_avg': 2.0123456790123457,\n",
              "     'trade_dur_min': 1,\n",
              "     'trade_dur_max': 9,\n",
              "     'buy_hold': 3.3071033602722246},\n",
              "    3: {'n_trades': 252,\n",
              "     'n_wins': 134,\n",
              "     'n_losses': 117,\n",
              "     'win_percentage': 53.17460317460318,\n",
              "     'cumulative_return': 2.3444612572351975,\n",
              "     'sortino': 3.0236103711000997,\n",
              "     'max_drawdown': -49.16509633325469,\n",
              "     'sharpe': 1.8467465115726682,\n",
              "     'trade_dur_avg': 2.0,\n",
              "     'trade_dur_min': 1,\n",
              "     'trade_dur_max': 10,\n",
              "     'buy_hold': 3.3071033602722246},\n",
              "    4: {'n_trades': 237,\n",
              "     'n_wins': 125,\n",
              "     'n_losses': 112,\n",
              "     'win_percentage': 52.742616033755276,\n",
              "     'cumulative_return': 1.9461174984533103,\n",
              "     'sortino': 2.5975650164448414,\n",
              "     'max_drawdown': -28.92614814940857,\n",
              "     'sharpe': 1.6290285679432903,\n",
              "     'trade_dur_avg': 2.0,\n",
              "     'trade_dur_min': 1,\n",
              "     'trade_dur_max': 11,\n",
              "     'buy_hold': 3.3071033602722246}}}},\n",
              " 'PG': {'profit_1': {'3272:4250': {0: {'n_trades': 0,\n",
              "     'n_wins': 0,\n",
              "     'n_losses': 0,\n",
              "     'win_percentage': 0,\n",
              "     'cumulative_return': 0,\n",
              "     'sortino': 0,\n",
              "     'max_drawdown': 0,\n",
              "     'sharpe': 0,\n",
              "     'trade_dur_avg': 0,\n",
              "     'trade_dur_min': 0,\n",
              "     'trade_dur_max': 0,\n",
              "     'buy_hold': 1.1737274484536082}}},\n",
              "  'profit_2': {'3272:4250': {0: {'n_trades': 0,\n",
              "     'n_wins': 0,\n",
              "     'n_losses': 0,\n",
              "     'win_percentage': 0,\n",
              "     'cumulative_return': 0,\n",
              "     'sortino': 0,\n",
              "     'max_drawdown': 0,\n",
              "     'sharpe': 0,\n",
              "     'trade_dur_avg': 0,\n",
              "     'trade_dur_min': 0,\n",
              "     'trade_dur_max': 0,\n",
              "     'buy_hold': 1.1737274484536082}}},\n",
              "  'random': {'3272:4250': {0: {'n_trades': 244,\n",
              "     'n_wins': 122,\n",
              "     'n_losses': 121,\n",
              "     'win_percentage': 50.0,\n",
              "     'cumulative_return': 0.7115573400354324,\n",
              "     'sortino': -1.2015659899386522,\n",
              "     'max_drawdown': -39.43142172968535,\n",
              "     'sharpe': -0.9937594332355907,\n",
              "     'trade_dur_avg': 2.1352459016393444,\n",
              "     'trade_dur_min': 1,\n",
              "     'trade_dur_max': 12,\n",
              "     'buy_hold': 1.1737274484536082},\n",
              "    1: {'n_trades': 240,\n",
              "     'n_wins': 117,\n",
              "     'n_losses': 122,\n",
              "     'win_percentage': 48.75,\n",
              "     'cumulative_return': 0.9575584070291625,\n",
              "     'sortino': -0.07147072571078439,\n",
              "     'max_drawdown': -19.042683297150344,\n",
              "     'sharpe': -0.052774852319764344,\n",
              "     'trade_dur_avg': 2.0625,\n",
              "     'trade_dur_min': 1,\n",
              "     'trade_dur_max': 9,\n",
              "     'buy_hold': 1.1737274484536082},\n",
              "    2: {'n_trades': 258,\n",
              "     'n_wins': 132,\n",
              "     'n_losses': 126,\n",
              "     'win_percentage': 51.162790697674424,\n",
              "     'cumulative_return': 1.0472320411707812,\n",
              "     'sortino': 0.3827264933178337,\n",
              "     'max_drawdown': -24.824389426193395,\n",
              "     'sharpe': 0.3058207344759438,\n",
              "     'trade_dur_avg': 1.87984496124031,\n",
              "     'trade_dur_min': 1,\n",
              "     'trade_dur_max': 8,\n",
              "     'buy_hold': 1.1737274484536082},\n",
              "    3: {'n_trades': 249,\n",
              "     'n_wins': 126,\n",
              "     'n_losses': 122,\n",
              "     'win_percentage': 50.602409638554214,\n",
              "     'cumulative_return': 0.797462600574765,\n",
              "     'sortino': -0.7560949683032472,\n",
              "     'max_drawdown': -36.70148392606093,\n",
              "     'sharpe': -0.5797087633893911,\n",
              "     'trade_dur_avg': 1.9036144578313252,\n",
              "     'trade_dur_min': 1,\n",
              "     'trade_dur_max': 8,\n",
              "     'buy_hold': 1.1737274484536082},\n",
              "    4: {'n_trades': 234,\n",
              "     'n_wins': 133,\n",
              "     'n_losses': 101,\n",
              "     'win_percentage': 56.837606837606835,\n",
              "     'cumulative_return': 1.3111140167771733,\n",
              "     'sortino': 1.9320520339232343,\n",
              "     'max_drawdown': -17.642312047723017,\n",
              "     'sharpe': 1.2954935246843453,\n",
              "     'trade_dur_avg': 2.0213675213675213,\n",
              "     'trade_dur_min': 1,\n",
              "     'trade_dur_max': 8,\n",
              "     'buy_hold': 1.1737274484536082}}}}}"
            ]
          },
          "metadata": {},
          "output_type": "display_data"
        }
      ],
      "source": [
        "if test_agent:\n",
        "    result_dic_struct = ['stock','agent','test_interval','test_num']\n",
        "    results = {}\n",
        "\n",
        "    for key in tst_keys:\n",
        "\n",
        "        # Init Record[Stock]\n",
        "        results[key] = {}\n",
        "        test_key = f'{tst_idx[key][0]}:{tst_idx[key][1]}'\n",
        "        stock_price_data = env_data[key]['rw_raw_price_env'][tst_idx[key][0]:tst_idx[key][1],-1,0]\n",
        "        rl_env = env[key]\n",
        "\n",
        "        for decision_agent, agents_in_setup in agent_setup.items():\n",
        "\n",
        "            # Init Record[Stock][Agent]\n",
        "            results[key][decision_agent] = {}\n",
        "\n",
        "            # Init Record[Stock][Agent][test_interval]\n",
        "            results[key][decision_agent][test_key] = {}   # Different Test Keys will need loop\n",
        "\n",
        "            # Setup agents with environment\n",
        "            rl_env.add_agent(decision_agent)\n",
        "            rl_env.set_decision_agent(decision_agent)   \n",
        "            agents_dic[decision_agent].set_environment(rl_env)\n",
        "\n",
        "            # Enable Randomess if Agent is of class RandomAgent\n",
        "            if isinstance(agents_dic[decision_agent], RandomAgent):\n",
        "                new_random_seed = random.randint(1, 10**9)\n",
        "                set_seed(new_random_seed)\n",
        "\n",
        "            # Save Agent\n",
        "            save_agent_path = save_path_root + f'/{decision_agent}/'\n",
        "            os.makedirs(save_agent_path, exist_ok=True)\n",
        "            file_root_name = f'{key}_TST_{tst_idx[key][0]}-{tst_idx[key][1]}'\n",
        "\n",
        "            # Multi-Agent Setup\n",
        "            if decision_agent not in agents_in_setup or len(agents_in_setup) != 1:\n",
        "                print('here')\n",
        "                subagent_list = []\n",
        "                for agent in agents_in_setup:\n",
        "                    subagent_list.append(agents_dic[agent])\n",
        "                env_mod_func_dic[key].add_subagents(subagent_list)\n",
        "            \n",
        "            \n",
        "            # Test Decision Agent\n",
        "            params = testing_params[agent_classes[decision_agent]]\n",
        "            if not isinstance(agents_dic[decision_agent], RandomAgent):\n",
        "                agents_dic[decision_agent].set_env_stat_modify_func(env_mod_func_dic[key].process)\n",
        "            agents_dic[decision_agent].test(start_idx=tst_idx[key][0],\n",
        "                                            end_idx=tst_idx[key][1],\n",
        "                                            **params)\n",
        "            \n",
        "            # Remove Multi-Agent Setup in ENV_MOD function\n",
        "            if decision_agent not in agents_in_setup or len(agents_in_setup) != 1:\n",
        "                env_mod_func_dic[key].remove_subagents()\n",
        "\n",
        "            # Generate Testing Records\n",
        "            env_data_record = rl_env.get_step_data()\n",
        "            agent_data_record = agents_dic[decision_agent].get_step_data()\n",
        "            test_record =  pd.concat([env_data_record, agent_data_record], axis=1, join='inner')\n",
        "            test_record.to_csv(f'{save_agent_path}{file_root_name}_step_data.csv')\n",
        "            episodic_testing_record = agents_dic[decision_agent].get_testing_episodic_data()\n",
        "            episodic_testing_record.to_csv(f'{save_agent_path}{file_root_name}_epi_data.csv')\n",
        "\n",
        "            trade_actions_per_test = episodic_testing_record['tst_actions']\n",
        "\n",
        "            for idx, action_set in enumerate(trade_actions_per_test):\n",
        "                file_root_name = f'{key}_TST_{tst_idx[key][0]}-{tst_idx[key][1]}_{[idx]}'\n",
        "                test_metrics = agentperform.agent_stock_performance(stock_price_ts=np.array(stock_price_data),\n",
        "                                                                    trade_ts=np.array(action_set),\n",
        "                                                                    stock_name=key,\n",
        "                                                                    agent_name=decision_agent,\n",
        "                                                                    display_graph=False,\n",
        "                                                                    save_graphic= True,\n",
        "                                                                    path_file = f'{save_agent_path}{file_root_name}.png')\n",
        "                del test_metrics['stock']\n",
        "                del test_metrics['agent_name']\n",
        "                results[key][decision_agent][test_key][idx] = test_metrics\n",
        "\n",
        "            # Remove Agent\n",
        "            for agent in set([decision_agent] + agents_in_setup):\n",
        "                rl_env.remove_agent(agent)\n",
        "                agents_dic[agent].set_environment(None)\n",
        "\n",
        "    display(results)\n",
        "    set_seed(RANDOM_SEED)"
      ]
    },
    {
      "cell_type": "markdown",
      "metadata": {
        "id": "tFAgjjt1QFnt"
      },
      "source": [
        "# Aggreating Test Results"
      ]
    },
    {
      "cell_type": "code",
      "execution_count": 25,
      "metadata": {
        "id": "BApRg8hXQFnt"
      },
      "outputs": [
        {
          "data": {
            "text/plain": [
              "{'n_trades':             dataset  profit_1  profit_2  random\n",
              " 0    AAPL-3272:4250       0.0       0.0   239.6\n",
              " 1    AMZN-3272:4250       0.0       0.0   241.4\n",
              " 2   GOOGL-3272:4250       0.0       0.0   249.6\n",
              " 3    MSFT-3272:4250       0.0       0.0   246.8\n",
              " 4    FORD-3272:4250       0.0       0.0   247.4\n",
              " 5     JNJ-3272:4250       0.0       1.0   242.4\n",
              " 6     NEE-3272:4250       0.0       0.0   248.2\n",
              " 7     PFE-3272:4250       0.0       1.0   245.2\n",
              " 8    TSLA-2394:3372       0.0       0.0   246.2\n",
              " 9    COKE-3272:4250       0.0       0.0   243.8\n",
              " 10     PG-3272:4250       0.0       0.0   245.0,\n",
              " 'n_wins':             dataset  profit_1  profit_2  random\n",
              " 0    AAPL-3272:4250       0.0       0.0   130.6\n",
              " 1    AMZN-3272:4250       0.0       0.0   119.2\n",
              " 2   GOOGL-3272:4250       0.0       0.0   131.6\n",
              " 3    MSFT-3272:4250       0.0       0.0   131.6\n",
              " 4    FORD-3272:4250       0.0       0.0   127.0\n",
              " 5     JNJ-3272:4250       0.0       1.0   115.8\n",
              " 6     NEE-3272:4250       0.0       0.0   125.8\n",
              " 7     PFE-3272:4250       0.0       0.0   113.2\n",
              " 8    TSLA-2394:3372       0.0       0.0   130.2\n",
              " 9    COKE-3272:4250       0.0       0.0   129.0\n",
              " 10     PG-3272:4250       0.0       0.0   126.0,\n",
              " 'win_percentage':             dataset  profit_1  profit_2  random\n",
              " 0    AAPL-3272:4250       0.0       0.0   54.49\n",
              " 1    AMZN-3272:4250       0.0       0.0   49.40\n",
              " 2   GOOGL-3272:4250       0.0       0.0   52.73\n",
              " 3    MSFT-3272:4250       0.0       0.0   53.28\n",
              " 4    FORD-3272:4250       0.0       0.0   51.35\n",
              " 5     JNJ-3272:4250       0.0     100.0   47.74\n",
              " 6     NEE-3272:4250       0.0       0.0   50.70\n",
              " 7     PFE-3272:4250       0.0       0.0   46.16\n",
              " 8    TSLA-2394:3372       0.0       0.0   52.97\n",
              " 9    COKE-3272:4250       0.0       0.0   52.91\n",
              " 10     PG-3272:4250       0.0       0.0   51.47,\n",
              " 'cumulative_return':             dataset  profit_1  profit_2  random\n",
              " 0    AAPL-3272:4250       0.0      0.00    1.88\n",
              " 1    AMZN-3272:4250       0.0      0.00    1.05\n",
              " 2   GOOGL-3272:4250       0.0      0.00    1.31\n",
              " 3    MSFT-3272:4250       0.0      0.00    1.34\n",
              " 4    FORD-3272:4250       0.0      0.00    1.44\n",
              " 5     JNJ-3272:4250       0.0      1.04    0.89\n",
              " 6     NEE-3272:4250       0.0      0.00    1.00\n",
              " 7     PFE-3272:4250       0.0      0.80    0.83\n",
              " 8    TSLA-2394:3372       0.0      0.00    2.14\n",
              " 9    COKE-3272:4250       0.0      0.00    2.22\n",
              " 10     PG-3272:4250       0.0      0.00    0.96,\n",
              " 'sortino':             dataset  profit_1  profit_2  random\n",
              " 0    AAPL-3272:4250       0.0      0.00    2.33\n",
              " 1    AMZN-3272:4250       0.0      0.00    0.50\n",
              " 2   GOOGL-3272:4250       0.0      0.00    1.10\n",
              " 3    MSFT-3272:4250       0.0      0.00    1.25\n",
              " 4    FORD-3272:4250       0.0      0.00    1.25\n",
              " 5     JNJ-3272:4250       0.0      0.00   -0.44\n",
              " 6     NEE-3272:4250       0.0      0.00    0.32\n",
              " 7     PFE-3272:4250       0.0    -15.87   -0.43\n",
              " 8    TSLA-2394:3372       0.0      0.00    1.63\n",
              " 9    COKE-3272:4250       0.0      0.00    2.86\n",
              " 10     PG-3272:4250       0.0      0.00    0.06,\n",
              " 'max_drawdown':             dataset  profit_1  profit_2  random\n",
              " 0    AAPL-3272:4250       0.0       0.0  -34.23\n",
              " 1    AMZN-3272:4250       0.0       0.0  -46.39\n",
              " 2   GOOGL-3272:4250       0.0       0.0  -43.76\n",
              " 3    MSFT-3272:4250       0.0       0.0  -30.87\n",
              " 4    FORD-3272:4250       0.0       0.0  -40.04\n",
              " 5     JNJ-3272:4250       0.0       0.0  -26.34\n",
              " 6     NEE-3272:4250       0.0       0.0  -34.12\n",
              " 7     PFE-3272:4250       0.0       0.0  -39.31\n",
              " 8    TSLA-2394:3372       0.0       0.0  -63.50\n",
              " 9    COKE-3272:4250       0.0       0.0  -33.15\n",
              " 10     PG-3272:4250       0.0       0.0  -27.53,\n",
              " 'sharpe':             dataset  profit_1  profit_2  random\n",
              " 0    AAPL-3272:4250       0.0       0.0    1.41\n",
              " 1    AMZN-3272:4250       0.0       0.0    0.31\n",
              " 2   GOOGL-3272:4250       0.0       0.0    0.71\n",
              " 3    MSFT-3272:4250       0.0       0.0    0.86\n",
              " 4    FORD-3272:4250       0.0       0.0    0.78\n",
              " 5     JNJ-3272:4250       0.0       0.0   -0.32\n",
              " 6     NEE-3272:4250       0.0       0.0    0.18\n",
              " 7     PFE-3272:4250       0.0       0.0   -0.34\n",
              " 8    TSLA-2394:3372       0.0       0.0    1.00\n",
              " 9    COKE-3272:4250       0.0       0.0    1.73\n",
              " 10     PG-3272:4250       0.0       0.0   -0.00,\n",
              " 'trade_dur_avg':             dataset  profit_1  profit_2  random\n",
              " 0    AAPL-3272:4250       0.0       0.0    2.02\n",
              " 1    AMZN-3272:4250       0.0       0.0    2.04\n",
              " 2   GOOGL-3272:4250       0.0       0.0    1.98\n",
              " 3    MSFT-3272:4250       0.0       0.0    1.99\n",
              " 4    FORD-3272:4250       0.0       0.0    1.97\n",
              " 5     JNJ-3272:4250       0.0     976.0    2.04\n",
              " 6     NEE-3272:4250       0.0       0.0    1.99\n",
              " 7     PFE-3272:4250       0.0     976.0    2.00\n",
              " 8    TSLA-2394:3372       0.0       0.0    1.99\n",
              " 9    COKE-3272:4250       0.0       0.0    1.99\n",
              " 10     PG-3272:4250       0.0       0.0    2.00}"
            ]
          },
          "metadata": {},
          "output_type": "display_data"
        }
      ],
      "source": [
        "if test_agent:\n",
        "    aggerate_results = {}\n",
        "    for agent in agent_name_list:\n",
        "        aggerate_results[agent] = {}\n",
        "        for stock in tst_keys:\n",
        "            aggerate_results[agent][stock] = {}\n",
        "            test_key = f'{tst_idx[stock][0]}:{tst_idx[stock][1]}'\n",
        "            aggerate_results[agent][stock][test_key] = {}\n",
        "            values = np.empty((0,len(metrics)))\n",
        "            for test_num in range(testing_params[agent_classes[agent]]['testing_episodes']):\n",
        "\n",
        "                values_array = [results[stock][agent][test_key][test_num][key] for key in metrics]\n",
        "                current_values = np.array(values_array)\n",
        "                values = np.vstack((values,current_values))\n",
        "\n",
        "                means_for_metrics = np.mean(values, axis=0)\n",
        "                std_for_metrics = np.std(values, axis=0)\n",
        "\n",
        "            for idx,metric in enumerate(metrics):\n",
        "                aggerate_results[agent][stock][test_key][metric] = (means_for_metrics[idx],std_for_metrics[idx])\n",
        "\n",
        "    summarized_aggerate_results = {}\n",
        "\n",
        "    for metric in metrics:\n",
        "        model_list = []\n",
        "        dataset_name = []\n",
        "        scores = []\n",
        "        for agent in aggerate_results.keys():\n",
        "\n",
        "            model_list.append(agent)\n",
        "            score_list = []\n",
        "            for stock in aggerate_results[agent].keys():\n",
        "                for test in aggerate_results[agent][stock].keys():\n",
        "                    run_name = stock + \"-\" + test\n",
        "                    if run_name not in dataset_name:\n",
        "                        dataset_name.append(run_name)\n",
        "                    score = aggerate_results[agent][stock][test][metric][0]\n",
        "                    score_list.append(np.round(score,2))\n",
        "            scores.append(score_list)\n",
        "\n",
        "        score_array = np.array(scores).T\n",
        "\n",
        "        df = pd.DataFrame(score_array,columns=model_list)\n",
        "        df['dataset'] = dataset_name\n",
        "\n",
        "        column_order = ['dataset'] + [col for col in df.columns if col != 'dataset']\n",
        "        df = df[column_order]\n",
        "        summarized_aggerate_results[metric] = df\n",
        "\n",
        "\n",
        "        # Export Aggreate Date to CSV\n",
        "        means = df[model_list].mean()\n",
        "        model_means = {model: means[model] for model in model_list}\n",
        "        model_means.update({'dataset': 'mean'})\n",
        "        df_export = df.copy()\n",
        "        df_export.loc[len(df)] = model_means\n",
        "        df_export.to_csv(f'{save_path_root}/{metric}_agg_data.csv')\n",
        "\n",
        "\n",
        "\n",
        "\n",
        "    display(summarized_aggerate_results)\n"
      ]
    },
    {
      "cell_type": "markdown",
      "metadata": {
        "id": "Y0ZPtDYFQFnu"
      },
      "source": [
        "# Significance Testing"
      ]
    },
    {
      "cell_type": "code",
      "execution_count": 26,
      "metadata": {
        "id": "XDyd0N45QFnu"
      },
      "outputs": [
        {
          "data": {
            "text/plain": [
              "'n_trades'"
            ]
          },
          "metadata": {},
          "output_type": "display_data"
        },
        {
          "data": {
            "text/html": [
              "<div>\n",
              "<style scoped>\n",
              "    .dataframe tbody tr th:only-of-type {\n",
              "        vertical-align: middle;\n",
              "    }\n",
              "\n",
              "    .dataframe tbody tr th {\n",
              "        vertical-align: top;\n",
              "    }\n",
              "\n",
              "    .dataframe thead th {\n",
              "        text-align: right;\n",
              "    }\n",
              "</style>\n",
              "<table border=\"1\" class=\"dataframe\">\n",
              "  <thead>\n",
              "    <tr style=\"text-align: right;\">\n",
              "      <th></th>\n",
              "      <th>dataset</th>\n",
              "      <th>profit_1</th>\n",
              "      <th>profit_2</th>\n",
              "      <th>random</th>\n",
              "    </tr>\n",
              "  </thead>\n",
              "  <tbody>\n",
              "    <tr>\n",
              "      <th>0</th>\n",
              "      <td>AAPL-3272:4250</td>\n",
              "      <td>0.0</td>\n",
              "      <td>0.0</td>\n",
              "      <td>239.6</td>\n",
              "    </tr>\n",
              "    <tr>\n",
              "      <th>1</th>\n",
              "      <td>AMZN-3272:4250</td>\n",
              "      <td>0.0</td>\n",
              "      <td>0.0</td>\n",
              "      <td>241.4</td>\n",
              "    </tr>\n",
              "    <tr>\n",
              "      <th>2</th>\n",
              "      <td>GOOGL-3272:4250</td>\n",
              "      <td>0.0</td>\n",
              "      <td>0.0</td>\n",
              "      <td>249.6</td>\n",
              "    </tr>\n",
              "    <tr>\n",
              "      <th>3</th>\n",
              "      <td>MSFT-3272:4250</td>\n",
              "      <td>0.0</td>\n",
              "      <td>0.0</td>\n",
              "      <td>246.8</td>\n",
              "    </tr>\n",
              "    <tr>\n",
              "      <th>4</th>\n",
              "      <td>FORD-3272:4250</td>\n",
              "      <td>0.0</td>\n",
              "      <td>0.0</td>\n",
              "      <td>247.4</td>\n",
              "    </tr>\n",
              "    <tr>\n",
              "      <th>5</th>\n",
              "      <td>JNJ-3272:4250</td>\n",
              "      <td>0.0</td>\n",
              "      <td>1.0</td>\n",
              "      <td>242.4</td>\n",
              "    </tr>\n",
              "    <tr>\n",
              "      <th>6</th>\n",
              "      <td>NEE-3272:4250</td>\n",
              "      <td>0.0</td>\n",
              "      <td>0.0</td>\n",
              "      <td>248.2</td>\n",
              "    </tr>\n",
              "    <tr>\n",
              "      <th>7</th>\n",
              "      <td>PFE-3272:4250</td>\n",
              "      <td>0.0</td>\n",
              "      <td>1.0</td>\n",
              "      <td>245.2</td>\n",
              "    </tr>\n",
              "    <tr>\n",
              "      <th>8</th>\n",
              "      <td>TSLA-2394:3372</td>\n",
              "      <td>0.0</td>\n",
              "      <td>0.0</td>\n",
              "      <td>246.2</td>\n",
              "    </tr>\n",
              "    <tr>\n",
              "      <th>9</th>\n",
              "      <td>COKE-3272:4250</td>\n",
              "      <td>0.0</td>\n",
              "      <td>0.0</td>\n",
              "      <td>243.8</td>\n",
              "    </tr>\n",
              "    <tr>\n",
              "      <th>10</th>\n",
              "      <td>PG-3272:4250</td>\n",
              "      <td>0.0</td>\n",
              "      <td>0.0</td>\n",
              "      <td>245.0</td>\n",
              "    </tr>\n",
              "  </tbody>\n",
              "</table>\n",
              "</div>"
            ],
            "text/plain": [
              "            dataset  profit_1  profit_2  random\n",
              "0    AAPL-3272:4250       0.0       0.0   239.6\n",
              "1    AMZN-3272:4250       0.0       0.0   241.4\n",
              "2   GOOGL-3272:4250       0.0       0.0   249.6\n",
              "3    MSFT-3272:4250       0.0       0.0   246.8\n",
              "4    FORD-3272:4250       0.0       0.0   247.4\n",
              "5     JNJ-3272:4250       0.0       1.0   242.4\n",
              "6     NEE-3272:4250       0.0       0.0   248.2\n",
              "7     PFE-3272:4250       0.0       1.0   245.2\n",
              "8    TSLA-2394:3372       0.0       0.0   246.2\n",
              "9    COKE-3272:4250       0.0       0.0   243.8\n",
              "10     PG-3272:4250       0.0       0.0   245.0"
            ]
          },
          "metadata": {},
          "output_type": "display_data"
        },
        {
          "data": {
            "text/plain": [
              "array([[3, 3, 3, 3, 3, 3, 3, 3, 3, 3, 3],\n",
              "       [3, 3, 3, 3, 3, 2, 3, 2, 3, 3, 3],\n",
              "       [1, 1, 1, 1, 1, 1, 1, 1, 1, 1, 1]])"
            ]
          },
          "metadata": {},
          "output_type": "display_data"
        },
        {
          "data": {
            "text/plain": [
              "'n models: 3, n_datasets 11, ImanDavenport Stat: 203.8888888888904, Critical Value: 3.492828476735632, pvalue: 2.793265046749315e-05, Reject Null Hypoth: True'"
            ]
          },
          "metadata": {},
          "output_type": "display_data"
        },
        {
          "data": {
            "text/html": [
              "<div>\n",
              "<style scoped>\n",
              "    .dataframe tbody tr th:only-of-type {\n",
              "        vertical-align: middle;\n",
              "    }\n",
              "\n",
              "    .dataframe tbody tr th {\n",
              "        vertical-align: top;\n",
              "    }\n",
              "\n",
              "    .dataframe thead th {\n",
              "        text-align: right;\n",
              "    }\n",
              "</style>\n",
              "<table border=\"1\" class=\"dataframe\">\n",
              "  <thead>\n",
              "    <tr style=\"text-align: right;\">\n",
              "      <th></th>\n",
              "      <th>agent1</th>\n",
              "      <th>agent2</th>\n",
              "      <th>nemenyi_stat</th>\n",
              "      <th>nemenyi_threshold</th>\n",
              "      <th>reject_null_hypo</th>\n",
              "    </tr>\n",
              "  </thead>\n",
              "  <tbody>\n",
              "    <tr>\n",
              "      <th>0</th>\n",
              "      <td>profit_1</td>\n",
              "      <td>profit_2</td>\n",
              "      <td>0.181818</td>\n",
              "      <td>0.999059</td>\n",
              "      <td>False</td>\n",
              "    </tr>\n",
              "    <tr>\n",
              "      <th>1</th>\n",
              "      <td>profit_1</td>\n",
              "      <td>random</td>\n",
              "      <td>2.000000</td>\n",
              "      <td>0.999059</td>\n",
              "      <td>True</td>\n",
              "    </tr>\n",
              "    <tr>\n",
              "      <th>2</th>\n",
              "      <td>profit_2</td>\n",
              "      <td>random</td>\n",
              "      <td>1.818182</td>\n",
              "      <td>0.999059</td>\n",
              "      <td>True</td>\n",
              "    </tr>\n",
              "  </tbody>\n",
              "</table>\n",
              "</div>"
            ],
            "text/plain": [
              "     agent1    agent2  nemenyi_stat  nemenyi_threshold  reject_null_hypo\n",
              "0  profit_1  profit_2      0.181818           0.999059             False\n",
              "1  profit_1    random      2.000000           0.999059              True\n",
              "2  profit_2    random      1.818182           0.999059              True"
            ]
          },
          "metadata": {},
          "output_type": "display_data"
        },
        {
          "data": {
            "text/plain": [
              "'n_wins'"
            ]
          },
          "metadata": {},
          "output_type": "display_data"
        },
        {
          "data": {
            "text/html": [
              "<div>\n",
              "<style scoped>\n",
              "    .dataframe tbody tr th:only-of-type {\n",
              "        vertical-align: middle;\n",
              "    }\n",
              "\n",
              "    .dataframe tbody tr th {\n",
              "        vertical-align: top;\n",
              "    }\n",
              "\n",
              "    .dataframe thead th {\n",
              "        text-align: right;\n",
              "    }\n",
              "</style>\n",
              "<table border=\"1\" class=\"dataframe\">\n",
              "  <thead>\n",
              "    <tr style=\"text-align: right;\">\n",
              "      <th></th>\n",
              "      <th>dataset</th>\n",
              "      <th>profit_1</th>\n",
              "      <th>profit_2</th>\n",
              "      <th>random</th>\n",
              "    </tr>\n",
              "  </thead>\n",
              "  <tbody>\n",
              "    <tr>\n",
              "      <th>0</th>\n",
              "      <td>AAPL-3272:4250</td>\n",
              "      <td>0.0</td>\n",
              "      <td>0.0</td>\n",
              "      <td>130.6</td>\n",
              "    </tr>\n",
              "    <tr>\n",
              "      <th>1</th>\n",
              "      <td>AMZN-3272:4250</td>\n",
              "      <td>0.0</td>\n",
              "      <td>0.0</td>\n",
              "      <td>119.2</td>\n",
              "    </tr>\n",
              "    <tr>\n",
              "      <th>2</th>\n",
              "      <td>GOOGL-3272:4250</td>\n",
              "      <td>0.0</td>\n",
              "      <td>0.0</td>\n",
              "      <td>131.6</td>\n",
              "    </tr>\n",
              "    <tr>\n",
              "      <th>3</th>\n",
              "      <td>MSFT-3272:4250</td>\n",
              "      <td>0.0</td>\n",
              "      <td>0.0</td>\n",
              "      <td>131.6</td>\n",
              "    </tr>\n",
              "    <tr>\n",
              "      <th>4</th>\n",
              "      <td>FORD-3272:4250</td>\n",
              "      <td>0.0</td>\n",
              "      <td>0.0</td>\n",
              "      <td>127.0</td>\n",
              "    </tr>\n",
              "    <tr>\n",
              "      <th>5</th>\n",
              "      <td>JNJ-3272:4250</td>\n",
              "      <td>0.0</td>\n",
              "      <td>1.0</td>\n",
              "      <td>115.8</td>\n",
              "    </tr>\n",
              "    <tr>\n",
              "      <th>6</th>\n",
              "      <td>NEE-3272:4250</td>\n",
              "      <td>0.0</td>\n",
              "      <td>0.0</td>\n",
              "      <td>125.8</td>\n",
              "    </tr>\n",
              "    <tr>\n",
              "      <th>7</th>\n",
              "      <td>PFE-3272:4250</td>\n",
              "      <td>0.0</td>\n",
              "      <td>0.0</td>\n",
              "      <td>113.2</td>\n",
              "    </tr>\n",
              "    <tr>\n",
              "      <th>8</th>\n",
              "      <td>TSLA-2394:3372</td>\n",
              "      <td>0.0</td>\n",
              "      <td>0.0</td>\n",
              "      <td>130.2</td>\n",
              "    </tr>\n",
              "    <tr>\n",
              "      <th>9</th>\n",
              "      <td>COKE-3272:4250</td>\n",
              "      <td>0.0</td>\n",
              "      <td>0.0</td>\n",
              "      <td>129.0</td>\n",
              "    </tr>\n",
              "    <tr>\n",
              "      <th>10</th>\n",
              "      <td>PG-3272:4250</td>\n",
              "      <td>0.0</td>\n",
              "      <td>0.0</td>\n",
              "      <td>126.0</td>\n",
              "    </tr>\n",
              "  </tbody>\n",
              "</table>\n",
              "</div>"
            ],
            "text/plain": [
              "            dataset  profit_1  profit_2  random\n",
              "0    AAPL-3272:4250       0.0       0.0   130.6\n",
              "1    AMZN-3272:4250       0.0       0.0   119.2\n",
              "2   GOOGL-3272:4250       0.0       0.0   131.6\n",
              "3    MSFT-3272:4250       0.0       0.0   131.6\n",
              "4    FORD-3272:4250       0.0       0.0   127.0\n",
              "5     JNJ-3272:4250       0.0       1.0   115.8\n",
              "6     NEE-3272:4250       0.0       0.0   125.8\n",
              "7     PFE-3272:4250       0.0       0.0   113.2\n",
              "8    TSLA-2394:3372       0.0       0.0   130.2\n",
              "9    COKE-3272:4250       0.0       0.0   129.0\n",
              "10     PG-3272:4250       0.0       0.0   126.0"
            ]
          },
          "metadata": {},
          "output_type": "display_data"
        },
        {
          "data": {
            "text/plain": [
              "array([[3, 3, 3, 3, 3, 3, 3, 3, 3, 3, 3],\n",
              "       [3, 3, 3, 3, 3, 2, 3, 3, 3, 3, 3],\n",
              "       [1, 1, 1, 1, 1, 1, 1, 1, 1, 1, 1]])"
            ]
          },
          "metadata": {},
          "output_type": "display_data"
        },
        {
          "data": {
            "text/plain": [
              "'n models: 3, n_datasets 11, ImanDavenport Stat: 364.0000000000126, Critical Value: 3.492828476735632, pvalue: 2.241270991851633e-05, Reject Null Hypoth: True'"
            ]
          },
          "metadata": {},
          "output_type": "display_data"
        },
        {
          "data": {
            "text/html": [
              "<div>\n",
              "<style scoped>\n",
              "    .dataframe tbody tr th:only-of-type {\n",
              "        vertical-align: middle;\n",
              "    }\n",
              "\n",
              "    .dataframe tbody tr th {\n",
              "        vertical-align: top;\n",
              "    }\n",
              "\n",
              "    .dataframe thead th {\n",
              "        text-align: right;\n",
              "    }\n",
              "</style>\n",
              "<table border=\"1\" class=\"dataframe\">\n",
              "  <thead>\n",
              "    <tr style=\"text-align: right;\">\n",
              "      <th></th>\n",
              "      <th>agent1</th>\n",
              "      <th>agent2</th>\n",
              "      <th>nemenyi_stat</th>\n",
              "      <th>nemenyi_threshold</th>\n",
              "      <th>reject_null_hypo</th>\n",
              "    </tr>\n",
              "  </thead>\n",
              "  <tbody>\n",
              "    <tr>\n",
              "      <th>0</th>\n",
              "      <td>profit_1</td>\n",
              "      <td>profit_2</td>\n",
              "      <td>0.090909</td>\n",
              "      <td>0.999059</td>\n",
              "      <td>False</td>\n",
              "    </tr>\n",
              "    <tr>\n",
              "      <th>1</th>\n",
              "      <td>profit_1</td>\n",
              "      <td>random</td>\n",
              "      <td>2.000000</td>\n",
              "      <td>0.999059</td>\n",
              "      <td>True</td>\n",
              "    </tr>\n",
              "    <tr>\n",
              "      <th>2</th>\n",
              "      <td>profit_2</td>\n",
              "      <td>random</td>\n",
              "      <td>1.909091</td>\n",
              "      <td>0.999059</td>\n",
              "      <td>True</td>\n",
              "    </tr>\n",
              "  </tbody>\n",
              "</table>\n",
              "</div>"
            ],
            "text/plain": [
              "     agent1    agent2  nemenyi_stat  nemenyi_threshold  reject_null_hypo\n",
              "0  profit_1  profit_2      0.090909           0.999059             False\n",
              "1  profit_1    random      2.000000           0.999059              True\n",
              "2  profit_2    random      1.909091           0.999059              True"
            ]
          },
          "metadata": {},
          "output_type": "display_data"
        },
        {
          "data": {
            "text/plain": [
              "'win_percentage'"
            ]
          },
          "metadata": {},
          "output_type": "display_data"
        },
        {
          "data": {
            "text/html": [
              "<div>\n",
              "<style scoped>\n",
              "    .dataframe tbody tr th:only-of-type {\n",
              "        vertical-align: middle;\n",
              "    }\n",
              "\n",
              "    .dataframe tbody tr th {\n",
              "        vertical-align: top;\n",
              "    }\n",
              "\n",
              "    .dataframe thead th {\n",
              "        text-align: right;\n",
              "    }\n",
              "</style>\n",
              "<table border=\"1\" class=\"dataframe\">\n",
              "  <thead>\n",
              "    <tr style=\"text-align: right;\">\n",
              "      <th></th>\n",
              "      <th>dataset</th>\n",
              "      <th>profit_1</th>\n",
              "      <th>profit_2</th>\n",
              "      <th>random</th>\n",
              "    </tr>\n",
              "  </thead>\n",
              "  <tbody>\n",
              "    <tr>\n",
              "      <th>0</th>\n",
              "      <td>AAPL-3272:4250</td>\n",
              "      <td>0.0</td>\n",
              "      <td>0.0</td>\n",
              "      <td>54.49</td>\n",
              "    </tr>\n",
              "    <tr>\n",
              "      <th>1</th>\n",
              "      <td>AMZN-3272:4250</td>\n",
              "      <td>0.0</td>\n",
              "      <td>0.0</td>\n",
              "      <td>49.40</td>\n",
              "    </tr>\n",
              "    <tr>\n",
              "      <th>2</th>\n",
              "      <td>GOOGL-3272:4250</td>\n",
              "      <td>0.0</td>\n",
              "      <td>0.0</td>\n",
              "      <td>52.73</td>\n",
              "    </tr>\n",
              "    <tr>\n",
              "      <th>3</th>\n",
              "      <td>MSFT-3272:4250</td>\n",
              "      <td>0.0</td>\n",
              "      <td>0.0</td>\n",
              "      <td>53.28</td>\n",
              "    </tr>\n",
              "    <tr>\n",
              "      <th>4</th>\n",
              "      <td>FORD-3272:4250</td>\n",
              "      <td>0.0</td>\n",
              "      <td>0.0</td>\n",
              "      <td>51.35</td>\n",
              "    </tr>\n",
              "    <tr>\n",
              "      <th>5</th>\n",
              "      <td>JNJ-3272:4250</td>\n",
              "      <td>0.0</td>\n",
              "      <td>100.0</td>\n",
              "      <td>47.74</td>\n",
              "    </tr>\n",
              "    <tr>\n",
              "      <th>6</th>\n",
              "      <td>NEE-3272:4250</td>\n",
              "      <td>0.0</td>\n",
              "      <td>0.0</td>\n",
              "      <td>50.70</td>\n",
              "    </tr>\n",
              "    <tr>\n",
              "      <th>7</th>\n",
              "      <td>PFE-3272:4250</td>\n",
              "      <td>0.0</td>\n",
              "      <td>0.0</td>\n",
              "      <td>46.16</td>\n",
              "    </tr>\n",
              "    <tr>\n",
              "      <th>8</th>\n",
              "      <td>TSLA-2394:3372</td>\n",
              "      <td>0.0</td>\n",
              "      <td>0.0</td>\n",
              "      <td>52.97</td>\n",
              "    </tr>\n",
              "    <tr>\n",
              "      <th>9</th>\n",
              "      <td>COKE-3272:4250</td>\n",
              "      <td>0.0</td>\n",
              "      <td>0.0</td>\n",
              "      <td>52.91</td>\n",
              "    </tr>\n",
              "    <tr>\n",
              "      <th>10</th>\n",
              "      <td>PG-3272:4250</td>\n",
              "      <td>0.0</td>\n",
              "      <td>0.0</td>\n",
              "      <td>51.47</td>\n",
              "    </tr>\n",
              "  </tbody>\n",
              "</table>\n",
              "</div>"
            ],
            "text/plain": [
              "            dataset  profit_1  profit_2  random\n",
              "0    AAPL-3272:4250       0.0       0.0   54.49\n",
              "1    AMZN-3272:4250       0.0       0.0   49.40\n",
              "2   GOOGL-3272:4250       0.0       0.0   52.73\n",
              "3    MSFT-3272:4250       0.0       0.0   53.28\n",
              "4    FORD-3272:4250       0.0       0.0   51.35\n",
              "5     JNJ-3272:4250       0.0     100.0   47.74\n",
              "6     NEE-3272:4250       0.0       0.0   50.70\n",
              "7     PFE-3272:4250       0.0       0.0   46.16\n",
              "8    TSLA-2394:3372       0.0       0.0   52.97\n",
              "9    COKE-3272:4250       0.0       0.0   52.91\n",
              "10     PG-3272:4250       0.0       0.0   51.47"
            ]
          },
          "metadata": {},
          "output_type": "display_data"
        },
        {
          "data": {
            "text/plain": [
              "array([[3, 3, 3, 3, 3, 3, 3, 3, 3, 3, 3],\n",
              "       [3, 3, 3, 3, 3, 1, 3, 3, 3, 3, 3],\n",
              "       [1, 1, 1, 1, 1, 2, 1, 1, 1, 1, 1]])"
            ]
          },
          "metadata": {},
          "output_type": "display_data"
        },
        {
          "data": {
            "text/plain": [
              "'n models: 3, n_datasets 11, ImanDavenport Stat: 43.428571428571345, Critical Value: 3.492828476735632, pvalue: 0.00013088696490190293, Reject Null Hypoth: True'"
            ]
          },
          "metadata": {},
          "output_type": "display_data"
        },
        {
          "data": {
            "text/html": [
              "<div>\n",
              "<style scoped>\n",
              "    .dataframe tbody tr th:only-of-type {\n",
              "        vertical-align: middle;\n",
              "    }\n",
              "\n",
              "    .dataframe tbody tr th {\n",
              "        vertical-align: top;\n",
              "    }\n",
              "\n",
              "    .dataframe thead th {\n",
              "        text-align: right;\n",
              "    }\n",
              "</style>\n",
              "<table border=\"1\" class=\"dataframe\">\n",
              "  <thead>\n",
              "    <tr style=\"text-align: right;\">\n",
              "      <th></th>\n",
              "      <th>agent1</th>\n",
              "      <th>agent2</th>\n",
              "      <th>nemenyi_stat</th>\n",
              "      <th>nemenyi_threshold</th>\n",
              "      <th>reject_null_hypo</th>\n",
              "    </tr>\n",
              "  </thead>\n",
              "  <tbody>\n",
              "    <tr>\n",
              "      <th>0</th>\n",
              "      <td>profit_1</td>\n",
              "      <td>profit_2</td>\n",
              "      <td>0.181818</td>\n",
              "      <td>0.999059</td>\n",
              "      <td>False</td>\n",
              "    </tr>\n",
              "    <tr>\n",
              "      <th>1</th>\n",
              "      <td>profit_1</td>\n",
              "      <td>random</td>\n",
              "      <td>1.909091</td>\n",
              "      <td>0.999059</td>\n",
              "      <td>True</td>\n",
              "    </tr>\n",
              "    <tr>\n",
              "      <th>2</th>\n",
              "      <td>profit_2</td>\n",
              "      <td>random</td>\n",
              "      <td>1.727273</td>\n",
              "      <td>0.999059</td>\n",
              "      <td>True</td>\n",
              "    </tr>\n",
              "  </tbody>\n",
              "</table>\n",
              "</div>"
            ],
            "text/plain": [
              "     agent1    agent2  nemenyi_stat  nemenyi_threshold  reject_null_hypo\n",
              "0  profit_1  profit_2      0.181818           0.999059             False\n",
              "1  profit_1    random      1.909091           0.999059              True\n",
              "2  profit_2    random      1.727273           0.999059              True"
            ]
          },
          "metadata": {},
          "output_type": "display_data"
        },
        {
          "data": {
            "text/plain": [
              "'cumulative_return'"
            ]
          },
          "metadata": {},
          "output_type": "display_data"
        },
        {
          "data": {
            "text/html": [
              "<div>\n",
              "<style scoped>\n",
              "    .dataframe tbody tr th:only-of-type {\n",
              "        vertical-align: middle;\n",
              "    }\n",
              "\n",
              "    .dataframe tbody tr th {\n",
              "        vertical-align: top;\n",
              "    }\n",
              "\n",
              "    .dataframe thead th {\n",
              "        text-align: right;\n",
              "    }\n",
              "</style>\n",
              "<table border=\"1\" class=\"dataframe\">\n",
              "  <thead>\n",
              "    <tr style=\"text-align: right;\">\n",
              "      <th></th>\n",
              "      <th>dataset</th>\n",
              "      <th>profit_1</th>\n",
              "      <th>profit_2</th>\n",
              "      <th>random</th>\n",
              "    </tr>\n",
              "  </thead>\n",
              "  <tbody>\n",
              "    <tr>\n",
              "      <th>0</th>\n",
              "      <td>AAPL-3272:4250</td>\n",
              "      <td>0.0</td>\n",
              "      <td>0.00</td>\n",
              "      <td>1.88</td>\n",
              "    </tr>\n",
              "    <tr>\n",
              "      <th>1</th>\n",
              "      <td>AMZN-3272:4250</td>\n",
              "      <td>0.0</td>\n",
              "      <td>0.00</td>\n",
              "      <td>1.05</td>\n",
              "    </tr>\n",
              "    <tr>\n",
              "      <th>2</th>\n",
              "      <td>GOOGL-3272:4250</td>\n",
              "      <td>0.0</td>\n",
              "      <td>0.00</td>\n",
              "      <td>1.31</td>\n",
              "    </tr>\n",
              "    <tr>\n",
              "      <th>3</th>\n",
              "      <td>MSFT-3272:4250</td>\n",
              "      <td>0.0</td>\n",
              "      <td>0.00</td>\n",
              "      <td>1.34</td>\n",
              "    </tr>\n",
              "    <tr>\n",
              "      <th>4</th>\n",
              "      <td>FORD-3272:4250</td>\n",
              "      <td>0.0</td>\n",
              "      <td>0.00</td>\n",
              "      <td>1.44</td>\n",
              "    </tr>\n",
              "    <tr>\n",
              "      <th>5</th>\n",
              "      <td>JNJ-3272:4250</td>\n",
              "      <td>0.0</td>\n",
              "      <td>1.04</td>\n",
              "      <td>0.89</td>\n",
              "    </tr>\n",
              "    <tr>\n",
              "      <th>6</th>\n",
              "      <td>NEE-3272:4250</td>\n",
              "      <td>0.0</td>\n",
              "      <td>0.00</td>\n",
              "      <td>1.00</td>\n",
              "    </tr>\n",
              "    <tr>\n",
              "      <th>7</th>\n",
              "      <td>PFE-3272:4250</td>\n",
              "      <td>0.0</td>\n",
              "      <td>0.80</td>\n",
              "      <td>0.83</td>\n",
              "    </tr>\n",
              "    <tr>\n",
              "      <th>8</th>\n",
              "      <td>TSLA-2394:3372</td>\n",
              "      <td>0.0</td>\n",
              "      <td>0.00</td>\n",
              "      <td>2.14</td>\n",
              "    </tr>\n",
              "    <tr>\n",
              "      <th>9</th>\n",
              "      <td>COKE-3272:4250</td>\n",
              "      <td>0.0</td>\n",
              "      <td>0.00</td>\n",
              "      <td>2.22</td>\n",
              "    </tr>\n",
              "    <tr>\n",
              "      <th>10</th>\n",
              "      <td>PG-3272:4250</td>\n",
              "      <td>0.0</td>\n",
              "      <td>0.00</td>\n",
              "      <td>0.96</td>\n",
              "    </tr>\n",
              "  </tbody>\n",
              "</table>\n",
              "</div>"
            ],
            "text/plain": [
              "            dataset  profit_1  profit_2  random\n",
              "0    AAPL-3272:4250       0.0      0.00    1.88\n",
              "1    AMZN-3272:4250       0.0      0.00    1.05\n",
              "2   GOOGL-3272:4250       0.0      0.00    1.31\n",
              "3    MSFT-3272:4250       0.0      0.00    1.34\n",
              "4    FORD-3272:4250       0.0      0.00    1.44\n",
              "5     JNJ-3272:4250       0.0      1.04    0.89\n",
              "6     NEE-3272:4250       0.0      0.00    1.00\n",
              "7     PFE-3272:4250       0.0      0.80    0.83\n",
              "8    TSLA-2394:3372       0.0      0.00    2.14\n",
              "9    COKE-3272:4250       0.0      0.00    2.22\n",
              "10     PG-3272:4250       0.0      0.00    0.96"
            ]
          },
          "metadata": {},
          "output_type": "display_data"
        },
        {
          "data": {
            "text/plain": [
              "array([[3, 3, 3, 3, 3, 3, 3, 3, 3, 3, 3],\n",
              "       [3, 3, 3, 3, 3, 1, 3, 2, 3, 3, 3],\n",
              "       [1, 1, 1, 1, 1, 2, 1, 1, 1, 1, 1]])"
            ]
          },
          "metadata": {},
          "output_type": "display_data"
        },
        {
          "data": {
            "text/plain": [
              "'n models: 3, n_datasets 11, ImanDavenport Stat: 40.65789473684232, Critical Value: 3.492828476735632, pvalue: 0.00014648735773259785, Reject Null Hypoth: True'"
            ]
          },
          "metadata": {},
          "output_type": "display_data"
        },
        {
          "data": {
            "text/html": [
              "<div>\n",
              "<style scoped>\n",
              "    .dataframe tbody tr th:only-of-type {\n",
              "        vertical-align: middle;\n",
              "    }\n",
              "\n",
              "    .dataframe tbody tr th {\n",
              "        vertical-align: top;\n",
              "    }\n",
              "\n",
              "    .dataframe thead th {\n",
              "        text-align: right;\n",
              "    }\n",
              "</style>\n",
              "<table border=\"1\" class=\"dataframe\">\n",
              "  <thead>\n",
              "    <tr style=\"text-align: right;\">\n",
              "      <th></th>\n",
              "      <th>agent1</th>\n",
              "      <th>agent2</th>\n",
              "      <th>nemenyi_stat</th>\n",
              "      <th>nemenyi_threshold</th>\n",
              "      <th>reject_null_hypo</th>\n",
              "    </tr>\n",
              "  </thead>\n",
              "  <tbody>\n",
              "    <tr>\n",
              "      <th>0</th>\n",
              "      <td>profit_1</td>\n",
              "      <td>profit_2</td>\n",
              "      <td>0.272727</td>\n",
              "      <td>0.999059</td>\n",
              "      <td>False</td>\n",
              "    </tr>\n",
              "    <tr>\n",
              "      <th>1</th>\n",
              "      <td>profit_1</td>\n",
              "      <td>random</td>\n",
              "      <td>1.909091</td>\n",
              "      <td>0.999059</td>\n",
              "      <td>True</td>\n",
              "    </tr>\n",
              "    <tr>\n",
              "      <th>2</th>\n",
              "      <td>profit_2</td>\n",
              "      <td>random</td>\n",
              "      <td>1.636364</td>\n",
              "      <td>0.999059</td>\n",
              "      <td>True</td>\n",
              "    </tr>\n",
              "  </tbody>\n",
              "</table>\n",
              "</div>"
            ],
            "text/plain": [
              "     agent1    agent2  nemenyi_stat  nemenyi_threshold  reject_null_hypo\n",
              "0  profit_1  profit_2      0.272727           0.999059             False\n",
              "1  profit_1    random      1.909091           0.999059              True\n",
              "2  profit_2    random      1.636364           0.999059              True"
            ]
          },
          "metadata": {},
          "output_type": "display_data"
        },
        {
          "data": {
            "text/plain": [
              "'sortino'"
            ]
          },
          "metadata": {},
          "output_type": "display_data"
        },
        {
          "data": {
            "text/html": [
              "<div>\n",
              "<style scoped>\n",
              "    .dataframe tbody tr th:only-of-type {\n",
              "        vertical-align: middle;\n",
              "    }\n",
              "\n",
              "    .dataframe tbody tr th {\n",
              "        vertical-align: top;\n",
              "    }\n",
              "\n",
              "    .dataframe thead th {\n",
              "        text-align: right;\n",
              "    }\n",
              "</style>\n",
              "<table border=\"1\" class=\"dataframe\">\n",
              "  <thead>\n",
              "    <tr style=\"text-align: right;\">\n",
              "      <th></th>\n",
              "      <th>dataset</th>\n",
              "      <th>profit_1</th>\n",
              "      <th>profit_2</th>\n",
              "      <th>random</th>\n",
              "    </tr>\n",
              "  </thead>\n",
              "  <tbody>\n",
              "    <tr>\n",
              "      <th>0</th>\n",
              "      <td>AAPL-3272:4250</td>\n",
              "      <td>0.0</td>\n",
              "      <td>0.00</td>\n",
              "      <td>2.33</td>\n",
              "    </tr>\n",
              "    <tr>\n",
              "      <th>1</th>\n",
              "      <td>AMZN-3272:4250</td>\n",
              "      <td>0.0</td>\n",
              "      <td>0.00</td>\n",
              "      <td>0.50</td>\n",
              "    </tr>\n",
              "    <tr>\n",
              "      <th>2</th>\n",
              "      <td>GOOGL-3272:4250</td>\n",
              "      <td>0.0</td>\n",
              "      <td>0.00</td>\n",
              "      <td>1.10</td>\n",
              "    </tr>\n",
              "    <tr>\n",
              "      <th>3</th>\n",
              "      <td>MSFT-3272:4250</td>\n",
              "      <td>0.0</td>\n",
              "      <td>0.00</td>\n",
              "      <td>1.25</td>\n",
              "    </tr>\n",
              "    <tr>\n",
              "      <th>4</th>\n",
              "      <td>FORD-3272:4250</td>\n",
              "      <td>0.0</td>\n",
              "      <td>0.00</td>\n",
              "      <td>1.25</td>\n",
              "    </tr>\n",
              "    <tr>\n",
              "      <th>5</th>\n",
              "      <td>JNJ-3272:4250</td>\n",
              "      <td>0.0</td>\n",
              "      <td>0.00</td>\n",
              "      <td>-0.44</td>\n",
              "    </tr>\n",
              "    <tr>\n",
              "      <th>6</th>\n",
              "      <td>NEE-3272:4250</td>\n",
              "      <td>0.0</td>\n",
              "      <td>0.00</td>\n",
              "      <td>0.32</td>\n",
              "    </tr>\n",
              "    <tr>\n",
              "      <th>7</th>\n",
              "      <td>PFE-3272:4250</td>\n",
              "      <td>0.0</td>\n",
              "      <td>-15.87</td>\n",
              "      <td>-0.43</td>\n",
              "    </tr>\n",
              "    <tr>\n",
              "      <th>8</th>\n",
              "      <td>TSLA-2394:3372</td>\n",
              "      <td>0.0</td>\n",
              "      <td>0.00</td>\n",
              "      <td>1.63</td>\n",
              "    </tr>\n",
              "    <tr>\n",
              "      <th>9</th>\n",
              "      <td>COKE-3272:4250</td>\n",
              "      <td>0.0</td>\n",
              "      <td>0.00</td>\n",
              "      <td>2.86</td>\n",
              "    </tr>\n",
              "    <tr>\n",
              "      <th>10</th>\n",
              "      <td>PG-3272:4250</td>\n",
              "      <td>0.0</td>\n",
              "      <td>0.00</td>\n",
              "      <td>0.06</td>\n",
              "    </tr>\n",
              "  </tbody>\n",
              "</table>\n",
              "</div>"
            ],
            "text/plain": [
              "            dataset  profit_1  profit_2  random\n",
              "0    AAPL-3272:4250       0.0      0.00    2.33\n",
              "1    AMZN-3272:4250       0.0      0.00    0.50\n",
              "2   GOOGL-3272:4250       0.0      0.00    1.10\n",
              "3    MSFT-3272:4250       0.0      0.00    1.25\n",
              "4    FORD-3272:4250       0.0      0.00    1.25\n",
              "5     JNJ-3272:4250       0.0      0.00   -0.44\n",
              "6     NEE-3272:4250       0.0      0.00    0.32\n",
              "7     PFE-3272:4250       0.0    -15.87   -0.43\n",
              "8    TSLA-2394:3372       0.0      0.00    1.63\n",
              "9    COKE-3272:4250       0.0      0.00    2.86\n",
              "10     PG-3272:4250       0.0      0.00    0.06"
            ]
          },
          "metadata": {},
          "output_type": "display_data"
        },
        {
          "data": {
            "text/plain": [
              "array([[3, 3, 3, 3, 3, 2, 3, 1, 3, 3, 3],\n",
              "       [3, 3, 3, 3, 3, 2, 3, 3, 3, 3, 3],\n",
              "       [1, 1, 1, 1, 1, 3, 1, 2, 1, 1, 1]])"
            ]
          },
          "metadata": {},
          "output_type": "display_data"
        },
        {
          "data": {
            "text/plain": [
              "'n models: 3, n_datasets 11, ImanDavenport Stat: 11.011235955056172, Critical Value: 3.492828476735632, pvalue: 0.003136317674515301, Reject Null Hypoth: True'"
            ]
          },
          "metadata": {},
          "output_type": "display_data"
        },
        {
          "data": {
            "text/html": [
              "<div>\n",
              "<style scoped>\n",
              "    .dataframe tbody tr th:only-of-type {\n",
              "        vertical-align: middle;\n",
              "    }\n",
              "\n",
              "    .dataframe tbody tr th {\n",
              "        vertical-align: top;\n",
              "    }\n",
              "\n",
              "    .dataframe thead th {\n",
              "        text-align: right;\n",
              "    }\n",
              "</style>\n",
              "<table border=\"1\" class=\"dataframe\">\n",
              "  <thead>\n",
              "    <tr style=\"text-align: right;\">\n",
              "      <th></th>\n",
              "      <th>agent1</th>\n",
              "      <th>agent2</th>\n",
              "      <th>nemenyi_stat</th>\n",
              "      <th>nemenyi_threshold</th>\n",
              "      <th>reject_null_hypo</th>\n",
              "    </tr>\n",
              "  </thead>\n",
              "  <tbody>\n",
              "    <tr>\n",
              "      <th>0</th>\n",
              "      <td>profit_1</td>\n",
              "      <td>profit_2</td>\n",
              "      <td>0.181818</td>\n",
              "      <td>0.999059</td>\n",
              "      <td>False</td>\n",
              "    </tr>\n",
              "    <tr>\n",
              "      <th>1</th>\n",
              "      <td>profit_1</td>\n",
              "      <td>random</td>\n",
              "      <td>1.454545</td>\n",
              "      <td>0.999059</td>\n",
              "      <td>True</td>\n",
              "    </tr>\n",
              "    <tr>\n",
              "      <th>2</th>\n",
              "      <td>profit_2</td>\n",
              "      <td>random</td>\n",
              "      <td>1.636364</td>\n",
              "      <td>0.999059</td>\n",
              "      <td>True</td>\n",
              "    </tr>\n",
              "  </tbody>\n",
              "</table>\n",
              "</div>"
            ],
            "text/plain": [
              "     agent1    agent2  nemenyi_stat  nemenyi_threshold  reject_null_hypo\n",
              "0  profit_1  profit_2      0.181818           0.999059             False\n",
              "1  profit_1    random      1.454545           0.999059              True\n",
              "2  profit_2    random      1.636364           0.999059              True"
            ]
          },
          "metadata": {},
          "output_type": "display_data"
        },
        {
          "data": {
            "text/plain": [
              "'max_drawdown'"
            ]
          },
          "metadata": {},
          "output_type": "display_data"
        },
        {
          "data": {
            "text/html": [
              "<div>\n",
              "<style scoped>\n",
              "    .dataframe tbody tr th:only-of-type {\n",
              "        vertical-align: middle;\n",
              "    }\n",
              "\n",
              "    .dataframe tbody tr th {\n",
              "        vertical-align: top;\n",
              "    }\n",
              "\n",
              "    .dataframe thead th {\n",
              "        text-align: right;\n",
              "    }\n",
              "</style>\n",
              "<table border=\"1\" class=\"dataframe\">\n",
              "  <thead>\n",
              "    <tr style=\"text-align: right;\">\n",
              "      <th></th>\n",
              "      <th>dataset</th>\n",
              "      <th>profit_1</th>\n",
              "      <th>profit_2</th>\n",
              "      <th>random</th>\n",
              "    </tr>\n",
              "  </thead>\n",
              "  <tbody>\n",
              "    <tr>\n",
              "      <th>0</th>\n",
              "      <td>AAPL-3272:4250</td>\n",
              "      <td>0.0</td>\n",
              "      <td>0.0</td>\n",
              "      <td>-34.23</td>\n",
              "    </tr>\n",
              "    <tr>\n",
              "      <th>1</th>\n",
              "      <td>AMZN-3272:4250</td>\n",
              "      <td>0.0</td>\n",
              "      <td>0.0</td>\n",
              "      <td>-46.39</td>\n",
              "    </tr>\n",
              "    <tr>\n",
              "      <th>2</th>\n",
              "      <td>GOOGL-3272:4250</td>\n",
              "      <td>0.0</td>\n",
              "      <td>0.0</td>\n",
              "      <td>-43.76</td>\n",
              "    </tr>\n",
              "    <tr>\n",
              "      <th>3</th>\n",
              "      <td>MSFT-3272:4250</td>\n",
              "      <td>0.0</td>\n",
              "      <td>0.0</td>\n",
              "      <td>-30.87</td>\n",
              "    </tr>\n",
              "    <tr>\n",
              "      <th>4</th>\n",
              "      <td>FORD-3272:4250</td>\n",
              "      <td>0.0</td>\n",
              "      <td>0.0</td>\n",
              "      <td>-40.04</td>\n",
              "    </tr>\n",
              "    <tr>\n",
              "      <th>5</th>\n",
              "      <td>JNJ-3272:4250</td>\n",
              "      <td>0.0</td>\n",
              "      <td>0.0</td>\n",
              "      <td>-26.34</td>\n",
              "    </tr>\n",
              "    <tr>\n",
              "      <th>6</th>\n",
              "      <td>NEE-3272:4250</td>\n",
              "      <td>0.0</td>\n",
              "      <td>0.0</td>\n",
              "      <td>-34.12</td>\n",
              "    </tr>\n",
              "    <tr>\n",
              "      <th>7</th>\n",
              "      <td>PFE-3272:4250</td>\n",
              "      <td>0.0</td>\n",
              "      <td>0.0</td>\n",
              "      <td>-39.31</td>\n",
              "    </tr>\n",
              "    <tr>\n",
              "      <th>8</th>\n",
              "      <td>TSLA-2394:3372</td>\n",
              "      <td>0.0</td>\n",
              "      <td>0.0</td>\n",
              "      <td>-63.50</td>\n",
              "    </tr>\n",
              "    <tr>\n",
              "      <th>9</th>\n",
              "      <td>COKE-3272:4250</td>\n",
              "      <td>0.0</td>\n",
              "      <td>0.0</td>\n",
              "      <td>-33.15</td>\n",
              "    </tr>\n",
              "    <tr>\n",
              "      <th>10</th>\n",
              "      <td>PG-3272:4250</td>\n",
              "      <td>0.0</td>\n",
              "      <td>0.0</td>\n",
              "      <td>-27.53</td>\n",
              "    </tr>\n",
              "  </tbody>\n",
              "</table>\n",
              "</div>"
            ],
            "text/plain": [
              "            dataset  profit_1  profit_2  random\n",
              "0    AAPL-3272:4250       0.0       0.0  -34.23\n",
              "1    AMZN-3272:4250       0.0       0.0  -46.39\n",
              "2   GOOGL-3272:4250       0.0       0.0  -43.76\n",
              "3    MSFT-3272:4250       0.0       0.0  -30.87\n",
              "4    FORD-3272:4250       0.0       0.0  -40.04\n",
              "5     JNJ-3272:4250       0.0       0.0  -26.34\n",
              "6     NEE-3272:4250       0.0       0.0  -34.12\n",
              "7     PFE-3272:4250       0.0       0.0  -39.31\n",
              "8    TSLA-2394:3372       0.0       0.0  -63.50\n",
              "9    COKE-3272:4250       0.0       0.0  -33.15\n",
              "10     PG-3272:4250       0.0       0.0  -27.53"
            ]
          },
          "metadata": {},
          "output_type": "display_data"
        },
        {
          "data": {
            "text/plain": [
              "array([[1, 1, 1, 1, 1, 1, 1, 1, 1, 1, 1],\n",
              "       [1, 1, 1, 1, 1, 1, 1, 1, 1, 1, 1],\n",
              "       [3, 3, 3, 3, 3, 3, 3, 3, 3, 3, 3]])"
            ]
          },
          "metadata": {},
          "output_type": "display_data"
        },
        {
          "name": "stderr",
          "output_type": "stream",
          "text": [
            "c:\\Programming\\MADDQN\\utilities\\prob_evaluate.py:55: RuntimeWarning:\n",
            "\n",
            "divide by zero encountered in scalar divide\n",
            "\n"
          ]
        },
        {
          "data": {
            "text/plain": [
              "'n models: 3, n_datasets 11, ImanDavenport Stat: inf, Critical Value: 3.492828476735632, pvalue: 1.6701700790245663e-05, Reject Null Hypoth: True'"
            ]
          },
          "metadata": {},
          "output_type": "display_data"
        },
        {
          "data": {
            "text/html": [
              "<div>\n",
              "<style scoped>\n",
              "    .dataframe tbody tr th:only-of-type {\n",
              "        vertical-align: middle;\n",
              "    }\n",
              "\n",
              "    .dataframe tbody tr th {\n",
              "        vertical-align: top;\n",
              "    }\n",
              "\n",
              "    .dataframe thead th {\n",
              "        text-align: right;\n",
              "    }\n",
              "</style>\n",
              "<table border=\"1\" class=\"dataframe\">\n",
              "  <thead>\n",
              "    <tr style=\"text-align: right;\">\n",
              "      <th></th>\n",
              "      <th>agent1</th>\n",
              "      <th>agent2</th>\n",
              "      <th>nemenyi_stat</th>\n",
              "      <th>nemenyi_threshold</th>\n",
              "      <th>reject_null_hypo</th>\n",
              "    </tr>\n",
              "  </thead>\n",
              "  <tbody>\n",
              "    <tr>\n",
              "      <th>0</th>\n",
              "      <td>profit_1</td>\n",
              "      <td>profit_2</td>\n",
              "      <td>0.0</td>\n",
              "      <td>0.999059</td>\n",
              "      <td>False</td>\n",
              "    </tr>\n",
              "    <tr>\n",
              "      <th>1</th>\n",
              "      <td>profit_1</td>\n",
              "      <td>random</td>\n",
              "      <td>2.0</td>\n",
              "      <td>0.999059</td>\n",
              "      <td>True</td>\n",
              "    </tr>\n",
              "    <tr>\n",
              "      <th>2</th>\n",
              "      <td>profit_2</td>\n",
              "      <td>random</td>\n",
              "      <td>2.0</td>\n",
              "      <td>0.999059</td>\n",
              "      <td>True</td>\n",
              "    </tr>\n",
              "  </tbody>\n",
              "</table>\n",
              "</div>"
            ],
            "text/plain": [
              "     agent1    agent2  nemenyi_stat  nemenyi_threshold  reject_null_hypo\n",
              "0  profit_1  profit_2           0.0           0.999059             False\n",
              "1  profit_1    random           2.0           0.999059              True\n",
              "2  profit_2    random           2.0           0.999059              True"
            ]
          },
          "metadata": {},
          "output_type": "display_data"
        },
        {
          "data": {
            "text/plain": [
              "'sharpe'"
            ]
          },
          "metadata": {},
          "output_type": "display_data"
        },
        {
          "data": {
            "text/html": [
              "<div>\n",
              "<style scoped>\n",
              "    .dataframe tbody tr th:only-of-type {\n",
              "        vertical-align: middle;\n",
              "    }\n",
              "\n",
              "    .dataframe tbody tr th {\n",
              "        vertical-align: top;\n",
              "    }\n",
              "\n",
              "    .dataframe thead th {\n",
              "        text-align: right;\n",
              "    }\n",
              "</style>\n",
              "<table border=\"1\" class=\"dataframe\">\n",
              "  <thead>\n",
              "    <tr style=\"text-align: right;\">\n",
              "      <th></th>\n",
              "      <th>dataset</th>\n",
              "      <th>profit_1</th>\n",
              "      <th>profit_2</th>\n",
              "      <th>random</th>\n",
              "    </tr>\n",
              "  </thead>\n",
              "  <tbody>\n",
              "    <tr>\n",
              "      <th>0</th>\n",
              "      <td>AAPL-3272:4250</td>\n",
              "      <td>0.0</td>\n",
              "      <td>0.0</td>\n",
              "      <td>1.41</td>\n",
              "    </tr>\n",
              "    <tr>\n",
              "      <th>1</th>\n",
              "      <td>AMZN-3272:4250</td>\n",
              "      <td>0.0</td>\n",
              "      <td>0.0</td>\n",
              "      <td>0.31</td>\n",
              "    </tr>\n",
              "    <tr>\n",
              "      <th>2</th>\n",
              "      <td>GOOGL-3272:4250</td>\n",
              "      <td>0.0</td>\n",
              "      <td>0.0</td>\n",
              "      <td>0.71</td>\n",
              "    </tr>\n",
              "    <tr>\n",
              "      <th>3</th>\n",
              "      <td>MSFT-3272:4250</td>\n",
              "      <td>0.0</td>\n",
              "      <td>0.0</td>\n",
              "      <td>0.86</td>\n",
              "    </tr>\n",
              "    <tr>\n",
              "      <th>4</th>\n",
              "      <td>FORD-3272:4250</td>\n",
              "      <td>0.0</td>\n",
              "      <td>0.0</td>\n",
              "      <td>0.78</td>\n",
              "    </tr>\n",
              "    <tr>\n",
              "      <th>5</th>\n",
              "      <td>JNJ-3272:4250</td>\n",
              "      <td>0.0</td>\n",
              "      <td>0.0</td>\n",
              "      <td>-0.32</td>\n",
              "    </tr>\n",
              "    <tr>\n",
              "      <th>6</th>\n",
              "      <td>NEE-3272:4250</td>\n",
              "      <td>0.0</td>\n",
              "      <td>0.0</td>\n",
              "      <td>0.18</td>\n",
              "    </tr>\n",
              "    <tr>\n",
              "      <th>7</th>\n",
              "      <td>PFE-3272:4250</td>\n",
              "      <td>0.0</td>\n",
              "      <td>0.0</td>\n",
              "      <td>-0.34</td>\n",
              "    </tr>\n",
              "    <tr>\n",
              "      <th>8</th>\n",
              "      <td>TSLA-2394:3372</td>\n",
              "      <td>0.0</td>\n",
              "      <td>0.0</td>\n",
              "      <td>1.00</td>\n",
              "    </tr>\n",
              "    <tr>\n",
              "      <th>9</th>\n",
              "      <td>COKE-3272:4250</td>\n",
              "      <td>0.0</td>\n",
              "      <td>0.0</td>\n",
              "      <td>1.73</td>\n",
              "    </tr>\n",
              "    <tr>\n",
              "      <th>10</th>\n",
              "      <td>PG-3272:4250</td>\n",
              "      <td>0.0</td>\n",
              "      <td>0.0</td>\n",
              "      <td>-0.00</td>\n",
              "    </tr>\n",
              "  </tbody>\n",
              "</table>\n",
              "</div>"
            ],
            "text/plain": [
              "            dataset  profit_1  profit_2  random\n",
              "0    AAPL-3272:4250       0.0       0.0    1.41\n",
              "1    AMZN-3272:4250       0.0       0.0    0.31\n",
              "2   GOOGL-3272:4250       0.0       0.0    0.71\n",
              "3    MSFT-3272:4250       0.0       0.0    0.86\n",
              "4    FORD-3272:4250       0.0       0.0    0.78\n",
              "5     JNJ-3272:4250       0.0       0.0   -0.32\n",
              "6     NEE-3272:4250       0.0       0.0    0.18\n",
              "7     PFE-3272:4250       0.0       0.0   -0.34\n",
              "8    TSLA-2394:3372       0.0       0.0    1.00\n",
              "9    COKE-3272:4250       0.0       0.0    1.73\n",
              "10     PG-3272:4250       0.0       0.0   -0.00"
            ]
          },
          "metadata": {},
          "output_type": "display_data"
        },
        {
          "data": {
            "text/plain": [
              "array([[3., 3., 3., 3., 3., 2., 3., 2., 3., 3., 2.],\n",
              "       [3., 3., 3., 3., 3., 2., 3., 2., 3., 3., 2.],\n",
              "       [1., 1., 1., 1., 1., 3., 1., 3., 1., 1., 2.]])"
            ]
          },
          "metadata": {},
          "output_type": "display_data"
        },
        {
          "data": {
            "text/plain": [
              "'n models: 3, n_datasets 11, ImanDavenport Stat: 4.8648648648648605, Critical Value: 3.492828476735632, pvalue: 0.027323722447292628, Reject Null Hypoth: True'"
            ]
          },
          "metadata": {},
          "output_type": "display_data"
        },
        {
          "data": {
            "text/html": [
              "<div>\n",
              "<style scoped>\n",
              "    .dataframe tbody tr th:only-of-type {\n",
              "        vertical-align: middle;\n",
              "    }\n",
              "\n",
              "    .dataframe tbody tr th {\n",
              "        vertical-align: top;\n",
              "    }\n",
              "\n",
              "    .dataframe thead th {\n",
              "        text-align: right;\n",
              "    }\n",
              "</style>\n",
              "<table border=\"1\" class=\"dataframe\">\n",
              "  <thead>\n",
              "    <tr style=\"text-align: right;\">\n",
              "      <th></th>\n",
              "      <th>agent1</th>\n",
              "      <th>agent2</th>\n",
              "      <th>nemenyi_stat</th>\n",
              "      <th>nemenyi_threshold</th>\n",
              "      <th>reject_null_hypo</th>\n",
              "    </tr>\n",
              "  </thead>\n",
              "  <tbody>\n",
              "    <tr>\n",
              "      <th>0</th>\n",
              "      <td>profit_1</td>\n",
              "      <td>profit_2</td>\n",
              "      <td>0.000000</td>\n",
              "      <td>0.999059</td>\n",
              "      <td>False</td>\n",
              "    </tr>\n",
              "    <tr>\n",
              "      <th>1</th>\n",
              "      <td>profit_1</td>\n",
              "      <td>random</td>\n",
              "      <td>1.272727</td>\n",
              "      <td>0.999059</td>\n",
              "      <td>True</td>\n",
              "    </tr>\n",
              "    <tr>\n",
              "      <th>2</th>\n",
              "      <td>profit_2</td>\n",
              "      <td>random</td>\n",
              "      <td>1.272727</td>\n",
              "      <td>0.999059</td>\n",
              "      <td>True</td>\n",
              "    </tr>\n",
              "  </tbody>\n",
              "</table>\n",
              "</div>"
            ],
            "text/plain": [
              "     agent1    agent2  nemenyi_stat  nemenyi_threshold  reject_null_hypo\n",
              "0  profit_1  profit_2      0.000000           0.999059             False\n",
              "1  profit_1    random      1.272727           0.999059              True\n",
              "2  profit_2    random      1.272727           0.999059              True"
            ]
          },
          "metadata": {},
          "output_type": "display_data"
        },
        {
          "data": {
            "text/plain": [
              "'trade_dur_avg'"
            ]
          },
          "metadata": {},
          "output_type": "display_data"
        },
        {
          "data": {
            "text/html": [
              "<div>\n",
              "<style scoped>\n",
              "    .dataframe tbody tr th:only-of-type {\n",
              "        vertical-align: middle;\n",
              "    }\n",
              "\n",
              "    .dataframe tbody tr th {\n",
              "        vertical-align: top;\n",
              "    }\n",
              "\n",
              "    .dataframe thead th {\n",
              "        text-align: right;\n",
              "    }\n",
              "</style>\n",
              "<table border=\"1\" class=\"dataframe\">\n",
              "  <thead>\n",
              "    <tr style=\"text-align: right;\">\n",
              "      <th></th>\n",
              "      <th>dataset</th>\n",
              "      <th>profit_1</th>\n",
              "      <th>profit_2</th>\n",
              "      <th>random</th>\n",
              "    </tr>\n",
              "  </thead>\n",
              "  <tbody>\n",
              "    <tr>\n",
              "      <th>0</th>\n",
              "      <td>AAPL-3272:4250</td>\n",
              "      <td>0.0</td>\n",
              "      <td>0.0</td>\n",
              "      <td>2.02</td>\n",
              "    </tr>\n",
              "    <tr>\n",
              "      <th>1</th>\n",
              "      <td>AMZN-3272:4250</td>\n",
              "      <td>0.0</td>\n",
              "      <td>0.0</td>\n",
              "      <td>2.04</td>\n",
              "    </tr>\n",
              "    <tr>\n",
              "      <th>2</th>\n",
              "      <td>GOOGL-3272:4250</td>\n",
              "      <td>0.0</td>\n",
              "      <td>0.0</td>\n",
              "      <td>1.98</td>\n",
              "    </tr>\n",
              "    <tr>\n",
              "      <th>3</th>\n",
              "      <td>MSFT-3272:4250</td>\n",
              "      <td>0.0</td>\n",
              "      <td>0.0</td>\n",
              "      <td>1.99</td>\n",
              "    </tr>\n",
              "    <tr>\n",
              "      <th>4</th>\n",
              "      <td>FORD-3272:4250</td>\n",
              "      <td>0.0</td>\n",
              "      <td>0.0</td>\n",
              "      <td>1.97</td>\n",
              "    </tr>\n",
              "    <tr>\n",
              "      <th>5</th>\n",
              "      <td>JNJ-3272:4250</td>\n",
              "      <td>0.0</td>\n",
              "      <td>976.0</td>\n",
              "      <td>2.04</td>\n",
              "    </tr>\n",
              "    <tr>\n",
              "      <th>6</th>\n",
              "      <td>NEE-3272:4250</td>\n",
              "      <td>0.0</td>\n",
              "      <td>0.0</td>\n",
              "      <td>1.99</td>\n",
              "    </tr>\n",
              "    <tr>\n",
              "      <th>7</th>\n",
              "      <td>PFE-3272:4250</td>\n",
              "      <td>0.0</td>\n",
              "      <td>976.0</td>\n",
              "      <td>2.00</td>\n",
              "    </tr>\n",
              "    <tr>\n",
              "      <th>8</th>\n",
              "      <td>TSLA-2394:3372</td>\n",
              "      <td>0.0</td>\n",
              "      <td>0.0</td>\n",
              "      <td>1.99</td>\n",
              "    </tr>\n",
              "    <tr>\n",
              "      <th>9</th>\n",
              "      <td>COKE-3272:4250</td>\n",
              "      <td>0.0</td>\n",
              "      <td>0.0</td>\n",
              "      <td>1.99</td>\n",
              "    </tr>\n",
              "    <tr>\n",
              "      <th>10</th>\n",
              "      <td>PG-3272:4250</td>\n",
              "      <td>0.0</td>\n",
              "      <td>0.0</td>\n",
              "      <td>2.00</td>\n",
              "    </tr>\n",
              "  </tbody>\n",
              "</table>\n",
              "</div>"
            ],
            "text/plain": [
              "            dataset  profit_1  profit_2  random\n",
              "0    AAPL-3272:4250       0.0       0.0    2.02\n",
              "1    AMZN-3272:4250       0.0       0.0    2.04\n",
              "2   GOOGL-3272:4250       0.0       0.0    1.98\n",
              "3    MSFT-3272:4250       0.0       0.0    1.99\n",
              "4    FORD-3272:4250       0.0       0.0    1.97\n",
              "5     JNJ-3272:4250       0.0     976.0    2.04\n",
              "6     NEE-3272:4250       0.0       0.0    1.99\n",
              "7     PFE-3272:4250       0.0     976.0    2.00\n",
              "8    TSLA-2394:3372       0.0       0.0    1.99\n",
              "9    COKE-3272:4250       0.0       0.0    1.99\n",
              "10     PG-3272:4250       0.0       0.0    2.00"
            ]
          },
          "metadata": {},
          "output_type": "display_data"
        },
        {
          "data": {
            "text/plain": [
              "array([[3, 3, 3, 3, 3, 3, 3, 3, 3, 3, 3],\n",
              "       [3, 3, 3, 3, 3, 1, 3, 1, 3, 3, 3],\n",
              "       [1, 1, 1, 1, 1, 2, 1, 2, 1, 1, 1]])"
            ]
          },
          "metadata": {},
          "output_type": "display_data"
        },
        {
          "data": {
            "text/plain": [
              "'n models: 3, n_datasets 11, ImanDavenport Stat: 20.555555555555603, Critical Value: 3.492828476735632, pvalue: 0.0006112527611295687, Reject Null Hypoth: True'"
            ]
          },
          "metadata": {},
          "output_type": "display_data"
        },
        {
          "data": {
            "text/html": [
              "<div>\n",
              "<style scoped>\n",
              "    .dataframe tbody tr th:only-of-type {\n",
              "        vertical-align: middle;\n",
              "    }\n",
              "\n",
              "    .dataframe tbody tr th {\n",
              "        vertical-align: top;\n",
              "    }\n",
              "\n",
              "    .dataframe thead th {\n",
              "        text-align: right;\n",
              "    }\n",
              "</style>\n",
              "<table border=\"1\" class=\"dataframe\">\n",
              "  <thead>\n",
              "    <tr style=\"text-align: right;\">\n",
              "      <th></th>\n",
              "      <th>agent1</th>\n",
              "      <th>agent2</th>\n",
              "      <th>nemenyi_stat</th>\n",
              "      <th>nemenyi_threshold</th>\n",
              "      <th>reject_null_hypo</th>\n",
              "    </tr>\n",
              "  </thead>\n",
              "  <tbody>\n",
              "    <tr>\n",
              "      <th>0</th>\n",
              "      <td>profit_1</td>\n",
              "      <td>profit_2</td>\n",
              "      <td>0.363636</td>\n",
              "      <td>0.999059</td>\n",
              "      <td>False</td>\n",
              "    </tr>\n",
              "    <tr>\n",
              "      <th>1</th>\n",
              "      <td>profit_1</td>\n",
              "      <td>random</td>\n",
              "      <td>1.818182</td>\n",
              "      <td>0.999059</td>\n",
              "      <td>True</td>\n",
              "    </tr>\n",
              "    <tr>\n",
              "      <th>2</th>\n",
              "      <td>profit_2</td>\n",
              "      <td>random</td>\n",
              "      <td>1.454545</td>\n",
              "      <td>0.999059</td>\n",
              "      <td>True</td>\n",
              "    </tr>\n",
              "  </tbody>\n",
              "</table>\n",
              "</div>"
            ],
            "text/plain": [
              "     agent1    agent2  nemenyi_stat  nemenyi_threshold  reject_null_hypo\n",
              "0  profit_1  profit_2      0.363636           0.999059             False\n",
              "1  profit_1    random      1.818182           0.999059              True\n",
              "2  profit_2    random      1.454545           0.999059              True"
            ]
          },
          "metadata": {},
          "output_type": "display_data"
        }
      ],
      "source": [
        "if test_agent:\n",
        "    for metric in metrics:\n",
        "        display(metric)\n",
        "        display(summarized_aggerate_results[metric])\n",
        "        test = prob_evaluate.generate_rank_array_from_dataframe(summarized_aggerate_results[metric],\n",
        "                                                                model_list,equal_rank_behav=\"mean\",\n",
        "                                                                rank_order=aval_metrics_rank_dic[metric])\n",
        "        display(test)\n",
        "        stat, critical_f_value, reject_null_hypo, k, n, pvalue = prob_evaluate.iman_davenport_test(test,0.95,arr_order='rows')\n",
        "        display(f'n models: {k}, n_datasets {n}, ImanDavenport Stat: {stat}, Critical Value: {critical_f_value}, pvalue: {pvalue}, Reject Null Hypoth: {reject_null_hypo}')\n",
        "\n",
        "        # Create a dictionary with the output values\n",
        "        result_dict = {\n",
        "                    'n_models': [k],\n",
        "                    'n_datasets': [n],\n",
        "                    'Iman_Davenport_Stat': [stat],\n",
        "                    'Critical_Value': [critical_f_value],\n",
        "                    'pvalue': [pvalue],\n",
        "                    'Reject_Null_Hypothesis': [reject_null_hypo]}\n",
        "\n",
        "        result_df = pd.DataFrame(result_dict)\n",
        "        result_df.to_csv(f'{save_path_root}/{metric}_iman_davenport_test.csv')\n",
        "\n",
        "        # Nemenyi Test\n",
        "        results_raw = prob_evaluate.nemenyi_test(test,0.95,model_list)\n",
        "        # Formating Output\n",
        "        df_export = pd.DataFrame(results_raw, columns=['agent1_agent2', 'nemenyi_stat', 'nemenyi_threshold', 'reject_null_hypo'])\n",
        "        df_export[['agent1', 'agent2']] = pd.DataFrame(df_export['agent1_agent2'].tolist(), index=df_export.index)\n",
        "        df_export = df_export.drop(columns=['agent1_agent2'])\n",
        "        new_column_order = ['agent1', 'agent2', 'nemenyi_stat', 'nemenyi_threshold', 'reject_null_hypo']\n",
        "        df_export = df_export[new_column_order]\n",
        "        df_export.to_csv(f'{save_path_root}/{metric}_nemenyi_test.csv')\n",
        "\n",
        "        display(df_export)"
      ]
    },
    {
      "cell_type": "markdown",
      "metadata": {
        "id": "yAx4C23NWsie"
      },
      "source": [
        "#Move records to Google Drive for VM"
      ]
    },
    {
      "cell_type": "code",
      "execution_count": 27,
      "metadata": {
        "id": "6AVXuuyVUJtT"
      },
      "outputs": [],
      "source": [
        "if IN_COLAB:\n",
        "  import shutil\n",
        "  from google.colab import drive\n",
        "\n",
        "  # Connect Google Drive to download records for autoclosing of VM\n",
        "  drive.mount('/content/drive')\n",
        "\n",
        "  # Define your directory path and case name\n",
        "  directory_path = save_path_root\n",
        "  zip_file_name = case_name.replace(\"/\", \"\")\n",
        "  output_filename = f'{zip_file_name}.zip'\n",
        "\n",
        "  # Create a zip file of the directory\n",
        "  shutil.make_archive(zip_file_name, 'zip', directory_path)\n",
        "\n",
        "  # Move the zip file to Google Drive\n",
        "  shutil.move(f'{zip_file_name}.zip', f'/content/drive/My Drive/{output_filename}')"
      ]
    },
    {
      "cell_type": "markdown",
      "metadata": {
        "id": "j2THhlh2QFnv"
      },
      "source": []
    }
  ],
  "metadata": {
    "accelerator": "GPU",
    "colab": {
      "collapsed_sections": [
        "90L1szCuQFnU"
      ],
      "gpuType": "T4",
      "provenance": []
    },
    "kernelspec": {
      "display_name": "Python 3",
      "name": "python3"
    },
    "language_info": {
      "codemirror_mode": {
        "name": "ipython",
        "version": 3
      },
      "file_extension": ".py",
      "mimetype": "text/x-python",
      "name": "python",
      "nbconvert_exporter": "python",
      "pygments_lexer": "ipython3",
      "version": "3.11.5"
    }
  },
  "nbformat": 4,
  "nbformat_minor": 0
}
