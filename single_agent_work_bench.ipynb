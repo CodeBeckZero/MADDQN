{
  "cells": [
    {
      "cell_type": "markdown",
      "metadata": {
        "id": "atpmeCKJQFm_"
      },
      "source": [
        "# Environment Setup"
      ]
    },
    {
      "cell_type": "markdown",
      "metadata": {
        "id": "oAeE9oqlQFnD"
      },
      "source": [
        "## Google Colab Installation"
      ]
    },
    {
      "cell_type": "markdown",
      "metadata": {
        "id": "C68ncf6KQFnE"
      },
      "source": [
        "### Install Python Environment"
      ]
    },
    {
      "cell_type": "code",
      "execution_count": 17,
      "metadata": {
        "colab": {
          "base_uri": "https://localhost:8080/"
        },
        "id": "H-8QZlwoQFnE",
        "outputId": "c93ef470-6de0-43da-f16a-7b75e1717e41"
      },
      "outputs": [
        {
          "name": "stdout",
          "output_type": "stream",
          "text": [
            "Running in another environment (e.g., VS Code)\n"
          ]
        }
      ],
      "source": [
        "try:\n",
        "    import google.colab\n",
        "    IN_COLAB = True\n",
        "except ImportError:\n",
        "    IN_COLAB = False\n",
        "\n",
        "if IN_COLAB:\n",
        "    # Code specific to Google Colab\n",
        "    print(\"Running in Google Colab\")\n",
        "\n",
        "    # Additional setup commands for Colab\n",
        "    !pip install neuralforecast\n",
        "    !pip install gymnasium\n",
        "    !pip install QuantStats\n",
        "    !pip install -U kaleido\n",
        "else:\n",
        "    # Code for other environments (e.g., VS Code)\n",
        "    print(\"Running in another environment (e.g., VS Code)\")"
      ]
    },
    {
      "cell_type": "markdown",
      "metadata": {
        "id": "1s8-HY3ZQFnG"
      },
      "source": [
        "### Install RL Libraries"
      ]
    },
    {
      "cell_type": "code",
      "execution_count": 18,
      "metadata": {
        "colab": {
          "base_uri": "https://localhost:8080/"
        },
        "id": "ZT3SpOINQFnH",
        "outputId": "ff9fd1b4-d9dc-471a-a5cb-0119575dec34"
      },
      "outputs": [],
      "source": [
        "if IN_COLAB:\n",
        "    # Retrive required files\n",
        "    !wget --recursive --no-parent --cut-dirs=4 -P /content https://raw.githubusercontent.com//CodeBeckZero/MADDQN/main/environments/stockenv.py\n",
        "    !wget --recursive --no-parent --cut-dirs=4 -P /content https://raw.githubusercontent.com//CodeBeckZero/MADDQN/main/utilities/cleandata.py\n",
        "    !wget --recursive --no-parent --cut-dirs=4 -P /content https://raw.githubusercontent.com//CodeBeckZero/MADDQN/main/utilities/data.py\n",
        "    !wget --recursive --no-parent --cut-dirs=4 -P /content https://raw.githubusercontent.com//CodeBeckZero/MADDQN/main/utilities/epsilon_decay.py\n",
        "    !wget --recursive --no-parent --cut-dirs=4 -P /content https://raw.githubusercontent.com//CodeBeckZero/MADDQN/main/utilities/agentperform.py\n",
        "    !wget --recursive --no-parent --cut-dirs=4 -P /content https://raw.githubusercontent.com//CodeBeckZero/MADDQN/main/utilities/prob_evaluate.py\n",
        "    !wget --recursive --no-parent --cut-dirs=4 -P /content https://raw.githubusercontent.com//CodeBeckZero/MADDQN/main/agents/ddqn.py\n",
        "    !wget --recursive --no-parent --cut-dirs=4 -P /content https://raw.githubusercontent.com//CodeBeckZero/MADDQN/main/agents/random.py\n",
        "    !wget --recursive --no-parent --cut-dirs=4 -P /content https://raw.githubusercontent.com//CodeBeckZero/MADDQN/main/agents/baseagent.py\n",
        "    !wget --recursive --no-parent --cut-dirs=4 -P /content https://raw.githubusercontent.com//CodeBeckZero/MADDQN/main/rewards/stockmarket.py\n",
        "    # Move all directories and files from content/raw.githubusercontent.com to content/\n",
        "    !mv /content/raw.githubusercontent.com/* /content/\n",
        "\n",
        "    # Delete the raw.githubusercontent.com directory\n",
        "    !rm -rf /content/raw.githubusercontent.com"
      ]
    },
    {
      "cell_type": "markdown",
      "metadata": {
        "id": "hrbfXX7DQFnI"
      },
      "source": [
        "# Activate Python Libraries & Random Seed"
      ]
    },
    {
      "cell_type": "code",
      "execution_count": 19,
      "metadata": {
        "colab": {
          "base_uri": "https://localhost:8080/"
        },
        "id": "MKyWuV4wQFnI",
        "outputId": "324836b6-7087-48a0-d20a-823894e3aaa1"
      },
      "outputs": [
        {
          "name": "stdout",
          "output_type": "stream",
          "text": [
            "CUDA (GPU support) is not available. PyTorch is running on CPU.\n"
          ]
        }
      ],
      "source": [
        "import os\n",
        "import sys\n",
        "import json\n",
        "import torch\n",
        "import optuna\n",
        "import random\n",
        "import numpy as np\n",
        "import pandas as pd\n",
        "import torch.nn as nn\n",
        "import utilities.agentperform as agentperform\n",
        "import utilities.cleandata as cln\n",
        "from optuna.visualization import plot_parallel_coordinate\n",
        "from utilities.epsilon_decay import linear_decay\n",
        "from utilities.data import UniStockEnvDataStruct, TimesNetProcessing, ModifyDDQNAgentState\n",
        "from utilities import prob_evaluate\n",
        "from agents.ddqn import DdqnAgent\n",
        "from agents.random import RandomAgent\n",
        "from rewards.stockmarket import future_profit, risk_reward, zero_reward\n",
        "from environments.stockenv import ContinuousOHLCVEnv\n",
        "from datetime import datetime\n",
        "from neuralforecast.core import NeuralForecast\n",
        "from neuralforecast.models import TimesNet\n",
        "from neuralforecast.losses.numpy import mae, mse\n",
        "import logging\n",
        "from sklearn import preprocessing\n",
        "import matplotlib.pyplot as plt\n",
        "\n",
        "#\n",
        "logging.getLogger(\"pytorch_lightning.utilities.rank_zero\").addHandler(logging.NullHandler())\n",
        "logging.getLogger(\"pytorch_lightning.accelerators.cuda\").addHandler(logging.NullHandler())\n",
        "os.environ['NIXTLA_ID_AS_COL'] = '1' # Prevent Warning\n",
        "\n",
        "def set_seed(seed):\n",
        "    \"\"\"Set seed for reproducibility.\"\"\"\n",
        "    # Python random module\n",
        "    random.seed(seed)\n",
        "\n",
        "    # NumPy\n",
        "    np.random.seed(seed)\n",
        "\n",
        "    # PyTorch\n",
        "    torch.manual_seed(seed)\n",
        "\n",
        "    # If you are using CUDA\n",
        "    if torch.cuda.is_available():\n",
        "        torch.cuda.manual_seed(seed)\n",
        "        torch.cuda.manual_seed_all(seed)  # if you are using multi-GPU.\n",
        "        # Additional settings to force determinism in your operations:\n",
        "        torch.backends.cudnn.deterministic = True\n",
        "        torch.backends.cudnn.benchmark = False\n",
        "\n",
        "\n",
        "\n",
        "# Check if CUDA (GPU support) is available\n",
        "if torch.cuda.is_available():\n",
        "    # Get the current device\n",
        "    device = torch.device(\"cuda:0\")\n",
        "    print(f\"GPU Name: {torch.cuda.get_device_name(device)}\")\n",
        "else:\n",
        "    device = 'cpu'\n",
        "    print(\"CUDA (GPU support) is not available. PyTorch is running on CPU.\")\n",
        "\n",
        "\n",
        "def decimal_to_text(decimal_number):\n",
        "    # Remove the decimal point and convert to integer\n",
        "    integer_part = int(decimal_number * 1000)\n",
        "    # Convert the integer to text\n",
        "    text_representation = str(integer_part)\n",
        "    return text_representation"
      ]
    },
    {
      "cell_type": "markdown",
      "metadata": {
        "id": "xSGPXNdIQFnK"
      },
      "source": [
        "# RL Environment Setup"
      ]
    },
    {
      "cell_type": "markdown",
      "metadata": {
        "id": "zqgSqhMDQFnK"
      },
      "source": [
        "## Parameters & CSV Locations"
      ]
    },
    {
      "cell_type": "code",
      "execution_count": 20,
      "metadata": {
        "id": "_iIDvcGSQFnK"
      },
      "outputs": [],
      "source": [
        "RANDOM_SEED = 42\n",
        "set_seed(RANDOM_SEED)\n",
        "\n",
        "\n",
        "\n",
        "if not IN_COLAB:\n",
        "    pwd = \"C:/programming/MADDQN\"\n",
        "    sys.path.append(pwd)\n",
        "\n",
        "    # Output Path Location for CSV export\n",
        "    export_path = pwd + \"/output_data/test/\"\n",
        "else:\n",
        "    pwd = '/content'\n",
        "    export_path = pwd + \"/output_data/test/\"\n",
        "\n",
        "# Input Data Location, File Name, Stock name for labels\n",
        "input_url = 'https://raw.githubusercontent.com/CodeBeckZero/MADDQN/main/input_data'\n",
        "\n",
        "stock_inputs ={'DJI':'^DJI_daily.csv',\n",
        "               'NDAQ': '^IXIC_daily.csv',\n",
        "               'SP500': '^SPX_daily.csv',\n",
        "               'AAPL': 'AAPL_daily.csv',\n",
        "               'AMZN': 'AMZN_daily.csv',\n",
        "               'GOOGL': 'GOOGL_daily.csv',\n",
        "               'MSFT': 'MSFT_daily.csv',\n",
        "               'SINE': 'sine_wave_daily.csv',\n",
        "               'FORD': 'F_daily.csv',\n",
        "               'JNJ': 'JNJ_daily.csv',\n",
        "               'NEE': 'NEE_daily.csv',\n",
        "               'PFE': 'PFE_daily.csv',\n",
        "               'TSLA': 'TSLA_daily.csv',\n",
        "               'COKE': 'COKE_daily.csv',\n",
        "               'PG': 'PG_daily.csv'}\n",
        "\n",
        "# Training Inputs\n",
        "trn_keys = ['DJI','NDAQ','SP500']\n",
        "training_range = ('2007-01-01','2019-12-31')\n",
        "trn_dt_range = [datetime.strptime(dt_str, \"%Y-%m-%d\") for dt_str in training_range]\n",
        "\n",
        "# Validation Inputs\n",
        "validate = False\n",
        "val_keys = trn_keys\n",
        "validation_range = ('2020-01-01', '2021-12-31')\n",
        "val_dt_range = [datetime.strptime(dt_str, \"%Y-%m-%d\") for dt_str in validation_range]\n",
        "\n",
        "# Testing Inputs\n",
        "tst_keys = ['AAPL','AMZN','GOOGL','MSFT','FORD','JNJ','NEE','PFE','TSLA','COKE','PG']\n",
        "testing_range = ('2020-01-01', '2023-12-31')\n",
        "tst_dt_range = [datetime.strptime(dt_str, \"%Y-%m-%d\") for dt_str in testing_range]\n",
        "\n",
        "# Environmental Inputs\n",
        "window_size = 28 # Needs to match the size Timesnet is trained on\n",
        "price_based_on = 'close'\n",
        "columns = ['open','high','low','close','volume']\n",
        "\n",
        "\n",
        "# Metrics Interested in\n",
        "metrics = ['n_trades','n_wins', 'win_percentage','cumulative_return','sortino','max_drawdown','sharpe', 'trade_dur_avg']\n",
        "\n",
        "# Ranking type for Metrics\n",
        "aval_metrics_rank_dic = {'n_trades':'max','n_wins': 'max' ,'n_losses':'max','win_percentage':'max','cumulative_return':'max',\n",
        "                 'sortino':'max','max_drawdown':'min', 'sharpe':'max', 'trade_dur_avg':'max', 'trade_dur_min':'max',\n",
        "                 'trade_dur_max':'max','buy_hold':'max'}\n",
        "## See agentperform.py -> results dictionary for options\n",
        "\n",
        "# Modifying enviornment state before the\n",
        "scaling_params = {'columns': columns, 'scaling_type': 'col', 'scaler_func':preprocessing.StandardScaler()}\n",
        "scaling_range = ('2007-01-01','2020-12-31')\n",
        "scale_dt_range = [datetime.strptime(dt_str, \"%Y-%m-%d\") for dt_str in scaling_range]\n",
        "\n",
        "# Add Noise\n",
        "noise_mod_params = {'add_noise': True, 'add_noise_to_cols': columns, 'noise_mean': 0, 'noise_std': 0.1}\n",
        "\n",
        "env_mod_params = scaling_params | noise_mod_params"
      ]
    },
    {
      "cell_type": "markdown",
      "metadata": {
        "id": "6KjIdWWtQFnL"
      },
      "source": [
        "## RL Enviornment Generation"
      ]
    },
    {
      "cell_type": "code",
      "execution_count": 21,
      "metadata": {
        "id": "qDmzkFh8QFnM"
      },
      "outputs": [],
      "source": [
        "env_data = {}\n",
        "env = {}\n",
        "\n",
        "\n",
        "for stock, file in stock_inputs.items():\n",
        "    if stock in set(trn_keys + val_keys + tst_keys):\n",
        "        # Import\n",
        "        df = cln.YAHOO_csv_input(file, input_url)\n",
        "        data_dic = UniStockEnvDataStruct(df,columns,price_based_on,window_size)\n",
        "        env_data[stock] = data_dic\n",
        "        env[stock] = ContinuousOHLCVEnv(name=stock,\n",
        "                                        ohlcv_data = env_data[stock]['rw_raw_env'] ,\n",
        "                                        stock_price_data= env_data[stock]['rw_raw_price_env'],\n",
        "                                        commission_rate=0.005)"
      ]
    },
    {
      "cell_type": "markdown",
      "metadata": {
        "id": "9nOEPsX6QFnM"
      },
      "source": [
        "## Generating Indices"
      ]
    },
    {
      "cell_type": "code",
      "execution_count": 22,
      "metadata": {
        "id": "v654qbK7QFnM"
      },
      "outputs": [],
      "source": [
        "trn_idx = {}\n",
        "val_idx = {}\n",
        "tst_idx = {}\n",
        "scale_idx = {}\n",
        "\n",
        "for stock, file in stock_inputs.items():\n",
        "    if stock in set(trn_keys + val_keys + tst_keys):\n",
        "        if stock in trn_keys:\n",
        "            trn_idx[stock] = env_data[stock].gen_rw_idxs(trn_dt_range)\n",
        "        if stock in val_keys:\n",
        "            val_idx[stock] = env_data[stock].gen_rw_idxs(val_dt_range)\n",
        "        if stock in tst_keys:\n",
        "            tst_idx[stock] = env_data[stock].gen_rw_idxs(tst_dt_range)\n",
        "\n",
        "        scale_idx[stock] = env_data[stock].gen_idxs(scale_dt_range)"
      ]
    },
    {
      "cell_type": "markdown",
      "metadata": {
        "id": "j2RR5eb9QFnN"
      },
      "source": [
        "# Workbench Setup"
      ]
    },
    {
      "cell_type": "markdown",
      "metadata": {
        "id": "uAmGyMmuQFnN"
      },
      "source": [
        "## Parameters"
      ]
    },
    {
      "cell_type": "code",
      "execution_count": 23,
      "metadata": {
        "id": "yibhlUW2QFnN"
      },
      "outputs": [],
      "source": [
        "## Create Directory\n",
        "case_name = '/test_unit_run2'\n",
        "save_path_root = pwd + case_name\n",
        "os.makedirs(save_path_root, exist_ok=False)\n",
        "\n",
        "# Timesnet\n",
        "## Number of price predictions in the Future by TimesNet (Required for RL agent's input layer)\n",
        "n_prediction = 5\n",
        "## Need to Train TimesNet Preprocessing model (processed every cycle)\n",
        "train_tn_model = False\n",
        "## Importing TimesNet Preprocessing model (processed every cycle)\n",
        "import_tn_model = False\n",
        "tn_model_path = pwd + '/gen_data/timesnet/'\n",
        "## Use Imported CSVs from Preprocessing model (no processing, straight to RL agent)\n",
        "import_tn_csvs = True\n",
        "tn_csvs_path = pwd + '/gen_data/csvs/'\n",
        "## No modifaction of environmental state before input to agent\n",
        "no_tn_preprocessing = False\n",
        "\n",
        "# Limited Exploratory Hyperparmater Discover for single RL Agent\n",
        "hyperparam_discovery = True\n",
        "use_best_params = True\n",
        "\n",
        "# Traditional Training/Testing\n",
        "## Train Agent(s)\n",
        "train_agent = True\n",
        "# Test Agent(s)\n",
        "test_agent = True\n",
        "\n"
      ]
    },
    {
      "cell_type": "code",
      "execution_count": 24,
      "metadata": {
        "id": "SViA7zL9QFnN"
      },
      "outputs": [],
      "source": [
        "if  not(train_tn_model ^ import_tn_model ^ import_tn_csvs ^ no_tn_preprocessing):\n",
        "    raise ValueError(\"Only one preprocessing options can and must be selected\")\n"
      ]
    },
    {
      "cell_type": "markdown",
      "metadata": {
        "id": "TU5O6X0oQFnO"
      },
      "source": [
        "## Metric Function\n",
        "\n",
        "Function that generates metric from enviornment that will be used during validation phase of training or testing phase of model\n"
      ]
    },
    {
      "cell_type": "code",
      "execution_count": 25,
      "metadata": {
        "id": "GzYRJ4-dQFnO"
      },
      "outputs": [],
      "source": [
        "def metric_function(env):\n",
        "    metric = env.step_info[-1]['New Portfolio Value'] -  env.step_info[-1]['Portfolio Value']\n",
        "    return metric"
      ]
    },
    {
      "cell_type": "markdown",
      "metadata": {
        "id": "g1_EYhgoQFnP"
      },
      "source": [
        "# TimesNet Preprocessing"
      ]
    },
    {
      "cell_type": "markdown",
      "metadata": {
        "id": "E7OpXBjUQFnP"
      },
      "source": [
        "## Training"
      ]
    },
    {
      "cell_type": "markdown",
      "metadata": {
        "id": "ckS9XQTxQFnP"
      },
      "source": [
        "### Parameters"
      ]
    },
    {
      "cell_type": "code",
      "execution_count": 26,
      "metadata": {
        "id": "nMjZ8cZJQFnQ"
      },
      "outputs": [],
      "source": [
        "if train_tn_model:\n",
        "\n",
        "    model = TimesNet(h = n_prediction,          # Forecast horizon\n",
        "                    input_size = window_size,   # Length of Batches\n",
        "                    batch_size = 1,             # Number of timeseries to predict\n",
        "                    #futr_exog_list = remaining_columns,\n",
        "                    hidden_size = 128,          # Size of embedding for embedding and encoders,\n",
        "                    dropout = 0.40,             # Dropout for embeddings\n",
        "                    conv_hidden_size = 3,       # Channels for the inception block\n",
        "                    top_k = 5,                  # Top num of periods from FFT considered\n",
        "                    num_kernels = 13,           # number of kernels for the inception block\n",
        "                    encoder_layers = 3,         # num of encoders\n",
        "                    max_steps = 1000,           # of training steps\n",
        "                    early_stop_patience_steps = 10, #early stoppage on validation\n",
        "                    val_check_steps = 100,      # Val check every X steps,\n",
        "                    windows_batch_size = 150,   # Number of windows in training epoch,\n",
        "                    num_workers_loader = 7,\n",
        "                    learning_rate = 0.0003,\n",
        "                    random_seed = RANDOM_SEED)"
      ]
    },
    {
      "cell_type": "markdown",
      "metadata": {
        "id": "bKX00xoOQFnQ"
      },
      "source": [
        "### Code Execution"
      ]
    },
    {
      "cell_type": "code",
      "execution_count": 27,
      "metadata": {
        "id": "RRjzLmp2QFnR"
      },
      "outputs": [],
      "source": [
        "if train_tn_model:\n",
        "  nf = NeuralForecast(models=[model], freq='d')\n",
        "  results = {}\n",
        "  for key in trn_keys:\n",
        "    results[key] = nf.fit(df=env[key],val_size=0.2)\n",
        "\n",
        "  nf.save(path= tn_model_path,\n",
        "          model_index=None,\n",
        "          overwrite=True,\n",
        "          save_dataset=True)"
      ]
    },
    {
      "cell_type": "markdown",
      "metadata": {
        "id": "2JHWsNYIQFnR"
      },
      "source": [
        "## Load Model"
      ]
    },
    {
      "cell_type": "code",
      "execution_count": 28,
      "metadata": {
        "id": "YCtZ140VQFnS"
      },
      "outputs": [],
      "source": [
        "if import_tn_model:\n",
        "# Define the correct path\n",
        "  if IN_COLAB:\n",
        "\n",
        "    model_path = os.path.join(os.getcwd(), 'gen_data', 'timesnet')\n",
        "\n",
        "    # Ensure the directory and file exist\n",
        "    if os.path.exists(model_path):\n",
        "        nf = NeuralForecast.load(path=model_path)\n",
        "    else:\n",
        "        raise FileNotFoundError(f\"Model path {model_path} does not exist.\")"
      ]
    },
    {
      "cell_type": "markdown",
      "metadata": {
        "id": "cI00cUAeQFnS"
      },
      "source": [
        "## CSV Upload"
      ]
    },
    {
      "cell_type": "code",
      "execution_count": 29,
      "metadata": {
        "id": "iVuHiiPNQFnS"
      },
      "outputs": [],
      "source": [
        "if import_tn_csvs:\n",
        "    env_mod_func_dic = {}\n",
        "    if IN_COLAB:\n",
        "        # Input Data Location, File Name, Stock name for labels\n",
        "        csv_path = 'https://raw.githubusercontent.com/CodeBeckZero/MADDQN/main/gen_data/csvs/'\n",
        "\n",
        "    else:\n",
        "        csv_path  = tn_csvs_path\n",
        "\n",
        "    stock_tn ={'DJI':'DJI_tn.csv',\n",
        "                'NDAQ': 'NDAQ_tn.csv',\n",
        "                'SP500': 'SP500_tn.csv',\n",
        "                'AAPL': 'AAPL_tn.csv',\n",
        "                'AMZN': 'AMZN_tn.csv',\n",
        "                'GOOGL': 'GOOGL_tn.csv',\n",
        "                'MSFT': 'MSFT_tn.csv',\n",
        "                'FORD': 'FORD_tn.csv',\n",
        "                'JNJ': 'JNJ_tn.csv',\n",
        "                'NEE': 'NEE_tn.csv',\n",
        "                'PFE': 'PFE_tn.csv',\n",
        "                'TSLA': 'TSLA_tn.csv',\n",
        "                'COKE': 'COKE_tn.csv',\n",
        "                'PG': 'PG_tn.csv'}\n",
        "\n",
        "    for stock in set(trn_keys + val_keys + tst_keys):\n",
        "        import_csv_path = f'{csv_path}/{stock_tn[stock]}'\n",
        "        temp_env_mod_fuc = ModifyDDQNAgentState(uni_data=env_data[stock],\n",
        "                                                csv_import=import_tn_csvs,\n",
        "                                                csv_path=import_csv_path,\n",
        "                                                start_scale_idx=scale_idx[stock][0],\n",
        "                                                finish_scale_idx=scale_idx[stock][1],\n",
        "                                                **env_mod_params)\n",
        "        env_mod_func_dic[stock] = temp_env_mod_fuc\n",
        "\n"
      ]
    },
    {
      "cell_type": "markdown",
      "metadata": {
        "id": "wuCCAyfQQFnT"
      },
      "source": [
        "## Direct\n",
        "Current direct default is to take the rolling windows last entry and convert it to a list prior to input to agent. Agent's experience memory is currently list-based"
      ]
    },
    {
      "cell_type": "code",
      "execution_count": 30,
      "metadata": {
        "id": "13TlC9uQQFnT"
      },
      "outputs": [],
      "source": [
        "if no_tn_preprocessing:\n",
        "    env_mod_func_dic = {}\n",
        "    for stock in set(trn_keys + val_keys + tst_keys):\n",
        "        temp_env_mod_fuc = ModifyDDQNAgentState(uni_data=env_data[stock],\n",
        "                                                columns=columns,\n",
        "                                                csv_import= None,\n",
        "                                                csv_path= None,\n",
        "                                                scaling_type= None,\n",
        "                                                scaler_func=None,\n",
        "                                                device=device)\n",
        "        env_mod_func_dic[stock] = temp_env_mod_fuc"
      ]
    },
    {
      "cell_type": "markdown",
      "metadata": {
        "id": "90L1szCuQFnU"
      },
      "source": [
        "# Exploratory Hyperparameterization"
      ]
    },
    {
      "cell_type": "markdown",
      "metadata": {
        "id": "-WVVfJu8QFnU"
      },
      "source": [
        "## Interval Setup"
      ]
    },
    {
      "cell_type": "code",
      "execution_count": 31,
      "metadata": {
        "id": "TF9AGtlpQFnV"
      },
      "outputs": [
        {
          "data": {
            "text/plain": [
              "{'DJI': (0, 3497), 'NDAQ': (0, 3497), 'SP500': (0, 3497)}"
            ]
          },
          "metadata": {},
          "output_type": "display_data"
        },
        {
          "data": {
            "text/plain": [
              "{'DJI': (3525, 3749), 'NDAQ': (3525, 3749), 'SP500': (3525, 3749)}"
            ]
          },
          "metadata": {},
          "output_type": "display_data"
        },
        {
          "data": {
            "text/plain": [
              "{'AAPL': (3525, 4250),\n",
              " 'AMZN': (3525, 4250),\n",
              " 'GOOGL': (3525, 4250),\n",
              " 'MSFT': (3525, 4250),\n",
              " 'FORD': (3525, 4250),\n",
              " 'JNJ': (3525, 4250),\n",
              " 'NEE': (3525, 4250),\n",
              " 'PFE': (3525, 4250),\n",
              " 'TSLA': (2647, 3372),\n",
              " 'COKE': (3525, 4250),\n",
              " 'PG': (3525, 4250)}"
            ]
          },
          "metadata": {},
          "output_type": "display_data"
        }
      ],
      "source": [
        "if hyperparam_discovery:\n",
        "    # Training Inputs\n",
        "    hyp_training_range = ('2007-01-01','2020-12-31')\n",
        "    hyp_trn_dt_range = [datetime.strptime(dt_str, \"%Y-%m-%d\") for dt_str in hyp_training_range]\n",
        "\n",
        "    # Validation Inputs\n",
        "    hyp_validate = False\n",
        "    hyp_validation_range = ('2021-01-01', '2021-12-31')\n",
        "    hyp_val_dt_range = [datetime.strptime(dt_str, \"%Y-%m-%d\") for dt_str in hyp_validation_range]\n",
        "\n",
        "    # Testing Inputs\n",
        "    hyp_testing_range = ('2021-01-01', '2023-12-31')\n",
        "    hyp_tst_dt_range = [datetime.strptime(dt_str, \"%Y-%m-%d\") for dt_str in hyp_testing_range]\n",
        "\n",
        "  # Modifying enviornment state before the\n",
        "    hyp_scaling_params = {'columns': columns, 'scaling_type': 'col', 'scaler_func':preprocessing.StandardScaler()}\n",
        "    hyp_scaling_range = ('2007-01-01','2020-12-31')\n",
        "    hyp_scale_dt_range = [datetime.strptime(dt_str, \"%Y-%m-%d\") for dt_str in scaling_range]\n",
        "    \n",
        "    # Add Noise\n",
        "    hyp_noise_mod_params = {'add_noise': True, 'add_noise_to_cols': columns, 'noise_mean': 0, 'noise_std': 0.1}\n",
        "\n",
        "    hyp_env_mod_params = hyp_scaling_params | hyp_noise_mod_params\n",
        "    \n",
        "    \n",
        "    hyp_trn_idx = {}\n",
        "    hyp_val_idx = {}\n",
        "    hyp_tst_idx = {}\n",
        "    hyp_scale_idx = {}\n",
        "\n",
        "    for stock, file in stock_inputs.items():\n",
        "        if stock in set(trn_keys + val_keys + tst_keys):\n",
        "            if stock in trn_keys:\n",
        "                hyp_trn_idx[stock] = env_data[stock].gen_rw_idxs(hyp_trn_dt_range)\n",
        "            if stock in val_keys:\n",
        "                hyp_val_idx[stock] = env_data[stock].gen_rw_idxs(hyp_val_dt_range)\n",
        "            if stock in tst_keys:\n",
        "                hyp_tst_idx[stock] = env_data[stock].gen_rw_idxs(hyp_tst_dt_range)\n",
        "            \n",
        "            hyp_scale_idx[stock] = env_data[stock].gen_idxs(hyp_scale_dt_range)\n",
        "\n",
        "    display(hyp_trn_idx,hyp_val_idx,hyp_tst_idx)"
      ]
    },
    {
      "cell_type": "markdown",
      "metadata": {
        "id": "bPOgs_k5QFnV"
      },
      "source": [
        "## Parameter Search & Code Execution"
      ]
    },
    {
      "cell_type": "code",
      "execution_count": 32,
      "metadata": {
        "id": "_KBlSkuFQFnW"
      },
      "outputs": [
        {
          "name": "stderr",
          "output_type": "stream",
          "text": [
            "[I 2024-08-05 16:36:47,981] A new study created in memory with name: no-name-b5899ea9-0cdc-4636-a547-bada2b8f08ed\n"
          ]
        },
        {
          "name": "stdout",
          "output_type": "stream",
          "text": [
            "Max Mem Length: 3490\n",
            "Directory 'C:/programming/MADDQN/test_unit_run2/hyp_param_search/2FC256_ELU_BT180BF440_Q3_TGT131_LR0' created successfully.\n",
            "DJI ENV: Agent hyp_profit_agent added\n",
            "DJI ENV: Agent hyp_profit_agent assigned as decision agent\n",
            "\n",
            "hyp_profit_agent: Training Initialized on DJI[0:3497]\n",
            "hyp_profit_agent: EP 1 of 1 Finished -> ΔQ1 = 0.28, ΔQ2 = 0.31 | ∑R = -8.32, μR = -0.00 σR = 2.08                                                                                                                                                         \n",
            "hyp_profit_agent: Training finished on DJI[0:3497]\n",
            "\n",
            "hyp_profit_agent: Q-Network Exported to file \"C:/programming/MADDQN/test_unit_run2/hyp_param_search/2FC256_ELU_BT180BF440_Q3_TGT131_LR0/model_save\"\n",
            "DJI ENV: Agent hyp_profit_agent removed\n",
            "NDAQ ENV: Agent hyp_profit_agent added\n",
            "NDAQ ENV: Agent hyp_profit_agent assigned as decision agent\n",
            "\n",
            "hyp_profit_agent: Training Initialized on NDAQ[0:3497]\n",
            "hyp_profit_agent: EP 1 of 1 Finished -> ΔQ1 = 0.48, ΔQ2 = 0.51 | ∑R = 671.27, μR = 0.19 σR = 1.98                                                                                                                                                         \n",
            "hyp_profit_agent: Training finished on NDAQ[0:3497]\n",
            "\n",
            "hyp_profit_agent: Q-Network Exported to file \"C:/programming/MADDQN/test_unit_run2/hyp_param_search/2FC256_ELU_BT180BF440_Q3_TGT131_LR0/model_save\"\n",
            "NDAQ ENV: Agent hyp_profit_agent removed\n",
            "SP500 ENV: Agent hyp_profit_agent added\n",
            "SP500 ENV: Agent hyp_profit_agent assigned as decision agent\n",
            "\n",
            "hyp_profit_agent: Training Initialized on SP500[0:3497]\n",
            "hyp_profit_agent: EP 1 of 1 Finished -> ΔQ1 = 0.22, ΔQ2 = 0.21 | ∑R = -1976.14, μR = -0.57 σR = 2.62                                                                                                                                                      \n",
            "hyp_profit_agent: Training finished on SP500[0:3497]\n",
            "\n",
            "hyp_profit_agent: Q-Network Exported to file \"C:/programming/MADDQN/test_unit_run2/hyp_param_search/2FC256_ELU_BT180BF440_Q3_TGT131_LR0/model_save\"\n",
            "SP500 ENV: Agent hyp_profit_agent removed\n",
            "AAPL ENV: Agent hyp_profit_agent added\n",
            "AAPL ENV: Agent hyp_profit_agent assigned as decision agent\n",
            "\n",
            "hyp_profit_agent: Testing Initialized on AAPL[3525:4250]\n",
            "hyp_profit_agent - AAPL[3525:4250] - Testing Finished - EP - 1 of 1-> ∑R = -96116.92, μR = -132.58, σR = 506.01\n",
            "hyp_profit_agent: Testing Complete on AAPL[3525:4250]\n",
            "\n",
            "AAPL ENV: Agent hyp_profit_agent removed\n",
            "AMZN ENV: Agent hyp_profit_agent added\n",
            "AMZN ENV: Agent hyp_profit_agent assigned as decision agent\n",
            "\n",
            "hyp_profit_agent: Testing Initialized on AMZN[3525:4250]\n",
            "hyp_profit_agent - AMZN[3525:4250] - Testing Finished - EP - 1 of 1-> ∑R = -95784.38, μR = -132.12, σR = 515.65\n",
            "hyp_profit_agent: Testing Complete on AMZN[3525:4250]\n",
            "\n",
            "AMZN ENV: Agent hyp_profit_agent removed\n",
            "GOOGL ENV: Agent hyp_profit_agent added\n",
            "GOOGL ENV: Agent hyp_profit_agent assigned as decision agent\n",
            "\n",
            "hyp_profit_agent: Testing Initialized on GOOGL[3525:4250]\n",
            "hyp_profit_agent - GOOGL[3525:4250] - Testing Finished - EP - 1 of 1-> ∑R = -96545.52, μR = -133.17, σR = 490.23\n",
            "hyp_profit_agent: Testing Complete on GOOGL[3525:4250]\n",
            "\n",
            "GOOGL ENV: Agent hyp_profit_agent removed\n",
            "MSFT ENV: Agent hyp_profit_agent added\n",
            "MSFT ENV: Agent hyp_profit_agent assigned as decision agent\n",
            "\n",
            "hyp_profit_agent: Testing Initialized on MSFT[3525:4250]\n",
            "hyp_profit_agent - MSFT[3525:4250] - Testing Finished - EP - 1 of 1-> ∑R = -96594.43, μR = -133.23, σR = 421.08\n",
            "hyp_profit_agent: Testing Complete on MSFT[3525:4250]\n",
            "\n",
            "MSFT ENV: Agent hyp_profit_agent removed\n",
            "FORD ENV: Agent hyp_profit_agent added\n",
            "FORD ENV: Agent hyp_profit_agent assigned as decision agent\n",
            "\n",
            "hyp_profit_agent: Testing Initialized on FORD[3525:4250]\n",
            "hyp_profit_agent - FORD[3525:4250] - Testing Finished - EP - 1 of 1-> ∑R = -65703.89, μR = -90.63, σR = 576.34\n",
            "hyp_profit_agent: Testing Complete on FORD[3525:4250]\n",
            "\n",
            "FORD ENV: Agent hyp_profit_agent removed\n",
            "JNJ ENV: Agent hyp_profit_agent added\n",
            "JNJ ENV: Agent hyp_profit_agent assigned as decision agent\n",
            "\n",
            "hyp_profit_agent: Testing Initialized on JNJ[3525:4250]\n",
            "hyp_profit_agent - JNJ[3525:4250] - Testing Finished - EP - 1 of 1-> ∑R = -63057.37, μR = -86.98, σR = 307.83\n",
            "hyp_profit_agent: Testing Complete on JNJ[3525:4250]\n",
            "\n",
            "JNJ ENV: Agent hyp_profit_agent removed\n",
            "NEE ENV: Agent hyp_profit_agent added\n",
            "NEE ENV: Agent hyp_profit_agent assigned as decision agent\n",
            "\n",
            "hyp_profit_agent: Testing Initialized on NEE[3525:4250]\n",
            "hyp_profit_agent - NEE[3525:4250] - Testing Finished - EP - 1 of 1-> ∑R = -91899.86, μR = -126.76, σR = 375.22\n",
            "hyp_profit_agent: Testing Complete on NEE[3525:4250]\n",
            "\n",
            "NEE ENV: Agent hyp_profit_agent removed\n",
            "PFE ENV: Agent hyp_profit_agent added\n",
            "PFE ENV: Agent hyp_profit_agent assigned as decision agent\n",
            "\n",
            "hyp_profit_agent: Testing Initialized on PFE[3525:4250]\n",
            "hyp_profit_agent - PFE[3525:4250] - Testing Finished - EP - 1 of 1-> ∑R = -56527.26, μR = -77.97, σR = 372.08\n",
            "hyp_profit_agent: Testing Complete on PFE[3525:4250]\n",
            "\n",
            "PFE ENV: Agent hyp_profit_agent removed\n",
            "TSLA ENV: Agent hyp_profit_agent added\n",
            "TSLA ENV: Agent hyp_profit_agent assigned as decision agent\n",
            "\n",
            "hyp_profit_agent: Testing Initialized on TSLA[2647:3372]\n",
            "hyp_profit_agent - TSLA[2647:3372] - Testing Finished - EP - 1 of 1-> ∑R = -95347.33, μR = -131.51, σR = 1245.54\n",
            "hyp_profit_agent: Testing Complete on TSLA[2647:3372]\n",
            "\n",
            "TSLA ENV: Agent hyp_profit_agent removed\n",
            "COKE ENV: Agent hyp_profit_agent added\n",
            "COKE ENV: Agent hyp_profit_agent assigned as decision agent\n",
            "\n",
            "hyp_profit_agent: Testing Initialized on COKE[3525:4250]\n",
            "hyp_profit_agent - COKE[3525:4250] - Testing Finished - EP - 1 of 1-> ∑R = -92217.45, μR = -127.20, σR = 841.78\n",
            "hyp_profit_agent: Testing Complete on COKE[3525:4250]\n",
            "\n",
            "COKE ENV: Agent hyp_profit_agent removed\n",
            "PG ENV: Agent hyp_profit_agent added\n",
            "PG ENV: Agent hyp_profit_agent assigned as decision agent\n",
            "\n",
            "hyp_profit_agent: Testing Initialized on PG[3525:4250]\n",
            "hyp_profit_agent - PG[3525:4250] - Testing Finished - EP - 1 of 1-> ∑R = -56114.81, μR = -77.40, σR = 300.45\n",
            "hyp_profit_agent: Testing Complete on PG[3525:4250]\n",
            "\n",
            "PG ENV: Agent hyp_profit_agent removed\n"
          ]
        },
        {
          "name": "stderr",
          "output_type": "stream",
          "text": [
            "[I 2024-08-05 16:41:08,494] Trial 0 finished with value: -82355.38268181817 and parameters: {'hidden_size': 256, 'update_q_freq': 3, 'update_tgt_freq': 131, 'activation_function': 'ELU', 'opt_lre': 0.0001, 'gamma': 0.96, 'buffer_size': 440, 'batch_size': 180}. Best is trial 0 with value: -82355.38268181817.\n"
          ]
        },
        {
          "name": "stdout",
          "output_type": "stream",
          "text": [
            "Directory 'C:/programming/MADDQN/test_unit_run2/hyp_param_search/2FC512_LRELUs02_BT120BF290_Q5_TGT68_LR0' created successfully.\n",
            "DJI ENV: Agent hyp_profit_agent added\n",
            "DJI ENV: Agent hyp_profit_agent assigned as decision agent\n",
            "\n",
            "hyp_profit_agent: Training Initialized on DJI[0:3497]\n",
            "hyp_profit_agent: EP 1 of 1 Finished -> ΔQ1 = 0.65, ΔQ2 = 1.14 | ∑R = -1575.87, μR = -0.45 σR = 2.48                                                                                                                                                      \n",
            "hyp_profit_agent: Training finished on DJI[0:3497]\n",
            "\n",
            "hyp_profit_agent: Q-Network Exported to file \"C:/programming/MADDQN/test_unit_run2/hyp_param_search/2FC512_LRELUs02_BT120BF290_Q5_TGT68_LR0/model_save\"\n",
            "DJI ENV: Agent hyp_profit_agent removed\n",
            "NDAQ ENV: Agent hyp_profit_agent added\n",
            "NDAQ ENV: Agent hyp_profit_agent assigned as decision agent\n",
            "\n",
            "hyp_profit_agent: Training Initialized on NDAQ[0:3497]\n",
            "hyp_profit_agent: EP 1 of 1 Finished -> ΔQ1 = 0.34, ΔQ2 = 0.28 | ∑R = 371.70, μR = 0.11 σR = 2.07                                                                                                                                                         \n",
            "hyp_profit_agent: Training finished on NDAQ[0:3497]\n",
            "\n",
            "hyp_profit_agent: Q-Network Exported to file \"C:/programming/MADDQN/test_unit_run2/hyp_param_search/2FC512_LRELUs02_BT120BF290_Q5_TGT68_LR0/model_save\"\n",
            "NDAQ ENV: Agent hyp_profit_agent removed\n",
            "SP500 ENV: Agent hyp_profit_agent added\n",
            "SP500 ENV: Agent hyp_profit_agent assigned as decision agent\n",
            "\n",
            "hyp_profit_agent: Training Initialized on SP500[0:3497]\n",
            "hyp_profit_agent: EP 1 of 1 Finished -> ΔQ1 = 0.31, ΔQ2 = 0.36 | ∑R = -409.47, μR = -0.12 σR = 2.55                                                                                                                                                       \n",
            "hyp_profit_agent: Training finished on SP500[0:3497]\n",
            "\n",
            "hyp_profit_agent: Q-Network Exported to file \"C:/programming/MADDQN/test_unit_run2/hyp_param_search/2FC512_LRELUs02_BT120BF290_Q5_TGT68_LR0/model_save\"\n",
            "SP500 ENV: Agent hyp_profit_agent removed\n",
            "AAPL ENV: Agent hyp_profit_agent added\n",
            "AAPL ENV: Agent hyp_profit_agent assigned as decision agent\n",
            "\n",
            "hyp_profit_agent: Testing Initialized on AAPL[3525:4250]\n",
            "hyp_profit_agent - AAPL[3525:4250] - Testing Finished - EP - 1 of 1-> ∑R = -91569.70, μR = -126.30, σR = 497.80\n",
            "hyp_profit_agent: Testing Complete on AAPL[3525:4250]\n",
            "\n",
            "AAPL ENV: Agent hyp_profit_agent removed\n",
            "AMZN ENV: Agent hyp_profit_agent added\n",
            "AMZN ENV: Agent hyp_profit_agent assigned as decision agent\n",
            "\n",
            "hyp_profit_agent: Testing Initialized on AMZN[3525:4250]\n",
            "hyp_profit_agent - AMZN[3525:4250] - Testing Finished - EP - 1 of 1-> ∑R = -90664.76, μR = -125.05, σR = 489.16\n",
            "hyp_profit_agent: Testing Complete on AMZN[3525:4250]\n",
            "\n",
            "AMZN ENV: Agent hyp_profit_agent removed\n",
            "GOOGL ENV: Agent hyp_profit_agent added\n",
            "GOOGL ENV: Agent hyp_profit_agent assigned as decision agent\n",
            "\n",
            "hyp_profit_agent: Testing Initialized on GOOGL[3525:4250]\n",
            "hyp_profit_agent - GOOGL[3525:4250] - Testing Finished - EP - 1 of 1-> ∑R = -82539.09, μR = -113.85, σR = 483.54\n",
            "hyp_profit_agent: Testing Complete on GOOGL[3525:4250]\n",
            "\n",
            "GOOGL ENV: Agent hyp_profit_agent removed\n",
            "MSFT ENV: Agent hyp_profit_agent added\n",
            "MSFT ENV: Agent hyp_profit_agent assigned as decision agent\n",
            "\n",
            "hyp_profit_agent: Testing Initialized on MSFT[3525:4250]\n",
            "hyp_profit_agent - MSFT[3525:4250] - Testing Finished - EP - 1 of 1-> ∑R = -81272.37, μR = -112.10, σR = 433.62\n",
            "hyp_profit_agent: Testing Complete on MSFT[3525:4250]\n",
            "\n",
            "MSFT ENV: Agent hyp_profit_agent removed\n",
            "FORD ENV: Agent hyp_profit_agent added\n",
            "FORD ENV: Agent hyp_profit_agent assigned as decision agent\n",
            "\n",
            "hyp_profit_agent: Testing Initialized on FORD[3525:4250]\n",
            "hyp_profit_agent - FORD[3525:4250] - Testing Finished - EP - 1 of 1-> ∑R = -82001.79, μR = -113.11, σR = 612.87\n",
            "hyp_profit_agent: Testing Complete on FORD[3525:4250]\n",
            "\n",
            "FORD ENV: Agent hyp_profit_agent removed\n",
            "JNJ ENV: Agent hyp_profit_agent added\n",
            "JNJ ENV: Agent hyp_profit_agent assigned as decision agent\n",
            "\n",
            "hyp_profit_agent: Testing Initialized on JNJ[3525:4250]\n",
            "hyp_profit_agent - JNJ[3525:4250] - Testing Finished - EP - 1 of 1-> ∑R = -80012.93, μR = -110.36, σR = 267.32\n",
            "hyp_profit_agent: Testing Complete on JNJ[3525:4250]\n",
            "\n",
            "JNJ ENV: Agent hyp_profit_agent removed\n",
            "NEE ENV: Agent hyp_profit_agent added\n",
            "NEE ENV: Agent hyp_profit_agent assigned as decision agent\n",
            "\n",
            "hyp_profit_agent: Testing Initialized on NEE[3525:4250]\n",
            "hyp_profit_agent - NEE[3525:4250] - Testing Finished - EP - 1 of 1-> ∑R = -84773.02, μR = -116.93, σR = 480.93\n",
            "hyp_profit_agent: Testing Complete on NEE[3525:4250]\n",
            "\n",
            "NEE ENV: Agent hyp_profit_agent removed\n",
            "PFE ENV: Agent hyp_profit_agent added\n",
            "PFE ENV: Agent hyp_profit_agent assigned as decision agent\n",
            "\n",
            "hyp_profit_agent: Testing Initialized on PFE[3525:4250]\n",
            "hyp_profit_agent - PFE[3525:4250] - Testing Finished - EP - 1 of 1-> ∑R = -85979.95, μR = -118.59, σR = 378.36\n",
            "hyp_profit_agent: Testing Complete on PFE[3525:4250]\n",
            "\n",
            "PFE ENV: Agent hyp_profit_agent removed\n",
            "TSLA ENV: Agent hyp_profit_agent added\n",
            "TSLA ENV: Agent hyp_profit_agent assigned as decision agent\n",
            "\n",
            "hyp_profit_agent: Testing Initialized on TSLA[2647:3372]\n",
            "hyp_profit_agent - TSLA[2647:3372] - Testing Finished - EP - 1 of 1-> ∑R = -85947.31, μR = -118.55, σR = 876.98\n",
            "hyp_profit_agent: Testing Complete on TSLA[2647:3372]\n",
            "\n",
            "TSLA ENV: Agent hyp_profit_agent removed\n",
            "COKE ENV: Agent hyp_profit_agent added\n",
            "COKE ENV: Agent hyp_profit_agent assigned as decision agent\n",
            "\n",
            "hyp_profit_agent: Testing Initialized on COKE[3525:4250]\n",
            "hyp_profit_agent - COKE[3525:4250] - Testing Finished - EP - 1 of 1-> ∑R = -64245.59, μR = -88.61, σR = 820.41\n",
            "hyp_profit_agent: Testing Complete on COKE[3525:4250]\n",
            "\n",
            "COKE ENV: Agent hyp_profit_agent removed\n",
            "PG ENV: Agent hyp_profit_agent added\n",
            "PG ENV: Agent hyp_profit_agent assigned as decision agent\n",
            "\n",
            "hyp_profit_agent: Testing Initialized on PG[3525:4250]\n",
            "hyp_profit_agent - PG[3525:4250] - Testing Finished - EP - 1 of 1-> ∑R = -76325.63, μR = -105.28, σR = 281.87\n",
            "hyp_profit_agent: Testing Complete on PG[3525:4250]\n",
            "\n",
            "PG ENV: Agent hyp_profit_agent removed\n"
          ]
        },
        {
          "name": "stderr",
          "output_type": "stream",
          "text": [
            "[I 2024-08-05 16:45:59,648] Trial 1 finished with value: -82302.92134090907 and parameters: {'hidden_size': 512, 'update_q_freq': 5, 'update_tgt_freq': 68, 'activation_function': 'LRELUs02', 'opt_lre': 0.0001, 'gamma': 0.96, 'buffer_size': 290, 'batch_size': 120}. Best is trial 1 with value: -82302.92134090907.\n"
          ]
        },
        {
          "data": {
            "application/vnd.plotly.v1+json": {
              "config": {
                "plotlyServerURL": "https://plot.ly"
              },
              "data": [
                {
                  "dimensions": [
                    {
                      "label": "Objective Value",
                      "range": [
                        -82355.38268181817,
                        -82302.92134090907
                      ],
                      "values": [
                        -82355.38268181817,
                        -82302.92134090907
                      ]
                    },
                    {
                      "label": "activation_function",
                      "range": [
                        0,
                        1
                      ],
                      "ticktext": [
                        "ELU",
                        "LRELUs02"
                      ],
                      "tickvals": [
                        0,
                        1
                      ],
                      "values": [
                        0,
                        1
                      ]
                    },
                    {
                      "label": "batch_size",
                      "range": [
                        120,
                        180
                      ],
                      "values": [
                        180,
                        120
                      ]
                    },
                    {
                      "label": "buffer_size",
                      "range": [
                        290,
                        440
                      ],
                      "values": [
                        440,
                        290
                      ]
                    },
                    {
                      "label": "gamma",
                      "range": [
                        0.96,
                        0.96
                      ],
                      "values": [
                        0.96,
                        0.96
                      ]
                    },
                    {
                      "label": "hidden_size",
                      "range": [
                        256,
                        512
                      ],
                      "values": [
                        256,
                        512
                      ]
                    },
                    {
                      "label": "opt_lre",
                      "range": [
                        0,
                        0
                      ],
                      "ticktext": [
                        "0.0001"
                      ],
                      "tickvals": [
                        0
                      ],
                      "values": [
                        0,
                        0
                      ]
                    },
                    {
                      "label": "update_q_freq",
                      "range": [
                        3,
                        5
                      ],
                      "values": [
                        3,
                        5
                      ]
                    },
                    {
                      "label": "update_tgt_freq",
                      "range": [
                        68,
                        131
                      ],
                      "values": [
                        131,
                        68
                      ]
                    }
                  ],
                  "labelangle": 30,
                  "labelside": "bottom",
                  "line": {
                    "color": [
                      -82355.38268181817,
                      -82302.92134090907
                    ],
                    "colorbar": {
                      "title": {
                        "text": "Objective Value"
                      }
                    },
                    "colorscale": [
                      [
                        0,
                        "rgb(247,251,255)"
                      ],
                      [
                        0.125,
                        "rgb(222,235,247)"
                      ],
                      [
                        0.25,
                        "rgb(198,219,239)"
                      ],
                      [
                        0.375,
                        "rgb(158,202,225)"
                      ],
                      [
                        0.5,
                        "rgb(107,174,214)"
                      ],
                      [
                        0.625,
                        "rgb(66,146,198)"
                      ],
                      [
                        0.75,
                        "rgb(33,113,181)"
                      ],
                      [
                        0.875,
                        "rgb(8,81,156)"
                      ],
                      [
                        1,
                        "rgb(8,48,107)"
                      ]
                    ],
                    "reversescale": false,
                    "showscale": true
                  },
                  "type": "parcoords"
                }
              ],
              "layout": {
                "template": {
                  "data": {
                    "bar": [
                      {
                        "error_x": {
                          "color": "#2a3f5f"
                        },
                        "error_y": {
                          "color": "#2a3f5f"
                        },
                        "marker": {
                          "line": {
                            "color": "#E5ECF6",
                            "width": 0.5
                          },
                          "pattern": {
                            "fillmode": "overlay",
                            "size": 10,
                            "solidity": 0.2
                          }
                        },
                        "type": "bar"
                      }
                    ],
                    "barpolar": [
                      {
                        "marker": {
                          "line": {
                            "color": "#E5ECF6",
                            "width": 0.5
                          },
                          "pattern": {
                            "fillmode": "overlay",
                            "size": 10,
                            "solidity": 0.2
                          }
                        },
                        "type": "barpolar"
                      }
                    ],
                    "carpet": [
                      {
                        "aaxis": {
                          "endlinecolor": "#2a3f5f",
                          "gridcolor": "white",
                          "linecolor": "white",
                          "minorgridcolor": "white",
                          "startlinecolor": "#2a3f5f"
                        },
                        "baxis": {
                          "endlinecolor": "#2a3f5f",
                          "gridcolor": "white",
                          "linecolor": "white",
                          "minorgridcolor": "white",
                          "startlinecolor": "#2a3f5f"
                        },
                        "type": "carpet"
                      }
                    ],
                    "choropleth": [
                      {
                        "colorbar": {
                          "outlinewidth": 0,
                          "ticks": ""
                        },
                        "type": "choropleth"
                      }
                    ],
                    "contour": [
                      {
                        "colorbar": {
                          "outlinewidth": 0,
                          "ticks": ""
                        },
                        "colorscale": [
                          [
                            0,
                            "#0d0887"
                          ],
                          [
                            0.1111111111111111,
                            "#46039f"
                          ],
                          [
                            0.2222222222222222,
                            "#7201a8"
                          ],
                          [
                            0.3333333333333333,
                            "#9c179e"
                          ],
                          [
                            0.4444444444444444,
                            "#bd3786"
                          ],
                          [
                            0.5555555555555556,
                            "#d8576b"
                          ],
                          [
                            0.6666666666666666,
                            "#ed7953"
                          ],
                          [
                            0.7777777777777778,
                            "#fb9f3a"
                          ],
                          [
                            0.8888888888888888,
                            "#fdca26"
                          ],
                          [
                            1,
                            "#f0f921"
                          ]
                        ],
                        "type": "contour"
                      }
                    ],
                    "contourcarpet": [
                      {
                        "colorbar": {
                          "outlinewidth": 0,
                          "ticks": ""
                        },
                        "type": "contourcarpet"
                      }
                    ],
                    "heatmap": [
                      {
                        "colorbar": {
                          "outlinewidth": 0,
                          "ticks": ""
                        },
                        "colorscale": [
                          [
                            0,
                            "#0d0887"
                          ],
                          [
                            0.1111111111111111,
                            "#46039f"
                          ],
                          [
                            0.2222222222222222,
                            "#7201a8"
                          ],
                          [
                            0.3333333333333333,
                            "#9c179e"
                          ],
                          [
                            0.4444444444444444,
                            "#bd3786"
                          ],
                          [
                            0.5555555555555556,
                            "#d8576b"
                          ],
                          [
                            0.6666666666666666,
                            "#ed7953"
                          ],
                          [
                            0.7777777777777778,
                            "#fb9f3a"
                          ],
                          [
                            0.8888888888888888,
                            "#fdca26"
                          ],
                          [
                            1,
                            "#f0f921"
                          ]
                        ],
                        "type": "heatmap"
                      }
                    ],
                    "heatmapgl": [
                      {
                        "colorbar": {
                          "outlinewidth": 0,
                          "ticks": ""
                        },
                        "colorscale": [
                          [
                            0,
                            "#0d0887"
                          ],
                          [
                            0.1111111111111111,
                            "#46039f"
                          ],
                          [
                            0.2222222222222222,
                            "#7201a8"
                          ],
                          [
                            0.3333333333333333,
                            "#9c179e"
                          ],
                          [
                            0.4444444444444444,
                            "#bd3786"
                          ],
                          [
                            0.5555555555555556,
                            "#d8576b"
                          ],
                          [
                            0.6666666666666666,
                            "#ed7953"
                          ],
                          [
                            0.7777777777777778,
                            "#fb9f3a"
                          ],
                          [
                            0.8888888888888888,
                            "#fdca26"
                          ],
                          [
                            1,
                            "#f0f921"
                          ]
                        ],
                        "type": "heatmapgl"
                      }
                    ],
                    "histogram": [
                      {
                        "marker": {
                          "pattern": {
                            "fillmode": "overlay",
                            "size": 10,
                            "solidity": 0.2
                          }
                        },
                        "type": "histogram"
                      }
                    ],
                    "histogram2d": [
                      {
                        "colorbar": {
                          "outlinewidth": 0,
                          "ticks": ""
                        },
                        "colorscale": [
                          [
                            0,
                            "#0d0887"
                          ],
                          [
                            0.1111111111111111,
                            "#46039f"
                          ],
                          [
                            0.2222222222222222,
                            "#7201a8"
                          ],
                          [
                            0.3333333333333333,
                            "#9c179e"
                          ],
                          [
                            0.4444444444444444,
                            "#bd3786"
                          ],
                          [
                            0.5555555555555556,
                            "#d8576b"
                          ],
                          [
                            0.6666666666666666,
                            "#ed7953"
                          ],
                          [
                            0.7777777777777778,
                            "#fb9f3a"
                          ],
                          [
                            0.8888888888888888,
                            "#fdca26"
                          ],
                          [
                            1,
                            "#f0f921"
                          ]
                        ],
                        "type": "histogram2d"
                      }
                    ],
                    "histogram2dcontour": [
                      {
                        "colorbar": {
                          "outlinewidth": 0,
                          "ticks": ""
                        },
                        "colorscale": [
                          [
                            0,
                            "#0d0887"
                          ],
                          [
                            0.1111111111111111,
                            "#46039f"
                          ],
                          [
                            0.2222222222222222,
                            "#7201a8"
                          ],
                          [
                            0.3333333333333333,
                            "#9c179e"
                          ],
                          [
                            0.4444444444444444,
                            "#bd3786"
                          ],
                          [
                            0.5555555555555556,
                            "#d8576b"
                          ],
                          [
                            0.6666666666666666,
                            "#ed7953"
                          ],
                          [
                            0.7777777777777778,
                            "#fb9f3a"
                          ],
                          [
                            0.8888888888888888,
                            "#fdca26"
                          ],
                          [
                            1,
                            "#f0f921"
                          ]
                        ],
                        "type": "histogram2dcontour"
                      }
                    ],
                    "mesh3d": [
                      {
                        "colorbar": {
                          "outlinewidth": 0,
                          "ticks": ""
                        },
                        "type": "mesh3d"
                      }
                    ],
                    "parcoords": [
                      {
                        "line": {
                          "colorbar": {
                            "outlinewidth": 0,
                            "ticks": ""
                          }
                        },
                        "type": "parcoords"
                      }
                    ],
                    "pie": [
                      {
                        "automargin": true,
                        "type": "pie"
                      }
                    ],
                    "scatter": [
                      {
                        "fillpattern": {
                          "fillmode": "overlay",
                          "size": 10,
                          "solidity": 0.2
                        },
                        "type": "scatter"
                      }
                    ],
                    "scatter3d": [
                      {
                        "line": {
                          "colorbar": {
                            "outlinewidth": 0,
                            "ticks": ""
                          }
                        },
                        "marker": {
                          "colorbar": {
                            "outlinewidth": 0,
                            "ticks": ""
                          }
                        },
                        "type": "scatter3d"
                      }
                    ],
                    "scattercarpet": [
                      {
                        "marker": {
                          "colorbar": {
                            "outlinewidth": 0,
                            "ticks": ""
                          }
                        },
                        "type": "scattercarpet"
                      }
                    ],
                    "scattergeo": [
                      {
                        "marker": {
                          "colorbar": {
                            "outlinewidth": 0,
                            "ticks": ""
                          }
                        },
                        "type": "scattergeo"
                      }
                    ],
                    "scattergl": [
                      {
                        "marker": {
                          "colorbar": {
                            "outlinewidth": 0,
                            "ticks": ""
                          }
                        },
                        "type": "scattergl"
                      }
                    ],
                    "scattermapbox": [
                      {
                        "marker": {
                          "colorbar": {
                            "outlinewidth": 0,
                            "ticks": ""
                          }
                        },
                        "type": "scattermapbox"
                      }
                    ],
                    "scatterpolar": [
                      {
                        "marker": {
                          "colorbar": {
                            "outlinewidth": 0,
                            "ticks": ""
                          }
                        },
                        "type": "scatterpolar"
                      }
                    ],
                    "scatterpolargl": [
                      {
                        "marker": {
                          "colorbar": {
                            "outlinewidth": 0,
                            "ticks": ""
                          }
                        },
                        "type": "scatterpolargl"
                      }
                    ],
                    "scatterternary": [
                      {
                        "marker": {
                          "colorbar": {
                            "outlinewidth": 0,
                            "ticks": ""
                          }
                        },
                        "type": "scatterternary"
                      }
                    ],
                    "surface": [
                      {
                        "colorbar": {
                          "outlinewidth": 0,
                          "ticks": ""
                        },
                        "colorscale": [
                          [
                            0,
                            "#0d0887"
                          ],
                          [
                            0.1111111111111111,
                            "#46039f"
                          ],
                          [
                            0.2222222222222222,
                            "#7201a8"
                          ],
                          [
                            0.3333333333333333,
                            "#9c179e"
                          ],
                          [
                            0.4444444444444444,
                            "#bd3786"
                          ],
                          [
                            0.5555555555555556,
                            "#d8576b"
                          ],
                          [
                            0.6666666666666666,
                            "#ed7953"
                          ],
                          [
                            0.7777777777777778,
                            "#fb9f3a"
                          ],
                          [
                            0.8888888888888888,
                            "#fdca26"
                          ],
                          [
                            1,
                            "#f0f921"
                          ]
                        ],
                        "type": "surface"
                      }
                    ],
                    "table": [
                      {
                        "cells": {
                          "fill": {
                            "color": "#EBF0F8"
                          },
                          "line": {
                            "color": "white"
                          }
                        },
                        "header": {
                          "fill": {
                            "color": "#C8D4E3"
                          },
                          "line": {
                            "color": "white"
                          }
                        },
                        "type": "table"
                      }
                    ]
                  },
                  "layout": {
                    "annotationdefaults": {
                      "arrowcolor": "#2a3f5f",
                      "arrowhead": 0,
                      "arrowwidth": 1
                    },
                    "autotypenumbers": "strict",
                    "coloraxis": {
                      "colorbar": {
                        "outlinewidth": 0,
                        "ticks": ""
                      }
                    },
                    "colorscale": {
                      "diverging": [
                        [
                          0,
                          "#8e0152"
                        ],
                        [
                          0.1,
                          "#c51b7d"
                        ],
                        [
                          0.2,
                          "#de77ae"
                        ],
                        [
                          0.3,
                          "#f1b6da"
                        ],
                        [
                          0.4,
                          "#fde0ef"
                        ],
                        [
                          0.5,
                          "#f7f7f7"
                        ],
                        [
                          0.6,
                          "#e6f5d0"
                        ],
                        [
                          0.7,
                          "#b8e186"
                        ],
                        [
                          0.8,
                          "#7fbc41"
                        ],
                        [
                          0.9,
                          "#4d9221"
                        ],
                        [
                          1,
                          "#276419"
                        ]
                      ],
                      "sequential": [
                        [
                          0,
                          "#0d0887"
                        ],
                        [
                          0.1111111111111111,
                          "#46039f"
                        ],
                        [
                          0.2222222222222222,
                          "#7201a8"
                        ],
                        [
                          0.3333333333333333,
                          "#9c179e"
                        ],
                        [
                          0.4444444444444444,
                          "#bd3786"
                        ],
                        [
                          0.5555555555555556,
                          "#d8576b"
                        ],
                        [
                          0.6666666666666666,
                          "#ed7953"
                        ],
                        [
                          0.7777777777777778,
                          "#fb9f3a"
                        ],
                        [
                          0.8888888888888888,
                          "#fdca26"
                        ],
                        [
                          1,
                          "#f0f921"
                        ]
                      ],
                      "sequentialminus": [
                        [
                          0,
                          "#0d0887"
                        ],
                        [
                          0.1111111111111111,
                          "#46039f"
                        ],
                        [
                          0.2222222222222222,
                          "#7201a8"
                        ],
                        [
                          0.3333333333333333,
                          "#9c179e"
                        ],
                        [
                          0.4444444444444444,
                          "#bd3786"
                        ],
                        [
                          0.5555555555555556,
                          "#d8576b"
                        ],
                        [
                          0.6666666666666666,
                          "#ed7953"
                        ],
                        [
                          0.7777777777777778,
                          "#fb9f3a"
                        ],
                        [
                          0.8888888888888888,
                          "#fdca26"
                        ],
                        [
                          1,
                          "#f0f921"
                        ]
                      ]
                    },
                    "colorway": [
                      "#636efa",
                      "#EF553B",
                      "#00cc96",
                      "#ab63fa",
                      "#FFA15A",
                      "#19d3f3",
                      "#FF6692",
                      "#B6E880",
                      "#FF97FF",
                      "#FECB52"
                    ],
                    "font": {
                      "color": "#2a3f5f"
                    },
                    "geo": {
                      "bgcolor": "white",
                      "lakecolor": "white",
                      "landcolor": "#E5ECF6",
                      "showlakes": true,
                      "showland": true,
                      "subunitcolor": "white"
                    },
                    "hoverlabel": {
                      "align": "left"
                    },
                    "hovermode": "closest",
                    "mapbox": {
                      "style": "light"
                    },
                    "paper_bgcolor": "white",
                    "plot_bgcolor": "#E5ECF6",
                    "polar": {
                      "angularaxis": {
                        "gridcolor": "white",
                        "linecolor": "white",
                        "ticks": ""
                      },
                      "bgcolor": "#E5ECF6",
                      "radialaxis": {
                        "gridcolor": "white",
                        "linecolor": "white",
                        "ticks": ""
                      }
                    },
                    "scene": {
                      "xaxis": {
                        "backgroundcolor": "#E5ECF6",
                        "gridcolor": "white",
                        "gridwidth": 2,
                        "linecolor": "white",
                        "showbackground": true,
                        "ticks": "",
                        "zerolinecolor": "white"
                      },
                      "yaxis": {
                        "backgroundcolor": "#E5ECF6",
                        "gridcolor": "white",
                        "gridwidth": 2,
                        "linecolor": "white",
                        "showbackground": true,
                        "ticks": "",
                        "zerolinecolor": "white"
                      },
                      "zaxis": {
                        "backgroundcolor": "#E5ECF6",
                        "gridcolor": "white",
                        "gridwidth": 2,
                        "linecolor": "white",
                        "showbackground": true,
                        "ticks": "",
                        "zerolinecolor": "white"
                      }
                    },
                    "shapedefaults": {
                      "line": {
                        "color": "#2a3f5f"
                      }
                    },
                    "ternary": {
                      "aaxis": {
                        "gridcolor": "white",
                        "linecolor": "white",
                        "ticks": ""
                      },
                      "baxis": {
                        "gridcolor": "white",
                        "linecolor": "white",
                        "ticks": ""
                      },
                      "bgcolor": "#E5ECF6",
                      "caxis": {
                        "gridcolor": "white",
                        "linecolor": "white",
                        "ticks": ""
                      }
                    },
                    "title": {
                      "x": 0.05
                    },
                    "xaxis": {
                      "automargin": true,
                      "gridcolor": "white",
                      "linecolor": "white",
                      "ticks": "",
                      "title": {
                        "standoff": 15
                      },
                      "zerolinecolor": "white",
                      "zerolinewidth": 2
                    },
                    "yaxis": {
                      "automargin": true,
                      "gridcolor": "white",
                      "linecolor": "white",
                      "ticks": "",
                      "title": {
                        "standoff": 15
                      },
                      "zerolinecolor": "white",
                      "zerolinewidth": 2
                    }
                  }
                },
                "title": {
                  "text": "Parallel Coordinate Plot"
                }
              }
            }
          },
          "metadata": {},
          "output_type": "display_data"
        },
        {
          "name": "stdout",
          "output_type": "stream",
          "text": [
            "Best value:  -82302.92134090907\n",
            "Best params:  {'hidden_size': 512, 'update_q_freq': 5, 'update_tgt_freq': 68, 'activation_function': 'LRELUs02', 'opt_lre': 0.0001, 'gamma': 0.96, 'buffer_size': 290, 'batch_size': 120}\n"
          ]
        },
        {
          "data": {
            "text/plain": [
              "{'hidden_size': 512,\n",
              " 'update_q_freq': 5,\n",
              " 'update_tgt_freq': 68,\n",
              " 'activation_function': LeakyReLU(negative_slope=0.2),\n",
              " 'opt_lre': 0.0001,\n",
              " 'gamma': 0.96,\n",
              " 'buffer_size': 290,\n",
              " 'batch_size': 120}"
            ]
          },
          "metadata": {},
          "output_type": "display_data"
        }
      ],
      "source": [
        "if hyperparam_discovery:\n",
        "\n",
        "    # For Objective function, need to create agent name before to link agent with enviornment\n",
        "    agent_name = 'hyp_profit_agent'\n",
        "    agent_path = save_path_root + '/hyp_param_search'\n",
        "    metric = 'val_tot_r'\n",
        "    max_len_buf = np.round(hyp_trn_idx['DJI'][1] - hyp_trn_idx['DJI'][0] + window_size, -2) -10 # manual input, could be error here if\n",
        "    print(f'Max Mem Length: {max_len_buf}')\n",
        "    \n",
        "    ## Activation Function Passing\n",
        "    activation_functions = {\n",
        "    'ELU': nn.ELU(),\n",
        "    'LRELUs02': nn.LeakyReLU(negative_slope=0.2),\n",
        "    'GELU': nn.GELU()}\n",
        "    \n",
        "\n",
        "    def objective(trial):\n",
        "        \n",
        "\n",
        "        # Define the hyperparameters to search over\n",
        "\n",
        "        ## NN hyperparameters\n",
        "        #sug_hidden_layers = trial.suggest_int('hidden_layers', low=1, high=3)\n",
        "        sug_hidden_size = trial.suggest_int('hidden_size', low=256, high=512, step=128)\n",
        "        sug_update_q_freq = trial.suggest_int('update_q_freq',low=1,high=5)\n",
        "        sug_update_tgt_freq = trial.suggest_int('update_tgt_freq',low=15,high=200)\n",
        "        sug_activation_function_name = trial.suggest_categorical('activation_function', list(activation_functions.keys()))\n",
        "        sug_activation_function = activation_functions[sug_activation_function_name]\n",
        "\n",
        "        \"\"\"\n",
        "        ## Reward Function Passing\n",
        "        reward_functions = {\n",
        "        'profit': future_profit(None,5),\n",
        "        'risk': risk_reward(None,5),\n",
        "        }\n",
        "        sug_reward_function_name = trial.suggest_categorical('reward_function', list(reward_functions.keys()))\n",
        "        sug_reward_function = reward_functions[sug_reward_function_name]\n",
        "        \"\"\"\n",
        "        ## Optimizer hyperparameters\n",
        "        sug_opt_lre = trial.suggest_categorical('opt_lre',[0.0001,.0001,0.01,0.1])\n",
        "        sug_gamma = trial.suggest_float('gamma',low=0.90,high=0.99,step=0.01)\n",
        "        ## Memory Replay hyperparameters\n",
        "        sug_buffer_size = trial.suggest_int('buffer_size',low=220,high=600,step=10)\n",
        "        sug_batch_size = trial.suggest_int('batch_size',low=50,high=200,step=5)\n",
        "\n",
        "        # Define Training Parameters\n",
        "        hyp_training_params = {'training_episodes': 1,\n",
        "                   'epsilon_decya_func': linear_decay,\n",
        "                   'initial_epsilon': 0.9,\n",
        "                   'final_epsilon': 0.1,\n",
        "                   'update_q_freq': sug_update_q_freq,\n",
        "                   'update_tgt_freq': sug_update_tgt_freq,                   \n",
        "                   'save_path': export_path,\n",
        "                   'metric_func': metric_function\n",
        "                   }\n",
        "\n",
        "        hyp_earlystop_params = {'min_training_episodes': 1,\n",
        "                   'early_stop': False,\n",
        "                   'stop_metric': None,\n",
        "                   'stop_patience': 2,\n",
        "                   'stop_delta': 0.001\n",
        "                    }\n",
        "        \n",
        "        \n",
        "        # Saving Setup\n",
        "        ## Current Parameter Values:\n",
        "        #cur_n_fcl = trial.params['hidden_layers']\n",
        "        cur_fcl_size = trial.params['hidden_size']\n",
        "        cur_q_freq = trial.params['update_q_freq']\n",
        "        cur_tgt_freq = trial.params['update_tgt_freq']\n",
        "        cur_act_func = trial.params['activation_function']\n",
        "        #cur_rwd_func = trial.params['reward_function']\n",
        "        cur_lre = decimal_to_text(trial.params['opt_lre'])\n",
        "        cur_buf_size = trial.params['buffer_size']\n",
        "        cur_bat_size = trial.params['batch_size']\n",
        "\n",
        "        ## Create Notation for Hyperparameter Setup\n",
        "        test_name = (f'2FC{cur_fcl_size}_{cur_act_func}_' +\n",
        "                    f'BT{cur_bat_size}BF{cur_buf_size}_Q{cur_q_freq}_' +\n",
        "                    f'TGT{cur_tgt_freq}_LR{cur_lre}')\n",
        "\n",
        "        ## Create Dir to save results\n",
        "        test_name_path =  agent_path + '/' + test_name\n",
        "        if not os.path.exists(test_name_path):\n",
        "            os.makedirs(test_name_path)\n",
        "            print(f\"Directory '{test_name_path}' created successfully.\")\n",
        "        else:\n",
        "            print(f\"Directory '{test_name_path}' already exists.\")\n",
        "\n",
        "        # Create Agent with hyperparameters\n",
        "        best_agent = DdqnAgent(name=agent_name,\n",
        "                            environment=None,\n",
        "                            reward_function = future_profit,\n",
        "                            reward_params = {'n':5, 'lower': 15, 'upper': 90},\n",
        "                            env_state_mod_func = None,\n",
        "                            input_size= 16,\n",
        "                            hidden_size= sug_hidden_size,\n",
        "                            output_size=3,\n",
        "                            activation_function = sug_activation_function,\n",
        "                            num_hidden_layers = 2,\n",
        "                            buffer_size= sug_buffer_size,\n",
        "                            batch_size = sug_batch_size,\n",
        "                            alpha = sug_opt_lre,\n",
        "                            gamma = sug_gamma,\n",
        "                            opt_wgt_dcy = 0.01,\n",
        "                            dropout_rate = 0.20,\n",
        "                            device = device)\n",
        "\n",
        "        # Training Model\n",
        "        for key, rl_env in env.items():\n",
        "\n",
        "            if key in trn_keys:\n",
        "                rl_env.add_agent(agent_name)\n",
        "                rl_env.set_decision_agent(agent_name)\n",
        "                \n",
        "                if hyp_validate:\n",
        "                    hyp_idx_params = {'start_idx': hyp_trn_idx[key][0],\n",
        "                                'end_idx':hyp_trn_idx[key][1],\n",
        "                                'val_start_idx': hyp_val_idx[key][0],\n",
        "                                'val_end_idx': hyp_val_idx[key][1]}\n",
        "                else:\n",
        "                    hyp_idx_params ={'start_idx': hyp_trn_idx[key][0],\n",
        "                                'end_idx':hyp_trn_idx[key][1],\n",
        "                                'val_start_idx': None,\n",
        "                                'val_end_idx': None}\n",
        "                \n",
        "                hyp_combined_params = hyp_training_params | hyp_earlystop_params | hyp_idx_params\n",
        "                \n",
        "                best_agent.set_env_stat_modify_func(env_mod_func_dic[key].process)\n",
        "                best_agent.set_environment(rl_env)\n",
        "                best_agent.train(**hyp_combined_params)\n",
        "                \n",
        "                # Save Agent\n",
        "                file_root_name = f'{key}_TRN_{hyp_trn_idx[key][0]}-{hyp_trn_idx[key][1]}'\n",
        "                best_agent.export_Q_nn(test_name_path+\"/model_save\")\n",
        "\n",
        "                # Create/Export Records\n",
        "                env_data_record = rl_env.get_step_data()\n",
        "                agent_data_record = best_agent.get_step_data()\n",
        "                training_record =  pd.concat([env_data_record, agent_data_record], axis=1, join='inner')\n",
        "                training_record.to_csv(f'{test_name_path}/{file_root_name}_step_data.csv')\n",
        "                episodic_training_record = best_agent.get_training_episodic_data()\n",
        "                episodic_training_record.to_csv(f'{test_name_path}/{file_root_name}_epi_data.csv')\n",
        "                \n",
        "                \n",
        "                \n",
        "                rl_env.remove_agent(agent_name)\n",
        "\n",
        "        # Test Model\n",
        "\n",
        "        scores = []\n",
        "        for key, rl_env in env.items():\n",
        "\n",
        "            if key in tst_keys:\n",
        "                rl_env.add_agent(agent_name)\n",
        "                rl_env.set_decision_agent(agent_name)\n",
        "                \n",
        "                best_agent.set_env_stat_modify_func(env_mod_func_dic[key].process)\n",
        "                best_agent.set_environment(rl_env)\n",
        "                best_agent.test(start_idx = hyp_tst_idx[key][0],\n",
        "                            end_idx = hyp_tst_idx[key][1],\n",
        "                            metric_func= metric_function,\n",
        "                            testing_episodes=1)\n",
        "                rl_env.remove_agent(agent_name)\n",
        "\n",
        "                ## Save Test Metric Result(s) into\n",
        "                ddqn_tst = best_agent.get_testing_episodic_data()\n",
        "                score = ddqn_tst['tot_r'].mean()\n",
        "                scores.append(score)\n",
        "\n",
        "                ## Export Test data\n",
        "                a = rl_env.get_step_data()\n",
        "                b = best_agent.get_step_data()\n",
        "                combined_df = pd.concat([a,b],axis=1)\n",
        "                tst_df_file_name  = f'TST-{key}' + test_name + '.csv'\n",
        "                trn_df_save_path = test_name_path + '/' + tst_df_file_name\n",
        "                combined_df.to_csv(trn_df_save_path)\n",
        "\n",
        "                ## Generate Trading Graphic\n",
        "                tst_graph_file_name = trn_df_save_path[:-4] + '.png'\n",
        "                agentperform.agent_stock_performance(env[key].stock_price_data[hyp_tst_idx[key][0]:hyp_tst_idx[key][1]][:,-1,0], # Selecting all batches, last price of window, closing price\n",
        "                                                    combined_df['Env Action'].to_numpy(),\n",
        "                                                    key,\n",
        "                                                    best_agent.get_name(),\n",
        "                                                    display_graph=False,\n",
        "                                                    save_graphic=True,\n",
        "                                                    path_file=tst_graph_file_name)\n",
        "\n",
        "        mean = np.mean(scores)\n",
        "        return mean\n",
        "\n",
        "    study = optuna.create_study(direction='maximize')\n",
        "    study.optimize(objective, n_trials=2)\n",
        "    \n",
        "    \n",
        "    best_params = study.best_params\n",
        "    \n",
        "    # Export best Parameters\n",
        "    best_param_file_name = save_path_root + '/hyp_param_search/train_params.txt'\n",
        "\n",
        "    with open(best_param_file_name, 'w') as file:\n",
        "        for key, value in best_params.items():\n",
        "            file.write(f'{key}:\\t{value}')\n",
        "    \n",
        "    fig = plot_parallel_coordinate(study)\n",
        "    fig.show()\n",
        "    \n",
        "    # Save the figure as a PNG file\n",
        "    #fig.update_layout(width=1700, height=1100)\n",
        "    #fig.write_image(save_path_root + '/hyp_param_search/parallel_coordinate_plot.png')\n",
        "    \n",
        "    print(\"Best value: \", study.best_value)\n",
        "    print(\"Best params: \", study.best_params)   \n",
        "\n",
        "    best_params['activation_function'] = activation_functions[best_params['activation_function']] \n",
        "    display(best_params)\n",
        "\n",
        "\n",
        "\n"
      ]
    },
    {
      "cell_type": "markdown",
      "metadata": {
        "id": "zwUdEMmhQFnX"
      },
      "source": [
        "# Agent Setup"
      ]
    },
    {
      "cell_type": "markdown",
      "metadata": {
        "id": "95MUF9R5QFnp"
      },
      "source": [
        "## Parameters"
      ]
    },
    {
      "cell_type": "code",
      "execution_count": 33,
      "metadata": {
        "id": "OA5UDlQjQFnp"
      },
      "outputs": [],
      "source": [
        "# Agent Type Setup\n",
        "agent_classes = {'profit_1': DdqnAgent,\n",
        "                 'profit_2': DdqnAgent,\n",
        "                 #'final': DdqnAgent,\n",
        "                 'random':RandomAgent}\n",
        "\n",
        "# Mul\n",
        "agent_setup = {'profit_1': ['profit_1'],\n",
        "                 'profit_2': ['profit_2'],\n",
        "                 'random': ['random']}\n",
        "                 #'final': ['profit_1', 'profit_2']}# for multi agent key is decision agent\n",
        "                 #'macro': 'macro',\n",
        "                 #'opt': ['profit', 'risk', 'macro']}\n",
        "\n",
        "agent_name_list = list(agent_classes.keys())\n",
        "\n",
        "agents_to_train = ['profit_1','profit_2']\n",
        "\n",
        "import_agents = False\n",
        "\n",
        "agent_configs_to_import = {'profit_1': f'c:/Programming/MADDQN/test005/profit_1/profit_1_config.json',\n",
        "                           'profit_2': f'c:/Programming/MADDQN/test005/profit_2/profit_2_config.json'}\n",
        "\n",
        "agents_to_import = {'profit_1': f'c:/Programming/MADDQN/test005/profit_1/profit_1_model',\n",
        "                    'profit_2': f'c:/Programming/MADDQN/test005/profit_2/profit_2_model'}\n",
        "\n",
        "agent_params = {\n",
        "    agent_name_list[0]:{\n",
        "        'name': agent_name_list[0],\n",
        "        'environment': None,\n",
        "        'reward_function': future_profit,\n",
        "        'reward_params': {'n':5, 'lower': 15, 'upper': 90},\n",
        "        'env_state_mod_func': None,  #Is Set in Training Loop\n",
        "        'input_size': 16,\n",
        "        'hidden_size': 256,\n",
        "        'output_size':3,\n",
        "        'activation_function': nn.ReLU(),\n",
        "        'num_hidden_layers': 3,\n",
        "        'buffer_size': 400,\n",
        "        'batch_size': 100,\n",
        "        'alpha': 0.005,\n",
        "        'gamma':0.90,\n",
        "        'opt_wgt_dcy': 0,\n",
        "        'dropout_rate': 0.15,\n",
        "        'device': device\n",
        "    },\n",
        "    agent_name_list[1]:{\n",
        "        'name': agent_name_list[1],\n",
        "        'environment': None,\n",
        "        'reward_function': future_profit,\n",
        "        'reward_params': {'n':5, 'lower': 15, 'upper': 90},\n",
        "        'env_state_mod_func': None, #Is Set in Training Loop\n",
        "        'input_size': 16,\n",
        "        'hidden_size': 512,\n",
        "        'output_size':3,\n",
        "        'activation_function': nn.ELU(),\n",
        "        'num_hidden_layers': 3,\n",
        "        'buffer_size': 300,\n",
        "        'batch_size': 100,\n",
        "        'alpha': 0.001,\n",
        "        'gamma':0.90,\n",
        "        'opt_wgt_dcy': 1e-3,\n",
        "        'dropout_rate': 0.20,\n",
        "        'device': device\n",
        "    },\n",
        "        agent_name_list[2]:{\n",
        "        'name': agent_name_list[2],\n",
        "        'environment': None,\n",
        "        'reward_function': zero_reward,\n",
        "        'reward_params': {},\n",
        "        }}\n",
        "\n",
        "if import_agents:\n",
        "    for agent, config_loc in agent_configs_to_import.items():\n",
        "        with open(config_loc, 'r') as json_file:\n",
        "            config_data = json.load(json_file)\n",
        "        agent_params[agent].update(config_data)\n",
        "        agent_params[agent].update({'device':device})   # Ensure Current Device is used for computing GPU (config)\n",
        "\n",
        "if use_best_params:\n",
        "    # Update first agent with best parameters\n",
        "    filtered_new_agent_params = {key: best_params[key] for key in agent_params[agent_name_list[0]] if key in best_params}\n",
        "    agent_params[agent_name_list[0]].update(filtered_new_agent_params)\n",
        "\n",
        "    \n",
        "    \n"
      ]
    },
    {
      "cell_type": "markdown",
      "metadata": {
        "id": "dbtjT_9IQFnq"
      },
      "source": [
        "## Agent Generation"
      ]
    },
    {
      "cell_type": "code",
      "execution_count": 34,
      "metadata": {
        "id": "5Wcjvy7-QFnq"
      },
      "outputs": [
        {
          "name": "stdout",
          "output_type": "stream",
          "text": [
            "{'profit_1': {'name': 'profit_1', 'environment': None, 'reward_function': <function future_profit at 0x000001EB0EB07420>, 'reward_params': {'n': 5, 'lower': 15, 'upper': 90}, 'env_state_mod_func': None, 'input_size': 16, 'hidden_size': 512, 'output_size': 3, 'activation_function': LeakyReLU(negative_slope=0.2), 'num_hidden_layers': 3, 'buffer_size': 290, 'batch_size': 120, 'alpha': 0.005, 'gamma': 0.96, 'opt_wgt_dcy': 0, 'dropout_rate': 0.15, 'device': 'cpu'}, 'profit_2': {'name': 'profit_2', 'environment': None, 'reward_function': <function future_profit at 0x000001EB0EB07420>, 'reward_params': {'n': 5, 'lower': 15, 'upper': 90}, 'env_state_mod_func': None, 'input_size': 16, 'hidden_size': 512, 'output_size': 3, 'activation_function': ELU(alpha=1.0), 'num_hidden_layers': 3, 'buffer_size': 300, 'batch_size': 100, 'alpha': 0.001, 'gamma': 0.9, 'opt_wgt_dcy': 0.001, 'dropout_rate': 0.2, 'device': 'cpu'}, 'random': {'name': 'random', 'environment': None, 'reward_function': <function zero_reward at 0x000001EB0EB1F600>, 'reward_params': {}}}\n"
          ]
        }
      ],
      "source": [
        "agents_dic = {}\n",
        "\n",
        "for agent_name, agent_class in agent_classes.items():\n",
        "    selected_agent = agent_class(**agent_params[agent_name])\n",
        "    agents_dic[agent_name] = selected_agent\n",
        "    if agent_name in agents_to_import.keys() and import_agents:\n",
        "        agents_dic[agent_name].import_Q_nn(agents_to_import[agent_name])\n",
        "\n",
        "print(agent_params)"
      ]
    },
    {
      "cell_type": "markdown",
      "metadata": {
        "id": "k4y7pGWBQFnq"
      },
      "source": [
        "# Training Parameters"
      ]
    },
    {
      "cell_type": "code",
      "execution_count": 35,
      "metadata": {
        "id": "nswPoExzQFnr"
      },
      "outputs": [],
      "source": [
        "training_params = {'training_episodes': 1,\n",
        "                   'epsilon_decya_func': linear_decay,\n",
        "                   'initial_epsilon': 0.9,\n",
        "                   'final_epsilon': 0.1,\n",
        "                   'update_q_freq': 1,\n",
        "                   'update_tgt_freq': 50,\n",
        "                   'save_path': export_path,\n",
        "                   'metric_func': metric_function\n",
        "                   }\n",
        "\n",
        "earlystop_params = {'min_training_episodes': 1,\n",
        "                   'early_stop': False,\n",
        "                   'stop_metric': None,\n",
        "                   'stop_patience': 2,\n",
        "                   'stop_delta': 0.001\n",
        "                    }\n",
        "\n"
      ]
    },
    {
      "cell_type": "code",
      "execution_count": 36,
      "metadata": {},
      "outputs": [],
      "source": [
        "if use_best_params:\n",
        "    # Update training params with best parameters\n",
        "    filtered_traing_params = {key: best_params[key] for key in training_params if key in best_params}\n",
        "    training_params.update(filtered_traing_params)"
      ]
    },
    {
      "cell_type": "code",
      "execution_count": 37,
      "metadata": {
        "colab": {
          "base_uri": "https://localhost:8080/"
        },
        "id": "jX37f6UKQFnr",
        "outputId": "d5599fb9-5897-4b14-b5fa-b806c405ed42"
      },
      "outputs": [
        {
          "name": "stdout",
          "output_type": "stream",
          "text": [
            "DJI ENV: Agent profit_1 added\n",
            "DJI ENV: Agent profit_1 assigned as decision agent\n",
            "\n",
            "profit_1: Training Initialized on DJI[0:3244]\n",
            "profit_1: EP 1 of 1 Finished -> ΔQ1 = 78921.99, ΔQ2 = 117190.55 | ∑R = -3233.64, μR = -1.00 σR = 4.19                                                                                                                                                     \n",
            "profit_1: Training finished on DJI[0:3244]\n",
            "\n",
            "profit_1: Q-Network Exported to file \"C:/programming/MADDQN/test_unit_run2/profit_1/profit_1_model\"\n",
            "DJI ENV: Agent profit_1 removed\n",
            "NDAQ ENV: Agent profit_1 added\n",
            "NDAQ ENV: Agent profit_1 assigned as decision agent\n",
            "\n",
            "profit_1: Training Initialized on NDAQ[0:3244]\n",
            "profit_1: EP 1 of 1 Finished -> ΔQ1 = 16366349.00, ΔQ2 = 17958438.00 | ∑R = -5844.21, μR = -1.80 σR = 4.49                                                                                                                                                \n",
            "profit_1: Training finished on NDAQ[0:3244]\n",
            "\n",
            "profit_1: Q-Network Exported to file \"C:/programming/MADDQN/test_unit_run2/profit_1/profit_1_model\"\n",
            "NDAQ ENV: Agent profit_1 removed\n",
            "SP500 ENV: Agent profit_1 added\n",
            "SP500 ENV: Agent profit_1 assigned as decision agent\n",
            "\n",
            "profit_1: Training Initialized on SP500[0:3244]\n",
            "profit_1: EP 1 of 1 Finished -> ΔQ1 = 134398960.00, ΔQ2 = 131984488.00 | ∑R = -5392.29, μR = -1.66 σR = 4.39                                                                                                                                              \n",
            "profit_1: Training finished on SP500[0:3244]\n",
            "\n",
            "profit_1: Q-Network Exported to file \"C:/programming/MADDQN/test_unit_run2/profit_1/profit_1_model\"\n",
            "SP500 ENV: Agent profit_1 removed\n",
            "DJI ENV: Agent profit_2 added\n",
            "DJI ENV: Agent profit_2 assigned as decision agent\n",
            "\n",
            "profit_2: Training Initialized on DJI[0:3244]\n",
            "profit_2: EP 1 of 1 Finished -> ΔQ1 = 131.23, ΔQ2 = 283.17 | ∑R = -6323.46, μR = -1.95 σR = 3.90                                                                                                                                                          \n",
            "profit_2: Training finished on DJI[0:3244]\n",
            "\n",
            "profit_2: Q-Network Exported to file \"C:/programming/MADDQN/test_unit_run2/profit_2/profit_2_model\"\n",
            "DJI ENV: Agent profit_2 removed\n",
            "NDAQ ENV: Agent profit_2 added\n",
            "NDAQ ENV: Agent profit_2 assigned as decision agent\n",
            "\n",
            "profit_2: Training Initialized on NDAQ[0:3244]\n",
            "profit_2: EP 1 of 1 Finished -> ΔQ1 = 0.47, ΔQ2 = 0.48 | ∑R = -2622.69, μR = -0.81 σR = 3.12                                                                                                                                                              \n",
            "profit_2: Training finished on NDAQ[0:3244]\n",
            "\n",
            "profit_2: Q-Network Exported to file \"C:/programming/MADDQN/test_unit_run2/profit_2/profit_2_model\"\n",
            "NDAQ ENV: Agent profit_2 removed\n",
            "SP500 ENV: Agent profit_2 added\n",
            "SP500 ENV: Agent profit_2 assigned as decision agent\n",
            "\n",
            "profit_2: Training Initialized on SP500[0:3244]\n",
            "profit_2: EP 1 of 1 Finished -> ΔQ1 = 0.45, ΔQ2 = 0.37 | ∑R = 9555.21, μR = 2.95 σR = 23.84                                                                                                                                                               \n",
            "profit_2: Training finished on SP500[0:3244]\n",
            "\n",
            "profit_2: Q-Network Exported to file \"C:/programming/MADDQN/test_unit_run2/profit_2/profit_2_model\"\n",
            "SP500 ENV: Agent profit_2 removed\n"
          ]
        }
      ],
      "source": [
        "\n",
        "if train_agent:\n",
        "    \n",
        "    # Export Training Parameters (Does nost handle imported parameters Q_value/Tgt_value)\n",
        "    train_param_file_name = save_path_root + '/train_params.txt'\n",
        "    with open(train_param_file_name, 'w') as file:\n",
        "        for key, value in training_params.items():\n",
        "            file.write(f'{key}:\\t\\t{value}\\n')\n",
        "    # Export Early Stop Paramters:\n",
        "    train_param_file_name = save_path_root + '/earlystop_params.txt'\n",
        "    with open(train_param_file_name, 'w') as file:\n",
        "        for key, value in training_params.items():\n",
        "            file.write(f'{key}:\\t\\t{value}\\n')   \n",
        "    # Agent Params\n",
        "    train_param_file_name = save_path_root + '/agent_params.txt'\n",
        "    with open(train_param_file_name, 'w') as file:\n",
        "        for agent in agent_params:\n",
        "            file.write(f'{agent}------\\n')\n",
        "            for key, value in agent_params[agent].items():\n",
        "                file.write(f'\\t{key}:\\t\\t{value}\\n')\n",
        "\n",
        "    # Which Agents to Train\n",
        "    filtered_agents = {\n",
        "        decision_agent: agents_in_setup\n",
        "        for decision_agent, agents_in_setup in agent_setup.items()\n",
        "        if decision_agent in agents_to_train\n",
        "    }\n",
        "\n",
        "    for decision_agent, agents_in_setup in filtered_agents.items():\n",
        "        for key in trn_keys:\n",
        "            rl_env = env[key]\n",
        "\n",
        "            if validate:\n",
        "                idx_params = {'start_idx': trn_idx[key][0],\n",
        "                              'end_idx':trn_idx[key][1],\n",
        "                              'val_start_idx': val_idx[key][0],\n",
        "                              'val_end_idx': val_idx[key][1]}\n",
        "            else:\n",
        "                idx_params ={'start_idx': trn_idx[key][0],\n",
        "                             'end_idx':trn_idx[key][1],\n",
        "                             'val_start_idx': None,\n",
        "                             'val_end_idx': None}\n",
        "\n",
        "            combined_params = training_params | earlystop_params | idx_params\n",
        "\n",
        "            # Setup agents with environment\n",
        "            rl_env.add_agent(decision_agent)\n",
        "            rl_env.set_decision_agent(decision_agent)   \n",
        "            agents_dic[decision_agent].set_environment(rl_env)\n",
        "\n",
        "            # Multi-Agent Setup\n",
        "            if decision_agent not in agents_in_setup or len(agents_in_setup) != 1:\n",
        "                subagent_list = []\n",
        "                for agent in agents_in_setup:\n",
        "                    subagent_list.append(agents_dic[agent])\n",
        "                env_mod_func_dic[key].add_subagents(subagent_list)\n",
        "            \n",
        "            #Train Agent    \n",
        "            agents_dic[decision_agent].set_env_stat_modify_func(env_mod_func_dic[key].process)\n",
        "            agents_dic[decision_agent].train(**combined_params)\n",
        "            \n",
        "            # Remove Multi-Agent Setup in ENV_MOD function\n",
        "            if decision_agent not in agents_in_setup or len(agents_in_setup) != 1:\n",
        "                env_mod_func_dic[key].remove_subagents()\n",
        "\n",
        "            # Save Agent\n",
        "            save_agent_path = save_path_root + f'/{decision_agent}/'\n",
        "            os.makedirs(save_agent_path, exist_ok=True)\n",
        "            file_root_name = f'{key}_TRN_{trn_idx[key][0]}-{trn_idx[key][1]}'\n",
        "            agents_dic[decision_agent].export_Q_nn(f'{save_agent_path}{decision_agent}_model')\n",
        "            agents_dic[decision_agent].save_config(f'{save_agent_path}{decision_agent}_config.json')\n",
        "            \n",
        "            # Create/Export Records\n",
        "            env_data_record = rl_env.get_step_data()\n",
        "            agent_data_record = agents_dic[decision_agent].get_step_data()\n",
        "            training_record =  pd.concat([env_data_record, agent_data_record], axis=1, join='inner')\n",
        "            training_record.to_csv(f'{save_agent_path}{file_root_name}_step_data.csv')\n",
        "            episodic_training_record = agents_dic[decision_agent].get_training_episodic_data()\n",
        "            episodic_training_record.to_csv(f'{save_agent_path}{file_root_name}_epi_data.csv')\n",
        "\n",
        "            # Remove Agent\n",
        "            rl_env.remove_agent(decision_agent)\n",
        "            agents_dic[decision_agent].set_environment(None)\n",
        "\n"
      ]
    },
    {
      "cell_type": "markdown",
      "metadata": {
        "id": "CVcrJ5qVQFns"
      },
      "source": [
        "# Agent Testing"
      ]
    },
    {
      "cell_type": "markdown",
      "metadata": {
        "id": "Xc6ZYhOsQFns"
      },
      "source": [
        "## Parameters"
      ]
    },
    {
      "cell_type": "code",
      "execution_count": 38,
      "metadata": {
        "id": "qegyTiiIQFns"
      },
      "outputs": [],
      "source": [
        "testing_params = {DdqnAgent: {\n",
        "                   'metric_func': metric_function,\n",
        "                   'metric_func_arg': {},\n",
        "                   'testing_episodes':1},\n",
        "                  RandomAgent: {\n",
        "                    'metric_func': metric_function,\n",
        "                   'metric_func_arg': {},\n",
        "                   'testing_episodes':5}}"
      ]
    },
    {
      "cell_type": "markdown",
      "metadata": {
        "id": "9rF1E25JQFns"
      },
      "source": [
        "## Testing"
      ]
    },
    {
      "cell_type": "code",
      "execution_count": 39,
      "metadata": {
        "id": "8buSLH7yQFnt"
      },
      "outputs": [
        {
          "name": "stdout",
          "output_type": "stream",
          "text": [
            "AAPL ENV: Agent profit_1 added\n",
            "AAPL ENV: Agent profit_1 assigned as decision agent\n",
            "\n",
            "profit_1: Testing Initialized on AAPL[3272:4250]\n",
            "profit_1 - AAPL[3272:4250] - Testing Finished - EP - 1 of 1-> ∑R = -98342.85, μR = -100.56, σR = 644.67\n",
            "profit_1: Testing Complete on AAPL[3272:4250]\n",
            "\n",
            "AAPL ENV: Agent profit_1 removed\n",
            "AAPL ENV: Agent profit_2 added\n",
            "AAPL ENV: Agent profit_2 assigned as decision agent\n",
            "\n",
            "profit_2: Testing Initialized on AAPL[3272:4250]\n",
            "profit_2 - AAPL[3272:4250] - Testing Finished - EP - 1 of 1-> ∑R = -2758.76, μR = -2.82, σR = 1992.51\n",
            "profit_2: Testing Complete on AAPL[3272:4250]\n",
            "\n",
            "AAPL ENV: Agent profit_2 removed\n",
            "AAPL ENV: Agent random added\n",
            "AAPL ENV: Agent random assigned as decision agent\n",
            "random: Testing Initialized on AAPL[3272:4250]\n",
            "random: EP 5 of 5 Finished -> ∑R = -85666.82, μR = -87.59, σR = 942.13                                                                                                                                  \n",
            "random: Testing Complete on AAPL[3272:4250]\n",
            "AAPL ENV: Agent random removed\n",
            "AMZN ENV: Agent profit_1 added\n",
            "AMZN ENV: Agent profit_1 assigned as decision agent\n",
            "\n",
            "profit_1: Testing Initialized on AMZN[3272:4250]\n",
            "profit_1 - AMZN[3272:4250] - Testing Finished - EP - 1 of 1-> ∑R = -95797.69, μR = -97.95, σR = 687.79\n",
            "profit_1: Testing Complete on AMZN[3272:4250]\n",
            "\n",
            "AMZN ENV: Agent profit_1 removed\n",
            "AMZN ENV: Agent profit_2 added\n",
            "AMZN ENV: Agent profit_2 assigned as decision agent\n",
            "\n",
            "profit_2: Testing Initialized on AMZN[3272:4250]\n",
            "profit_2 - AMZN[3272:4250] - Testing Finished - EP - 1 of 1-> ∑R = -56252.97, μR = -57.52, σR = 1588.18\n",
            "profit_2: Testing Complete on AMZN[3272:4250]\n",
            "\n",
            "AMZN ENV: Agent profit_2 removed\n",
            "AMZN ENV: Agent random added\n",
            "AMZN ENV: Agent random assigned as decision agent\n",
            "random: Testing Initialized on AMZN[3272:4250]\n",
            "random: EP 5 of 5 Finished -> ∑R = -89507.97, μR = -91.52, σR = 905.73                                                                                                                                  \n",
            "random: Testing Complete on AMZN[3272:4250]\n",
            "AMZN ENV: Agent random removed\n",
            "GOOGL ENV: Agent profit_1 added\n",
            "GOOGL ENV: Agent profit_1 assigned as decision agent\n",
            "\n",
            "profit_1: Testing Initialized on GOOGL[3272:4250]\n",
            "profit_1 - GOOGL[3272:4250] - Testing Finished - EP - 1 of 1-> ∑R = -8796.23, μR = -8.99, σR = 210.18\n",
            "profit_1: Testing Complete on GOOGL[3272:4250]\n",
            "\n",
            "GOOGL ENV: Agent profit_1 removed\n",
            "GOOGL ENV: Agent profit_2 added\n",
            "GOOGL ENV: Agent profit_2 assigned as decision agent\n",
            "\n",
            "profit_2: Testing Initialized on GOOGL[3272:4250]\n",
            "profit_2 - GOOGL[3272:4250] - Testing Finished - EP - 1 of 1-> ∑R = -5842.85, μR = -5.97, σR = 1756.09\n",
            "profit_2: Testing Complete on GOOGL[3272:4250]\n",
            "\n",
            "GOOGL ENV: Agent profit_2 removed\n",
            "GOOGL ENV: Agent random added\n",
            "GOOGL ENV: Agent random assigned as decision agent\n",
            "random: Testing Initialized on GOOGL[3272:4250]\n",
            "random: EP 5 of 5 Finished -> ∑R = -85362.41, μR = -87.28, σR = 906.21                                                                                                                                  \n",
            "random: Testing Complete on GOOGL[3272:4250]\n",
            "GOOGL ENV: Agent random removed\n",
            "MSFT ENV: Agent profit_1 added\n",
            "MSFT ENV: Agent profit_1 assigned as decision agent\n",
            "\n",
            "profit_1: Testing Initialized on MSFT[3272:4250]\n",
            "profit_1 - MSFT[3272:4250] - Testing Finished - EP - 1 of 1-> ∑R = -99036.63, μR = -101.26, σR = 715.50\n",
            "profit_1: Testing Complete on MSFT[3272:4250]\n",
            "\n",
            "MSFT ENV: Agent profit_1 removed\n",
            "MSFT ENV: Agent profit_2 added\n",
            "MSFT ENV: Agent profit_2 assigned as decision agent\n",
            "\n",
            "profit_2: Testing Initialized on MSFT[3272:4250]\n",
            "profit_2 - MSFT[3272:4250] - Testing Finished - EP - 1 of 1-> ∑R = 12044.93, μR = 12.32, σR = 1780.08\n",
            "profit_2: Testing Complete on MSFT[3272:4250]\n",
            "\n",
            "MSFT ENV: Agent profit_2 removed\n",
            "MSFT ENV: Agent random added\n",
            "MSFT ENV: Agent random assigned as decision agent\n",
            "random: Testing Initialized on MSFT[3272:4250]\n",
            "random: EP 5 of 5 Finished -> ∑R = -87031.39, μR = -88.99, σR = 897.37                                                                                                                                  \n",
            "random: Testing Complete on MSFT[3272:4250]\n",
            "MSFT ENV: Agent random removed\n",
            "FORD ENV: Agent profit_1 added\n",
            "FORD ENV: Agent profit_1 assigned as decision agent\n",
            "\n",
            "profit_1: Testing Initialized on FORD[3272:4250]\n",
            "profit_1 - FORD[3272:4250] - Testing Finished - EP - 1 of 1-> ∑R = 0.00, μR = 0.00, σR = 0.00\n",
            "profit_1: Testing Complete on FORD[3272:4250]\n",
            "\n",
            "FORD ENV: Agent profit_1 removed\n",
            "FORD ENV: Agent profit_2 added\n",
            "FORD ENV: Agent profit_2 assigned as decision agent\n",
            "\n",
            "profit_2: Testing Initialized on FORD[3272:4250]\n",
            "profit_2 - FORD[3272:4250] - Testing Finished - EP - 1 of 1-> ∑R = -69068.34, μR = -70.62, σR = 1058.40\n",
            "profit_2: Testing Complete on FORD[3272:4250]\n",
            "\n",
            "FORD ENV: Agent profit_2 removed\n",
            "FORD ENV: Agent random added\n",
            "FORD ENV: Agent random assigned as decision agent\n",
            "random: Testing Initialized on FORD[3272:4250]\n",
            "random: EP 5 of 5 Finished -> ∑R = -92258.28, μR = -94.33, σR = 1230.37                                                                                                                                 \n",
            "random: Testing Complete on FORD[3272:4250]\n",
            "FORD ENV: Agent random removed\n",
            "JNJ ENV: Agent profit_1 added\n",
            "JNJ ENV: Agent profit_1 assigned as decision agent\n",
            "\n",
            "profit_1: Testing Initialized on JNJ[3272:4250]\n",
            "profit_1 - JNJ[3272:4250] - Testing Finished - EP - 1 of 1-> ∑R = 0.00, μR = 0.00, σR = 0.00\n",
            "profit_1: Testing Complete on JNJ[3272:4250]\n",
            "\n",
            "JNJ ENV: Agent profit_1 removed\n",
            "JNJ ENV: Agent profit_2 added\n",
            "JNJ ENV: Agent profit_2 assigned as decision agent\n",
            "\n",
            "profit_2: Testing Initialized on JNJ[3272:4250]\n",
            "profit_2 - JNJ[3272:4250] - Testing Finished - EP - 1 of 1-> ∑R = -17089.65, μR = -17.47, σR = 643.16\n",
            "profit_2: Testing Complete on JNJ[3272:4250]\n",
            "\n",
            "JNJ ENV: Agent profit_2 removed\n",
            "JNJ ENV: Agent random added\n",
            "JNJ ENV: Agent random assigned as decision agent\n",
            "random: Testing Initialized on JNJ[3272:4250]\n",
            "random: EP 5 of 5 Finished -> ∑R = -89479.24, μR = -91.49, σR = 614.29                                                                                                                                  \n",
            "random: Testing Complete on JNJ[3272:4250]\n",
            "JNJ ENV: Agent random removed\n",
            "NEE ENV: Agent profit_1 added\n",
            "NEE ENV: Agent profit_1 assigned as decision agent\n",
            "\n",
            "profit_1: Testing Initialized on NEE[3272:4250]\n",
            "profit_1 - NEE[3272:4250] - Testing Finished - EP - 1 of 1-> ∑R = -99295.33, μR = -101.53, σR = 757.14\n",
            "profit_1: Testing Complete on NEE[3272:4250]\n",
            "\n",
            "NEE ENV: Agent profit_1 removed\n",
            "NEE ENV: Agent profit_2 added\n",
            "NEE ENV: Agent profit_2 assigned as decision agent\n",
            "\n",
            "profit_2: Testing Initialized on NEE[3272:4250]\n",
            "profit_2 - NEE[3272:4250] - Testing Finished - EP - 1 of 1-> ∑R = -48584.51, μR = -49.68, σR = 1597.97\n",
            "profit_2: Testing Complete on NEE[3272:4250]\n",
            "\n",
            "NEE ENV: Agent profit_2 removed\n",
            "NEE ENV: Agent random added\n",
            "NEE ENV: Agent random assigned as decision agent\n",
            "random: Testing Initialized on NEE[3272:4250]\n",
            "random: EP 5 of 5 Finished -> ∑R = -87983.67, μR = -89.96, σR = 1083.68                                                                                                                                 \n",
            "random: Testing Complete on NEE[3272:4250]\n",
            "NEE ENV: Agent random removed\n",
            "PFE ENV: Agent profit_1 added\n",
            "PFE ENV: Agent profit_1 assigned as decision agent\n",
            "\n",
            "profit_1: Testing Initialized on PFE[3272:4250]\n",
            "profit_1 - PFE[3272:4250] - Testing Finished - EP - 1 of 1-> ∑R = 0.00, μR = 0.00, σR = 0.00\n",
            "profit_1: Testing Complete on PFE[3272:4250]\n",
            "\n",
            "PFE ENV: Agent profit_1 removed\n",
            "PFE ENV: Agent profit_2 added\n",
            "PFE ENV: Agent profit_2 assigned as decision agent\n",
            "\n",
            "profit_2: Testing Initialized on PFE[3272:4250]\n",
            "profit_2 - PFE[3272:4250] - Testing Finished - EP - 1 of 1-> ∑R = -28668.01, μR = -29.31, σR = 952.77\n",
            "profit_2: Testing Complete on PFE[3272:4250]\n",
            "\n",
            "PFE ENV: Agent profit_2 removed\n",
            "PFE ENV: Agent random added\n",
            "PFE ENV: Agent random assigned as decision agent\n",
            "random: Testing Initialized on PFE[3272:4250]\n",
            "random: EP 5 of 5 Finished -> ∑R = -86708.73, μR = -88.66, σR = 876.04                                                                                                                                  \n",
            "random: Testing Complete on PFE[3272:4250]\n",
            "PFE ENV: Agent random removed\n",
            "TSLA ENV: Agent profit_1 added\n",
            "TSLA ENV: Agent profit_1 assigned as decision agent\n",
            "\n",
            "profit_1: Testing Initialized on TSLA[2394:3372]\n",
            "profit_1 - TSLA[2394:3372] - Testing Finished - EP - 1 of 1-> ∑R = 433845.03, μR = 443.60, σR = 18331.64\n",
            "profit_1: Testing Complete on TSLA[2394:3372]\n",
            "\n",
            "TSLA ENV: Agent profit_1 removed\n",
            "TSLA ENV: Agent profit_2 added\n",
            "TSLA ENV: Agent profit_2 assigned as decision agent\n",
            "\n",
            "profit_2: Testing Initialized on TSLA[2394:3372]\n",
            "profit_2 - TSLA[2394:3372] - Testing Finished - EP - 1 of 1-> ∑R = 150665.38, μR = 154.05, σR = 9349.11\n",
            "profit_2: Testing Complete on TSLA[2394:3372]\n",
            "\n",
            "TSLA ENV: Agent profit_2 removed\n",
            "TSLA ENV: Agent random added\n",
            "TSLA ENV: Agent random assigned as decision agent\n",
            "random: Testing Initialized on TSLA[2394:3372]\n",
            "random: EP 5 of 5 Finished -> ∑R = -76191.85, μR = -77.91, σR = 4468.17                                                                                                                                 \n",
            "random: Testing Complete on TSLA[2394:3372]\n",
            "TSLA ENV: Agent random removed\n",
            "COKE ENV: Agent profit_1 added\n",
            "COKE ENV: Agent profit_1 assigned as decision agent\n",
            "\n",
            "profit_1: Testing Initialized on COKE[3272:4250]\n",
            "profit_1 - COKE[3272:4250] - Testing Finished - EP - 1 of 1-> ∑R = -18766.08, μR = -19.19, σR = 236.46\n",
            "profit_1: Testing Complete on COKE[3272:4250]\n",
            "\n",
            "COKE ENV: Agent profit_1 removed\n",
            "COKE ENV: Agent profit_2 added\n",
            "COKE ENV: Agent profit_2 assigned as decision agent\n",
            "\n",
            "profit_2: Testing Initialized on COKE[3272:4250]\n",
            "profit_2 - COKE[3272:4250] - Testing Finished - EP - 1 of 1-> ∑R = 79577.25, μR = 81.37, σR = 2770.05\n",
            "profit_2: Testing Complete on COKE[3272:4250]\n",
            "\n",
            "COKE ENV: Agent profit_2 removed\n",
            "COKE ENV: Agent random added\n",
            "COKE ENV: Agent random assigned as decision agent\n",
            "random: Testing Initialized on COKE[3272:4250]\n",
            "random: EP 5 of 5 Finished -> ∑R = -72270.29, μR = -73.90, σR = 1408.16                                                                                                                                 \n",
            "random: Testing Complete on COKE[3272:4250]\n",
            "COKE ENV: Agent random removed\n",
            "PG ENV: Agent profit_1 added\n",
            "PG ENV: Agent profit_1 assigned as decision agent\n",
            "\n",
            "profit_1: Testing Initialized on PG[3272:4250]\n",
            "profit_1 - PG[3272:4250] - Testing Finished - EP - 1 of 1-> ∑R = 0.00, μR = 0.00, σR = 0.00\n",
            "profit_1: Testing Complete on PG[3272:4250]\n",
            "\n",
            "PG ENV: Agent profit_1 removed\n",
            "PG ENV: Agent profit_2 added\n",
            "PG ENV: Agent profit_2 assigned as decision agent\n",
            "\n",
            "profit_2: Testing Initialized on PG[3272:4250]\n",
            "profit_2 - PG[3272:4250] - Testing Finished - EP - 1 of 1-> ∑R = -32322.32, μR = -33.05, σR = 702.10\n",
            "profit_2: Testing Complete on PG[3272:4250]\n",
            "\n",
            "PG ENV: Agent profit_2 removed\n",
            "PG ENV: Agent random added\n",
            "PG ENV: Agent random assigned as decision agent\n",
            "random: Testing Initialized on PG[3272:4250]\n",
            "random: EP 5 of 5 Finished -> ∑R = -92222.65, μR = -94.30, σR = 616.17                                                                                                                                  \n",
            "random: Testing Complete on PG[3272:4250]\n",
            "PG ENV: Agent random removed\n"
          ]
        },
        {
          "data": {
            "text/plain": [
              "{'AAPL': {'profit_1': {'3272:4250': {0: {'n_trades': 480,\n",
              "     'n_wins': 259,\n",
              "     'n_losses': 220,\n",
              "     'win_percentage': 53.95833333333333,\n",
              "     'cumulative_return': 1.9449771976964352,\n",
              "     'sortino': 1.8871512854400208,\n",
              "     'max_drawdown': -20.29911604458361,\n",
              "     'sharpe': 1.2802997735642752,\n",
              "     'trade_dur_avg': 1.0,\n",
              "     'trade_dur_min': 1,\n",
              "     'trade_dur_max': 1,\n",
              "     'buy_hold': 2.4227784730913644}}},\n",
              "  'profit_2': {'3272:4250': {0: {'n_trades': 61,\n",
              "     'n_wins': 38,\n",
              "     'n_losses': 23,\n",
              "     'win_percentage': 62.295081967213115,\n",
              "     'cumulative_return': 1.7911217507109252,\n",
              "     'sortino': 4.094335890217441,\n",
              "     'max_drawdown': -34.35545846437793,\n",
              "     'sharpe': 2.606347028834001,\n",
              "     'trade_dur_avg': 14.836065573770492,\n",
              "     'trade_dur_min': 1,\n",
              "     'trade_dur_max': 23,\n",
              "     'buy_hold': 2.4227784730913644}}},\n",
              "  'random': {'3272:4250': {0: {'n_trades': 238,\n",
              "     'n_wins': 128,\n",
              "     'n_losses': 110,\n",
              "     'win_percentage': 53.78151260504202,\n",
              "     'cumulative_return': 1.309632192072814,\n",
              "     'sortino': 1.2426614036715113,\n",
              "     'max_drawdown': -29.962015106579198,\n",
              "     'sharpe': 0.8762807791827234,\n",
              "     'trade_dur_avg': 2.0294117647058822,\n",
              "     'trade_dur_min': 1,\n",
              "     'trade_dur_max': 9,\n",
              "     'buy_hold': 2.4227784730913644},\n",
              "    1: {'n_trades': 261,\n",
              "     'n_wins': 136,\n",
              "     'n_losses': 124,\n",
              "     'win_percentage': 52.10727969348659,\n",
              "     'cumulative_return': 2.4770979632418815,\n",
              "     'sortino': 4.080220409611661,\n",
              "     'max_drawdown': -19.135795724900206,\n",
              "     'sharpe': 2.277943035132137,\n",
              "     'trade_dur_avg': 1.8773946360153257,\n",
              "     'trade_dur_min': 1,\n",
              "     'trade_dur_max': 7,\n",
              "     'buy_hold': 2.4227784730913644},\n",
              "    2: {'n_trades': 259,\n",
              "     'n_wins': 134,\n",
              "     'n_losses': 125,\n",
              "     'win_percentage': 51.737451737451735,\n",
              "     'cumulative_return': 1.503353154657629,\n",
              "     'sortino': 1.8328690690620655,\n",
              "     'max_drawdown': -53.87392779986933,\n",
              "     'sharpe': 1.1724543219966803,\n",
              "     'trade_dur_avg': 1.8262548262548262,\n",
              "     'trade_dur_min': 1,\n",
              "     'trade_dur_max': 6,\n",
              "     'buy_hold': 2.4227784730913644},\n",
              "    3: {'n_trades': 237,\n",
              "     'n_wins': 122,\n",
              "     'n_losses': 114,\n",
              "     'win_percentage': 51.47679324894515,\n",
              "     'cumulative_return': 1.118947292284794,\n",
              "     'sortino': 0.6888995031020168,\n",
              "     'max_drawdown': -27.135680763644555,\n",
              "     'sharpe': 0.4990300864626286,\n",
              "     'trade_dur_avg': 1.9957805907172996,\n",
              "     'trade_dur_min': 1,\n",
              "     'trade_dur_max': 8,\n",
              "     'buy_hold': 2.4227784730913644},\n",
              "    4: {'n_trades': 228,\n",
              "     'n_wins': 119,\n",
              "     'n_losses': 109,\n",
              "     'win_percentage': 52.19298245614035,\n",
              "     'cumulative_return': 1.4096309029359908,\n",
              "     'sortino': 1.5051131770175217,\n",
              "     'max_drawdown': -31.941381134826763,\n",
              "     'sharpe': 1.0302433847473753,\n",
              "     'trade_dur_avg': 2.263157894736842,\n",
              "     'trade_dur_min': 1,\n",
              "     'trade_dur_max': 10,\n",
              "     'buy_hold': 2.4227784730913644}}}},\n",
              " 'AMZN': {'profit_1': {'3272:4250': {0: {'n_trades': 348,\n",
              "     'n_wins': 179,\n",
              "     'n_losses': 169,\n",
              "     'win_percentage': 51.43678160919541,\n",
              "     'cumulative_return': 1.3626064088147885,\n",
              "     'sortino': 1.1877465877382747,\n",
              "     'max_drawdown': -30.73881371141369,\n",
              "     'sharpe': 0.7833272752088128,\n",
              "     'trade_dur_avg': 1.0,\n",
              "     'trade_dur_min': 1,\n",
              "     'trade_dur_max': 1,\n",
              "     'buy_hold': 1.4262599962804536}}},\n",
              "  'profit_2': {'3272:4250': {0: {'n_trades': 92,\n",
              "     'n_wins': 47,\n",
              "     'n_losses': 45,\n",
              "     'win_percentage': 51.08695652173913,\n",
              "     'cumulative_return': 1.1035550816042814,\n",
              "     'sortino': 1.1711116190137414,\n",
              "     'max_drawdown': -55.83149350822359,\n",
              "     'sharpe': 0.823668119045206,\n",
              "     'trade_dur_avg': 9.25,\n",
              "     'trade_dur_min': 5,\n",
              "     'trade_dur_max': 13,\n",
              "     'buy_hold': 1.4262599962804536}}},\n",
              "  'random': {'3272:4250': {0: {'n_trades': 233,\n",
              "     'n_wins': 123,\n",
              "     'n_losses': 109,\n",
              "     'win_percentage': 52.78969957081545,\n",
              "     'cumulative_return': 1.5104384501087516,\n",
              "     'sortino': 1.789332622619425,\n",
              "     'max_drawdown': -36.36237968966212,\n",
              "     'sharpe': 1.1368405048126409,\n",
              "     'trade_dur_avg': 2.0472103004291844,\n",
              "     'trade_dur_min': 1,\n",
              "     'trade_dur_max': 7,\n",
              "     'buy_hold': 1.4262599962804536},\n",
              "    1: {'n_trades': 253,\n",
              "     'n_wins': 130,\n",
              "     'n_losses': 123,\n",
              "     'win_percentage': 51.38339920948617,\n",
              "     'cumulative_return': 0.9733264490183363,\n",
              "     'sortino': 0.27318316564428335,\n",
              "     'max_drawdown': -47.738111020454824,\n",
              "     'sharpe': 0.1918404378325726,\n",
              "     'trade_dur_avg': 1.9446640316205535,\n",
              "     'trade_dur_min': 1,\n",
              "     'trade_dur_max': 7,\n",
              "     'buy_hold': 1.4262599962804536},\n",
              "    2: {'n_trades': 258,\n",
              "     'n_wins': 136,\n",
              "     'n_losses': 122,\n",
              "     'win_percentage': 52.71317829457365,\n",
              "     'cumulative_return': 0.8877946659072947,\n",
              "     'sortino': 0.04232924374146807,\n",
              "     'max_drawdown': -50.82340008649019,\n",
              "     'sharpe': 0.028746245330258834,\n",
              "     'trade_dur_avg': 2.003875968992248,\n",
              "     'trade_dur_min': 1,\n",
              "     'trade_dur_max': 12,\n",
              "     'buy_hold': 1.4262599962804536},\n",
              "    3: {'n_trades': 235,\n",
              "     'n_wins': 125,\n",
              "     'n_losses': 109,\n",
              "     'win_percentage': 53.191489361702125,\n",
              "     'cumulative_return': 1.3961913694167438,\n",
              "     'sortino': 1.341809947183192,\n",
              "     'max_drawdown': -39.358169965609235,\n",
              "     'sharpe': 0.8867948653518277,\n",
              "     'trade_dur_avg': 2.1361702127659576,\n",
              "     'trade_dur_min': 1,\n",
              "     'trade_dur_max': 7,\n",
              "     'buy_hold': 1.4262599962804536},\n",
              "    4: {'n_trades': 245,\n",
              "     'n_wins': 124,\n",
              "     'n_losses': 120,\n",
              "     'win_percentage': 50.61224489795918,\n",
              "     'cumulative_return': 1.2210985932973415,\n",
              "     'sortino': 0.9964526058672039,\n",
              "     'max_drawdown': -42.61307889315762,\n",
              "     'sharpe': 0.6439653004447808,\n",
              "     'trade_dur_avg': 1.926530612244898,\n",
              "     'trade_dur_min': 1,\n",
              "     'trade_dur_max': 9,\n",
              "     'buy_hold': 1.4262599962804536}}}},\n",
              " 'GOOGL': {'profit_1': {'3272:4250': {0: {'n_trades': 7,\n",
              "     'n_wins': 5,\n",
              "     'n_losses': 2,\n",
              "     'win_percentage': 71.42857142857143,\n",
              "     'cumulative_return': 0.9785847679284508,\n",
              "     'sortino': -2.2057774963519545,\n",
              "     'max_drawdown': -4.834973943254206,\n",
              "     'sharpe': -1.699858485843507,\n",
              "     'trade_dur_avg': 1.0,\n",
              "     'trade_dur_min': 1,\n",
              "     'trade_dur_max': 1,\n",
              "     'buy_hold': 1.8573509933774832}}},\n",
              "  'profit_2': {'3272:4250': {0: {'n_trades': 68,\n",
              "     'n_wins': 37,\n",
              "     'n_losses': 31,\n",
              "     'win_percentage': 54.41176470588235,\n",
              "     'cumulative_return': 1.8601658962233225,\n",
              "     'sortino': 4.671004571301698,\n",
              "     'max_drawdown': -31.67524489099821,\n",
              "     'sharpe': 2.785723954321752,\n",
              "     'trade_dur_avg': 12.852941176470589,\n",
              "     'trade_dur_min': 5,\n",
              "     'trade_dur_max': 20,\n",
              "     'buy_hold': 1.8573509933774832}}},\n",
              "  'random': {'3272:4250': {0: {'n_trades': 240,\n",
              "     'n_wins': 120,\n",
              "     'n_losses': 119,\n",
              "     'win_percentage': 50.0,\n",
              "     'cumulative_return': 0.9796944961868833,\n",
              "     'sortino': 0.24878216209228018,\n",
              "     'max_drawdown': -26.828767064128712,\n",
              "     'sharpe': 0.1805957243841303,\n",
              "     'trade_dur_avg': 2.1083333333333334,\n",
              "     'trade_dur_min': 1,\n",
              "     'trade_dur_max': 9,\n",
              "     'buy_hold': 1.8573509933774832},\n",
              "    1: {'n_trades': 240,\n",
              "     'n_wins': 125,\n",
              "     'n_losses': 115,\n",
              "     'win_percentage': 52.083333333333336,\n",
              "     'cumulative_return': 1.2168418924294702,\n",
              "     'sortino': 0.9713971635495098,\n",
              "     'max_drawdown': -31.308051197858777,\n",
              "     'sharpe': 0.6711999843271608,\n",
              "     'trade_dur_avg': 2.091666666666667,\n",
              "     'trade_dur_min': 1,\n",
              "     'trade_dur_max': 9,\n",
              "     'buy_hold': 1.8573509933774832},\n",
              "    2: {'n_trades': 247,\n",
              "     'n_wins': 130,\n",
              "     'n_losses': 117,\n",
              "     'win_percentage': 52.63157894736842,\n",
              "     'cumulative_return': 1.1623364326057877,\n",
              "     'sortino': 0.8095154226894864,\n",
              "     'max_drawdown': -55.45097060707052,\n",
              "     'sharpe': 0.5619084690243422,\n",
              "     'trade_dur_avg': 1.9311740890688258,\n",
              "     'trade_dur_min': 1,\n",
              "     'trade_dur_max': 8,\n",
              "     'buy_hold': 1.8573509933774832},\n",
              "    3: {'n_trades': 238,\n",
              "     'n_wins': 132,\n",
              "     'n_losses': 106,\n",
              "     'win_percentage': 55.46218487394958,\n",
              "     'cumulative_return': 1.358077780070686,\n",
              "     'sortino': 1.4146380400950365,\n",
              "     'max_drawdown': -20.677443232683235,\n",
              "     'sharpe': 0.964354285480616,\n",
              "     'trade_dur_avg': 2.0504201680672267,\n",
              "     'trade_dur_min': 1,\n",
              "     'trade_dur_max': 7,\n",
              "     'buy_hold': 1.8573509933774832},\n",
              "    4: {'n_trades': 237,\n",
              "     'n_wins': 131,\n",
              "     'n_losses': 105,\n",
              "     'win_percentage': 55.27426160337553,\n",
              "     'cumulative_return': 1.5775572735466719,\n",
              "     'sortino': 2.0313373087355586,\n",
              "     'max_drawdown': -43.20167367045242,\n",
              "     'sharpe': 1.2996318204057327,\n",
              "     'trade_dur_avg': 2.0970464135021096,\n",
              "     'trade_dur_min': 1,\n",
              "     'trade_dur_max': 12,\n",
              "     'buy_hold': 1.8573509933774832}}}},\n",
              " 'MSFT': {'profit_1': {'3272:4250': {0: {'n_trades': 488,\n",
              "     'n_wins': 249,\n",
              "     'n_losses': 239,\n",
              "     'win_percentage': 51.02459016393443,\n",
              "     'cumulative_return': 1.055768150504462,\n",
              "     'sortino': 0.34099223114358035,\n",
              "     'max_drawdown': -33.48771527629937,\n",
              "     'sharpe': 0.24977739739283186,\n",
              "     'trade_dur_avg': 1.0,\n",
              "     'trade_dur_min': 1,\n",
              "     'trade_dur_max': 1,\n",
              "     'buy_hold': 2.034699631316417}}},\n",
              "  'profit_2': {'3272:4250': {0: {'n_trades': 62,\n",
              "     'n_wins': 36,\n",
              "     'n_losses': 26,\n",
              "     'win_percentage': 58.06451612903226,\n",
              "     'cumulative_return': 2.0833237826869855,\n",
              "     'sortino': 6.9768904450522475,\n",
              "     'max_drawdown': -28.5295330439697,\n",
              "     'sharpe': 3.8695256708808947,\n",
              "     'trade_dur_avg': 14.32258064516129,\n",
              "     'trade_dur_min': 5,\n",
              "     'trade_dur_max': 22,\n",
              "     'buy_hold': 2.034699631316417}}},\n",
              "  'random': {'3272:4250': {0: {'n_trades': 238,\n",
              "     'n_wins': 143,\n",
              "     'n_losses': 95,\n",
              "     'win_percentage': 60.08403361344538,\n",
              "     'cumulative_return': 3.1442013221738048,\n",
              "     'sortino': 5.894415831299706,\n",
              "     'max_drawdown': -15.97271463579234,\n",
              "     'sharpe': 3.446421008244607,\n",
              "     'trade_dur_avg': 2.046218487394958,\n",
              "     'trade_dur_min': 1,\n",
              "     'trade_dur_max': 10,\n",
              "     'buy_hold': 2.034699631316417},\n",
              "    1: {'n_trades': 230,\n",
              "     'n_wins': 118,\n",
              "     'n_losses': 111,\n",
              "     'win_percentage': 51.30434782608696,\n",
              "     'cumulative_return': 1.030113547615368,\n",
              "     'sortino': 0.4294332146436728,\n",
              "     'max_drawdown': -33.68501332949645,\n",
              "     'sharpe': 0.2958899440984091,\n",
              "     'trade_dur_avg': 2.2043478260869565,\n",
              "     'trade_dur_min': 1,\n",
              "     'trade_dur_max': 11,\n",
              "     'buy_hold': 2.034699631316417},\n",
              "    2: {'n_trades': 252,\n",
              "     'n_wins': 125,\n",
              "     'n_losses': 127,\n",
              "     'win_percentage': 49.60317460317461,\n",
              "     'cumulative_return': 1.0958004014649259,\n",
              "     'sortino': 0.6084787393239569,\n",
              "     'max_drawdown': -26.246338546196192,\n",
              "     'sharpe': 0.429570444089435,\n",
              "     'trade_dur_avg': 1.9603174603174602,\n",
              "     'trade_dur_min': 1,\n",
              "     'trade_dur_max': 8,\n",
              "     'buy_hold': 2.034699631316417},\n",
              "    3: {'n_trades': 242,\n",
              "     'n_wins': 118,\n",
              "     'n_losses': 124,\n",
              "     'win_percentage': 48.760330578512395,\n",
              "     'cumulative_return': 1.006444800020804,\n",
              "     'sortino': 0.3010862806701954,\n",
              "     'max_drawdown': -30.756160480280037,\n",
              "     'sharpe': 0.21357241070389227,\n",
              "     'trade_dur_avg': 1.9710743801652892,\n",
              "     'trade_dur_min': 1,\n",
              "     'trade_dur_max': 8,\n",
              "     'buy_hold': 2.034699631316417},\n",
              "    4: {'n_trades': 256,\n",
              "     'n_wins': 143,\n",
              "     'n_losses': 113,\n",
              "     'win_percentage': 55.859375,\n",
              "     'cumulative_return': 1.6778059218995394,\n",
              "     'sortino': 2.1613795946359238,\n",
              "     'max_drawdown': -23.8147203624405,\n",
              "     'sharpe': 1.4918490687244383,\n",
              "     'trade_dur_avg': 1.91015625,\n",
              "     'trade_dur_min': 1,\n",
              "     'trade_dur_max': 8,\n",
              "     'buy_hold': 2.034699631316417}}}},\n",
              " 'FORD': {'profit_1': {'3272:4250': {0: {'n_trades': 0,\n",
              "     'n_wins': 0,\n",
              "     'n_losses': 0,\n",
              "     'win_percentage': 0,\n",
              "     'cumulative_return': 0,\n",
              "     'sortino': 0,\n",
              "     'max_drawdown': 0,\n",
              "     'sharpe': 0,\n",
              "     'trade_dur_avg': 0,\n",
              "     'trade_dur_min': 0,\n",
              "     'trade_dur_max': 0,\n",
              "     'buy_hold': 1.5234567901234568}}},\n",
              "  'profit_2': {'3272:4250': {0: {'n_trades': 142,\n",
              "     'n_wins': 71,\n",
              "     'n_losses': 67,\n",
              "     'win_percentage': 50.0,\n",
              "     'cumulative_return': 1.2879082493667156,\n",
              "     'sortino': 1.5449178110611694,\n",
              "     'max_drawdown': -29.792054808193345,\n",
              "     'sharpe': 0.995146596958308,\n",
              "     'trade_dur_avg': 1.471830985915493,\n",
              "     'trade_dur_min': 1,\n",
              "     'trade_dur_max': 10,\n",
              "     'buy_hold': 1.5234567901234568}}},\n",
              "  'random': {'3272:4250': {0: {'n_trades': 248,\n",
              "     'n_wins': 125,\n",
              "     'n_losses': 122,\n",
              "     'win_percentage': 50.403225806451616,\n",
              "     'cumulative_return': 0.6914664619545555,\n",
              "     'sortino': -0.2975519886963763,\n",
              "     'max_drawdown': -56.410447530024314,\n",
              "     'sharpe': -0.2094153793564842,\n",
              "     'trade_dur_avg': 1.9637096774193548,\n",
              "     'trade_dur_min': 1,\n",
              "     'trade_dur_max': 10,\n",
              "     'buy_hold': 1.5234567901234568},\n",
              "    1: {'n_trades': 258,\n",
              "     'n_wins': 128,\n",
              "     'n_losses': 128,\n",
              "     'win_percentage': 49.6124031007752,\n",
              "     'cumulative_return': 1.671984817659768,\n",
              "     'sortino': 1.7171127662536054,\n",
              "     'max_drawdown': -38.88923352354238,\n",
              "     'sharpe': 1.088366763172426,\n",
              "     'trade_dur_avg': 1.9883720930232558,\n",
              "     'trade_dur_min': 1,\n",
              "     'trade_dur_max': 8,\n",
              "     'buy_hold': 1.5234567901234568},\n",
              "    2: {'n_trades': 246,\n",
              "     'n_wins': 124,\n",
              "     'n_losses': 118,\n",
              "     'win_percentage': 50.40650406504065,\n",
              "     'cumulative_return': 1.5681510573086774,\n",
              "     'sortino': 1.4292430100367939,\n",
              "     'max_drawdown': -44.53942766931236,\n",
              "     'sharpe': 1.0272011482791679,\n",
              "     'trade_dur_avg': 1.9308943089430894,\n",
              "     'trade_dur_min': 1,\n",
              "     'trade_dur_max': 9,\n",
              "     'buy_hold': 1.5234567901234568},\n",
              "    3: {'n_trades': 219,\n",
              "     'n_wins': 108,\n",
              "     'n_losses': 107,\n",
              "     'win_percentage': 49.31506849315068,\n",
              "     'cumulative_return': 1.5785964428065895,\n",
              "     'sortino': 1.7378858212192996,\n",
              "     'max_drawdown': -42.541238238598154,\n",
              "     'sharpe': 1.0990914933928995,\n",
              "     'trade_dur_avg': 2.287671232876712,\n",
              "     'trade_dur_min': 1,\n",
              "     'trade_dur_max': 12,\n",
              "     'buy_hold': 1.5234567901234568},\n",
              "    4: {'n_trades': 238,\n",
              "     'n_wins': 114,\n",
              "     'n_losses': 123,\n",
              "     'win_percentage': 47.89915966386555,\n",
              "     'cumulative_return': 0.8476093849857149,\n",
              "     'sortino': 0.10919848924845371,\n",
              "     'max_drawdown': -68.80083506013801,\n",
              "     'sharpe': 0.07495710764949927,\n",
              "     'trade_dur_avg': 2.0126050420168067,\n",
              "     'trade_dur_min': 1,\n",
              "     'trade_dur_max': 9,\n",
              "     'buy_hold': 1.5234567901234568}}}},\n",
              " 'JNJ': {'profit_1': {'3272:4250': {0: {'n_trades': 0,\n",
              "     'n_wins': 0,\n",
              "     'n_losses': 0,\n",
              "     'win_percentage': 0,\n",
              "     'cumulative_return': 0,\n",
              "     'sortino': 0,\n",
              "     'max_drawdown': 0,\n",
              "     'sharpe': 0,\n",
              "     'trade_dur_avg': 0,\n",
              "     'trade_dur_min': 0,\n",
              "     'trade_dur_max': 0,\n",
              "     'buy_hold': 1.0301993552207382}}},\n",
              "  'profit_2': {'3272:4250': {0: {'n_trades': 42,\n",
              "     'n_wins': 23,\n",
              "     'n_losses': 19,\n",
              "     'win_percentage': 54.761904761904766,\n",
              "     'cumulative_return': 1.2629977355128235,\n",
              "     'sortino': 6.5360857506089065,\n",
              "     'max_drawdown': -8.305208820540644,\n",
              "     'sharpe': 3.4892221910495995,\n",
              "     'trade_dur_avg': 7.785714285714286,\n",
              "     'trade_dur_min': 2,\n",
              "     'trade_dur_max': 10,\n",
              "     'buy_hold': 1.0301993552207382}}},\n",
              "  'random': {'3272:4250': {0: {'n_trades': 243,\n",
              "     'n_wins': 131,\n",
              "     'n_losses': 112,\n",
              "     'win_percentage': 53.90946502057613,\n",
              "     'cumulative_return': 0.9971152409387999,\n",
              "     'sortino': 0.18573622449443541,\n",
              "     'max_drawdown': -23.1904457807534,\n",
              "     'sharpe': 0.1345507415402508,\n",
              "     'trade_dur_avg': 2.0205761316872426,\n",
              "     'trade_dur_min': 1,\n",
              "     'trade_dur_max': 10,\n",
              "     'buy_hold': 1.0301993552207382},\n",
              "    1: {'n_trades': 248,\n",
              "     'n_wins': 118,\n",
              "     'n_losses': 129,\n",
              "     'win_percentage': 47.58064516129033,\n",
              "     'cumulative_return': 1.2310658393354295,\n",
              "     'sortino': 1.5834140914290915,\n",
              "     'max_drawdown': -21.111826844358994,\n",
              "     'sharpe': 0.9754361485874002,\n",
              "     'trade_dur_avg': 1.971774193548387,\n",
              "     'trade_dur_min': 1,\n",
              "     'trade_dur_max': 8,\n",
              "     'buy_hold': 1.0301993552207382},\n",
              "    2: {'n_trades': 254,\n",
              "     'n_wins': 126,\n",
              "     'n_losses': 127,\n",
              "     'win_percentage': 49.60629921259843,\n",
              "     'cumulative_return': 1.1727212483659148,\n",
              "     'sortino': 1.2033925372568661,\n",
              "     'max_drawdown': -13.740515601072346,\n",
              "     'sharpe': 0.6020744637639649,\n",
              "     'trade_dur_avg': 1.9251968503937007,\n",
              "     'trade_dur_min': 1,\n",
              "     'trade_dur_max': 10,\n",
              "     'buy_hold': 1.0301993552207382},\n",
              "    3: {'n_trades': 240,\n",
              "     'n_wins': 129,\n",
              "     'n_losses': 109,\n",
              "     'win_percentage': 53.75,\n",
              "     'cumulative_return': 1.1325824638992932,\n",
              "     'sortino': 0.7569829108138432,\n",
              "     'max_drawdown': -25.487397857472004,\n",
              "     'sharpe': 0.5564448412000342,\n",
              "     'trade_dur_avg': 2.0,\n",
              "     'trade_dur_min': 1,\n",
              "     'trade_dur_max': 7,\n",
              "     'buy_hold': 1.0301993552207382},\n",
              "    4: {'n_trades': 247,\n",
              "     'n_wins': 128,\n",
              "     'n_losses': 119,\n",
              "     'win_percentage': 51.821862348178136,\n",
              "     'cumulative_return': 1.2493303848592412,\n",
              "     'sortino': 1.6129599906319252,\n",
              "     'max_drawdown': -17.425565050598802,\n",
              "     'sharpe': 1.0364134619985699,\n",
              "     'trade_dur_avg': 1.9392712550607287,\n",
              "     'trade_dur_min': 1,\n",
              "     'trade_dur_max': 7,\n",
              "     'buy_hold': 1.0301993552207382}}}},\n",
              " 'NEE': {'profit_1': {'3272:4250': {0: {'n_trades': 478,\n",
              "     'n_wins': 230,\n",
              "     'n_losses': 246,\n",
              "     'win_percentage': 48.11715481171548,\n",
              "     'cumulative_return': 0.8212715331269231,\n",
              "     'sortino': -0.19190782441282583,\n",
              "     'max_drawdown': -34.99414428026233,\n",
              "     'sharpe': -0.14184525560782693,\n",
              "     'trade_dur_avg': 1.0,\n",
              "     'trade_dur_min': 1,\n",
              "     'trade_dur_max': 1,\n",
              "     'buy_hold': 0.8968253968253967}}},\n",
              "  'profit_2': {'3272:4250': {0: {'n_trades': 73,\n",
              "     'n_wins': 35,\n",
              "     'n_losses': 37,\n",
              "     'win_percentage': 47.94520547945205,\n",
              "     'cumulative_return': 1.0707198143105932,\n",
              "     'sortino': 1.065559198557964,\n",
              "     'max_drawdown': -41.91649810394031,\n",
              "     'sharpe': 0.7361121915588624,\n",
              "     'trade_dur_avg': 10.849315068493151,\n",
              "     'trade_dur_min': 1,\n",
              "     'trade_dur_max': 15,\n",
              "     'buy_hold': 0.8968253968253967}}},\n",
              "  'random': {'3272:4250': {0: {'n_trades': 248,\n",
              "     'n_wins': 136,\n",
              "     'n_losses': 112,\n",
              "     'win_percentage': 54.83870967741935,\n",
              "     'cumulative_return': 0.9249880947461605,\n",
              "     'sortino': -0.0014524582488155491,\n",
              "     'max_drawdown': -38.140616252077095,\n",
              "     'sharpe': -0.0011396480034450882,\n",
              "     'trade_dur_avg': 1.935483870967742,\n",
              "     'trade_dur_min': 1,\n",
              "     'trade_dur_max': 8,\n",
              "     'buy_hold': 0.8968253968253967},\n",
              "    1: {'n_trades': 248,\n",
              "     'n_wins': 122,\n",
              "     'n_losses': 125,\n",
              "     'win_percentage': 49.193548387096776,\n",
              "     'cumulative_return': 0.8109112689463918,\n",
              "     'sortino': -0.3348571575623379,\n",
              "     'max_drawdown': -33.442817453684,\n",
              "     'sharpe': -0.2485248760540944,\n",
              "     'trade_dur_avg': 1.9193548387096775,\n",
              "     'trade_dur_min': 1,\n",
              "     'trade_dur_max': 8,\n",
              "     'buy_hold': 0.8968253968253967},\n",
              "    2: {'n_trades': 241,\n",
              "     'n_wins': 138,\n",
              "     'n_losses': 103,\n",
              "     'win_percentage': 57.26141078838174,\n",
              "     'cumulative_return': 1.3933320655977193,\n",
              "     'sortino': 1.433475980974264,\n",
              "     'max_drawdown': -24.51213371538925,\n",
              "     'sharpe': 1.015174715629542,\n",
              "     'trade_dur_avg': 2.066390041493776,\n",
              "     'trade_dur_min': 1,\n",
              "     'trade_dur_max': 11,\n",
              "     'buy_hold': 0.8968253968253967},\n",
              "    3: {'n_trades': 245,\n",
              "     'n_wins': 126,\n",
              "     'n_losses': 118,\n",
              "     'win_percentage': 51.42857142857142,\n",
              "     'cumulative_return': 1.000936668274575,\n",
              "     'sortino': 0.35875672202365577,\n",
              "     'max_drawdown': -43.91509598843209,\n",
              "     'sharpe': 0.2681509918955754,\n",
              "     'trade_dur_avg': 1.9795918367346939,\n",
              "     'trade_dur_min': 1,\n",
              "     'trade_dur_max': 9,\n",
              "     'buy_hold': 0.8968253968253967},\n",
              "    4: {'n_trades': 242,\n",
              "     'n_wins': 123,\n",
              "     'n_losses': 119,\n",
              "     'win_percentage': 50.82644628099173,\n",
              "     'cumulative_return': 1.3626293272511387,\n",
              "     'sortino': 1.6050145752299676,\n",
              "     'max_drawdown': -38.976793009075415,\n",
              "     'sharpe': 0.8514473608425779,\n",
              "     'trade_dur_avg': 1.9462809917355373,\n",
              "     'trade_dur_min': 1,\n",
              "     'trade_dur_max': 8,\n",
              "     'buy_hold': 0.8968253968253967}}}},\n",
              " 'PFE': {'profit_1': {'3272:4250': {0: {'n_trades': 0,\n",
              "     'n_wins': 0,\n",
              "     'n_losses': 0,\n",
              "     'win_percentage': 0,\n",
              "     'cumulative_return': 0,\n",
              "     'sortino': 0,\n",
              "     'max_drawdown': 0,\n",
              "     'sharpe': 0,\n",
              "     'trade_dur_avg': 0,\n",
              "     'trade_dur_min': 0,\n",
              "     'trade_dur_max': 0,\n",
              "     'buy_hold': 0.7966242390702822}}},\n",
              "  'profit_2': {'3272:4250': {0: {'n_trades': 50,\n",
              "     'n_wins': 25,\n",
              "     'n_losses': 25,\n",
              "     'win_percentage': 50.0,\n",
              "     'cumulative_return': 1.1782228878083216,\n",
              "     'sortino': 2.4318050698816287,\n",
              "     'max_drawdown': -18.131130506846272,\n",
              "     'sharpe': 1.5353495802514219,\n",
              "     'trade_dur_avg': 5.62,\n",
              "     'trade_dur_min': 1,\n",
              "     'trade_dur_max': 12,\n",
              "     'buy_hold': 0.7966242390702822}}},\n",
              "  'random': {'3272:4250': {0: {'n_trades': 246,\n",
              "     'n_wins': 110,\n",
              "     'n_losses': 134,\n",
              "     'win_percentage': 44.71544715447154,\n",
              "     'cumulative_return': 0.7353024039416899,\n",
              "     'sortino': -0.8734030770874159,\n",
              "     'max_drawdown': -45.40691576510581,\n",
              "     'sharpe': -0.6352773440986469,\n",
              "     'trade_dur_avg': 1.9390243902439024,\n",
              "     'trade_dur_min': 1,\n",
              "     'trade_dur_max': 7,\n",
              "     'buy_hold': 0.7966242390702822},\n",
              "    1: {'n_trades': 241,\n",
              "     'n_wins': 106,\n",
              "     'n_losses': 133,\n",
              "     'win_percentage': 43.983402489626556,\n",
              "     'cumulative_return': 0.6788208924210047,\n",
              "     'sortino': -1.3285540387602313,\n",
              "     'max_drawdown': -44.5993956142971,\n",
              "     'sharpe': -0.8989575021799269,\n",
              "     'trade_dur_avg': 2.04149377593361,\n",
              "     'trade_dur_min': 1,\n",
              "     'trade_dur_max': 13,\n",
              "     'buy_hold': 0.7966242390702822},\n",
              "    2: {'n_trades': 257,\n",
              "     'n_wins': 124,\n",
              "     'n_losses': 131,\n",
              "     'win_percentage': 48.249027237354085,\n",
              "     'cumulative_return': 0.9873923195734148,\n",
              "     'sortino': 0.28152998387142614,\n",
              "     'max_drawdown': -39.71468779141605,\n",
              "     'sharpe': 0.19244799517818428,\n",
              "     'trade_dur_avg': 1.8988326848249026,\n",
              "     'trade_dur_min': 1,\n",
              "     'trade_dur_max': 8,\n",
              "     'buy_hold': 0.7966242390702822},\n",
              "    3: {'n_trades': 244,\n",
              "     'n_wins': 117,\n",
              "     'n_losses': 124,\n",
              "     'win_percentage': 47.950819672131146,\n",
              "     'cumulative_return': 1.1272033141655244,\n",
              "     'sortino': 0.7889218439438763,\n",
              "     'max_drawdown': -28.719363444069213,\n",
              "     'sharpe': 0.5292417648394674,\n",
              "     'trade_dur_avg': 1.9098360655737705,\n",
              "     'trade_dur_min': 1,\n",
              "     'trade_dur_max': 10,\n",
              "     'buy_hold': 0.7966242390702822},\n",
              "    4: {'n_trades': 227,\n",
              "     'n_wins': 112,\n",
              "     'n_losses': 114,\n",
              "     'win_percentage': 49.33920704845815,\n",
              "     'cumulative_return': 1.298017424761431,\n",
              "     'sortino': 1.4506614547585108,\n",
              "     'max_drawdown': -28.672892099462977,\n",
              "     'sharpe': 0.9513816508274178,\n",
              "     'trade_dur_avg': 2.105726872246696,\n",
              "     'trade_dur_min': 1,\n",
              "     'trade_dur_max': 6,\n",
              "     'buy_hold': 0.7966242390702822}}}},\n",
              " 'TSLA': {'profit_1': {'2394:3372': {0: {'n_trades': 5,\n",
              "     'n_wins': 2,\n",
              "     'n_losses': 3,\n",
              "     'win_percentage': 40.0,\n",
              "     'cumulative_return': 5.591163671709328,\n",
              "     'sortino': 707.9426762234318,\n",
              "     'max_drawdown': -5.947778695063866,\n",
              "     'sharpe': 7.1042149563679935,\n",
              "     'trade_dur_avg': 194.0,\n",
              "     'trade_dur_min': 1,\n",
              "     'trade_dur_max': 966,\n",
              "     'buy_hold': 4.903738136742204}}},\n",
              "  'profit_2': {'2394:3372': {0: {'n_trades': 46,\n",
              "     'n_wins': 26,\n",
              "     'n_losses': 20,\n",
              "     'win_percentage': 56.52173913043478,\n",
              "     'cumulative_return': 3.96697703003383,\n",
              "     'sortino': 8.117618690746436,\n",
              "     'max_drawdown': -63.66916670615632,\n",
              "     'sharpe': 3.7427279825968864,\n",
              "     'trade_dur_avg': 18.565217391304348,\n",
              "     'trade_dur_min': 1,\n",
              "     'trade_dur_max': 35,\n",
              "     'buy_hold': 4.903738136742204}}},\n",
              "  'random': {'2394:3372': {0: {'n_trades': 244,\n",
              "     'n_wins': 132,\n",
              "     'n_losses': 112,\n",
              "     'win_percentage': 54.09836065573771,\n",
              "     'cumulative_return': 3.4470591819322722,\n",
              "     'sortino': 3.1535284722497408,\n",
              "     'max_drawdown': -42.78383411927537,\n",
              "     'sharpe': 1.8455681333043104,\n",
              "     'trade_dur_avg': 1.9467213114754098,\n",
              "     'trade_dur_min': 1,\n",
              "     'trade_dur_max': 10,\n",
              "     'buy_hold': 4.903738136742204},\n",
              "    1: {'n_trades': 246,\n",
              "     'n_wins': 139,\n",
              "     'n_losses': 107,\n",
              "     'win_percentage': 56.50406504065041,\n",
              "     'cumulative_return': 3.7149829629511877,\n",
              "     'sortino': 3.1408273722549254,\n",
              "     'max_drawdown': -56.812739486416234,\n",
              "     'sharpe': 2.0144708329553644,\n",
              "     'trade_dur_avg': 1.8943089430894309,\n",
              "     'trade_dur_min': 1,\n",
              "     'trade_dur_max': 8,\n",
              "     'buy_hold': 4.903738136742204},\n",
              "    2: {'n_trades': 237,\n",
              "     'n_wins': 120,\n",
              "     'n_losses': 116,\n",
              "     'win_percentage': 50.63291139240506,\n",
              "     'cumulative_return': 1.367960218220618,\n",
              "     'sortino': 1.2723930104841232,\n",
              "     'max_drawdown': -75.04620556823525,\n",
              "     'sharpe': 0.8355526213839718,\n",
              "     'trade_dur_avg': 2.1392405063291138,\n",
              "     'trade_dur_min': 1,\n",
              "     'trade_dur_max': 9,\n",
              "     'buy_hold': 4.903738136742204},\n",
              "    3: {'n_trades': 241,\n",
              "     'n_wins': 134,\n",
              "     'n_losses': 106,\n",
              "     'win_percentage': 55.601659751037346,\n",
              "     'cumulative_return': 3.2171644196443867,\n",
              "     'sortino': 3.075753320461669,\n",
              "     'max_drawdown': -44.37773987946913,\n",
              "     'sharpe': 1.7797044586966542,\n",
              "     'trade_dur_avg': 1.987551867219917,\n",
              "     'trade_dur_min': 1,\n",
              "     'trade_dur_max': 12,\n",
              "     'buy_hold': 4.903738136742204},\n",
              "    4: {'n_trades': 251,\n",
              "     'n_wins': 142,\n",
              "     'n_losses': 109,\n",
              "     'win_percentage': 56.573705179282875,\n",
              "     'cumulative_return': 2.9429381038980926,\n",
              "     'sortino': 2.5931939426529578,\n",
              "     'max_drawdown': -63.32448250853947,\n",
              "     'sharpe': 1.634138771653371,\n",
              "     'trade_dur_avg': 1.8685258964143425,\n",
              "     'trade_dur_min': 1,\n",
              "     'trade_dur_max': 7,\n",
              "     'buy_hold': 4.903738136742204}}}},\n",
              " 'COKE': {'profit_1': {'3272:4250': {0: {'n_trades': 6,\n",
              "     'n_wins': 0,\n",
              "     'n_losses': 6,\n",
              "     'win_percentage': 0.0,\n",
              "     'cumulative_return': 0.8632200357932472,\n",
              "     'sortino': -13.249900340546152,\n",
              "     'max_drawdown': -13.327768347216562,\n",
              "     'sharpe': -21.9614757154879,\n",
              "     'trade_dur_avg': 1.0,\n",
              "     'trade_dur_min': 1,\n",
              "     'trade_dur_max': 1,\n",
              "     'buy_hold': 3.3071033602722246}}},\n",
              "  'profit_2': {'3272:4250': {0: {'n_trades': 57,\n",
              "     'n_wins': 36,\n",
              "     'n_losses': 21,\n",
              "     'win_percentage': 63.1578947368421,\n",
              "     'cumulative_return': 3.172771370932953,\n",
              "     'sortino': 9.81330956999327,\n",
              "     'max_drawdown': -35.90837244819951,\n",
              "     'sharpe': 3.912019988439761,\n",
              "     'trade_dur_avg': 13.175438596491228,\n",
              "     'trade_dur_min': 3,\n",
              "     'trade_dur_max': 29,\n",
              "     'buy_hold': 3.3071033602722246}}},\n",
              "  'random': {'3272:4250': {0: {'n_trades': 231,\n",
              "     'n_wins': 124,\n",
              "     'n_losses': 106,\n",
              "     'win_percentage': 53.67965367965368,\n",
              "     'cumulative_return': 2.025059505492746,\n",
              "     'sortino': 2.4552329108167354,\n",
              "     'max_drawdown': -30.503670496621606,\n",
              "     'sharpe': 1.5772211720724592,\n",
              "     'trade_dur_avg': 2.0952380952380953,\n",
              "     'trade_dur_min': 1,\n",
              "     'trade_dur_max': 8,\n",
              "     'buy_hold': 3.3071033602722246},\n",
              "    1: {'n_trades': 244,\n",
              "     'n_wins': 129,\n",
              "     'n_losses': 115,\n",
              "     'win_percentage': 52.86885245901639,\n",
              "     'cumulative_return': 2.8585069548736994,\n",
              "     'sortino': 3.201605321589122,\n",
              "     'max_drawdown': -30.97827125204966,\n",
              "     'sharpe': 2.0743879988565808,\n",
              "     'trade_dur_avg': 2.057377049180328,\n",
              "     'trade_dur_min': 1,\n",
              "     'trade_dur_max': 9,\n",
              "     'buy_hold': 3.3071033602722246},\n",
              "    2: {'n_trades': 257,\n",
              "     'n_wins': 133,\n",
              "     'n_losses': 124,\n",
              "     'win_percentage': 51.75097276264592,\n",
              "     'cumulative_return': 1.5409814924134635,\n",
              "     'sortino': 1.4064946429562926,\n",
              "     'max_drawdown': -56.54165084429674,\n",
              "     'sharpe': 0.9940611608834246,\n",
              "     'trade_dur_avg': 1.8793774319066148,\n",
              "     'trade_dur_min': 1,\n",
              "     'trade_dur_max': 7,\n",
              "     'buy_hold': 3.3071033602722246},\n",
              "    3: {'n_trades': 257,\n",
              "     'n_wins': 129,\n",
              "     'n_losses': 128,\n",
              "     'win_percentage': 50.19455252918288,\n",
              "     'cumulative_return': 1.944943659573004,\n",
              "     'sortino': 2.504876484085556,\n",
              "     'max_drawdown': -21.73638736584964,\n",
              "     'sharpe': 1.4140395081891217,\n",
              "     'trade_dur_avg': 1.9688715953307394,\n",
              "     'trade_dur_min': 1,\n",
              "     'trade_dur_max': 8,\n",
              "     'buy_hold': 3.3071033602722246},\n",
              "    4: {'n_trades': 240,\n",
              "     'n_wins': 126,\n",
              "     'n_losses': 114,\n",
              "     'win_percentage': 52.5,\n",
              "     'cumulative_return': 3.0569179185241273,\n",
              "     'sortino': 4.198219939321323,\n",
              "     'max_drawdown': -35.4424740415049,\n",
              "     'sharpe': 2.232417444869314,\n",
              "     'trade_dur_avg': 2.1958333333333333,\n",
              "     'trade_dur_min': 1,\n",
              "     'trade_dur_max': 9,\n",
              "     'buy_hold': 3.3071033602722246}}}},\n",
              " 'PG': {'profit_1': {'3272:4250': {0: {'n_trades': 0,\n",
              "     'n_wins': 0,\n",
              "     'n_losses': 0,\n",
              "     'win_percentage': 0,\n",
              "     'cumulative_return': 0,\n",
              "     'sortino': 0,\n",
              "     'max_drawdown': 0,\n",
              "     'sharpe': 0,\n",
              "     'trade_dur_avg': 0,\n",
              "     'trade_dur_min': 0,\n",
              "     'trade_dur_max': 0,\n",
              "     'buy_hold': 1.1737274484536082}}},\n",
              "  'profit_2': {'3272:4250': {0: {'n_trades': 34,\n",
              "     'n_wins': 17,\n",
              "     'n_losses': 17,\n",
              "     'win_percentage': 50.0,\n",
              "     'cumulative_return': 0.9525176042198585,\n",
              "     'sortino': -0.34436311246790113,\n",
              "     'max_drawdown': -11.092016873122269,\n",
              "     'sharpe': -0.26822549219017194,\n",
              "     'trade_dur_avg': 10.882352941176471,\n",
              "     'trade_dur_min': 7,\n",
              "     'trade_dur_max': 15,\n",
              "     'buy_hold': 1.1737274484536082}}},\n",
              "  'random': {'3272:4250': {0: {'n_trades': 232,\n",
              "     'n_wins': 119,\n",
              "     'n_losses': 112,\n",
              "     'win_percentage': 51.293103448275865,\n",
              "     'cumulative_return': 1.1162932996030448,\n",
              "     'sortino': 0.8332734206991476,\n",
              "     'max_drawdown': -22.49866062355792,\n",
              "     'sharpe': 0.5734957779076355,\n",
              "     'trade_dur_avg': 2.060344827586207,\n",
              "     'trade_dur_min': 1,\n",
              "     'trade_dur_max': 7,\n",
              "     'buy_hold': 1.1737274484536082},\n",
              "    1: {'n_trades': 244,\n",
              "     'n_wins': 132,\n",
              "     'n_losses': 112,\n",
              "     'win_percentage': 54.09836065573771,\n",
              "     'cumulative_return': 0.9150699928162985,\n",
              "     'sortino': -0.2761734362818649,\n",
              "     'max_drawdown': -19.76801200979299,\n",
              "     'sharpe': -0.21125787322606573,\n",
              "     'trade_dur_avg': 2.0327868852459017,\n",
              "     'trade_dur_min': 1,\n",
              "     'trade_dur_max': 9,\n",
              "     'buy_hold': 1.1737274484536082},\n",
              "    2: {'n_trades': 244,\n",
              "     'n_wins': 125,\n",
              "     'n_losses': 119,\n",
              "     'win_percentage': 51.229508196721305,\n",
              "     'cumulative_return': 0.8436714702534397,\n",
              "     'sortino': -0.8313515811114243,\n",
              "     'max_drawdown': -21.726106479659492,\n",
              "     'sharpe': -0.6132175722316301,\n",
              "     'trade_dur_avg': 1.8934426229508197,\n",
              "     'trade_dur_min': 1,\n",
              "     'trade_dur_max': 7,\n",
              "     'buy_hold': 1.1737274484536082},\n",
              "    3: {'n_trades': 248,\n",
              "     'n_wins': 136,\n",
              "     'n_losses': 112,\n",
              "     'win_percentage': 54.83870967741935,\n",
              "     'cumulative_return': 1.3114965234988014,\n",
              "     'sortino': 1.8545106285441169,\n",
              "     'max_drawdown': -13.63266390101755,\n",
              "     'sharpe': 1.2531628226801776,\n",
              "     'trade_dur_avg': 1.9637096774193548,\n",
              "     'trade_dur_min': 1,\n",
              "     'trade_dur_max': 8,\n",
              "     'buy_hold': 1.1737274484536082},\n",
              "    4: {'n_trades': 234,\n",
              "     'n_wins': 120,\n",
              "     'n_losses': 114,\n",
              "     'win_percentage': 51.28205128205128,\n",
              "     'cumulative_return': 0.8096511624848787,\n",
              "     'sortino': -0.8956122927058513,\n",
              "     'max_drawdown': -26.073793259168877,\n",
              "     'sharpe': -0.7076974669662112,\n",
              "     'trade_dur_avg': 2.0555555555555554,\n",
              "     'trade_dur_min': 1,\n",
              "     'trade_dur_max': 7,\n",
              "     'buy_hold': 1.1737274484536082}}}}}"
            ]
          },
          "metadata": {},
          "output_type": "display_data"
        }
      ],
      "source": [
        "if test_agent:\n",
        "    result_dic_struct = ['stock','agent','test_interval','test_num']\n",
        "    results = {}\n",
        "\n",
        "    for key in tst_keys:\n",
        "\n",
        "        # Init Record[Stock]\n",
        "        results[key] = {}\n",
        "        test_key = f'{tst_idx[key][0]}:{tst_idx[key][1]}'\n",
        "        stock_price_data = env_data[key]['rw_raw_price_env'][tst_idx[key][0]:tst_idx[key][1],-1,0]\n",
        "        rl_env = env[key]\n",
        "\n",
        "        for decision_agent, agents_in_setup in agent_setup.items():\n",
        "\n",
        "            # Init Record[Stock][Agent]\n",
        "            results[key][decision_agent] = {}\n",
        "\n",
        "            # Init Record[Stock][Agent][test_interval]\n",
        "            results[key][decision_agent][test_key] = {}   # Different Test Keys will need loop\n",
        "\n",
        "            # Setup agents with environment\n",
        "            rl_env.add_agent(decision_agent)\n",
        "            rl_env.set_decision_agent(decision_agent)   \n",
        "            agents_dic[decision_agent].set_environment(rl_env)\n",
        "\n",
        "            # Enable Randomess if Agent is of class RandomAgent\n",
        "            if isinstance(agents_dic[decision_agent], RandomAgent):\n",
        "                new_random_seed = random.randint(1, 10**9)\n",
        "                set_seed(new_random_seed)\n",
        "\n",
        "            # Save Agent\n",
        "            save_agent_path = save_path_root + f'/{decision_agent}/'\n",
        "            os.makedirs(save_agent_path, exist_ok=True)\n",
        "            file_root_name = f'{key}_TST_{tst_idx[key][0]}-{tst_idx[key][1]}'\n",
        "\n",
        "            # Multi-Agent Setup\n",
        "            if decision_agent not in agents_in_setup or len(agents_in_setup) != 1:\n",
        "                print('here')\n",
        "                subagent_list = []\n",
        "                for agent in agents_in_setup:\n",
        "                    subagent_list.append(agents_dic[agent])\n",
        "                env_mod_func_dic[key].add_subagents(subagent_list)\n",
        "            \n",
        "            \n",
        "            # Test Decision Agent\n",
        "            params = testing_params[agent_classes[decision_agent]]\n",
        "            if not isinstance(agents_dic[decision_agent], RandomAgent):\n",
        "                agents_dic[decision_agent].set_env_stat_modify_func(env_mod_func_dic[key].process)\n",
        "            agents_dic[decision_agent].test(start_idx=tst_idx[key][0],\n",
        "                                            end_idx=tst_idx[key][1],\n",
        "                                            **params)\n",
        "            \n",
        "            # Remove Multi-Agent Setup in ENV_MOD function\n",
        "            if decision_agent not in agents_in_setup or len(agents_in_setup) != 1:\n",
        "                env_mod_func_dic[key].remove_subagents()\n",
        "\n",
        "            # Generate Testing Records\n",
        "            env_data_record = rl_env.get_step_data()\n",
        "            agent_data_record = agents_dic[decision_agent].get_step_data()\n",
        "            test_record =  pd.concat([env_data_record, agent_data_record], axis=1, join='inner')\n",
        "            test_record.to_csv(f'{save_agent_path}{file_root_name}_step_data.csv')\n",
        "            episodic_testing_record = agents_dic[decision_agent].get_testing_episodic_data()\n",
        "            episodic_testing_record.to_csv(f'{save_agent_path}{file_root_name}_epi_data.csv')\n",
        "\n",
        "            trade_actions_per_test = episodic_testing_record['tst_actions']\n",
        "\n",
        "            for idx, action_set in enumerate(trade_actions_per_test):\n",
        "                file_root_name = f'{key}_TST_{tst_idx[key][0]}-{tst_idx[key][1]}_{[idx]}'\n",
        "                test_metrics = agentperform.agent_stock_performance(stock_price_ts=np.array(stock_price_data),\n",
        "                                                                    trade_ts=np.array(action_set),\n",
        "                                                                    stock_name=key,\n",
        "                                                                    agent_name=decision_agent,\n",
        "                                                                    display_graph=False,\n",
        "                                                                    save_graphic= True,\n",
        "                                                                    path_file = f'{save_agent_path}{file_root_name}.png')\n",
        "                del test_metrics['stock']\n",
        "                del test_metrics['agent_name']\n",
        "                results[key][decision_agent][test_key][idx] = test_metrics\n",
        "\n",
        "            # Remove Agent\n",
        "            for agent in set([decision_agent] + agents_in_setup):\n",
        "                rl_env.remove_agent(agent)\n",
        "                agents_dic[agent].set_environment(None)\n",
        "\n",
        "    display(results)\n",
        "    set_seed(RANDOM_SEED)"
      ]
    },
    {
      "cell_type": "markdown",
      "metadata": {
        "id": "tFAgjjt1QFnt"
      },
      "source": [
        "# Aggreating Test Results"
      ]
    },
    {
      "cell_type": "code",
      "execution_count": 40,
      "metadata": {
        "id": "BApRg8hXQFnt"
      },
      "outputs": [
        {
          "data": {
            "text/plain": [
              "{'n_trades':             dataset  profit_1  profit_2  random\n",
              " 0    AAPL-3272:4250     480.0      61.0   244.6\n",
              " 1    AMZN-3272:4250     348.0      92.0   244.8\n",
              " 2   GOOGL-3272:4250       7.0      68.0   240.4\n",
              " 3    MSFT-3272:4250     488.0      62.0   243.6\n",
              " 4    FORD-3272:4250       0.0     142.0   241.8\n",
              " 5     JNJ-3272:4250       0.0      42.0   246.4\n",
              " 6     NEE-3272:4250     478.0      73.0   244.8\n",
              " 7     PFE-3272:4250       0.0      50.0   243.0\n",
              " 8    TSLA-2394:3372       5.0      46.0   243.8\n",
              " 9    COKE-3272:4250       6.0      57.0   245.8\n",
              " 10     PG-3272:4250       0.0      34.0   240.4,\n",
              " 'n_wins':             dataset  profit_1  profit_2  random\n",
              " 0    AAPL-3272:4250     259.0      38.0   127.8\n",
              " 1    AMZN-3272:4250     179.0      47.0   127.6\n",
              " 2   GOOGL-3272:4250       5.0      37.0   127.6\n",
              " 3    MSFT-3272:4250     249.0      36.0   129.4\n",
              " 4    FORD-3272:4250       0.0      71.0   119.8\n",
              " 5     JNJ-3272:4250       0.0      23.0   126.4\n",
              " 6     NEE-3272:4250     230.0      35.0   129.0\n",
              " 7     PFE-3272:4250       0.0      25.0   113.8\n",
              " 8    TSLA-2394:3372       2.0      26.0   133.4\n",
              " 9    COKE-3272:4250       0.0      36.0   128.2\n",
              " 10     PG-3272:4250       0.0      17.0   126.4,\n",
              " 'win_percentage':             dataset  profit_1  profit_2  random\n",
              " 0    AAPL-3272:4250     53.96     62.30   52.26\n",
              " 1    AMZN-3272:4250     51.44     51.09   52.14\n",
              " 2   GOOGL-3272:4250     71.43     54.41   53.09\n",
              " 3    MSFT-3272:4250     51.02     58.06   53.12\n",
              " 4    FORD-3272:4250      0.00     50.00   49.53\n",
              " 5     JNJ-3272:4250      0.00     54.76   51.33\n",
              " 6     NEE-3272:4250     48.12     47.95   52.71\n",
              " 7     PFE-3272:4250      0.00     50.00   46.85\n",
              " 8    TSLA-2394:3372     40.00     56.52   54.68\n",
              " 9    COKE-3272:4250      0.00     63.16   52.20\n",
              " 10     PG-3272:4250      0.00     50.00   52.55,\n",
              " 'cumulative_return':             dataset  profit_1  profit_2  random\n",
              " 0    AAPL-3272:4250      1.94      1.79    1.56\n",
              " 1    AMZN-3272:4250      1.36      1.10    1.20\n",
              " 2   GOOGL-3272:4250      0.98      1.86    1.26\n",
              " 3    MSFT-3272:4250      1.06      2.08    1.59\n",
              " 4    FORD-3272:4250      0.00      1.29    1.27\n",
              " 5     JNJ-3272:4250      0.00      1.26    1.16\n",
              " 6     NEE-3272:4250      0.82      1.07    1.10\n",
              " 7     PFE-3272:4250      0.00      1.18    0.97\n",
              " 8    TSLA-2394:3372      5.59      3.97    2.94\n",
              " 9    COKE-3272:4250      0.86      3.17    2.29\n",
              " 10     PG-3272:4250      0.00      0.95    1.00,\n",
              " 'sortino':             dataset  profit_1  profit_2  random\n",
              " 0    AAPL-3272:4250      1.89      4.09    1.87\n",
              " 1    AMZN-3272:4250      1.19      1.17    0.89\n",
              " 2   GOOGL-3272:4250     -2.21      4.67    1.10\n",
              " 3    MSFT-3272:4250      0.34      6.98    1.88\n",
              " 4    FORD-3272:4250      0.00      1.54    0.94\n",
              " 5     JNJ-3272:4250      0.00      6.54    1.07\n",
              " 6     NEE-3272:4250     -0.19      1.07    0.61\n",
              " 7     PFE-3272:4250      0.00      2.43    0.06\n",
              " 8    TSLA-2394:3372    707.94      8.12    2.65\n",
              " 9    COKE-3272:4250    -13.25      9.81    2.75\n",
              " 10     PG-3272:4250      0.00     -0.34    0.14,\n",
              " 'max_drawdown':             dataset  profit_1  profit_2  random\n",
              " 0    AAPL-3272:4250    -20.30    -34.36  -32.41\n",
              " 1    AMZN-3272:4250    -30.74    -55.83  -43.38\n",
              " 2   GOOGL-3272:4250     -4.83    -31.68  -35.49\n",
              " 3    MSFT-3272:4250    -33.49    -28.53  -26.09\n",
              " 4    FORD-3272:4250      0.00    -29.79  -50.24\n",
              " 5     JNJ-3272:4250      0.00     -8.31  -20.19\n",
              " 6     NEE-3272:4250    -34.99    -41.92  -35.80\n",
              " 7     PFE-3272:4250      0.00    -18.13  -37.42\n",
              " 8    TSLA-2394:3372     -5.95    -63.67  -56.47\n",
              " 9    COKE-3272:4250    -13.33    -35.91  -35.04\n",
              " 10     PG-3272:4250      0.00    -11.09  -20.74,\n",
              " 'sharpe':             dataset  profit_1  profit_2  random\n",
              " 0    AAPL-3272:4250      1.28      2.61    1.17\n",
              " 1    AMZN-3272:4250      0.78      0.82    0.58\n",
              " 2   GOOGL-3272:4250     -1.70      2.79    0.74\n",
              " 3    MSFT-3272:4250      0.25      3.87    1.18\n",
              " 4    FORD-3272:4250      0.00      1.00    0.62\n",
              " 5     JNJ-3272:4250      0.00      3.49    0.66\n",
              " 6     NEE-3272:4250     -0.14      0.74    0.38\n",
              " 7     PFE-3272:4250      0.00      1.54    0.03\n",
              " 8    TSLA-2394:3372      7.10      3.74    1.62\n",
              " 9    COKE-3272:4250    -21.96      3.91    1.66\n",
              " 10     PG-3272:4250      0.00     -0.27    0.06,\n",
              " 'trade_dur_avg':             dataset  profit_1  profit_2  random\n",
              " 0    AAPL-3272:4250       1.0     14.84    2.00\n",
              " 1    AMZN-3272:4250       1.0      9.25    2.01\n",
              " 2   GOOGL-3272:4250       1.0     12.85    2.06\n",
              " 3    MSFT-3272:4250       1.0     14.32    2.02\n",
              " 4    FORD-3272:4250       0.0      1.47    2.04\n",
              " 5     JNJ-3272:4250       0.0      7.79    1.97\n",
              " 6     NEE-3272:4250       1.0     10.85    1.97\n",
              " 7     PFE-3272:4250       0.0      5.62    1.98\n",
              " 8    TSLA-2394:3372     194.0     18.57    1.97\n",
              " 9    COKE-3272:4250       1.0     13.18    2.04\n",
              " 10     PG-3272:4250       0.0     10.88    2.00}"
            ]
          },
          "metadata": {},
          "output_type": "display_data"
        }
      ],
      "source": [
        "if test_agent:\n",
        "    aggerate_results = {}\n",
        "    for agent in agent_name_list:\n",
        "        aggerate_results[agent] = {}\n",
        "        for stock in tst_keys:\n",
        "            aggerate_results[agent][stock] = {}\n",
        "            test_key = f'{tst_idx[stock][0]}:{tst_idx[stock][1]}'\n",
        "            aggerate_results[agent][stock][test_key] = {}\n",
        "            values = np.empty((0,len(metrics)))\n",
        "            for test_num in range(testing_params[agent_classes[agent]]['testing_episodes']):\n",
        "\n",
        "                values_array = [results[stock][agent][test_key][test_num][key] for key in metrics]\n",
        "                current_values = np.array(values_array)\n",
        "                values = np.vstack((values,current_values))\n",
        "\n",
        "                means_for_metrics = np.mean(values, axis=0)\n",
        "                std_for_metrics = np.std(values, axis=0)\n",
        "\n",
        "            for idx,metric in enumerate(metrics):\n",
        "                aggerate_results[agent][stock][test_key][metric] = (means_for_metrics[idx],std_for_metrics[idx])\n",
        "\n",
        "    summarized_aggerate_results = {}\n",
        "\n",
        "    for metric in metrics:\n",
        "        model_list = []\n",
        "        dataset_name = []\n",
        "        scores = []\n",
        "        for agent in aggerate_results.keys():\n",
        "\n",
        "            model_list.append(agent)\n",
        "            score_list = []\n",
        "            for stock in aggerate_results[agent].keys():\n",
        "                for test in aggerate_results[agent][stock].keys():\n",
        "                    run_name = stock + \"-\" + test\n",
        "                    if run_name not in dataset_name:\n",
        "                        dataset_name.append(run_name)\n",
        "                    score = aggerate_results[agent][stock][test][metric][0]\n",
        "                    score_list.append(np.round(score,2))\n",
        "            scores.append(score_list)\n",
        "\n",
        "        score_array = np.array(scores).T\n",
        "\n",
        "        df = pd.DataFrame(score_array,columns=model_list)\n",
        "        df['dataset'] = dataset_name\n",
        "\n",
        "        column_order = ['dataset'] + [col for col in df.columns if col != 'dataset']\n",
        "        df = df[column_order]\n",
        "        summarized_aggerate_results[metric] = df\n",
        "\n",
        "\n",
        "        # Export Aggreate Date to CSV\n",
        "        means = df[model_list].mean()\n",
        "        model_means = {model: means[model] for model in model_list}\n",
        "        model_means.update({'dataset': 'mean'})\n",
        "        df_export = df.copy()\n",
        "        df_export.loc[len(df)] = model_means\n",
        "        df_export.to_csv(f'{save_path_root}/{metric}_agg_data.csv')\n",
        "\n",
        "\n",
        "\n",
        "\n",
        "    display(summarized_aggerate_results)\n"
      ]
    },
    {
      "cell_type": "markdown",
      "metadata": {
        "id": "Y0ZPtDYFQFnu"
      },
      "source": [
        "# Significance Testing"
      ]
    },
    {
      "cell_type": "code",
      "execution_count": 41,
      "metadata": {
        "id": "XDyd0N45QFnu"
      },
      "outputs": [
        {
          "data": {
            "text/plain": [
              "'n_trades'"
            ]
          },
          "metadata": {},
          "output_type": "display_data"
        },
        {
          "data": {
            "text/html": [
              "<div>\n",
              "<style scoped>\n",
              "    .dataframe tbody tr th:only-of-type {\n",
              "        vertical-align: middle;\n",
              "    }\n",
              "\n",
              "    .dataframe tbody tr th {\n",
              "        vertical-align: top;\n",
              "    }\n",
              "\n",
              "    .dataframe thead th {\n",
              "        text-align: right;\n",
              "    }\n",
              "</style>\n",
              "<table border=\"1\" class=\"dataframe\">\n",
              "  <thead>\n",
              "    <tr style=\"text-align: right;\">\n",
              "      <th></th>\n",
              "      <th>dataset</th>\n",
              "      <th>profit_1</th>\n",
              "      <th>profit_2</th>\n",
              "      <th>random</th>\n",
              "    </tr>\n",
              "  </thead>\n",
              "  <tbody>\n",
              "    <tr>\n",
              "      <th>0</th>\n",
              "      <td>AAPL-3272:4250</td>\n",
              "      <td>480.0</td>\n",
              "      <td>61.0</td>\n",
              "      <td>244.6</td>\n",
              "    </tr>\n",
              "    <tr>\n",
              "      <th>1</th>\n",
              "      <td>AMZN-3272:4250</td>\n",
              "      <td>348.0</td>\n",
              "      <td>92.0</td>\n",
              "      <td>244.8</td>\n",
              "    </tr>\n",
              "    <tr>\n",
              "      <th>2</th>\n",
              "      <td>GOOGL-3272:4250</td>\n",
              "      <td>7.0</td>\n",
              "      <td>68.0</td>\n",
              "      <td>240.4</td>\n",
              "    </tr>\n",
              "    <tr>\n",
              "      <th>3</th>\n",
              "      <td>MSFT-3272:4250</td>\n",
              "      <td>488.0</td>\n",
              "      <td>62.0</td>\n",
              "      <td>243.6</td>\n",
              "    </tr>\n",
              "    <tr>\n",
              "      <th>4</th>\n",
              "      <td>FORD-3272:4250</td>\n",
              "      <td>0.0</td>\n",
              "      <td>142.0</td>\n",
              "      <td>241.8</td>\n",
              "    </tr>\n",
              "    <tr>\n",
              "      <th>5</th>\n",
              "      <td>JNJ-3272:4250</td>\n",
              "      <td>0.0</td>\n",
              "      <td>42.0</td>\n",
              "      <td>246.4</td>\n",
              "    </tr>\n",
              "    <tr>\n",
              "      <th>6</th>\n",
              "      <td>NEE-3272:4250</td>\n",
              "      <td>478.0</td>\n",
              "      <td>73.0</td>\n",
              "      <td>244.8</td>\n",
              "    </tr>\n",
              "    <tr>\n",
              "      <th>7</th>\n",
              "      <td>PFE-3272:4250</td>\n",
              "      <td>0.0</td>\n",
              "      <td>50.0</td>\n",
              "      <td>243.0</td>\n",
              "    </tr>\n",
              "    <tr>\n",
              "      <th>8</th>\n",
              "      <td>TSLA-2394:3372</td>\n",
              "      <td>5.0</td>\n",
              "      <td>46.0</td>\n",
              "      <td>243.8</td>\n",
              "    </tr>\n",
              "    <tr>\n",
              "      <th>9</th>\n",
              "      <td>COKE-3272:4250</td>\n",
              "      <td>6.0</td>\n",
              "      <td>57.0</td>\n",
              "      <td>245.8</td>\n",
              "    </tr>\n",
              "    <tr>\n",
              "      <th>10</th>\n",
              "      <td>PG-3272:4250</td>\n",
              "      <td>0.0</td>\n",
              "      <td>34.0</td>\n",
              "      <td>240.4</td>\n",
              "    </tr>\n",
              "  </tbody>\n",
              "</table>\n",
              "</div>"
            ],
            "text/plain": [
              "            dataset  profit_1  profit_2  random\n",
              "0    AAPL-3272:4250     480.0      61.0   244.6\n",
              "1    AMZN-3272:4250     348.0      92.0   244.8\n",
              "2   GOOGL-3272:4250       7.0      68.0   240.4\n",
              "3    MSFT-3272:4250     488.0      62.0   243.6\n",
              "4    FORD-3272:4250       0.0     142.0   241.8\n",
              "5     JNJ-3272:4250       0.0      42.0   246.4\n",
              "6     NEE-3272:4250     478.0      73.0   244.8\n",
              "7     PFE-3272:4250       0.0      50.0   243.0\n",
              "8    TSLA-2394:3372       5.0      46.0   243.8\n",
              "9    COKE-3272:4250       6.0      57.0   245.8\n",
              "10     PG-3272:4250       0.0      34.0   240.4"
            ]
          },
          "metadata": {},
          "output_type": "display_data"
        },
        {
          "data": {
            "text/plain": [
              "array([[1, 1, 3, 1, 3, 3, 1, 3, 3, 3, 3],\n",
              "       [3, 3, 2, 3, 2, 2, 3, 2, 2, 2, 2],\n",
              "       [2, 2, 1, 2, 1, 1, 2, 1, 1, 1, 1]])"
            ]
          },
          "metadata": {},
          "output_type": "display_data"
        },
        {
          "data": {
            "text/plain": [
              "'n models: 3, n_datasets 11, ImanDavenport Stat: 4.404761904761897, Critical Value: 3.492828476735632, pvalue: 0.03460917828870062, Reject Null Hypoth: True'"
            ]
          },
          "metadata": {},
          "output_type": "display_data"
        },
        {
          "data": {
            "text/html": [
              "<div>\n",
              "<style scoped>\n",
              "    .dataframe tbody tr th:only-of-type {\n",
              "        vertical-align: middle;\n",
              "    }\n",
              "\n",
              "    .dataframe tbody tr th {\n",
              "        vertical-align: top;\n",
              "    }\n",
              "\n",
              "    .dataframe thead th {\n",
              "        text-align: right;\n",
              "    }\n",
              "</style>\n",
              "<table border=\"1\" class=\"dataframe\">\n",
              "  <thead>\n",
              "    <tr style=\"text-align: right;\">\n",
              "      <th></th>\n",
              "      <th>agent1</th>\n",
              "      <th>agent2</th>\n",
              "      <th>nemenyi_stat</th>\n",
              "      <th>nemenyi_threshold</th>\n",
              "      <th>reject_null_hypo</th>\n",
              "    </tr>\n",
              "  </thead>\n",
              "  <tbody>\n",
              "    <tr>\n",
              "      <th>0</th>\n",
              "      <td>profit_1</td>\n",
              "      <td>profit_2</td>\n",
              "      <td>0.090909</td>\n",
              "      <td>0.999059</td>\n",
              "      <td>False</td>\n",
              "    </tr>\n",
              "    <tr>\n",
              "      <th>1</th>\n",
              "      <td>profit_1</td>\n",
              "      <td>random</td>\n",
              "      <td>0.909091</td>\n",
              "      <td>0.999059</td>\n",
              "      <td>False</td>\n",
              "    </tr>\n",
              "    <tr>\n",
              "      <th>2</th>\n",
              "      <td>profit_2</td>\n",
              "      <td>random</td>\n",
              "      <td>1.000000</td>\n",
              "      <td>0.999059</td>\n",
              "      <td>True</td>\n",
              "    </tr>\n",
              "  </tbody>\n",
              "</table>\n",
              "</div>"
            ],
            "text/plain": [
              "     agent1    agent2  nemenyi_stat  nemenyi_threshold  reject_null_hypo\n",
              "0  profit_1  profit_2      0.090909           0.999059             False\n",
              "1  profit_1    random      0.909091           0.999059             False\n",
              "2  profit_2    random      1.000000           0.999059              True"
            ]
          },
          "metadata": {},
          "output_type": "display_data"
        },
        {
          "data": {
            "text/plain": [
              "'n_wins'"
            ]
          },
          "metadata": {},
          "output_type": "display_data"
        },
        {
          "data": {
            "text/html": [
              "<div>\n",
              "<style scoped>\n",
              "    .dataframe tbody tr th:only-of-type {\n",
              "        vertical-align: middle;\n",
              "    }\n",
              "\n",
              "    .dataframe tbody tr th {\n",
              "        vertical-align: top;\n",
              "    }\n",
              "\n",
              "    .dataframe thead th {\n",
              "        text-align: right;\n",
              "    }\n",
              "</style>\n",
              "<table border=\"1\" class=\"dataframe\">\n",
              "  <thead>\n",
              "    <tr style=\"text-align: right;\">\n",
              "      <th></th>\n",
              "      <th>dataset</th>\n",
              "      <th>profit_1</th>\n",
              "      <th>profit_2</th>\n",
              "      <th>random</th>\n",
              "    </tr>\n",
              "  </thead>\n",
              "  <tbody>\n",
              "    <tr>\n",
              "      <th>0</th>\n",
              "      <td>AAPL-3272:4250</td>\n",
              "      <td>259.0</td>\n",
              "      <td>38.0</td>\n",
              "      <td>127.8</td>\n",
              "    </tr>\n",
              "    <tr>\n",
              "      <th>1</th>\n",
              "      <td>AMZN-3272:4250</td>\n",
              "      <td>179.0</td>\n",
              "      <td>47.0</td>\n",
              "      <td>127.6</td>\n",
              "    </tr>\n",
              "    <tr>\n",
              "      <th>2</th>\n",
              "      <td>GOOGL-3272:4250</td>\n",
              "      <td>5.0</td>\n",
              "      <td>37.0</td>\n",
              "      <td>127.6</td>\n",
              "    </tr>\n",
              "    <tr>\n",
              "      <th>3</th>\n",
              "      <td>MSFT-3272:4250</td>\n",
              "      <td>249.0</td>\n",
              "      <td>36.0</td>\n",
              "      <td>129.4</td>\n",
              "    </tr>\n",
              "    <tr>\n",
              "      <th>4</th>\n",
              "      <td>FORD-3272:4250</td>\n",
              "      <td>0.0</td>\n",
              "      <td>71.0</td>\n",
              "      <td>119.8</td>\n",
              "    </tr>\n",
              "    <tr>\n",
              "      <th>5</th>\n",
              "      <td>JNJ-3272:4250</td>\n",
              "      <td>0.0</td>\n",
              "      <td>23.0</td>\n",
              "      <td>126.4</td>\n",
              "    </tr>\n",
              "    <tr>\n",
              "      <th>6</th>\n",
              "      <td>NEE-3272:4250</td>\n",
              "      <td>230.0</td>\n",
              "      <td>35.0</td>\n",
              "      <td>129.0</td>\n",
              "    </tr>\n",
              "    <tr>\n",
              "      <th>7</th>\n",
              "      <td>PFE-3272:4250</td>\n",
              "      <td>0.0</td>\n",
              "      <td>25.0</td>\n",
              "      <td>113.8</td>\n",
              "    </tr>\n",
              "    <tr>\n",
              "      <th>8</th>\n",
              "      <td>TSLA-2394:3372</td>\n",
              "      <td>2.0</td>\n",
              "      <td>26.0</td>\n",
              "      <td>133.4</td>\n",
              "    </tr>\n",
              "    <tr>\n",
              "      <th>9</th>\n",
              "      <td>COKE-3272:4250</td>\n",
              "      <td>0.0</td>\n",
              "      <td>36.0</td>\n",
              "      <td>128.2</td>\n",
              "    </tr>\n",
              "    <tr>\n",
              "      <th>10</th>\n",
              "      <td>PG-3272:4250</td>\n",
              "      <td>0.0</td>\n",
              "      <td>17.0</td>\n",
              "      <td>126.4</td>\n",
              "    </tr>\n",
              "  </tbody>\n",
              "</table>\n",
              "</div>"
            ],
            "text/plain": [
              "            dataset  profit_1  profit_2  random\n",
              "0    AAPL-3272:4250     259.0      38.0   127.8\n",
              "1    AMZN-3272:4250     179.0      47.0   127.6\n",
              "2   GOOGL-3272:4250       5.0      37.0   127.6\n",
              "3    MSFT-3272:4250     249.0      36.0   129.4\n",
              "4    FORD-3272:4250       0.0      71.0   119.8\n",
              "5     JNJ-3272:4250       0.0      23.0   126.4\n",
              "6     NEE-3272:4250     230.0      35.0   129.0\n",
              "7     PFE-3272:4250       0.0      25.0   113.8\n",
              "8    TSLA-2394:3372       2.0      26.0   133.4\n",
              "9    COKE-3272:4250       0.0      36.0   128.2\n",
              "10     PG-3272:4250       0.0      17.0   126.4"
            ]
          },
          "metadata": {},
          "output_type": "display_data"
        },
        {
          "data": {
            "text/plain": [
              "array([[1, 1, 3, 1, 3, 3, 1, 3, 3, 3, 3],\n",
              "       [3, 3, 2, 3, 2, 2, 3, 2, 2, 2, 2],\n",
              "       [2, 2, 1, 2, 1, 1, 2, 1, 1, 1, 1]])"
            ]
          },
          "metadata": {},
          "output_type": "display_data"
        },
        {
          "data": {
            "text/plain": [
              "'n models: 3, n_datasets 11, ImanDavenport Stat: 4.404761904761897, Critical Value: 3.492828476735632, pvalue: 0.03460917828870062, Reject Null Hypoth: True'"
            ]
          },
          "metadata": {},
          "output_type": "display_data"
        },
        {
          "data": {
            "text/html": [
              "<div>\n",
              "<style scoped>\n",
              "    .dataframe tbody tr th:only-of-type {\n",
              "        vertical-align: middle;\n",
              "    }\n",
              "\n",
              "    .dataframe tbody tr th {\n",
              "        vertical-align: top;\n",
              "    }\n",
              "\n",
              "    .dataframe thead th {\n",
              "        text-align: right;\n",
              "    }\n",
              "</style>\n",
              "<table border=\"1\" class=\"dataframe\">\n",
              "  <thead>\n",
              "    <tr style=\"text-align: right;\">\n",
              "      <th></th>\n",
              "      <th>agent1</th>\n",
              "      <th>agent2</th>\n",
              "      <th>nemenyi_stat</th>\n",
              "      <th>nemenyi_threshold</th>\n",
              "      <th>reject_null_hypo</th>\n",
              "    </tr>\n",
              "  </thead>\n",
              "  <tbody>\n",
              "    <tr>\n",
              "      <th>0</th>\n",
              "      <td>profit_1</td>\n",
              "      <td>profit_2</td>\n",
              "      <td>0.090909</td>\n",
              "      <td>0.999059</td>\n",
              "      <td>False</td>\n",
              "    </tr>\n",
              "    <tr>\n",
              "      <th>1</th>\n",
              "      <td>profit_1</td>\n",
              "      <td>random</td>\n",
              "      <td>0.909091</td>\n",
              "      <td>0.999059</td>\n",
              "      <td>False</td>\n",
              "    </tr>\n",
              "    <tr>\n",
              "      <th>2</th>\n",
              "      <td>profit_2</td>\n",
              "      <td>random</td>\n",
              "      <td>1.000000</td>\n",
              "      <td>0.999059</td>\n",
              "      <td>True</td>\n",
              "    </tr>\n",
              "  </tbody>\n",
              "</table>\n",
              "</div>"
            ],
            "text/plain": [
              "     agent1    agent2  nemenyi_stat  nemenyi_threshold  reject_null_hypo\n",
              "0  profit_1  profit_2      0.090909           0.999059             False\n",
              "1  profit_1    random      0.909091           0.999059             False\n",
              "2  profit_2    random      1.000000           0.999059              True"
            ]
          },
          "metadata": {},
          "output_type": "display_data"
        },
        {
          "data": {
            "text/plain": [
              "'win_percentage'"
            ]
          },
          "metadata": {},
          "output_type": "display_data"
        },
        {
          "data": {
            "text/html": [
              "<div>\n",
              "<style scoped>\n",
              "    .dataframe tbody tr th:only-of-type {\n",
              "        vertical-align: middle;\n",
              "    }\n",
              "\n",
              "    .dataframe tbody tr th {\n",
              "        vertical-align: top;\n",
              "    }\n",
              "\n",
              "    .dataframe thead th {\n",
              "        text-align: right;\n",
              "    }\n",
              "</style>\n",
              "<table border=\"1\" class=\"dataframe\">\n",
              "  <thead>\n",
              "    <tr style=\"text-align: right;\">\n",
              "      <th></th>\n",
              "      <th>dataset</th>\n",
              "      <th>profit_1</th>\n",
              "      <th>profit_2</th>\n",
              "      <th>random</th>\n",
              "    </tr>\n",
              "  </thead>\n",
              "  <tbody>\n",
              "    <tr>\n",
              "      <th>0</th>\n",
              "      <td>AAPL-3272:4250</td>\n",
              "      <td>53.96</td>\n",
              "      <td>62.30</td>\n",
              "      <td>52.26</td>\n",
              "    </tr>\n",
              "    <tr>\n",
              "      <th>1</th>\n",
              "      <td>AMZN-3272:4250</td>\n",
              "      <td>51.44</td>\n",
              "      <td>51.09</td>\n",
              "      <td>52.14</td>\n",
              "    </tr>\n",
              "    <tr>\n",
              "      <th>2</th>\n",
              "      <td>GOOGL-3272:4250</td>\n",
              "      <td>71.43</td>\n",
              "      <td>54.41</td>\n",
              "      <td>53.09</td>\n",
              "    </tr>\n",
              "    <tr>\n",
              "      <th>3</th>\n",
              "      <td>MSFT-3272:4250</td>\n",
              "      <td>51.02</td>\n",
              "      <td>58.06</td>\n",
              "      <td>53.12</td>\n",
              "    </tr>\n",
              "    <tr>\n",
              "      <th>4</th>\n",
              "      <td>FORD-3272:4250</td>\n",
              "      <td>0.00</td>\n",
              "      <td>50.00</td>\n",
              "      <td>49.53</td>\n",
              "    </tr>\n",
              "    <tr>\n",
              "      <th>5</th>\n",
              "      <td>JNJ-3272:4250</td>\n",
              "      <td>0.00</td>\n",
              "      <td>54.76</td>\n",
              "      <td>51.33</td>\n",
              "    </tr>\n",
              "    <tr>\n",
              "      <th>6</th>\n",
              "      <td>NEE-3272:4250</td>\n",
              "      <td>48.12</td>\n",
              "      <td>47.95</td>\n",
              "      <td>52.71</td>\n",
              "    </tr>\n",
              "    <tr>\n",
              "      <th>7</th>\n",
              "      <td>PFE-3272:4250</td>\n",
              "      <td>0.00</td>\n",
              "      <td>50.00</td>\n",
              "      <td>46.85</td>\n",
              "    </tr>\n",
              "    <tr>\n",
              "      <th>8</th>\n",
              "      <td>TSLA-2394:3372</td>\n",
              "      <td>40.00</td>\n",
              "      <td>56.52</td>\n",
              "      <td>54.68</td>\n",
              "    </tr>\n",
              "    <tr>\n",
              "      <th>9</th>\n",
              "      <td>COKE-3272:4250</td>\n",
              "      <td>0.00</td>\n",
              "      <td>63.16</td>\n",
              "      <td>52.20</td>\n",
              "    </tr>\n",
              "    <tr>\n",
              "      <th>10</th>\n",
              "      <td>PG-3272:4250</td>\n",
              "      <td>0.00</td>\n",
              "      <td>50.00</td>\n",
              "      <td>52.55</td>\n",
              "    </tr>\n",
              "  </tbody>\n",
              "</table>\n",
              "</div>"
            ],
            "text/plain": [
              "            dataset  profit_1  profit_2  random\n",
              "0    AAPL-3272:4250     53.96     62.30   52.26\n",
              "1    AMZN-3272:4250     51.44     51.09   52.14\n",
              "2   GOOGL-3272:4250     71.43     54.41   53.09\n",
              "3    MSFT-3272:4250     51.02     58.06   53.12\n",
              "4    FORD-3272:4250      0.00     50.00   49.53\n",
              "5     JNJ-3272:4250      0.00     54.76   51.33\n",
              "6     NEE-3272:4250     48.12     47.95   52.71\n",
              "7     PFE-3272:4250      0.00     50.00   46.85\n",
              "8    TSLA-2394:3372     40.00     56.52   54.68\n",
              "9    COKE-3272:4250      0.00     63.16   52.20\n",
              "10     PG-3272:4250      0.00     50.00   52.55"
            ]
          },
          "metadata": {},
          "output_type": "display_data"
        },
        {
          "data": {
            "text/plain": [
              "array([[2, 2, 1, 3, 3, 3, 2, 3, 3, 3, 3],\n",
              "       [1, 3, 2, 1, 1, 1, 3, 1, 1, 1, 2],\n",
              "       [3, 1, 3, 2, 2, 2, 1, 2, 2, 2, 1]])"
            ]
          },
          "metadata": {},
          "output_type": "display_data"
        },
        {
          "data": {
            "text/plain": [
              "'n models: 3, n_datasets 11, ImanDavenport Stat: 3.4444444444444358, Critical Value: 3.492828476735632, pvalue: 0.059714415732185576, Reject Null Hypoth: False'"
            ]
          },
          "metadata": {},
          "output_type": "display_data"
        },
        {
          "data": {
            "text/html": [
              "<div>\n",
              "<style scoped>\n",
              "    .dataframe tbody tr th:only-of-type {\n",
              "        vertical-align: middle;\n",
              "    }\n",
              "\n",
              "    .dataframe tbody tr th {\n",
              "        vertical-align: top;\n",
              "    }\n",
              "\n",
              "    .dataframe thead th {\n",
              "        text-align: right;\n",
              "    }\n",
              "</style>\n",
              "<table border=\"1\" class=\"dataframe\">\n",
              "  <thead>\n",
              "    <tr style=\"text-align: right;\">\n",
              "      <th></th>\n",
              "      <th>agent1</th>\n",
              "      <th>agent2</th>\n",
              "      <th>nemenyi_stat</th>\n",
              "      <th>nemenyi_threshold</th>\n",
              "      <th>reject_null_hypo</th>\n",
              "    </tr>\n",
              "  </thead>\n",
              "  <tbody>\n",
              "    <tr>\n",
              "      <th>0</th>\n",
              "      <td>profit_1</td>\n",
              "      <td>profit_2</td>\n",
              "      <td>1.000000</td>\n",
              "      <td>0.999059</td>\n",
              "      <td>True</td>\n",
              "    </tr>\n",
              "    <tr>\n",
              "      <th>1</th>\n",
              "      <td>profit_1</td>\n",
              "      <td>random</td>\n",
              "      <td>0.636364</td>\n",
              "      <td>0.999059</td>\n",
              "      <td>False</td>\n",
              "    </tr>\n",
              "    <tr>\n",
              "      <th>2</th>\n",
              "      <td>profit_2</td>\n",
              "      <td>random</td>\n",
              "      <td>0.363636</td>\n",
              "      <td>0.999059</td>\n",
              "      <td>False</td>\n",
              "    </tr>\n",
              "  </tbody>\n",
              "</table>\n",
              "</div>"
            ],
            "text/plain": [
              "     agent1    agent2  nemenyi_stat  nemenyi_threshold  reject_null_hypo\n",
              "0  profit_1  profit_2      1.000000           0.999059              True\n",
              "1  profit_1    random      0.636364           0.999059             False\n",
              "2  profit_2    random      0.363636           0.999059             False"
            ]
          },
          "metadata": {},
          "output_type": "display_data"
        },
        {
          "data": {
            "text/plain": [
              "'cumulative_return'"
            ]
          },
          "metadata": {},
          "output_type": "display_data"
        },
        {
          "data": {
            "text/html": [
              "<div>\n",
              "<style scoped>\n",
              "    .dataframe tbody tr th:only-of-type {\n",
              "        vertical-align: middle;\n",
              "    }\n",
              "\n",
              "    .dataframe tbody tr th {\n",
              "        vertical-align: top;\n",
              "    }\n",
              "\n",
              "    .dataframe thead th {\n",
              "        text-align: right;\n",
              "    }\n",
              "</style>\n",
              "<table border=\"1\" class=\"dataframe\">\n",
              "  <thead>\n",
              "    <tr style=\"text-align: right;\">\n",
              "      <th></th>\n",
              "      <th>dataset</th>\n",
              "      <th>profit_1</th>\n",
              "      <th>profit_2</th>\n",
              "      <th>random</th>\n",
              "    </tr>\n",
              "  </thead>\n",
              "  <tbody>\n",
              "    <tr>\n",
              "      <th>0</th>\n",
              "      <td>AAPL-3272:4250</td>\n",
              "      <td>1.94</td>\n",
              "      <td>1.79</td>\n",
              "      <td>1.56</td>\n",
              "    </tr>\n",
              "    <tr>\n",
              "      <th>1</th>\n",
              "      <td>AMZN-3272:4250</td>\n",
              "      <td>1.36</td>\n",
              "      <td>1.10</td>\n",
              "      <td>1.20</td>\n",
              "    </tr>\n",
              "    <tr>\n",
              "      <th>2</th>\n",
              "      <td>GOOGL-3272:4250</td>\n",
              "      <td>0.98</td>\n",
              "      <td>1.86</td>\n",
              "      <td>1.26</td>\n",
              "    </tr>\n",
              "    <tr>\n",
              "      <th>3</th>\n",
              "      <td>MSFT-3272:4250</td>\n",
              "      <td>1.06</td>\n",
              "      <td>2.08</td>\n",
              "      <td>1.59</td>\n",
              "    </tr>\n",
              "    <tr>\n",
              "      <th>4</th>\n",
              "      <td>FORD-3272:4250</td>\n",
              "      <td>0.00</td>\n",
              "      <td>1.29</td>\n",
              "      <td>1.27</td>\n",
              "    </tr>\n",
              "    <tr>\n",
              "      <th>5</th>\n",
              "      <td>JNJ-3272:4250</td>\n",
              "      <td>0.00</td>\n",
              "      <td>1.26</td>\n",
              "      <td>1.16</td>\n",
              "    </tr>\n",
              "    <tr>\n",
              "      <th>6</th>\n",
              "      <td>NEE-3272:4250</td>\n",
              "      <td>0.82</td>\n",
              "      <td>1.07</td>\n",
              "      <td>1.10</td>\n",
              "    </tr>\n",
              "    <tr>\n",
              "      <th>7</th>\n",
              "      <td>PFE-3272:4250</td>\n",
              "      <td>0.00</td>\n",
              "      <td>1.18</td>\n",
              "      <td>0.97</td>\n",
              "    </tr>\n",
              "    <tr>\n",
              "      <th>8</th>\n",
              "      <td>TSLA-2394:3372</td>\n",
              "      <td>5.59</td>\n",
              "      <td>3.97</td>\n",
              "      <td>2.94</td>\n",
              "    </tr>\n",
              "    <tr>\n",
              "      <th>9</th>\n",
              "      <td>COKE-3272:4250</td>\n",
              "      <td>0.86</td>\n",
              "      <td>3.17</td>\n",
              "      <td>2.29</td>\n",
              "    </tr>\n",
              "    <tr>\n",
              "      <th>10</th>\n",
              "      <td>PG-3272:4250</td>\n",
              "      <td>0.00</td>\n",
              "      <td>0.95</td>\n",
              "      <td>1.00</td>\n",
              "    </tr>\n",
              "  </tbody>\n",
              "</table>\n",
              "</div>"
            ],
            "text/plain": [
              "            dataset  profit_1  profit_2  random\n",
              "0    AAPL-3272:4250      1.94      1.79    1.56\n",
              "1    AMZN-3272:4250      1.36      1.10    1.20\n",
              "2   GOOGL-3272:4250      0.98      1.86    1.26\n",
              "3    MSFT-3272:4250      1.06      2.08    1.59\n",
              "4    FORD-3272:4250      0.00      1.29    1.27\n",
              "5     JNJ-3272:4250      0.00      1.26    1.16\n",
              "6     NEE-3272:4250      0.82      1.07    1.10\n",
              "7     PFE-3272:4250      0.00      1.18    0.97\n",
              "8    TSLA-2394:3372      5.59      3.97    2.94\n",
              "9    COKE-3272:4250      0.86      3.17    2.29\n",
              "10     PG-3272:4250      0.00      0.95    1.00"
            ]
          },
          "metadata": {},
          "output_type": "display_data"
        },
        {
          "data": {
            "text/plain": [
              "array([[1, 1, 3, 3, 3, 3, 3, 3, 1, 3, 3],\n",
              "       [2, 3, 1, 1, 1, 1, 2, 1, 2, 1, 2],\n",
              "       [3, 2, 2, 2, 2, 2, 1, 2, 3, 2, 1]])"
            ]
          },
          "metadata": {},
          "output_type": "display_data"
        },
        {
          "data": {
            "text/plain": [
              "'n models: 3, n_datasets 11, ImanDavenport Stat: 2.604166666666678, Critical Value: 3.492828476735632, pvalue: 0.10303080346176338, Reject Null Hypoth: False'"
            ]
          },
          "metadata": {},
          "output_type": "display_data"
        },
        {
          "data": {
            "text/html": [
              "<div>\n",
              "<style scoped>\n",
              "    .dataframe tbody tr th:only-of-type {\n",
              "        vertical-align: middle;\n",
              "    }\n",
              "\n",
              "    .dataframe tbody tr th {\n",
              "        vertical-align: top;\n",
              "    }\n",
              "\n",
              "    .dataframe thead th {\n",
              "        text-align: right;\n",
              "    }\n",
              "</style>\n",
              "<table border=\"1\" class=\"dataframe\">\n",
              "  <thead>\n",
              "    <tr style=\"text-align: right;\">\n",
              "      <th></th>\n",
              "      <th>agent1</th>\n",
              "      <th>agent2</th>\n",
              "      <th>nemenyi_stat</th>\n",
              "      <th>nemenyi_threshold</th>\n",
              "      <th>reject_null_hypo</th>\n",
              "    </tr>\n",
              "  </thead>\n",
              "  <tbody>\n",
              "    <tr>\n",
              "      <th>0</th>\n",
              "      <td>profit_1</td>\n",
              "      <td>profit_2</td>\n",
              "      <td>0.909091</td>\n",
              "      <td>0.999059</td>\n",
              "      <td>False</td>\n",
              "    </tr>\n",
              "    <tr>\n",
              "      <th>1</th>\n",
              "      <td>profit_1</td>\n",
              "      <td>random</td>\n",
              "      <td>0.454545</td>\n",
              "      <td>0.999059</td>\n",
              "      <td>False</td>\n",
              "    </tr>\n",
              "    <tr>\n",
              "      <th>2</th>\n",
              "      <td>profit_2</td>\n",
              "      <td>random</td>\n",
              "      <td>0.454545</td>\n",
              "      <td>0.999059</td>\n",
              "      <td>False</td>\n",
              "    </tr>\n",
              "  </tbody>\n",
              "</table>\n",
              "</div>"
            ],
            "text/plain": [
              "     agent1    agent2  nemenyi_stat  nemenyi_threshold  reject_null_hypo\n",
              "0  profit_1  profit_2      0.909091           0.999059             False\n",
              "1  profit_1    random      0.454545           0.999059             False\n",
              "2  profit_2    random      0.454545           0.999059             False"
            ]
          },
          "metadata": {},
          "output_type": "display_data"
        },
        {
          "data": {
            "text/plain": [
              "'sortino'"
            ]
          },
          "metadata": {},
          "output_type": "display_data"
        },
        {
          "data": {
            "text/html": [
              "<div>\n",
              "<style scoped>\n",
              "    .dataframe tbody tr th:only-of-type {\n",
              "        vertical-align: middle;\n",
              "    }\n",
              "\n",
              "    .dataframe tbody tr th {\n",
              "        vertical-align: top;\n",
              "    }\n",
              "\n",
              "    .dataframe thead th {\n",
              "        text-align: right;\n",
              "    }\n",
              "</style>\n",
              "<table border=\"1\" class=\"dataframe\">\n",
              "  <thead>\n",
              "    <tr style=\"text-align: right;\">\n",
              "      <th></th>\n",
              "      <th>dataset</th>\n",
              "      <th>profit_1</th>\n",
              "      <th>profit_2</th>\n",
              "      <th>random</th>\n",
              "    </tr>\n",
              "  </thead>\n",
              "  <tbody>\n",
              "    <tr>\n",
              "      <th>0</th>\n",
              "      <td>AAPL-3272:4250</td>\n",
              "      <td>1.89</td>\n",
              "      <td>4.09</td>\n",
              "      <td>1.87</td>\n",
              "    </tr>\n",
              "    <tr>\n",
              "      <th>1</th>\n",
              "      <td>AMZN-3272:4250</td>\n",
              "      <td>1.19</td>\n",
              "      <td>1.17</td>\n",
              "      <td>0.89</td>\n",
              "    </tr>\n",
              "    <tr>\n",
              "      <th>2</th>\n",
              "      <td>GOOGL-3272:4250</td>\n",
              "      <td>-2.21</td>\n",
              "      <td>4.67</td>\n",
              "      <td>1.10</td>\n",
              "    </tr>\n",
              "    <tr>\n",
              "      <th>3</th>\n",
              "      <td>MSFT-3272:4250</td>\n",
              "      <td>0.34</td>\n",
              "      <td>6.98</td>\n",
              "      <td>1.88</td>\n",
              "    </tr>\n",
              "    <tr>\n",
              "      <th>4</th>\n",
              "      <td>FORD-3272:4250</td>\n",
              "      <td>0.00</td>\n",
              "      <td>1.54</td>\n",
              "      <td>0.94</td>\n",
              "    </tr>\n",
              "    <tr>\n",
              "      <th>5</th>\n",
              "      <td>JNJ-3272:4250</td>\n",
              "      <td>0.00</td>\n",
              "      <td>6.54</td>\n",
              "      <td>1.07</td>\n",
              "    </tr>\n",
              "    <tr>\n",
              "      <th>6</th>\n",
              "      <td>NEE-3272:4250</td>\n",
              "      <td>-0.19</td>\n",
              "      <td>1.07</td>\n",
              "      <td>0.61</td>\n",
              "    </tr>\n",
              "    <tr>\n",
              "      <th>7</th>\n",
              "      <td>PFE-3272:4250</td>\n",
              "      <td>0.00</td>\n",
              "      <td>2.43</td>\n",
              "      <td>0.06</td>\n",
              "    </tr>\n",
              "    <tr>\n",
              "      <th>8</th>\n",
              "      <td>TSLA-2394:3372</td>\n",
              "      <td>707.94</td>\n",
              "      <td>8.12</td>\n",
              "      <td>2.65</td>\n",
              "    </tr>\n",
              "    <tr>\n",
              "      <th>9</th>\n",
              "      <td>COKE-3272:4250</td>\n",
              "      <td>-13.25</td>\n",
              "      <td>9.81</td>\n",
              "      <td>2.75</td>\n",
              "    </tr>\n",
              "    <tr>\n",
              "      <th>10</th>\n",
              "      <td>PG-3272:4250</td>\n",
              "      <td>0.00</td>\n",
              "      <td>-0.34</td>\n",
              "      <td>0.14</td>\n",
              "    </tr>\n",
              "  </tbody>\n",
              "</table>\n",
              "</div>"
            ],
            "text/plain": [
              "            dataset  profit_1  profit_2  random\n",
              "0    AAPL-3272:4250      1.89      4.09    1.87\n",
              "1    AMZN-3272:4250      1.19      1.17    0.89\n",
              "2   GOOGL-3272:4250     -2.21      4.67    1.10\n",
              "3    MSFT-3272:4250      0.34      6.98    1.88\n",
              "4    FORD-3272:4250      0.00      1.54    0.94\n",
              "5     JNJ-3272:4250      0.00      6.54    1.07\n",
              "6     NEE-3272:4250     -0.19      1.07    0.61\n",
              "7     PFE-3272:4250      0.00      2.43    0.06\n",
              "8    TSLA-2394:3372    707.94      8.12    2.65\n",
              "9    COKE-3272:4250    -13.25      9.81    2.75\n",
              "10     PG-3272:4250      0.00     -0.34    0.14"
            ]
          },
          "metadata": {},
          "output_type": "display_data"
        },
        {
          "data": {
            "text/plain": [
              "array([[2, 1, 3, 3, 3, 3, 3, 3, 1, 3, 2],\n",
              "       [1, 2, 1, 1, 1, 1, 1, 1, 2, 1, 3],\n",
              "       [3, 3, 2, 2, 2, 2, 2, 2, 3, 2, 1]])"
            ]
          },
          "metadata": {},
          "output_type": "display_data"
        },
        {
          "data": {
            "text/plain": [
              "'n models: 3, n_datasets 11, ImanDavenport Stat: 4.756097560975612, Critical Value: 3.492828476735632, pvalue: 0.028855503390388188, Reject Null Hypoth: True'"
            ]
          },
          "metadata": {},
          "output_type": "display_data"
        },
        {
          "data": {
            "text/html": [
              "<div>\n",
              "<style scoped>\n",
              "    .dataframe tbody tr th:only-of-type {\n",
              "        vertical-align: middle;\n",
              "    }\n",
              "\n",
              "    .dataframe tbody tr th {\n",
              "        vertical-align: top;\n",
              "    }\n",
              "\n",
              "    .dataframe thead th {\n",
              "        text-align: right;\n",
              "    }\n",
              "</style>\n",
              "<table border=\"1\" class=\"dataframe\">\n",
              "  <thead>\n",
              "    <tr style=\"text-align: right;\">\n",
              "      <th></th>\n",
              "      <th>agent1</th>\n",
              "      <th>agent2</th>\n",
              "      <th>nemenyi_stat</th>\n",
              "      <th>nemenyi_threshold</th>\n",
              "      <th>reject_null_hypo</th>\n",
              "    </tr>\n",
              "  </thead>\n",
              "  <tbody>\n",
              "    <tr>\n",
              "      <th>0</th>\n",
              "      <td>profit_1</td>\n",
              "      <td>profit_2</td>\n",
              "      <td>1.090909</td>\n",
              "      <td>0.999059</td>\n",
              "      <td>True</td>\n",
              "    </tr>\n",
              "    <tr>\n",
              "      <th>1</th>\n",
              "      <td>profit_1</td>\n",
              "      <td>random</td>\n",
              "      <td>0.272727</td>\n",
              "      <td>0.999059</td>\n",
              "      <td>False</td>\n",
              "    </tr>\n",
              "    <tr>\n",
              "      <th>2</th>\n",
              "      <td>profit_2</td>\n",
              "      <td>random</td>\n",
              "      <td>0.818182</td>\n",
              "      <td>0.999059</td>\n",
              "      <td>False</td>\n",
              "    </tr>\n",
              "  </tbody>\n",
              "</table>\n",
              "</div>"
            ],
            "text/plain": [
              "     agent1    agent2  nemenyi_stat  nemenyi_threshold  reject_null_hypo\n",
              "0  profit_1  profit_2      1.090909           0.999059              True\n",
              "1  profit_1    random      0.272727           0.999059             False\n",
              "2  profit_2    random      0.818182           0.999059             False"
            ]
          },
          "metadata": {},
          "output_type": "display_data"
        },
        {
          "data": {
            "text/plain": [
              "'max_drawdown'"
            ]
          },
          "metadata": {},
          "output_type": "display_data"
        },
        {
          "data": {
            "text/html": [
              "<div>\n",
              "<style scoped>\n",
              "    .dataframe tbody tr th:only-of-type {\n",
              "        vertical-align: middle;\n",
              "    }\n",
              "\n",
              "    .dataframe tbody tr th {\n",
              "        vertical-align: top;\n",
              "    }\n",
              "\n",
              "    .dataframe thead th {\n",
              "        text-align: right;\n",
              "    }\n",
              "</style>\n",
              "<table border=\"1\" class=\"dataframe\">\n",
              "  <thead>\n",
              "    <tr style=\"text-align: right;\">\n",
              "      <th></th>\n",
              "      <th>dataset</th>\n",
              "      <th>profit_1</th>\n",
              "      <th>profit_2</th>\n",
              "      <th>random</th>\n",
              "    </tr>\n",
              "  </thead>\n",
              "  <tbody>\n",
              "    <tr>\n",
              "      <th>0</th>\n",
              "      <td>AAPL-3272:4250</td>\n",
              "      <td>-20.30</td>\n",
              "      <td>-34.36</td>\n",
              "      <td>-32.41</td>\n",
              "    </tr>\n",
              "    <tr>\n",
              "      <th>1</th>\n",
              "      <td>AMZN-3272:4250</td>\n",
              "      <td>-30.74</td>\n",
              "      <td>-55.83</td>\n",
              "      <td>-43.38</td>\n",
              "    </tr>\n",
              "    <tr>\n",
              "      <th>2</th>\n",
              "      <td>GOOGL-3272:4250</td>\n",
              "      <td>-4.83</td>\n",
              "      <td>-31.68</td>\n",
              "      <td>-35.49</td>\n",
              "    </tr>\n",
              "    <tr>\n",
              "      <th>3</th>\n",
              "      <td>MSFT-3272:4250</td>\n",
              "      <td>-33.49</td>\n",
              "      <td>-28.53</td>\n",
              "      <td>-26.09</td>\n",
              "    </tr>\n",
              "    <tr>\n",
              "      <th>4</th>\n",
              "      <td>FORD-3272:4250</td>\n",
              "      <td>0.00</td>\n",
              "      <td>-29.79</td>\n",
              "      <td>-50.24</td>\n",
              "    </tr>\n",
              "    <tr>\n",
              "      <th>5</th>\n",
              "      <td>JNJ-3272:4250</td>\n",
              "      <td>0.00</td>\n",
              "      <td>-8.31</td>\n",
              "      <td>-20.19</td>\n",
              "    </tr>\n",
              "    <tr>\n",
              "      <th>6</th>\n",
              "      <td>NEE-3272:4250</td>\n",
              "      <td>-34.99</td>\n",
              "      <td>-41.92</td>\n",
              "      <td>-35.80</td>\n",
              "    </tr>\n",
              "    <tr>\n",
              "      <th>7</th>\n",
              "      <td>PFE-3272:4250</td>\n",
              "      <td>0.00</td>\n",
              "      <td>-18.13</td>\n",
              "      <td>-37.42</td>\n",
              "    </tr>\n",
              "    <tr>\n",
              "      <th>8</th>\n",
              "      <td>TSLA-2394:3372</td>\n",
              "      <td>-5.95</td>\n",
              "      <td>-63.67</td>\n",
              "      <td>-56.47</td>\n",
              "    </tr>\n",
              "    <tr>\n",
              "      <th>9</th>\n",
              "      <td>COKE-3272:4250</td>\n",
              "      <td>-13.33</td>\n",
              "      <td>-35.91</td>\n",
              "      <td>-35.04</td>\n",
              "    </tr>\n",
              "    <tr>\n",
              "      <th>10</th>\n",
              "      <td>PG-3272:4250</td>\n",
              "      <td>0.00</td>\n",
              "      <td>-11.09</td>\n",
              "      <td>-20.74</td>\n",
              "    </tr>\n",
              "  </tbody>\n",
              "</table>\n",
              "</div>"
            ],
            "text/plain": [
              "            dataset  profit_1  profit_2  random\n",
              "0    AAPL-3272:4250    -20.30    -34.36  -32.41\n",
              "1    AMZN-3272:4250    -30.74    -55.83  -43.38\n",
              "2   GOOGL-3272:4250     -4.83    -31.68  -35.49\n",
              "3    MSFT-3272:4250    -33.49    -28.53  -26.09\n",
              "4    FORD-3272:4250      0.00    -29.79  -50.24\n",
              "5     JNJ-3272:4250      0.00     -8.31  -20.19\n",
              "6     NEE-3272:4250    -34.99    -41.92  -35.80\n",
              "7     PFE-3272:4250      0.00    -18.13  -37.42\n",
              "8    TSLA-2394:3372     -5.95    -63.67  -56.47\n",
              "9    COKE-3272:4250    -13.33    -35.91  -35.04\n",
              "10     PG-3272:4250      0.00    -11.09  -20.74"
            ]
          },
          "metadata": {},
          "output_type": "display_data"
        },
        {
          "data": {
            "text/plain": [
              "array([[1, 1, 1, 3, 1, 1, 1, 1, 1, 1, 1],\n",
              "       [3, 3, 2, 2, 2, 2, 3, 2, 3, 3, 2],\n",
              "       [2, 2, 3, 1, 3, 3, 2, 3, 2, 2, 3]])"
            ]
          },
          "metadata": {},
          "output_type": "display_data"
        },
        {
          "data": {
            "text/plain": [
              "'n models: 3, n_datasets 11, ImanDavenport Stat: 10.166666666666671, Critical Value: 3.492828476735632, pvalue: 0.003905167724273222, Reject Null Hypoth: True'"
            ]
          },
          "metadata": {},
          "output_type": "display_data"
        },
        {
          "data": {
            "text/html": [
              "<div>\n",
              "<style scoped>\n",
              "    .dataframe tbody tr th:only-of-type {\n",
              "        vertical-align: middle;\n",
              "    }\n",
              "\n",
              "    .dataframe tbody tr th {\n",
              "        vertical-align: top;\n",
              "    }\n",
              "\n",
              "    .dataframe thead th {\n",
              "        text-align: right;\n",
              "    }\n",
              "</style>\n",
              "<table border=\"1\" class=\"dataframe\">\n",
              "  <thead>\n",
              "    <tr style=\"text-align: right;\">\n",
              "      <th></th>\n",
              "      <th>agent1</th>\n",
              "      <th>agent2</th>\n",
              "      <th>nemenyi_stat</th>\n",
              "      <th>nemenyi_threshold</th>\n",
              "      <th>reject_null_hypo</th>\n",
              "    </tr>\n",
              "  </thead>\n",
              "  <tbody>\n",
              "    <tr>\n",
              "      <th>0</th>\n",
              "      <td>profit_1</td>\n",
              "      <td>profit_2</td>\n",
              "      <td>1.272727</td>\n",
              "      <td>0.999059</td>\n",
              "      <td>True</td>\n",
              "    </tr>\n",
              "    <tr>\n",
              "      <th>1</th>\n",
              "      <td>profit_1</td>\n",
              "      <td>random</td>\n",
              "      <td>1.181818</td>\n",
              "      <td>0.999059</td>\n",
              "      <td>True</td>\n",
              "    </tr>\n",
              "    <tr>\n",
              "      <th>2</th>\n",
              "      <td>profit_2</td>\n",
              "      <td>random</td>\n",
              "      <td>0.090909</td>\n",
              "      <td>0.999059</td>\n",
              "      <td>False</td>\n",
              "    </tr>\n",
              "  </tbody>\n",
              "</table>\n",
              "</div>"
            ],
            "text/plain": [
              "     agent1    agent2  nemenyi_stat  nemenyi_threshold  reject_null_hypo\n",
              "0  profit_1  profit_2      1.272727           0.999059              True\n",
              "1  profit_1    random      1.181818           0.999059              True\n",
              "2  profit_2    random      0.090909           0.999059             False"
            ]
          },
          "metadata": {},
          "output_type": "display_data"
        },
        {
          "data": {
            "text/plain": [
              "'sharpe'"
            ]
          },
          "metadata": {},
          "output_type": "display_data"
        },
        {
          "data": {
            "text/html": [
              "<div>\n",
              "<style scoped>\n",
              "    .dataframe tbody tr th:only-of-type {\n",
              "        vertical-align: middle;\n",
              "    }\n",
              "\n",
              "    .dataframe tbody tr th {\n",
              "        vertical-align: top;\n",
              "    }\n",
              "\n",
              "    .dataframe thead th {\n",
              "        text-align: right;\n",
              "    }\n",
              "</style>\n",
              "<table border=\"1\" class=\"dataframe\">\n",
              "  <thead>\n",
              "    <tr style=\"text-align: right;\">\n",
              "      <th></th>\n",
              "      <th>dataset</th>\n",
              "      <th>profit_1</th>\n",
              "      <th>profit_2</th>\n",
              "      <th>random</th>\n",
              "    </tr>\n",
              "  </thead>\n",
              "  <tbody>\n",
              "    <tr>\n",
              "      <th>0</th>\n",
              "      <td>AAPL-3272:4250</td>\n",
              "      <td>1.28</td>\n",
              "      <td>2.61</td>\n",
              "      <td>1.17</td>\n",
              "    </tr>\n",
              "    <tr>\n",
              "      <th>1</th>\n",
              "      <td>AMZN-3272:4250</td>\n",
              "      <td>0.78</td>\n",
              "      <td>0.82</td>\n",
              "      <td>0.58</td>\n",
              "    </tr>\n",
              "    <tr>\n",
              "      <th>2</th>\n",
              "      <td>GOOGL-3272:4250</td>\n",
              "      <td>-1.70</td>\n",
              "      <td>2.79</td>\n",
              "      <td>0.74</td>\n",
              "    </tr>\n",
              "    <tr>\n",
              "      <th>3</th>\n",
              "      <td>MSFT-3272:4250</td>\n",
              "      <td>0.25</td>\n",
              "      <td>3.87</td>\n",
              "      <td>1.18</td>\n",
              "    </tr>\n",
              "    <tr>\n",
              "      <th>4</th>\n",
              "      <td>FORD-3272:4250</td>\n",
              "      <td>0.00</td>\n",
              "      <td>1.00</td>\n",
              "      <td>0.62</td>\n",
              "    </tr>\n",
              "    <tr>\n",
              "      <th>5</th>\n",
              "      <td>JNJ-3272:4250</td>\n",
              "      <td>0.00</td>\n",
              "      <td>3.49</td>\n",
              "      <td>0.66</td>\n",
              "    </tr>\n",
              "    <tr>\n",
              "      <th>6</th>\n",
              "      <td>NEE-3272:4250</td>\n",
              "      <td>-0.14</td>\n",
              "      <td>0.74</td>\n",
              "      <td>0.38</td>\n",
              "    </tr>\n",
              "    <tr>\n",
              "      <th>7</th>\n",
              "      <td>PFE-3272:4250</td>\n",
              "      <td>0.00</td>\n",
              "      <td>1.54</td>\n",
              "      <td>0.03</td>\n",
              "    </tr>\n",
              "    <tr>\n",
              "      <th>8</th>\n",
              "      <td>TSLA-2394:3372</td>\n",
              "      <td>7.10</td>\n",
              "      <td>3.74</td>\n",
              "      <td>1.62</td>\n",
              "    </tr>\n",
              "    <tr>\n",
              "      <th>9</th>\n",
              "      <td>COKE-3272:4250</td>\n",
              "      <td>-21.96</td>\n",
              "      <td>3.91</td>\n",
              "      <td>1.66</td>\n",
              "    </tr>\n",
              "    <tr>\n",
              "      <th>10</th>\n",
              "      <td>PG-3272:4250</td>\n",
              "      <td>0.00</td>\n",
              "      <td>-0.27</td>\n",
              "      <td>0.06</td>\n",
              "    </tr>\n",
              "  </tbody>\n",
              "</table>\n",
              "</div>"
            ],
            "text/plain": [
              "            dataset  profit_1  profit_2  random\n",
              "0    AAPL-3272:4250      1.28      2.61    1.17\n",
              "1    AMZN-3272:4250      0.78      0.82    0.58\n",
              "2   GOOGL-3272:4250     -1.70      2.79    0.74\n",
              "3    MSFT-3272:4250      0.25      3.87    1.18\n",
              "4    FORD-3272:4250      0.00      1.00    0.62\n",
              "5     JNJ-3272:4250      0.00      3.49    0.66\n",
              "6     NEE-3272:4250     -0.14      0.74    0.38\n",
              "7     PFE-3272:4250      0.00      1.54    0.03\n",
              "8    TSLA-2394:3372      7.10      3.74    1.62\n",
              "9    COKE-3272:4250    -21.96      3.91    1.66\n",
              "10     PG-3272:4250      0.00     -0.27    0.06"
            ]
          },
          "metadata": {},
          "output_type": "display_data"
        },
        {
          "data": {
            "text/plain": [
              "array([[2, 2, 3, 3, 3, 3, 3, 3, 1, 3, 2],\n",
              "       [1, 1, 1, 1, 1, 1, 1, 1, 2, 1, 3],\n",
              "       [3, 3, 2, 2, 2, 2, 2, 2, 3, 2, 1]])"
            ]
          },
          "metadata": {},
          "output_type": "display_data"
        },
        {
          "data": {
            "text/plain": [
              "'n models: 3, n_datasets 11, ImanDavenport Stat: 7.536231884057989, Critical Value: 3.492828476735632, pvalue: 0.008850576089052042, Reject Null Hypoth: True'"
            ]
          },
          "metadata": {},
          "output_type": "display_data"
        },
        {
          "data": {
            "text/html": [
              "<div>\n",
              "<style scoped>\n",
              "    .dataframe tbody tr th:only-of-type {\n",
              "        vertical-align: middle;\n",
              "    }\n",
              "\n",
              "    .dataframe tbody tr th {\n",
              "        vertical-align: top;\n",
              "    }\n",
              "\n",
              "    .dataframe thead th {\n",
              "        text-align: right;\n",
              "    }\n",
              "</style>\n",
              "<table border=\"1\" class=\"dataframe\">\n",
              "  <thead>\n",
              "    <tr style=\"text-align: right;\">\n",
              "      <th></th>\n",
              "      <th>agent1</th>\n",
              "      <th>agent2</th>\n",
              "      <th>nemenyi_stat</th>\n",
              "      <th>nemenyi_threshold</th>\n",
              "      <th>reject_null_hypo</th>\n",
              "    </tr>\n",
              "  </thead>\n",
              "  <tbody>\n",
              "    <tr>\n",
              "      <th>0</th>\n",
              "      <td>profit_1</td>\n",
              "      <td>profit_2</td>\n",
              "      <td>1.272727</td>\n",
              "      <td>0.999059</td>\n",
              "      <td>True</td>\n",
              "    </tr>\n",
              "    <tr>\n",
              "      <th>1</th>\n",
              "      <td>profit_1</td>\n",
              "      <td>random</td>\n",
              "      <td>0.363636</td>\n",
              "      <td>0.999059</td>\n",
              "      <td>False</td>\n",
              "    </tr>\n",
              "    <tr>\n",
              "      <th>2</th>\n",
              "      <td>profit_2</td>\n",
              "      <td>random</td>\n",
              "      <td>0.909091</td>\n",
              "      <td>0.999059</td>\n",
              "      <td>False</td>\n",
              "    </tr>\n",
              "  </tbody>\n",
              "</table>\n",
              "</div>"
            ],
            "text/plain": [
              "     agent1    agent2  nemenyi_stat  nemenyi_threshold  reject_null_hypo\n",
              "0  profit_1  profit_2      1.272727           0.999059              True\n",
              "1  profit_1    random      0.363636           0.999059             False\n",
              "2  profit_2    random      0.909091           0.999059             False"
            ]
          },
          "metadata": {},
          "output_type": "display_data"
        },
        {
          "data": {
            "text/plain": [
              "'trade_dur_avg'"
            ]
          },
          "metadata": {},
          "output_type": "display_data"
        },
        {
          "data": {
            "text/html": [
              "<div>\n",
              "<style scoped>\n",
              "    .dataframe tbody tr th:only-of-type {\n",
              "        vertical-align: middle;\n",
              "    }\n",
              "\n",
              "    .dataframe tbody tr th {\n",
              "        vertical-align: top;\n",
              "    }\n",
              "\n",
              "    .dataframe thead th {\n",
              "        text-align: right;\n",
              "    }\n",
              "</style>\n",
              "<table border=\"1\" class=\"dataframe\">\n",
              "  <thead>\n",
              "    <tr style=\"text-align: right;\">\n",
              "      <th></th>\n",
              "      <th>dataset</th>\n",
              "      <th>profit_1</th>\n",
              "      <th>profit_2</th>\n",
              "      <th>random</th>\n",
              "    </tr>\n",
              "  </thead>\n",
              "  <tbody>\n",
              "    <tr>\n",
              "      <th>0</th>\n",
              "      <td>AAPL-3272:4250</td>\n",
              "      <td>1.0</td>\n",
              "      <td>14.84</td>\n",
              "      <td>2.00</td>\n",
              "    </tr>\n",
              "    <tr>\n",
              "      <th>1</th>\n",
              "      <td>AMZN-3272:4250</td>\n",
              "      <td>1.0</td>\n",
              "      <td>9.25</td>\n",
              "      <td>2.01</td>\n",
              "    </tr>\n",
              "    <tr>\n",
              "      <th>2</th>\n",
              "      <td>GOOGL-3272:4250</td>\n",
              "      <td>1.0</td>\n",
              "      <td>12.85</td>\n",
              "      <td>2.06</td>\n",
              "    </tr>\n",
              "    <tr>\n",
              "      <th>3</th>\n",
              "      <td>MSFT-3272:4250</td>\n",
              "      <td>1.0</td>\n",
              "      <td>14.32</td>\n",
              "      <td>2.02</td>\n",
              "    </tr>\n",
              "    <tr>\n",
              "      <th>4</th>\n",
              "      <td>FORD-3272:4250</td>\n",
              "      <td>0.0</td>\n",
              "      <td>1.47</td>\n",
              "      <td>2.04</td>\n",
              "    </tr>\n",
              "    <tr>\n",
              "      <th>5</th>\n",
              "      <td>JNJ-3272:4250</td>\n",
              "      <td>0.0</td>\n",
              "      <td>7.79</td>\n",
              "      <td>1.97</td>\n",
              "    </tr>\n",
              "    <tr>\n",
              "      <th>6</th>\n",
              "      <td>NEE-3272:4250</td>\n",
              "      <td>1.0</td>\n",
              "      <td>10.85</td>\n",
              "      <td>1.97</td>\n",
              "    </tr>\n",
              "    <tr>\n",
              "      <th>7</th>\n",
              "      <td>PFE-3272:4250</td>\n",
              "      <td>0.0</td>\n",
              "      <td>5.62</td>\n",
              "      <td>1.98</td>\n",
              "    </tr>\n",
              "    <tr>\n",
              "      <th>8</th>\n",
              "      <td>TSLA-2394:3372</td>\n",
              "      <td>194.0</td>\n",
              "      <td>18.57</td>\n",
              "      <td>1.97</td>\n",
              "    </tr>\n",
              "    <tr>\n",
              "      <th>9</th>\n",
              "      <td>COKE-3272:4250</td>\n",
              "      <td>1.0</td>\n",
              "      <td>13.18</td>\n",
              "      <td>2.04</td>\n",
              "    </tr>\n",
              "    <tr>\n",
              "      <th>10</th>\n",
              "      <td>PG-3272:4250</td>\n",
              "      <td>0.0</td>\n",
              "      <td>10.88</td>\n",
              "      <td>2.00</td>\n",
              "    </tr>\n",
              "  </tbody>\n",
              "</table>\n",
              "</div>"
            ],
            "text/plain": [
              "            dataset  profit_1  profit_2  random\n",
              "0    AAPL-3272:4250       1.0     14.84    2.00\n",
              "1    AMZN-3272:4250       1.0      9.25    2.01\n",
              "2   GOOGL-3272:4250       1.0     12.85    2.06\n",
              "3    MSFT-3272:4250       1.0     14.32    2.02\n",
              "4    FORD-3272:4250       0.0      1.47    2.04\n",
              "5     JNJ-3272:4250       0.0      7.79    1.97\n",
              "6     NEE-3272:4250       1.0     10.85    1.97\n",
              "7     PFE-3272:4250       0.0      5.62    1.98\n",
              "8    TSLA-2394:3372     194.0     18.57    1.97\n",
              "9    COKE-3272:4250       1.0     13.18    2.04\n",
              "10     PG-3272:4250       0.0     10.88    2.00"
            ]
          },
          "metadata": {},
          "output_type": "display_data"
        },
        {
          "data": {
            "text/plain": [
              "array([[3, 3, 3, 3, 3, 3, 3, 3, 1, 3, 3],\n",
              "       [1, 1, 1, 1, 2, 1, 1, 1, 2, 1, 1],\n",
              "       [2, 2, 2, 2, 1, 2, 2, 2, 3, 2, 2]])"
            ]
          },
          "metadata": {},
          "output_type": "display_data"
        },
        {
          "data": {
            "text/plain": [
              "'n models: 3, n_datasets 11, ImanDavenport Stat: 20.249999999999968, Critical Value: 3.492828476735632, pvalue: 0.0006338892117716599, Reject Null Hypoth: True'"
            ]
          },
          "metadata": {},
          "output_type": "display_data"
        },
        {
          "data": {
            "text/html": [
              "<div>\n",
              "<style scoped>\n",
              "    .dataframe tbody tr th:only-of-type {\n",
              "        vertical-align: middle;\n",
              "    }\n",
              "\n",
              "    .dataframe tbody tr th {\n",
              "        vertical-align: top;\n",
              "    }\n",
              "\n",
              "    .dataframe thead th {\n",
              "        text-align: right;\n",
              "    }\n",
              "</style>\n",
              "<table border=\"1\" class=\"dataframe\">\n",
              "  <thead>\n",
              "    <tr style=\"text-align: right;\">\n",
              "      <th></th>\n",
              "      <th>agent1</th>\n",
              "      <th>agent2</th>\n",
              "      <th>nemenyi_stat</th>\n",
              "      <th>nemenyi_threshold</th>\n",
              "      <th>reject_null_hypo</th>\n",
              "    </tr>\n",
              "  </thead>\n",
              "  <tbody>\n",
              "    <tr>\n",
              "      <th>0</th>\n",
              "      <td>profit_1</td>\n",
              "      <td>profit_2</td>\n",
              "      <td>1.636364</td>\n",
              "      <td>0.999059</td>\n",
              "      <td>True</td>\n",
              "    </tr>\n",
              "    <tr>\n",
              "      <th>1</th>\n",
              "      <td>profit_1</td>\n",
              "      <td>random</td>\n",
              "      <td>0.818182</td>\n",
              "      <td>0.999059</td>\n",
              "      <td>False</td>\n",
              "    </tr>\n",
              "    <tr>\n",
              "      <th>2</th>\n",
              "      <td>profit_2</td>\n",
              "      <td>random</td>\n",
              "      <td>0.818182</td>\n",
              "      <td>0.999059</td>\n",
              "      <td>False</td>\n",
              "    </tr>\n",
              "  </tbody>\n",
              "</table>\n",
              "</div>"
            ],
            "text/plain": [
              "     agent1    agent2  nemenyi_stat  nemenyi_threshold  reject_null_hypo\n",
              "0  profit_1  profit_2      1.636364           0.999059              True\n",
              "1  profit_1    random      0.818182           0.999059             False\n",
              "2  profit_2    random      0.818182           0.999059             False"
            ]
          },
          "metadata": {},
          "output_type": "display_data"
        }
      ],
      "source": [
        "if test_agent:\n",
        "    for metric in metrics:\n",
        "        display(metric)\n",
        "        display(summarized_aggerate_results[metric])\n",
        "        test = prob_evaluate.generate_rank_array_from_dataframe(summarized_aggerate_results[metric],\n",
        "                                                                model_list,equal_rank_behav=\"mean\",\n",
        "                                                                rank_order=aval_metrics_rank_dic[metric])\n",
        "        display(test)\n",
        "        stat, critical_f_value, reject_null_hypo, k, n, pvalue = prob_evaluate.iman_davenport_test(test,0.95,arr_order='rows')\n",
        "        display(f'n models: {k}, n_datasets {n}, ImanDavenport Stat: {stat}, Critical Value: {critical_f_value}, pvalue: {pvalue}, Reject Null Hypoth: {reject_null_hypo}')\n",
        "\n",
        "        # Create a dictionary with the output values\n",
        "        result_dict = {\n",
        "                    'n_models': [k],\n",
        "                    'n_datasets': [n],\n",
        "                    'Iman_Davenport_Stat': [stat],\n",
        "                    'Critical_Value': [critical_f_value],\n",
        "                    'pvalue': [pvalue],\n",
        "                    'Reject_Null_Hypothesis': [reject_null_hypo]}\n",
        "\n",
        "        result_df = pd.DataFrame(result_dict)\n",
        "        result_df.to_csv(f'{save_path_root}/{metric}_iman_davenport_test.csv')\n",
        "\n",
        "        # Nemenyi Test\n",
        "        results_raw = prob_evaluate.nemenyi_test(test,0.95,model_list)\n",
        "        # Formating Output\n",
        "        df_export = pd.DataFrame(results_raw, columns=['agent1_agent2', 'nemenyi_stat', 'nemenyi_threshold', 'reject_null_hypo'])\n",
        "        df_export[['agent1', 'agent2']] = pd.DataFrame(df_export['agent1_agent2'].tolist(), index=df_export.index)\n",
        "        df_export = df_export.drop(columns=['agent1_agent2'])\n",
        "        new_column_order = ['agent1', 'agent2', 'nemenyi_stat', 'nemenyi_threshold', 'reject_null_hypo']\n",
        "        df_export = df_export[new_column_order]\n",
        "        df_export.to_csv(f'{save_path_root}/{metric}_nemenyi_test.csv')\n",
        "\n",
        "        display(df_export)"
      ]
    },
    {
      "cell_type": "markdown",
      "metadata": {
        "id": "yAx4C23NWsie"
      },
      "source": [
        "#Move records to Google Drive for VM"
      ]
    },
    {
      "cell_type": "code",
      "execution_count": 42,
      "metadata": {
        "id": "6AVXuuyVUJtT"
      },
      "outputs": [],
      "source": [
        "if IN_COLAB:\n",
        "  import shutil\n",
        "  from google.colab import drive\n",
        "\n",
        "  # Connect Google Drive to download records for autoclosing of VM\n",
        "  drive.mount('/content/drive')\n",
        "\n",
        "  # Define your directory path and case name\n",
        "  directory_path = save_path_root\n",
        "  zip_file_name = case_name.replace(\"/\", \"\")\n",
        "  output_filename = f'{zip_file_name}.zip'\n",
        "\n",
        "  # Create a zip file of the directory\n",
        "  shutil.make_archive(zip_file_name, 'zip', directory_path)\n",
        "\n",
        "  # Move the zip file to Google Drive\n",
        "  shutil.move(f'{zip_file_name}.zip', f'/content/drive/My Drive/{output_filename}')"
      ]
    },
    {
      "cell_type": "markdown",
      "metadata": {
        "id": "j2THhlh2QFnv"
      },
      "source": []
    }
  ],
  "metadata": {
    "accelerator": "GPU",
    "colab": {
      "collapsed_sections": [
        "90L1szCuQFnU"
      ],
      "gpuType": "T4",
      "provenance": []
    },
    "kernelspec": {
      "display_name": "Python 3",
      "name": "python3"
    },
    "language_info": {
      "codemirror_mode": {
        "name": "ipython",
        "version": 3
      },
      "file_extension": ".py",
      "mimetype": "text/x-python",
      "name": "python",
      "nbconvert_exporter": "python",
      "pygments_lexer": "ipython3",
      "version": "3.11.5"
    }
  },
  "nbformat": 4,
  "nbformat_minor": 0
}
