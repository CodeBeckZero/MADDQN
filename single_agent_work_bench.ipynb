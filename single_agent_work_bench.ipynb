{
  "cells": [
    {
      "cell_type": "markdown",
      "metadata": {
        "id": "atpmeCKJQFm_"
      },
      "source": [
        "# Environment Setup"
      ]
    },
    {
      "cell_type": "markdown",
      "metadata": {
        "id": "oAeE9oqlQFnD"
      },
      "source": [
        "## Google Colab Installation"
      ]
    },
    {
      "cell_type": "markdown",
      "metadata": {
        "id": "C68ncf6KQFnE"
      },
      "source": [
        "### Install Python Environment"
      ]
    },
    {
      "cell_type": "code",
      "execution_count": 1,
      "metadata": {
        "colab": {
          "base_uri": "https://localhost:8080/"
        },
        "id": "H-8QZlwoQFnE",
        "outputId": "c93ef470-6de0-43da-f16a-7b75e1717e41"
      },
      "outputs": [
        {
          "name": "stdout",
          "output_type": "stream",
          "text": [
            "Running in another environment (e.g., VS Code)\n"
          ]
        }
      ],
      "source": [
        "try:\n",
        "    import google.colab\n",
        "    IN_COLAB = True\n",
        "except ImportError:\n",
        "    IN_COLAB = False\n",
        "\n",
        "if IN_COLAB:\n",
        "    # Code specific to Google Colab\n",
        "    print(\"Running in Google Colab\")\n",
        "\n",
        "    # Additional setup commands for Colab\n",
        "    !pip install neuralforecast\n",
        "    !pip install gymnasium\n",
        "    !pip install QuantStats\n",
        "else:\n",
        "    # Code for other environments (e.g., VS Code)\n",
        "    print(\"Running in another environment (e.g., VS Code)\")"
      ]
    },
    {
      "cell_type": "markdown",
      "metadata": {
        "id": "1s8-HY3ZQFnG"
      },
      "source": [
        "### Install RL Libraries"
      ]
    },
    {
      "cell_type": "code",
      "execution_count": 2,
      "metadata": {
        "colab": {
          "base_uri": "https://localhost:8080/"
        },
        "id": "ZT3SpOINQFnH",
        "outputId": "ff9fd1b4-d9dc-471a-a5cb-0119575dec34"
      },
      "outputs": [],
      "source": [
        "if IN_COLAB:\n",
        "    # Retrive required files\n",
        "    !wget --recursive --no-parent --cut-dirs=4 -P /content https://raw.githubusercontent.com//CodeBeckZero/MADDQN/main/environments/stockenv.py\n",
        "    !wget --recursive --no-parent --cut-dirs=4 -P /content https://raw.githubusercontent.com//CodeBeckZero/MADDQN/main/utilities/cleandata.py\n",
        "    !wget --recursive --no-parent --cut-dirs=4 -P /content https://raw.githubusercontent.com//CodeBeckZero/MADDQN/main/utilities/data.py\n",
        "    !wget --recursive --no-parent --cut-dirs=4 -P /content https://raw.githubusercontent.com//CodeBeckZero/MADDQN/main/utilities/epsilon_decay.py\n",
        "    !wget --recursive --no-parent --cut-dirs=4 -P /content https://raw.githubusercontent.com//CodeBeckZero/MADDQN/main/utilities/agentperform.py\n",
        "    !wget --recursive --no-parent --cut-dirs=4 -P /content https://raw.githubusercontent.com//CodeBeckZero/MADDQN/main/utilities/prob_evaluate.py\n",
        "    !wget --recursive --no-parent --cut-dirs=4 -P /content https://raw.githubusercontent.com//CodeBeckZero/MADDQN/main/agents/ddqn.py\n",
        "    !wget --recursive --no-parent --cut-dirs=4 -P /content https://raw.githubusercontent.com//CodeBeckZero/MADDQN/main/agents/random.py\n",
        "    !wget --recursive --no-parent --cut-dirs=4 -P /content https://raw.githubusercontent.com//CodeBeckZero/MADDQN/main/agents/baseagent.py\n",
        "    !wget --recursive --no-parent --cut-dirs=4 -P /content https://raw.githubusercontent.com//CodeBeckZero/MADDQN/main/rewards/stockmarket.py\n",
        "    # Move all directories and files from content/raw.githubusercontent.com to content/\n",
        "    !mv /content/raw.githubusercontent.com/* /content/\n",
        "\n",
        "    # Delete the raw.githubusercontent.com directory\n",
        "    !rm -rf /content/raw.githubusercontent.com"
      ]
    },
    {
      "cell_type": "markdown",
      "metadata": {
        "id": "hrbfXX7DQFnI"
      },
      "source": [
        "# Activate Python Libraries & Random Seed"
      ]
    },
    {
      "cell_type": "code",
      "execution_count": 3,
      "metadata": {
        "colab": {
          "base_uri": "https://localhost:8080/"
        },
        "id": "MKyWuV4wQFnI",
        "outputId": "324836b6-7087-48a0-d20a-823894e3aaa1"
      },
      "outputs": [
        {
          "name": "stdout",
          "output_type": "stream",
          "text": [
            "CUDA (GPU support) is not available. PyTorch is running on CPU.\n"
          ]
        }
      ],
      "source": [
        "import os\n",
        "import sys\n",
        "import json\n",
        "import torch\n",
        "import optuna\n",
        "import random\n",
        "import numpy as np\n",
        "import pandas as pd\n",
        "import torch.nn as nn\n",
        "import utilities.agentperform as agentperform\n",
        "import utilities.cleandata as cln\n",
        "from optuna.visualization import plot_parallel_coordinate\n",
        "from utilities.epsilon_decay import linear_decay\n",
        "from utilities.data import UniStockEnvDataStruct, TimesNetProcessing, ModifyDDQNAgentState\n",
        "from utilities import prob_evaluate\n",
        "from agents.ddqn import DdqnAgent\n",
        "from agents.random import RandomAgent\n",
        "from rewards.stockmarket import future_profit, risk_reward, zero_reward\n",
        "from environments.stockenv import ContinuousOHLCVEnv\n",
        "from datetime import datetime\n",
        "from neuralforecast.core import NeuralForecast\n",
        "from neuralforecast.models import TimesNet\n",
        "from neuralforecast.losses.numpy import mae, mse\n",
        "import logging\n",
        "from sklearn import preprocessing\n",
        "import matplotlib.pyplot as plt\n",
        "\n",
        "#\n",
        "logging.getLogger(\"pytorch_lightning.utilities.rank_zero\").addHandler(logging.NullHandler())\n",
        "logging.getLogger(\"pytorch_lightning.accelerators.cuda\").addHandler(logging.NullHandler())\n",
        "os.environ['NIXTLA_ID_AS_COL'] = '1' # Prevent Warning\n",
        "\n",
        "def set_seed(seed):\n",
        "    \"\"\"Set seed for reproducibility.\"\"\"\n",
        "    # Python random module\n",
        "    random.seed(seed)\n",
        "\n",
        "    # NumPy\n",
        "    np.random.seed(seed)\n",
        "\n",
        "    # PyTorch\n",
        "    torch.manual_seed(seed)\n",
        "\n",
        "    # If you are using CUDA\n",
        "    if torch.cuda.is_available():\n",
        "        torch.cuda.manual_seed(seed)\n",
        "        torch.cuda.manual_seed_all(seed)  # if you are using multi-GPU.\n",
        "        # Additional settings to force determinism in your operations:\n",
        "        torch.backends.cudnn.deterministic = True\n",
        "        torch.backends.cudnn.benchmark = False\n",
        "\n",
        "\n",
        "\n",
        "# Check if CUDA (GPU support) is available\n",
        "if torch.cuda.is_available():\n",
        "    # Get the current device\n",
        "    device = torch.device(\"cuda:0\")\n",
        "    print(f\"GPU Name: {torch.cuda.get_device_name(device)}\")\n",
        "else:\n",
        "    device = 'cpu'\n",
        "    print(\"CUDA (GPU support) is not available. PyTorch is running on CPU.\")\n",
        "\n",
        "\n",
        "def decimal_to_text(decimal_number):\n",
        "    # Remove the decimal point and convert to integer\n",
        "    integer_part = int(decimal_number * 1000)\n",
        "    # Convert the integer to text\n",
        "    text_representation = str(integer_part)\n",
        "    return text_representation"
      ]
    },
    {
      "cell_type": "markdown",
      "metadata": {
        "id": "xSGPXNdIQFnK"
      },
      "source": [
        "# RL Environment Setup"
      ]
    },
    {
      "cell_type": "markdown",
      "metadata": {
        "id": "zqgSqhMDQFnK"
      },
      "source": [
        "## Parameters & CSV Locations"
      ]
    },
    {
      "cell_type": "code",
      "execution_count": 4,
      "metadata": {
        "id": "_iIDvcGSQFnK"
      },
      "outputs": [],
      "source": [
        "RANDOM_SEED = 42\n",
        "set_seed(RANDOM_SEED)\n",
        "\n",
        "\n",
        "\n",
        "if not IN_COLAB:\n",
        "    pwd = \"C:/programming/MADDQN\"\n",
        "    sys.path.append(pwd)\n",
        "\n",
        "    # Output Path Location for CSV export\n",
        "    export_path = pwd + \"/output_data/test/\"\n",
        "else:\n",
        "    pwd = '/content'\n",
        "    export_path = pwd + \"/output_data/test/\"\n",
        "\n",
        "# Input Data Location, File Name, Stock name for labels\n",
        "input_url = 'https://raw.githubusercontent.com/CodeBeckZero/MADDQN/main/input_data'\n",
        "\n",
        "stock_inputs ={'DJI':'^DJI_daily.csv',\n",
        "               'NDAQ': '^IXIC_daily.csv',\n",
        "               'SP500': '^SPX_daily.csv',\n",
        "               'AAPL': 'AAPL_daily.csv',\n",
        "               'AMZN': 'AMZN_daily.csv',\n",
        "               'GOOGL': 'GOOGL_daily.csv',\n",
        "               'MSFT': 'MSFT_daily.csv',\n",
        "               'SINE': 'sine_wave_daily.csv',\n",
        "               'FORD': 'F_daily.csv',\n",
        "               'JNJ': 'JNJ_daily.csv',\n",
        "               'NEE': 'NEE_daily.csv',\n",
        "               'PFE': 'PFE_daily.csv',\n",
        "               'TSLA': 'TSLA_daily.csv',\n",
        "               'COKE': 'COKE_daily.csv',\n",
        "               'PG': 'PG_daily.csv'}\n",
        "\n",
        "# Training Inputs\n",
        "trn_keys = ['DJI','NDAQ','SP500']\n",
        "training_range = ('2007-01-01','2019-12-31')\n",
        "trn_dt_range = [datetime.strptime(dt_str, \"%Y-%m-%d\") for dt_str in training_range]\n",
        "\n",
        "# Validation Inputs\n",
        "validate = False\n",
        "val_keys = trn_keys\n",
        "validation_range = ('2020-01-01', '2021-12-31')\n",
        "val_dt_range = [datetime.strptime(dt_str, \"%Y-%m-%d\") for dt_str in validation_range]\n",
        "\n",
        "# Testing Inputs\n",
        "tst_keys = ['AAPL','AMZN','GOOGL','MSFT','FORD','JNJ','NEE','PFE','TSLA','COKE','PG']\n",
        "testing_range = ('2020-01-01', '2023-12-31')\n",
        "tst_dt_range = [datetime.strptime(dt_str, \"%Y-%m-%d\") for dt_str in testing_range]\n",
        "\n",
        "# Environmental Inputs\n",
        "window_size = 28 # Needs to match the size Timesnet is trained on\n",
        "price_based_on = 'close'\n",
        "columns = ['open','high','low','close','volume']\n",
        "\n",
        "\n",
        "# Metrics Interested in\n",
        "metrics = ['n_trades','n_wins', 'win_percentage','cumulative_return','sortino','max_drawdown','sharpe', 'trade_dur_avg']\n",
        "\n",
        "# Ranking type for Metrics\n",
        "aval_metrics_rank_dic = {'n_trades':'max','n_wins': 'max' ,'n_losses':'max','win_percentage':'max','cumulative_return':'max',\n",
        "                 'sortino':'max','max_drawdown':'min', 'sharpe':'max', 'trade_dur_avg':'max', 'trade_dur_min':'max',\n",
        "                 'trade_dur_max':'max','buy_hold':'max'}\n",
        "## See agentperform.py -> results dictionary for options\n",
        "\n",
        "# Modifying enviornment state before the\n",
        "scaling_params = {'columns': columns, 'scaling_type': 'col', 'scaler_func':preprocessing.StandardScaler()}\n",
        "scaling_range = ('2007-01-01','2020-12-31')\n",
        "scale_dt_range = [datetime.strptime(dt_str, \"%Y-%m-%d\") for dt_str in scaling_range]\n",
        "\n",
        "# Add Noise\n",
        "noise_mod_params = {'add_noise': True, 'add_noise_to_cols': columns, 'noise_mean': 0, 'noise_std': 0.1}\n",
        "\n",
        "env_mod_params = scaling_params | noise_mod_params"
      ]
    },
    {
      "cell_type": "markdown",
      "metadata": {
        "id": "6KjIdWWtQFnL"
      },
      "source": [
        "## RL Enviornment Generation"
      ]
    },
    {
      "cell_type": "code",
      "execution_count": 5,
      "metadata": {
        "id": "qDmzkFh8QFnM"
      },
      "outputs": [],
      "source": [
        "env_data = {}\n",
        "env = {}\n",
        "\n",
        "\n",
        "for stock, file in stock_inputs.items():\n",
        "    if stock in set(trn_keys + val_keys + tst_keys):\n",
        "        # Import\n",
        "        df = cln.YAHOO_csv_input(file, input_url)\n",
        "        data_dic = UniStockEnvDataStruct(df,columns,price_based_on,window_size)\n",
        "        env_data[stock] = data_dic\n",
        "        env[stock] = ContinuousOHLCVEnv(name=stock,\n",
        "                                        ohlcv_data = env_data[stock]['rw_raw_env'] ,\n",
        "                                        stock_price_data= env_data[stock]['rw_raw_price_env'],\n",
        "                                        commission_rate=0.005)"
      ]
    },
    {
      "cell_type": "markdown",
      "metadata": {
        "id": "9nOEPsX6QFnM"
      },
      "source": [
        "## Generating Indices"
      ]
    },
    {
      "cell_type": "code",
      "execution_count": 6,
      "metadata": {
        "id": "v654qbK7QFnM"
      },
      "outputs": [],
      "source": [
        "trn_idx = {}\n",
        "val_idx = {}\n",
        "tst_idx = {}\n",
        "scale_idx = {}\n",
        "\n",
        "for stock, file in stock_inputs.items():\n",
        "    if stock in set(trn_keys + val_keys + tst_keys):\n",
        "        if stock in trn_keys:\n",
        "            trn_idx[stock] = env_data[stock].gen_rw_idxs(trn_dt_range)\n",
        "        if stock in val_keys:\n",
        "            val_idx[stock] = env_data[stock].gen_rw_idxs(val_dt_range)\n",
        "        if stock in tst_keys:\n",
        "            tst_idx[stock] = env_data[stock].gen_rw_idxs(tst_dt_range)\n",
        "\n",
        "        scale_idx[stock] = env_data[stock].gen_idxs(scale_dt_range)"
      ]
    },
    {
      "cell_type": "markdown",
      "metadata": {
        "id": "j2RR5eb9QFnN"
      },
      "source": [
        "# Workbench Setup"
      ]
    },
    {
      "cell_type": "markdown",
      "metadata": {
        "id": "uAmGyMmuQFnN"
      },
      "source": [
        "## Parameters"
      ]
    },
    {
      "cell_type": "code",
      "execution_count": 8,
      "metadata": {
        "id": "yibhlUW2QFnN"
      },
      "outputs": [],
      "source": [
        "## Create Directory\n",
        "case_name = '/test_unit_run'\n",
        "save_path_root = pwd + case_name\n",
        "os.makedirs(save_path_root, exist_ok=False)\n",
        "\n",
        "# Timesnet\n",
        "## Number of price predictions in the Future by TimesNet (Required for RL agent's input layer)\n",
        "n_prediction = 5\n",
        "## Need to Train TimesNet Preprocessing model (processed every cycle)\n",
        "train_tn_model = False\n",
        "## Importing TimesNet Preprocessing model (processed every cycle)\n",
        "import_tn_model = False\n",
        "tn_model_path = pwd + '/gen_data/timesnet/'\n",
        "## Use Imported CSVs from Preprocessing model (no processing, straight to RL agent)\n",
        "import_tn_csvs = True\n",
        "tn_csvs_path = pwd + '/gen_data/csvs/'\n",
        "## No modifaction of environmental state before input to agent\n",
        "no_tn_preprocessing = False\n",
        "\n",
        "# Limited Exploratory Hyperparmater Discover for single RL Agent\n",
        "hyperparam_discovery = True\n",
        "use_best_params = True\n",
        "\n",
        "# Traditional Training/Testing\n",
        "## Train Agent(s)\n",
        "train_agent = True\n",
        "# Test Agent(s)\n",
        "test_agent = True\n",
        "\n"
      ]
    },
    {
      "cell_type": "code",
      "execution_count": 9,
      "metadata": {
        "id": "SViA7zL9QFnN"
      },
      "outputs": [],
      "source": [
        "if  not(train_tn_model ^ import_tn_model ^ import_tn_csvs ^ no_tn_preprocessing):\n",
        "    raise ValueError(\"Only one preprocessing options can and must be selected\")\n"
      ]
    },
    {
      "cell_type": "markdown",
      "metadata": {
        "id": "TU5O6X0oQFnO"
      },
      "source": [
        "## Metric Function\n",
        "\n",
        "Function that generates metric from enviornment that will be used during validation phase of training or testing phase of model\n"
      ]
    },
    {
      "cell_type": "code",
      "execution_count": 10,
      "metadata": {
        "id": "GzYRJ4-dQFnO"
      },
      "outputs": [],
      "source": [
        "def metric_function(env):\n",
        "    metric = env.step_info[-1]['New Portfolio Value'] -  env.step_info[-1]['Portfolio Value']\n",
        "    return metric"
      ]
    },
    {
      "cell_type": "markdown",
      "metadata": {
        "id": "g1_EYhgoQFnP"
      },
      "source": [
        "# TimesNet Preprocessing"
      ]
    },
    {
      "cell_type": "markdown",
      "metadata": {
        "id": "E7OpXBjUQFnP"
      },
      "source": [
        "## Training"
      ]
    },
    {
      "cell_type": "markdown",
      "metadata": {
        "id": "ckS9XQTxQFnP"
      },
      "source": [
        "### Parameters"
      ]
    },
    {
      "cell_type": "code",
      "execution_count": 11,
      "metadata": {
        "id": "nMjZ8cZJQFnQ"
      },
      "outputs": [],
      "source": [
        "if train_tn_model:\n",
        "\n",
        "    model = TimesNet(h = n_prediction,          # Forecast horizon\n",
        "                    input_size = window_size,   # Length of Batches\n",
        "                    batch_size = 1,             # Number of timeseries to predict\n",
        "                    #futr_exog_list = remaining_columns,\n",
        "                    hidden_size = 128,          # Size of embedding for embedding and encoders,\n",
        "                    dropout = 0.40,             # Dropout for embeddings\n",
        "                    conv_hidden_size = 3,       # Channels for the inception block\n",
        "                    top_k = 5,                  # Top num of periods from FFT considered\n",
        "                    num_kernels = 13,           # number of kernels for the inception block\n",
        "                    encoder_layers = 3,         # num of encoders\n",
        "                    max_steps = 1000,           # of training steps\n",
        "                    early_stop_patience_steps = 10, #early stoppage on validation\n",
        "                    val_check_steps = 100,      # Val check every X steps,\n",
        "                    windows_batch_size = 150,   # Number of windows in training epoch,\n",
        "                    num_workers_loader = 7,\n",
        "                    learning_rate = 0.0003,\n",
        "                    random_seed = RANDOM_SEED)"
      ]
    },
    {
      "cell_type": "markdown",
      "metadata": {
        "id": "bKX00xoOQFnQ"
      },
      "source": [
        "### Code Execution"
      ]
    },
    {
      "cell_type": "code",
      "execution_count": 12,
      "metadata": {
        "id": "RRjzLmp2QFnR"
      },
      "outputs": [],
      "source": [
        "if train_tn_model:\n",
        "  nf = NeuralForecast(models=[model], freq='d')\n",
        "  results = {}\n",
        "  for key in trn_keys:\n",
        "    results[key] = nf.fit(df=env[key],val_size=0.2)\n",
        "\n",
        "  nf.save(path= tn_model_path,\n",
        "          model_index=None,\n",
        "          overwrite=True,\n",
        "          save_dataset=True)"
      ]
    },
    {
      "cell_type": "markdown",
      "metadata": {
        "id": "2JHWsNYIQFnR"
      },
      "source": [
        "## Load Model"
      ]
    },
    {
      "cell_type": "code",
      "execution_count": 13,
      "metadata": {
        "id": "YCtZ140VQFnS"
      },
      "outputs": [],
      "source": [
        "if import_tn_model:\n",
        "# Define the correct path\n",
        "  if IN_COLAB:\n",
        "\n",
        "    model_path = os.path.join(os.getcwd(), 'gen_data', 'timesnet')\n",
        "\n",
        "    # Ensure the directory and file exist\n",
        "    if os.path.exists(model_path):\n",
        "        nf = NeuralForecast.load(path=model_path)\n",
        "    else:\n",
        "        raise FileNotFoundError(f\"Model path {model_path} does not exist.\")"
      ]
    },
    {
      "cell_type": "markdown",
      "metadata": {
        "id": "cI00cUAeQFnS"
      },
      "source": [
        "## CSV Upload"
      ]
    },
    {
      "cell_type": "code",
      "execution_count": 14,
      "metadata": {
        "id": "iVuHiiPNQFnS"
      },
      "outputs": [],
      "source": [
        "if import_tn_csvs:\n",
        "    env_mod_func_dic = {}\n",
        "    if IN_COLAB:\n",
        "        # Input Data Location, File Name, Stock name for labels\n",
        "        csv_path = 'https://raw.githubusercontent.com/CodeBeckZero/MADDQN/main/gen_data/csvs/'\n",
        "\n",
        "    else:\n",
        "        csv_path  = tn_csvs_path\n",
        "\n",
        "    stock_tn ={'DJI':'DJI_tn.csv',\n",
        "                'NDAQ': 'NDAQ_tn.csv',\n",
        "                'SP500': 'SP500_tn.csv',\n",
        "                'AAPL': 'AAPL_tn.csv',\n",
        "                'AMZN': 'AMZN_tn.csv',\n",
        "                'GOOGL': 'GOOGL_tn.csv',\n",
        "                'MSFT': 'MSFT_tn.csv',\n",
        "                'FORD': 'FORD_tn.csv',\n",
        "                'JNJ': 'JNJ_tn.csv',\n",
        "                'NEE': 'NEE_tn.csv',\n",
        "                'PFE': 'PFE_tn.csv',\n",
        "                'TSLA': 'TSLA_tn.csv',\n",
        "                'COKE': 'COKE_tn.csv',\n",
        "                'PG': 'PG_tn.csv'}\n",
        "\n",
        "    for stock in set(trn_keys + val_keys + tst_keys):\n",
        "        import_csv_path = f'{csv_path}/{stock_tn[stock]}'\n",
        "        temp_env_mod_fuc = ModifyDDQNAgentState(uni_data=env_data[stock],\n",
        "                                                csv_import=import_tn_csvs,\n",
        "                                                csv_path=import_csv_path,\n",
        "                                                start_scale_idx=scale_idx[stock][0],\n",
        "                                                finish_scale_idx=scale_idx[stock][1],\n",
        "                                                **env_mod_params)\n",
        "        env_mod_func_dic[stock] = temp_env_mod_fuc\n",
        "\n"
      ]
    },
    {
      "cell_type": "markdown",
      "metadata": {
        "id": "wuCCAyfQQFnT"
      },
      "source": [
        "## Direct\n",
        "Current direct default is to take the rolling windows last entry and convert it to a list prior to input to agent. Agent's experience memory is currently list-based"
      ]
    },
    {
      "cell_type": "code",
      "execution_count": 15,
      "metadata": {
        "id": "13TlC9uQQFnT"
      },
      "outputs": [],
      "source": [
        "if no_tn_preprocessing:\n",
        "    env_mod_func_dic = {}\n",
        "    for stock in set(trn_keys + val_keys + tst_keys):\n",
        "        temp_env_mod_fuc = ModifyDDQNAgentState(uni_data=env_data[stock],\n",
        "                                                columns=columns,\n",
        "                                                csv_import= None,\n",
        "                                                csv_path= None,\n",
        "                                                scaling_type= None,\n",
        "                                                scaler_func=None,\n",
        "                                                device=device)\n",
        "        env_mod_func_dic[stock] = temp_env_mod_fuc"
      ]
    },
    {
      "cell_type": "markdown",
      "metadata": {
        "id": "90L1szCuQFnU"
      },
      "source": [
        "# Exploratory Hyperparameterization"
      ]
    },
    {
      "cell_type": "markdown",
      "metadata": {
        "id": "-WVVfJu8QFnU"
      },
      "source": [
        "## Interval Setup"
      ]
    },
    {
      "cell_type": "code",
      "execution_count": 16,
      "metadata": {
        "id": "TF9AGtlpQFnV"
      },
      "outputs": [
        {
          "data": {
            "text/plain": [
              "{'DJI': (0, 3497), 'NDAQ': (0, 3497), 'SP500': (0, 3497)}"
            ]
          },
          "metadata": {},
          "output_type": "display_data"
        },
        {
          "data": {
            "text/plain": [
              "{'DJI': (3525, 3749), 'NDAQ': (3525, 3749), 'SP500': (3525, 3749)}"
            ]
          },
          "metadata": {},
          "output_type": "display_data"
        },
        {
          "data": {
            "text/plain": [
              "{'AAPL': (3525, 4250),\n",
              " 'AMZN': (3525, 4250),\n",
              " 'GOOGL': (3525, 4250),\n",
              " 'MSFT': (3525, 4250),\n",
              " 'FORD': (3525, 4250),\n",
              " 'JNJ': (3525, 4250),\n",
              " 'NEE': (3525, 4250),\n",
              " 'PFE': (3525, 4250),\n",
              " 'TSLA': (2647, 3372),\n",
              " 'COKE': (3525, 4250),\n",
              " 'PG': (3525, 4250)}"
            ]
          },
          "metadata": {},
          "output_type": "display_data"
        }
      ],
      "source": [
        "if hyperparam_discovery:\n",
        "    # Training Inputs\n",
        "    hyp_training_range = ('2007-01-01','2020-12-31')\n",
        "    hyp_trn_dt_range = [datetime.strptime(dt_str, \"%Y-%m-%d\") for dt_str in hyp_training_range]\n",
        "\n",
        "    # Validation Inputs\n",
        "    hyp_validate = False\n",
        "    hyp_validation_range = ('2021-01-01', '2021-12-31')\n",
        "    hyp_val_dt_range = [datetime.strptime(dt_str, \"%Y-%m-%d\") for dt_str in hyp_validation_range]\n",
        "\n",
        "    # Testing Inputs\n",
        "    hyp_testing_range = ('2021-01-01', '2023-12-31')\n",
        "    hyp_tst_dt_range = [datetime.strptime(dt_str, \"%Y-%m-%d\") for dt_str in hyp_testing_range]\n",
        "\n",
        "  # Modifying enviornment state before the\n",
        "    hyp_scaling_params = {'columns': columns, 'scaling_type': 'col', 'scaler_func':preprocessing.StandardScaler()}\n",
        "    hyp_scaling_range = ('2007-01-01','2020-12-31')\n",
        "    hyp_scale_dt_range = [datetime.strptime(dt_str, \"%Y-%m-%d\") for dt_str in scaling_range]\n",
        "    \n",
        "    # Add Noise\n",
        "    hyp_noise_mod_params = {'add_noise': True, 'add_noise_to_cols': columns, 'noise_mean': 0, 'noise_std': 0.1}\n",
        "\n",
        "    hyp_env_mod_params = hyp_scaling_params | hyp_noise_mod_params\n",
        "    \n",
        "    \n",
        "    hyp_trn_idx = {}\n",
        "    hyp_val_idx = {}\n",
        "    hyp_tst_idx = {}\n",
        "    hyp_scale_idx = {}\n",
        "\n",
        "    for stock, file in stock_inputs.items():\n",
        "        if stock in set(trn_keys + val_keys + tst_keys):\n",
        "            if stock in trn_keys:\n",
        "                hyp_trn_idx[stock] = env_data[stock].gen_rw_idxs(hyp_trn_dt_range)\n",
        "            if stock in val_keys:\n",
        "                hyp_val_idx[stock] = env_data[stock].gen_rw_idxs(hyp_val_dt_range)\n",
        "            if stock in tst_keys:\n",
        "                hyp_tst_idx[stock] = env_data[stock].gen_rw_idxs(hyp_tst_dt_range)\n",
        "            \n",
        "            hyp_scale_idx[stock] = env_data[stock].gen_idxs(hyp_scale_dt_range)\n",
        "\n",
        "    display(hyp_trn_idx,hyp_val_idx,hyp_tst_idx)"
      ]
    },
    {
      "cell_type": "markdown",
      "metadata": {
        "id": "bPOgs_k5QFnV"
      },
      "source": [
        "## Parameter Search & Code Execution"
      ]
    },
    {
      "cell_type": "code",
      "execution_count": 17,
      "metadata": {
        "id": "_KBlSkuFQFnW"
      },
      "outputs": [
        {
          "name": "stderr",
          "output_type": "stream",
          "text": [
            "[I 2024-08-04 20:46:04,050] A new study created in memory with name: no-name-79001927-5da1-43bd-b73b-8905abab6e00\n"
          ]
        },
        {
          "name": "stdout",
          "output_type": "stream",
          "text": [
            "Max Mem Length: 3490\n",
            "Directory 'C:/programming/MADDQN/test_unit_run/hyp_param_search/2FC384_GELU_BT95BF430_Q2_TGT148_LR0' created successfully.\n",
            "DJI ENV: Agent hyp_profit_agent added\n",
            "DJI ENV: Agent hyp_profit_agent assigned as decision agent\n",
            "\n",
            "hyp_profit_agent: Training Initialized on DJI[0:3497]\n",
            "hyp_profit_agent: EP 1 of 1 Finished -> ΔQ1 = 0.16, ΔQ2 = 0.19 | ∑R = 1001.03, μR = 0.29 σR = 1.23                                                                                                                                                        \n",
            "hyp_profit_agent: Training finished on DJI[0:3497]\n",
            "\n",
            "hyp_profit_agent: Q-Network Exported to file \"C:/programming/MADDQN/test_unit_run/hyp_param_search/2FC384_GELU_BT95BF430_Q2_TGT148_LR0/model_save\"\n",
            "DJI ENV: Agent hyp_profit_agent removed\n",
            "NDAQ ENV: Agent hyp_profit_agent added\n",
            "NDAQ ENV: Agent hyp_profit_agent assigned as decision agent\n",
            "\n",
            "hyp_profit_agent: Training Initialized on NDAQ[0:3497]\n",
            "hyp_profit_agent: EP 1 of 1 Finished -> ΔQ1 = 0.14, ΔQ2 = 0.21 | ∑R = 1410.21, μR = 0.40 σR = 1.52                                                                                                                                                        \n",
            "hyp_profit_agent: Training finished on NDAQ[0:3497]\n",
            "\n",
            "hyp_profit_agent: Q-Network Exported to file \"C:/programming/MADDQN/test_unit_run/hyp_param_search/2FC384_GELU_BT95BF430_Q2_TGT148_LR0/model_save\"\n",
            "NDAQ ENV: Agent hyp_profit_agent removed\n",
            "SP500 ENV: Agent hyp_profit_agent added\n",
            "SP500 ENV: Agent hyp_profit_agent assigned as decision agent\n",
            "\n",
            "hyp_profit_agent: Training Initialized on SP500[0:3497]\n",
            "hyp_profit_agent: EP 1 of 1 Finished -> ΔQ1 = 0.19, ΔQ2 = 0.12 | ∑R = 799.93, μR = 0.23 σR = 1.85                                                                                                                                                         \n",
            "hyp_profit_agent: Training finished on SP500[0:3497]\n",
            "\n",
            "hyp_profit_agent: Q-Network Exported to file \"C:/programming/MADDQN/test_unit_run/hyp_param_search/2FC384_GELU_BT95BF430_Q2_TGT148_LR0/model_save\"\n",
            "SP500 ENV: Agent hyp_profit_agent removed\n",
            "AAPL ENV: Agent hyp_profit_agent added\n",
            "AAPL ENV: Agent hyp_profit_agent assigned as decision agent\n",
            "\n",
            "hyp_profit_agent: Testing Initialized on AAPL[3525:4250]\n",
            "hyp_profit_agent - AAPL[3525:4250] - Testing Finished - EP - 1 of 1-> ∑R = 0.00, μR = 0.00, σR = 0.00\n",
            "hyp_profit_agent: Testing Complete on AAPL[3525:4250]\n",
            "\n",
            "AAPL ENV: Agent hyp_profit_agent removed\n",
            "AMZN ENV: Agent hyp_profit_agent added\n",
            "AMZN ENV: Agent hyp_profit_agent assigned as decision agent\n",
            "\n",
            "hyp_profit_agent: Testing Initialized on AMZN[3525:4250]\n",
            "hyp_profit_agent - AMZN[3525:4250] - Testing Finished - EP - 1 of 1-> ∑R = 0.00, μR = 0.00, σR = 0.00\n",
            "hyp_profit_agent: Testing Complete on AMZN[3525:4250]\n",
            "\n",
            "AMZN ENV: Agent hyp_profit_agent removed\n",
            "GOOGL ENV: Agent hyp_profit_agent added\n",
            "GOOGL ENV: Agent hyp_profit_agent assigned as decision agent\n",
            "\n",
            "hyp_profit_agent: Testing Initialized on GOOGL[3525:4250]\n",
            "hyp_profit_agent - GOOGL[3525:4250] - Testing Finished - EP - 1 of 1-> ∑R = 0.00, μR = 0.00, σR = 0.00\n",
            "hyp_profit_agent: Testing Complete on GOOGL[3525:4250]\n",
            "\n",
            "GOOGL ENV: Agent hyp_profit_agent removed\n",
            "MSFT ENV: Agent hyp_profit_agent added\n",
            "MSFT ENV: Agent hyp_profit_agent assigned as decision agent\n",
            "\n",
            "hyp_profit_agent: Testing Initialized on MSFT[3525:4250]\n",
            "hyp_profit_agent - MSFT[3525:4250] - Testing Finished - EP - 1 of 1-> ∑R = 0.00, μR = 0.00, σR = 0.00\n",
            "hyp_profit_agent: Testing Complete on MSFT[3525:4250]\n",
            "\n",
            "MSFT ENV: Agent hyp_profit_agent removed\n",
            "FORD ENV: Agent hyp_profit_agent added\n",
            "FORD ENV: Agent hyp_profit_agent assigned as decision agent\n",
            "\n",
            "hyp_profit_agent: Testing Initialized on FORD[3525:4250]\n",
            "hyp_profit_agent - FORD[3525:4250] - Testing Finished - EP - 1 of 1-> ∑R = 0.00, μR = 0.00, σR = 0.00\n",
            "hyp_profit_agent: Testing Complete on FORD[3525:4250]\n",
            "\n",
            "FORD ENV: Agent hyp_profit_agent removed\n",
            "JNJ ENV: Agent hyp_profit_agent added\n",
            "JNJ ENV: Agent hyp_profit_agent assigned as decision agent\n",
            "\n",
            "hyp_profit_agent: Testing Initialized on JNJ[3525:4250]\n",
            "hyp_profit_agent - JNJ[3525:4250] - Testing Finished - EP - 1 of 1-> ∑R = 0.00, μR = 0.00, σR = 0.00\n",
            "hyp_profit_agent: Testing Complete on JNJ[3525:4250]\n",
            "\n",
            "JNJ ENV: Agent hyp_profit_agent removed\n",
            "NEE ENV: Agent hyp_profit_agent added\n",
            "NEE ENV: Agent hyp_profit_agent assigned as decision agent\n",
            "\n",
            "hyp_profit_agent: Testing Initialized on NEE[3525:4250]\n",
            "hyp_profit_agent - NEE[3525:4250] - Testing Finished - EP - 1 of 1-> ∑R = 0.00, μR = 0.00, σR = 0.00\n",
            "hyp_profit_agent: Testing Complete on NEE[3525:4250]\n",
            "\n",
            "NEE ENV: Agent hyp_profit_agent removed\n",
            "PFE ENV: Agent hyp_profit_agent added\n",
            "PFE ENV: Agent hyp_profit_agent assigned as decision agent\n",
            "\n",
            "hyp_profit_agent: Testing Initialized on PFE[3525:4250]\n",
            "hyp_profit_agent - PFE[3525:4250] - Testing Finished - EP - 1 of 1-> ∑R = 0.00, μR = 0.00, σR = 0.00\n",
            "hyp_profit_agent: Testing Complete on PFE[3525:4250]\n",
            "\n",
            "PFE ENV: Agent hyp_profit_agent removed\n",
            "TSLA ENV: Agent hyp_profit_agent added\n",
            "TSLA ENV: Agent hyp_profit_agent assigned as decision agent\n",
            "\n",
            "hyp_profit_agent: Testing Initialized on TSLA[2647:3372]\n",
            "hyp_profit_agent - TSLA[2647:3372] - Testing Finished - EP - 1 of 1-> ∑R = 0.00, μR = 0.00, σR = 0.00\n",
            "hyp_profit_agent: Testing Complete on TSLA[2647:3372]\n",
            "\n",
            "TSLA ENV: Agent hyp_profit_agent removed\n",
            "COKE ENV: Agent hyp_profit_agent added\n",
            "COKE ENV: Agent hyp_profit_agent assigned as decision agent\n",
            "\n",
            "hyp_profit_agent: Testing Initialized on COKE[3525:4250]\n",
            "hyp_profit_agent - COKE[3525:4250] - Testing Finished - EP - 1 of 1-> ∑R = 0.00, μR = 0.00, σR = 0.00\n",
            "hyp_profit_agent: Testing Complete on COKE[3525:4250]\n",
            "\n",
            "COKE ENV: Agent hyp_profit_agent removed\n",
            "PG ENV: Agent hyp_profit_agent added\n",
            "PG ENV: Agent hyp_profit_agent assigned as decision agent\n",
            "\n",
            "hyp_profit_agent: Testing Initialized on PG[3525:4250]\n",
            "hyp_profit_agent - PG[3525:4250] - Testing Finished - EP - 1 of 1-> ∑R = 0.00, μR = 0.00, σR = 0.00\n",
            "hyp_profit_agent: Testing Complete on PG[3525:4250]\n",
            "\n",
            "PG ENV: Agent hyp_profit_agent removed\n"
          ]
        },
        {
          "name": "stderr",
          "output_type": "stream",
          "text": [
            "[I 2024-08-04 20:49:22,479] Trial 0 finished with value: 0.0 and parameters: {'hidden_size': 384, 'update_q_freq': 2, 'update_tgt_freq': 148, 'activation_function': 'GELU', 'opt_lre': 0.0001, 'gamma': 0.96, 'buffer_size': 430, 'batch_size': 95}. Best is trial 0 with value: 0.0.\n"
          ]
        },
        {
          "name": "stdout",
          "output_type": "stream",
          "text": [
            "Directory 'C:/programming/MADDQN/test_unit_run/hyp_param_search/2FC384_GELU_BT155BF490_Q4_TGT135_LR0' created successfully.\n",
            "DJI ENV: Agent hyp_profit_agent added\n",
            "DJI ENV: Agent hyp_profit_agent assigned as decision agent\n",
            "\n",
            "hyp_profit_agent: Training Initialized on DJI[0:3497]\n",
            "hyp_profit_agent: EP 1 of 1 Finished -> ΔQ1 = 0.14, ΔQ2 = 0.21 | ∑R = 1016.08, μR = 0.29 σR = 1.64                                                                                                                                                        \n",
            "hyp_profit_agent: Training finished on DJI[0:3497]\n",
            "\n",
            "hyp_profit_agent: Q-Network Exported to file \"C:/programming/MADDQN/test_unit_run/hyp_param_search/2FC384_GELU_BT155BF490_Q4_TGT135_LR0/model_save\"\n",
            "DJI ENV: Agent hyp_profit_agent removed\n",
            "NDAQ ENV: Agent hyp_profit_agent added\n",
            "NDAQ ENV: Agent hyp_profit_agent assigned as decision agent\n",
            "\n",
            "hyp_profit_agent: Training Initialized on NDAQ[0:3497]\n",
            "hyp_profit_agent: EP 1 of 1 Finished -> ΔQ1 = 0.46, ΔQ2 = 0.49 | ∑R = 3235.42, μR = 0.93 σR = 4.05                                                                                                                                                        \n",
            "hyp_profit_agent: Training finished on NDAQ[0:3497]\n",
            "\n",
            "hyp_profit_agent: Q-Network Exported to file \"C:/programming/MADDQN/test_unit_run/hyp_param_search/2FC384_GELU_BT155BF490_Q4_TGT135_LR0/model_save\"\n",
            "NDAQ ENV: Agent hyp_profit_agent removed\n",
            "SP500 ENV: Agent hyp_profit_agent added\n",
            "SP500 ENV: Agent hyp_profit_agent assigned as decision agent\n",
            "\n",
            "hyp_profit_agent: Training Initialized on SP500[0:3497]\n",
            "hyp_profit_agent: EP 1 of 1 Finished -> ΔQ1 = 2.53, ΔQ2 = 2.37 | ∑R = 2757.72, μR = 0.79 σR = 4.20                                                                                                                                                        \n",
            "hyp_profit_agent: Training finished on SP500[0:3497]\n",
            "\n",
            "hyp_profit_agent: Q-Network Exported to file \"C:/programming/MADDQN/test_unit_run/hyp_param_search/2FC384_GELU_BT155BF490_Q4_TGT135_LR0/model_save\"\n",
            "SP500 ENV: Agent hyp_profit_agent removed\n",
            "AAPL ENV: Agent hyp_profit_agent added\n",
            "AAPL ENV: Agent hyp_profit_agent assigned as decision agent\n",
            "\n",
            "hyp_profit_agent: Testing Initialized on AAPL[3525:4250]\n",
            "hyp_profit_agent - AAPL[3525:4250] - Testing Finished - EP - 1 of 1-> ∑R = 0.00, μR = 0.00, σR = 0.00\n",
            "hyp_profit_agent: Testing Complete on AAPL[3525:4250]\n",
            "\n",
            "AAPL ENV: Agent hyp_profit_agent removed\n",
            "AMZN ENV: Agent hyp_profit_agent added\n",
            "AMZN ENV: Agent hyp_profit_agent assigned as decision agent\n",
            "\n",
            "hyp_profit_agent: Testing Initialized on AMZN[3525:4250]\n",
            "hyp_profit_agent - AMZN[3525:4250] - Testing Finished - EP - 1 of 1-> ∑R = 0.00, μR = 0.00, σR = 0.00\n",
            "hyp_profit_agent: Testing Complete on AMZN[3525:4250]\n",
            "\n",
            "AMZN ENV: Agent hyp_profit_agent removed\n",
            "GOOGL ENV: Agent hyp_profit_agent added\n",
            "GOOGL ENV: Agent hyp_profit_agent assigned as decision agent\n",
            "\n",
            "hyp_profit_agent: Testing Initialized on GOOGL[3525:4250]\n",
            "hyp_profit_agent - GOOGL[3525:4250] - Testing Finished - EP - 1 of 1-> ∑R = 0.00, μR = 0.00, σR = 0.00\n",
            "hyp_profit_agent: Testing Complete on GOOGL[3525:4250]\n",
            "\n",
            "GOOGL ENV: Agent hyp_profit_agent removed\n",
            "MSFT ENV: Agent hyp_profit_agent added\n",
            "MSFT ENV: Agent hyp_profit_agent assigned as decision agent\n",
            "\n",
            "hyp_profit_agent: Testing Initialized on MSFT[3525:4250]\n",
            "hyp_profit_agent - MSFT[3525:4250] - Testing Finished - EP - 1 of 1-> ∑R = 0.00, μR = 0.00, σR = 0.00\n",
            "hyp_profit_agent: Testing Complete on MSFT[3525:4250]\n",
            "\n",
            "MSFT ENV: Agent hyp_profit_agent removed\n",
            "FORD ENV: Agent hyp_profit_agent added\n",
            "FORD ENV: Agent hyp_profit_agent assigned as decision agent\n",
            "\n",
            "hyp_profit_agent: Testing Initialized on FORD[3525:4250]\n",
            "hyp_profit_agent - FORD[3525:4250] - Testing Finished - EP - 1 of 1-> ∑R = 0.00, μR = 0.00, σR = 0.00\n",
            "hyp_profit_agent: Testing Complete on FORD[3525:4250]\n",
            "\n",
            "FORD ENV: Agent hyp_profit_agent removed\n",
            "JNJ ENV: Agent hyp_profit_agent added\n",
            "JNJ ENV: Agent hyp_profit_agent assigned as decision agent\n",
            "\n",
            "hyp_profit_agent: Testing Initialized on JNJ[3525:4250]\n",
            "hyp_profit_agent - JNJ[3525:4250] - Testing Finished - EP - 1 of 1-> ∑R = 0.00, μR = 0.00, σR = 0.00\n",
            "hyp_profit_agent: Testing Complete on JNJ[3525:4250]\n",
            "\n",
            "JNJ ENV: Agent hyp_profit_agent removed\n",
            "NEE ENV: Agent hyp_profit_agent added\n",
            "NEE ENV: Agent hyp_profit_agent assigned as decision agent\n",
            "\n",
            "hyp_profit_agent: Testing Initialized on NEE[3525:4250]\n",
            "hyp_profit_agent - NEE[3525:4250] - Testing Finished - EP - 1 of 1-> ∑R = 0.00, μR = 0.00, σR = 0.00\n",
            "hyp_profit_agent: Testing Complete on NEE[3525:4250]\n",
            "\n",
            "NEE ENV: Agent hyp_profit_agent removed\n",
            "PFE ENV: Agent hyp_profit_agent added\n",
            "PFE ENV: Agent hyp_profit_agent assigned as decision agent\n",
            "\n",
            "hyp_profit_agent: Testing Initialized on PFE[3525:4250]\n",
            "hyp_profit_agent - PFE[3525:4250] - Testing Finished - EP - 1 of 1-> ∑R = 0.00, μR = 0.00, σR = 0.00\n",
            "hyp_profit_agent: Testing Complete on PFE[3525:4250]\n",
            "\n",
            "PFE ENV: Agent hyp_profit_agent removed\n",
            "TSLA ENV: Agent hyp_profit_agent added\n",
            "TSLA ENV: Agent hyp_profit_agent assigned as decision agent\n",
            "\n",
            "hyp_profit_agent: Testing Initialized on TSLA[2647:3372]\n",
            "hyp_profit_agent - TSLA[2647:3372] - Testing Finished - EP - 1 of 1-> ∑R = 0.00, μR = 0.00, σR = 0.00\n",
            "hyp_profit_agent: Testing Complete on TSLA[2647:3372]\n",
            "\n",
            "TSLA ENV: Agent hyp_profit_agent removed\n",
            "COKE ENV: Agent hyp_profit_agent added\n",
            "COKE ENV: Agent hyp_profit_agent assigned as decision agent\n",
            "\n",
            "hyp_profit_agent: Testing Initialized on COKE[3525:4250]\n",
            "hyp_profit_agent - COKE[3525:4250] - Testing Finished - EP - 1 of 1-> ∑R = 0.00, μR = 0.00, σR = 0.00\n",
            "hyp_profit_agent: Testing Complete on COKE[3525:4250]\n",
            "\n",
            "COKE ENV: Agent hyp_profit_agent removed\n",
            "PG ENV: Agent hyp_profit_agent added\n",
            "PG ENV: Agent hyp_profit_agent assigned as decision agent\n",
            "\n",
            "hyp_profit_agent: Testing Initialized on PG[3525:4250]\n",
            "hyp_profit_agent - PG[3525:4250] - Testing Finished - EP - 1 of 1-> ∑R = 0.00, μR = 0.00, σR = 0.00\n",
            "hyp_profit_agent: Testing Complete on PG[3525:4250]\n",
            "\n",
            "PG ENV: Agent hyp_profit_agent removed\n"
          ]
        },
        {
          "name": "stderr",
          "output_type": "stream",
          "text": [
            "[I 2024-08-04 20:55:21,351] Trial 1 finished with value: 0.0 and parameters: {'hidden_size': 384, 'update_q_freq': 4, 'update_tgt_freq': 135, 'activation_function': 'GELU', 'opt_lre': 0.0001, 'gamma': 0.9, 'buffer_size': 490, 'batch_size': 155}. Best is trial 0 with value: 0.0.\n"
          ]
        },
        {
          "data": {
            "application/vnd.plotly.v1+json": {
              "config": {
                "plotlyServerURL": "https://plot.ly"
              },
              "data": [
                {
                  "dimensions": [
                    {
                      "label": "Objective Value",
                      "range": [
                        0,
                        0
                      ],
                      "values": [
                        0,
                        0
                      ]
                    },
                    {
                      "label": "activation_function",
                      "range": [
                        0,
                        0
                      ],
                      "ticktext": [
                        "GELU"
                      ],
                      "tickvals": [
                        0
                      ],
                      "values": [
                        0,
                        0
                      ]
                    },
                    {
                      "label": "batch_size",
                      "range": [
                        95,
                        155
                      ],
                      "values": [
                        95,
                        155
                      ]
                    },
                    {
                      "label": "buffer_size",
                      "range": [
                        430,
                        490
                      ],
                      "values": [
                        430,
                        490
                      ]
                    },
                    {
                      "label": "gamma",
                      "range": [
                        0.9,
                        0.96
                      ],
                      "values": [
                        0.96,
                        0.9
                      ]
                    },
                    {
                      "label": "hidden_size",
                      "range": [
                        384,
                        384
                      ],
                      "values": [
                        384,
                        384
                      ]
                    },
                    {
                      "label": "opt_lre",
                      "range": [
                        0,
                        0
                      ],
                      "ticktext": [
                        "0.0001"
                      ],
                      "tickvals": [
                        0
                      ],
                      "values": [
                        0,
                        0
                      ]
                    },
                    {
                      "label": "update_q_freq",
                      "range": [
                        2,
                        4
                      ],
                      "values": [
                        2,
                        4
                      ]
                    },
                    {
                      "label": "update_tgt_freq",
                      "range": [
                        135,
                        148
                      ],
                      "values": [
                        148,
                        135
                      ]
                    }
                  ],
                  "labelangle": 30,
                  "labelside": "bottom",
                  "line": {
                    "color": [
                      0,
                      0
                    ],
                    "colorbar": {
                      "title": {
                        "text": "Objective Value"
                      }
                    },
                    "colorscale": [
                      [
                        0,
                        "rgb(247,251,255)"
                      ],
                      [
                        0.125,
                        "rgb(222,235,247)"
                      ],
                      [
                        0.25,
                        "rgb(198,219,239)"
                      ],
                      [
                        0.375,
                        "rgb(158,202,225)"
                      ],
                      [
                        0.5,
                        "rgb(107,174,214)"
                      ],
                      [
                        0.625,
                        "rgb(66,146,198)"
                      ],
                      [
                        0.75,
                        "rgb(33,113,181)"
                      ],
                      [
                        0.875,
                        "rgb(8,81,156)"
                      ],
                      [
                        1,
                        "rgb(8,48,107)"
                      ]
                    ],
                    "reversescale": false,
                    "showscale": true
                  },
                  "type": "parcoords"
                }
              ],
              "layout": {
                "template": {
                  "data": {
                    "bar": [
                      {
                        "error_x": {
                          "color": "#2a3f5f"
                        },
                        "error_y": {
                          "color": "#2a3f5f"
                        },
                        "marker": {
                          "line": {
                            "color": "#E5ECF6",
                            "width": 0.5
                          },
                          "pattern": {
                            "fillmode": "overlay",
                            "size": 10,
                            "solidity": 0.2
                          }
                        },
                        "type": "bar"
                      }
                    ],
                    "barpolar": [
                      {
                        "marker": {
                          "line": {
                            "color": "#E5ECF6",
                            "width": 0.5
                          },
                          "pattern": {
                            "fillmode": "overlay",
                            "size": 10,
                            "solidity": 0.2
                          }
                        },
                        "type": "barpolar"
                      }
                    ],
                    "carpet": [
                      {
                        "aaxis": {
                          "endlinecolor": "#2a3f5f",
                          "gridcolor": "white",
                          "linecolor": "white",
                          "minorgridcolor": "white",
                          "startlinecolor": "#2a3f5f"
                        },
                        "baxis": {
                          "endlinecolor": "#2a3f5f",
                          "gridcolor": "white",
                          "linecolor": "white",
                          "minorgridcolor": "white",
                          "startlinecolor": "#2a3f5f"
                        },
                        "type": "carpet"
                      }
                    ],
                    "choropleth": [
                      {
                        "colorbar": {
                          "outlinewidth": 0,
                          "ticks": ""
                        },
                        "type": "choropleth"
                      }
                    ],
                    "contour": [
                      {
                        "colorbar": {
                          "outlinewidth": 0,
                          "ticks": ""
                        },
                        "colorscale": [
                          [
                            0,
                            "#0d0887"
                          ],
                          [
                            0.1111111111111111,
                            "#46039f"
                          ],
                          [
                            0.2222222222222222,
                            "#7201a8"
                          ],
                          [
                            0.3333333333333333,
                            "#9c179e"
                          ],
                          [
                            0.4444444444444444,
                            "#bd3786"
                          ],
                          [
                            0.5555555555555556,
                            "#d8576b"
                          ],
                          [
                            0.6666666666666666,
                            "#ed7953"
                          ],
                          [
                            0.7777777777777778,
                            "#fb9f3a"
                          ],
                          [
                            0.8888888888888888,
                            "#fdca26"
                          ],
                          [
                            1,
                            "#f0f921"
                          ]
                        ],
                        "type": "contour"
                      }
                    ],
                    "contourcarpet": [
                      {
                        "colorbar": {
                          "outlinewidth": 0,
                          "ticks": ""
                        },
                        "type": "contourcarpet"
                      }
                    ],
                    "heatmap": [
                      {
                        "colorbar": {
                          "outlinewidth": 0,
                          "ticks": ""
                        },
                        "colorscale": [
                          [
                            0,
                            "#0d0887"
                          ],
                          [
                            0.1111111111111111,
                            "#46039f"
                          ],
                          [
                            0.2222222222222222,
                            "#7201a8"
                          ],
                          [
                            0.3333333333333333,
                            "#9c179e"
                          ],
                          [
                            0.4444444444444444,
                            "#bd3786"
                          ],
                          [
                            0.5555555555555556,
                            "#d8576b"
                          ],
                          [
                            0.6666666666666666,
                            "#ed7953"
                          ],
                          [
                            0.7777777777777778,
                            "#fb9f3a"
                          ],
                          [
                            0.8888888888888888,
                            "#fdca26"
                          ],
                          [
                            1,
                            "#f0f921"
                          ]
                        ],
                        "type": "heatmap"
                      }
                    ],
                    "heatmapgl": [
                      {
                        "colorbar": {
                          "outlinewidth": 0,
                          "ticks": ""
                        },
                        "colorscale": [
                          [
                            0,
                            "#0d0887"
                          ],
                          [
                            0.1111111111111111,
                            "#46039f"
                          ],
                          [
                            0.2222222222222222,
                            "#7201a8"
                          ],
                          [
                            0.3333333333333333,
                            "#9c179e"
                          ],
                          [
                            0.4444444444444444,
                            "#bd3786"
                          ],
                          [
                            0.5555555555555556,
                            "#d8576b"
                          ],
                          [
                            0.6666666666666666,
                            "#ed7953"
                          ],
                          [
                            0.7777777777777778,
                            "#fb9f3a"
                          ],
                          [
                            0.8888888888888888,
                            "#fdca26"
                          ],
                          [
                            1,
                            "#f0f921"
                          ]
                        ],
                        "type": "heatmapgl"
                      }
                    ],
                    "histogram": [
                      {
                        "marker": {
                          "pattern": {
                            "fillmode": "overlay",
                            "size": 10,
                            "solidity": 0.2
                          }
                        },
                        "type": "histogram"
                      }
                    ],
                    "histogram2d": [
                      {
                        "colorbar": {
                          "outlinewidth": 0,
                          "ticks": ""
                        },
                        "colorscale": [
                          [
                            0,
                            "#0d0887"
                          ],
                          [
                            0.1111111111111111,
                            "#46039f"
                          ],
                          [
                            0.2222222222222222,
                            "#7201a8"
                          ],
                          [
                            0.3333333333333333,
                            "#9c179e"
                          ],
                          [
                            0.4444444444444444,
                            "#bd3786"
                          ],
                          [
                            0.5555555555555556,
                            "#d8576b"
                          ],
                          [
                            0.6666666666666666,
                            "#ed7953"
                          ],
                          [
                            0.7777777777777778,
                            "#fb9f3a"
                          ],
                          [
                            0.8888888888888888,
                            "#fdca26"
                          ],
                          [
                            1,
                            "#f0f921"
                          ]
                        ],
                        "type": "histogram2d"
                      }
                    ],
                    "histogram2dcontour": [
                      {
                        "colorbar": {
                          "outlinewidth": 0,
                          "ticks": ""
                        },
                        "colorscale": [
                          [
                            0,
                            "#0d0887"
                          ],
                          [
                            0.1111111111111111,
                            "#46039f"
                          ],
                          [
                            0.2222222222222222,
                            "#7201a8"
                          ],
                          [
                            0.3333333333333333,
                            "#9c179e"
                          ],
                          [
                            0.4444444444444444,
                            "#bd3786"
                          ],
                          [
                            0.5555555555555556,
                            "#d8576b"
                          ],
                          [
                            0.6666666666666666,
                            "#ed7953"
                          ],
                          [
                            0.7777777777777778,
                            "#fb9f3a"
                          ],
                          [
                            0.8888888888888888,
                            "#fdca26"
                          ],
                          [
                            1,
                            "#f0f921"
                          ]
                        ],
                        "type": "histogram2dcontour"
                      }
                    ],
                    "mesh3d": [
                      {
                        "colorbar": {
                          "outlinewidth": 0,
                          "ticks": ""
                        },
                        "type": "mesh3d"
                      }
                    ],
                    "parcoords": [
                      {
                        "line": {
                          "colorbar": {
                            "outlinewidth": 0,
                            "ticks": ""
                          }
                        },
                        "type": "parcoords"
                      }
                    ],
                    "pie": [
                      {
                        "automargin": true,
                        "type": "pie"
                      }
                    ],
                    "scatter": [
                      {
                        "fillpattern": {
                          "fillmode": "overlay",
                          "size": 10,
                          "solidity": 0.2
                        },
                        "type": "scatter"
                      }
                    ],
                    "scatter3d": [
                      {
                        "line": {
                          "colorbar": {
                            "outlinewidth": 0,
                            "ticks": ""
                          }
                        },
                        "marker": {
                          "colorbar": {
                            "outlinewidth": 0,
                            "ticks": ""
                          }
                        },
                        "type": "scatter3d"
                      }
                    ],
                    "scattercarpet": [
                      {
                        "marker": {
                          "colorbar": {
                            "outlinewidth": 0,
                            "ticks": ""
                          }
                        },
                        "type": "scattercarpet"
                      }
                    ],
                    "scattergeo": [
                      {
                        "marker": {
                          "colorbar": {
                            "outlinewidth": 0,
                            "ticks": ""
                          }
                        },
                        "type": "scattergeo"
                      }
                    ],
                    "scattergl": [
                      {
                        "marker": {
                          "colorbar": {
                            "outlinewidth": 0,
                            "ticks": ""
                          }
                        },
                        "type": "scattergl"
                      }
                    ],
                    "scattermapbox": [
                      {
                        "marker": {
                          "colorbar": {
                            "outlinewidth": 0,
                            "ticks": ""
                          }
                        },
                        "type": "scattermapbox"
                      }
                    ],
                    "scatterpolar": [
                      {
                        "marker": {
                          "colorbar": {
                            "outlinewidth": 0,
                            "ticks": ""
                          }
                        },
                        "type": "scatterpolar"
                      }
                    ],
                    "scatterpolargl": [
                      {
                        "marker": {
                          "colorbar": {
                            "outlinewidth": 0,
                            "ticks": ""
                          }
                        },
                        "type": "scatterpolargl"
                      }
                    ],
                    "scatterternary": [
                      {
                        "marker": {
                          "colorbar": {
                            "outlinewidth": 0,
                            "ticks": ""
                          }
                        },
                        "type": "scatterternary"
                      }
                    ],
                    "surface": [
                      {
                        "colorbar": {
                          "outlinewidth": 0,
                          "ticks": ""
                        },
                        "colorscale": [
                          [
                            0,
                            "#0d0887"
                          ],
                          [
                            0.1111111111111111,
                            "#46039f"
                          ],
                          [
                            0.2222222222222222,
                            "#7201a8"
                          ],
                          [
                            0.3333333333333333,
                            "#9c179e"
                          ],
                          [
                            0.4444444444444444,
                            "#bd3786"
                          ],
                          [
                            0.5555555555555556,
                            "#d8576b"
                          ],
                          [
                            0.6666666666666666,
                            "#ed7953"
                          ],
                          [
                            0.7777777777777778,
                            "#fb9f3a"
                          ],
                          [
                            0.8888888888888888,
                            "#fdca26"
                          ],
                          [
                            1,
                            "#f0f921"
                          ]
                        ],
                        "type": "surface"
                      }
                    ],
                    "table": [
                      {
                        "cells": {
                          "fill": {
                            "color": "#EBF0F8"
                          },
                          "line": {
                            "color": "white"
                          }
                        },
                        "header": {
                          "fill": {
                            "color": "#C8D4E3"
                          },
                          "line": {
                            "color": "white"
                          }
                        },
                        "type": "table"
                      }
                    ]
                  },
                  "layout": {
                    "annotationdefaults": {
                      "arrowcolor": "#2a3f5f",
                      "arrowhead": 0,
                      "arrowwidth": 1
                    },
                    "autotypenumbers": "strict",
                    "coloraxis": {
                      "colorbar": {
                        "outlinewidth": 0,
                        "ticks": ""
                      }
                    },
                    "colorscale": {
                      "diverging": [
                        [
                          0,
                          "#8e0152"
                        ],
                        [
                          0.1,
                          "#c51b7d"
                        ],
                        [
                          0.2,
                          "#de77ae"
                        ],
                        [
                          0.3,
                          "#f1b6da"
                        ],
                        [
                          0.4,
                          "#fde0ef"
                        ],
                        [
                          0.5,
                          "#f7f7f7"
                        ],
                        [
                          0.6,
                          "#e6f5d0"
                        ],
                        [
                          0.7,
                          "#b8e186"
                        ],
                        [
                          0.8,
                          "#7fbc41"
                        ],
                        [
                          0.9,
                          "#4d9221"
                        ],
                        [
                          1,
                          "#276419"
                        ]
                      ],
                      "sequential": [
                        [
                          0,
                          "#0d0887"
                        ],
                        [
                          0.1111111111111111,
                          "#46039f"
                        ],
                        [
                          0.2222222222222222,
                          "#7201a8"
                        ],
                        [
                          0.3333333333333333,
                          "#9c179e"
                        ],
                        [
                          0.4444444444444444,
                          "#bd3786"
                        ],
                        [
                          0.5555555555555556,
                          "#d8576b"
                        ],
                        [
                          0.6666666666666666,
                          "#ed7953"
                        ],
                        [
                          0.7777777777777778,
                          "#fb9f3a"
                        ],
                        [
                          0.8888888888888888,
                          "#fdca26"
                        ],
                        [
                          1,
                          "#f0f921"
                        ]
                      ],
                      "sequentialminus": [
                        [
                          0,
                          "#0d0887"
                        ],
                        [
                          0.1111111111111111,
                          "#46039f"
                        ],
                        [
                          0.2222222222222222,
                          "#7201a8"
                        ],
                        [
                          0.3333333333333333,
                          "#9c179e"
                        ],
                        [
                          0.4444444444444444,
                          "#bd3786"
                        ],
                        [
                          0.5555555555555556,
                          "#d8576b"
                        ],
                        [
                          0.6666666666666666,
                          "#ed7953"
                        ],
                        [
                          0.7777777777777778,
                          "#fb9f3a"
                        ],
                        [
                          0.8888888888888888,
                          "#fdca26"
                        ],
                        [
                          1,
                          "#f0f921"
                        ]
                      ]
                    },
                    "colorway": [
                      "#636efa",
                      "#EF553B",
                      "#00cc96",
                      "#ab63fa",
                      "#FFA15A",
                      "#19d3f3",
                      "#FF6692",
                      "#B6E880",
                      "#FF97FF",
                      "#FECB52"
                    ],
                    "font": {
                      "color": "#2a3f5f"
                    },
                    "geo": {
                      "bgcolor": "white",
                      "lakecolor": "white",
                      "landcolor": "#E5ECF6",
                      "showlakes": true,
                      "showland": true,
                      "subunitcolor": "white"
                    },
                    "hoverlabel": {
                      "align": "left"
                    },
                    "hovermode": "closest",
                    "mapbox": {
                      "style": "light"
                    },
                    "paper_bgcolor": "white",
                    "plot_bgcolor": "#E5ECF6",
                    "polar": {
                      "angularaxis": {
                        "gridcolor": "white",
                        "linecolor": "white",
                        "ticks": ""
                      },
                      "bgcolor": "#E5ECF6",
                      "radialaxis": {
                        "gridcolor": "white",
                        "linecolor": "white",
                        "ticks": ""
                      }
                    },
                    "scene": {
                      "xaxis": {
                        "backgroundcolor": "#E5ECF6",
                        "gridcolor": "white",
                        "gridwidth": 2,
                        "linecolor": "white",
                        "showbackground": true,
                        "ticks": "",
                        "zerolinecolor": "white"
                      },
                      "yaxis": {
                        "backgroundcolor": "#E5ECF6",
                        "gridcolor": "white",
                        "gridwidth": 2,
                        "linecolor": "white",
                        "showbackground": true,
                        "ticks": "",
                        "zerolinecolor": "white"
                      },
                      "zaxis": {
                        "backgroundcolor": "#E5ECF6",
                        "gridcolor": "white",
                        "gridwidth": 2,
                        "linecolor": "white",
                        "showbackground": true,
                        "ticks": "",
                        "zerolinecolor": "white"
                      }
                    },
                    "shapedefaults": {
                      "line": {
                        "color": "#2a3f5f"
                      }
                    },
                    "ternary": {
                      "aaxis": {
                        "gridcolor": "white",
                        "linecolor": "white",
                        "ticks": ""
                      },
                      "baxis": {
                        "gridcolor": "white",
                        "linecolor": "white",
                        "ticks": ""
                      },
                      "bgcolor": "#E5ECF6",
                      "caxis": {
                        "gridcolor": "white",
                        "linecolor": "white",
                        "ticks": ""
                      }
                    },
                    "title": {
                      "x": 0.05
                    },
                    "xaxis": {
                      "automargin": true,
                      "gridcolor": "white",
                      "linecolor": "white",
                      "ticks": "",
                      "title": {
                        "standoff": 15
                      },
                      "zerolinecolor": "white",
                      "zerolinewidth": 2
                    },
                    "yaxis": {
                      "automargin": true,
                      "gridcolor": "white",
                      "linecolor": "white",
                      "ticks": "",
                      "title": {
                        "standoff": 15
                      },
                      "zerolinecolor": "white",
                      "zerolinewidth": 2
                    }
                  }
                },
                "title": {
                  "text": "Parallel Coordinate Plot"
                }
              }
            }
          },
          "metadata": {},
          "output_type": "display_data"
        },
        {
          "name": "stdout",
          "output_type": "stream",
          "text": [
            "Best value:  0.0\n",
            "Best params:  {'hidden_size': 384, 'update_q_freq': 2, 'update_tgt_freq': 148, 'activation_function': 'GELU', 'opt_lre': 0.0001, 'gamma': 0.96, 'buffer_size': 430, 'batch_size': 95}\n"
          ]
        }
      ],
      "source": [
        "if hyperparam_discovery:\n",
        "\n",
        "    # For Objective function, need to create agent name before to link agent with enviornment\n",
        "    agent_name = 'hyp_profit_agent'\n",
        "    agent_path = save_path_root + '/hyp_param_search'\n",
        "    metric = 'val_tot_r'\n",
        "    max_len_buf = np.round(hyp_trn_idx['DJI'][1] - hyp_trn_idx['DJI'][0] + window_size, -2) -10 # manual input, could be error here if\n",
        "    print(f'Max Mem Length: {max_len_buf}')\n",
        "\n",
        "    def objective(trial):\n",
        "        \n",
        "\n",
        "        # Define the hyperparameters to search over\n",
        "\n",
        "        ## NN hyperparameters\n",
        "        #sug_hidden_layers = trial.suggest_int('hidden_layers', low=1, high=3)\n",
        "        sug_hidden_size = trial.suggest_int('hidden_size', low=256, high=512, step=128)\n",
        "        sug_update_q_freq = trial.suggest_int('update_q_freq',low=1,high=5)\n",
        "        sug_update_tgt_freq = trial.suggest_int('update_tgt_freq',low=15,high=200)\n",
        "\n",
        "        ## Activation Function Passing\n",
        "        activation_functions = {\n",
        "        'ELU': nn.ELU(),\n",
        "        'LRELUs02': nn.LeakyReLU(negative_slope=0.2),\n",
        "        'GELU': nn.GELU()\n",
        "        }\n",
        "        sug_activation_function_name = trial.suggest_categorical('activation_function', list(activation_functions.keys()))\n",
        "        sug_activation_function = activation_functions[sug_activation_function_name]\n",
        "\n",
        "        \"\"\"\n",
        "        ## Reward Function Passing\n",
        "        reward_functions = {\n",
        "        'profit': future_profit(None,5),\n",
        "        'risk': risk_reward(None,5),\n",
        "        }\n",
        "        sug_reward_function_name = trial.suggest_categorical('reward_function', list(reward_functions.keys()))\n",
        "        sug_reward_function = reward_functions[sug_reward_function_name]\n",
        "        \"\"\"\n",
        "        ## Optimizer hyperparameters\n",
        "        sug_opt_lre = trial.suggest_categorical('opt_lre',[0.0001,.0001,0.01,0.1])\n",
        "        sug_gamma = trial.suggest_float('gamma',low=0.90,high=0.99,step=0.01)\n",
        "        ## Memory Replay hyperparameters\n",
        "        sug_buffer_size = trial.suggest_int('buffer_size',low=220,high=600,step=10)\n",
        "        sug_batch_size = trial.suggest_int('batch_size',low=50,high=200,step=5)\n",
        "\n",
        "        # Define Training Parameters\n",
        "        hyp_training_params = {'training_episodes': 1,\n",
        "                   'epsilon_decya_func': linear_decay,\n",
        "                   'initial_epsilon': 0.9,\n",
        "                   'final_epsilon': 0.1,\n",
        "                   'update_q_freq': sug_update_q_freq,\n",
        "                   'update_tgt_freq': sug_update_tgt_freq,                   \n",
        "                   'save_path': export_path,\n",
        "                   'metric_func': metric_function\n",
        "                   }\n",
        "\n",
        "        hyp_earlystop_params = {'min_training_episodes': 1,\n",
        "                   'early_stop': False,\n",
        "                   'stop_metric': None,\n",
        "                   'stop_patience': 2,\n",
        "                   'stop_delta': 0.001\n",
        "                    }\n",
        "        \n",
        "        \n",
        "        # Saving Setup\n",
        "        ## Current Parameter Values:\n",
        "        #cur_n_fcl = trial.params['hidden_layers']\n",
        "        cur_fcl_size = trial.params['hidden_size']\n",
        "        cur_q_freq = trial.params['update_q_freq']\n",
        "        cur_tgt_freq = trial.params['update_tgt_freq']\n",
        "        cur_act_func = trial.params['activation_function']\n",
        "        #cur_rwd_func = trial.params['reward_function']\n",
        "        cur_lre = decimal_to_text(trial.params['opt_lre'])\n",
        "        cur_buf_size = trial.params['buffer_size']\n",
        "        cur_bat_size = trial.params['batch_size']\n",
        "\n",
        "        ## Create Notation for Hyperparameter Setup\n",
        "        test_name = (f'2FC{cur_fcl_size}_{cur_act_func}_' +\n",
        "                    f'BT{cur_bat_size}BF{cur_buf_size}_Q{cur_q_freq}_' +\n",
        "                    f'TGT{cur_tgt_freq}_LR{cur_lre}')\n",
        "\n",
        "        ## Create Dir to save results\n",
        "        test_name_path =  agent_path + '/' + test_name\n",
        "        if not os.path.exists(test_name_path):\n",
        "            os.makedirs(test_name_path)\n",
        "            print(f\"Directory '{test_name_path}' created successfully.\")\n",
        "        else:\n",
        "            print(f\"Directory '{test_name_path}' already exists.\")\n",
        "\n",
        "        # Create Agent with hyperparameters\n",
        "        best_agent = DdqnAgent(name=agent_name,\n",
        "                            environment=None,\n",
        "                            reward_function = future_profit,\n",
        "                            reward_params = {'n':5},\n",
        "                            env_state_mod_func = None,\n",
        "                            input_size= 15,\n",
        "                            hidden_size= sug_hidden_size,\n",
        "                            output_size=3,\n",
        "                            activation_function = sug_activation_function,\n",
        "                            num_hidden_layers = 2,\n",
        "                            buffer_size= sug_buffer_size,\n",
        "                            batch_size = sug_batch_size,\n",
        "                            alpha = sug_opt_lre,\n",
        "                            gamma = sug_gamma,\n",
        "                            opt_wgt_dcy = 0.01,\n",
        "                            dropout_rate = 0.20,\n",
        "                            device = device)\n",
        "\n",
        "        # Training Model\n",
        "        for key, rl_env in env.items():\n",
        "\n",
        "            if key in trn_keys:\n",
        "                rl_env.add_agent(agent_name)\n",
        "                rl_env.set_decision_agent(agent_name)\n",
        "                \n",
        "                if hyp_validate:\n",
        "                    hyp_idx_params = {'start_idx': hyp_trn_idx[key][0],\n",
        "                                'end_idx':hyp_trn_idx[key][1],\n",
        "                                'val_start_idx': hyp_val_idx[key][0],\n",
        "                                'val_end_idx': hyp_val_idx[key][1]}\n",
        "                else:\n",
        "                    hyp_idx_params ={'start_idx': hyp_trn_idx[key][0],\n",
        "                                'end_idx':hyp_trn_idx[key][1],\n",
        "                                'val_start_idx': None,\n",
        "                                'val_end_idx': None}\n",
        "                \n",
        "                hyp_combined_params = hyp_training_params | hyp_earlystop_params | hyp_idx_params\n",
        "                \n",
        "                best_agent.set_env_stat_modify_func(env_mod_func_dic[key].process)\n",
        "                best_agent.set_environment(rl_env)\n",
        "                best_agent.train(**hyp_combined_params)\n",
        "                \n",
        "                # Save Agent\n",
        "                file_root_name = f'{key}_TRN_{hyp_trn_idx[key][0]}-{hyp_trn_idx[key][1]}'\n",
        "                best_agent.export_Q_nn(test_name_path+\"/model_save\")\n",
        "\n",
        "                # Create/Export Records\n",
        "                env_data_record = rl_env.get_step_data()\n",
        "                agent_data_record = best_agent.get_step_data()\n",
        "                training_record =  pd.concat([env_data_record, agent_data_record], axis=1, join='inner')\n",
        "                training_record.to_csv(f'{test_name_path}/{file_root_name}_step_data.csv')\n",
        "                episodic_training_record = best_agent.get_training_episodic_data()\n",
        "                episodic_training_record.to_csv(f'{test_name_path}/{file_root_name}_epi_data.csv')\n",
        "                \n",
        "                \n",
        "                \n",
        "                rl_env.remove_agent(agent_name)\n",
        "\n",
        "        # Test Model\n",
        "\n",
        "        scores = []\n",
        "        for key, rl_env in env.items():\n",
        "\n",
        "            if key in tst_keys:\n",
        "                rl_env.add_agent(agent_name)\n",
        "                rl_env.set_decision_agent(agent_name)\n",
        "                \n",
        "                best_agent.set_env_stat_modify_func(env_mod_func_dic[key].process)\n",
        "                best_agent.set_environment(rl_env)\n",
        "                best_agent.test(start_idx = hyp_tst_idx[key][0],\n",
        "                            end_idx = hyp_tst_idx[key][1],\n",
        "                            metric_func= metric_function,\n",
        "                            testing_episodes=1)\n",
        "                rl_env.remove_agent(agent_name)\n",
        "\n",
        "                ## Save Test Metric Result(s) into\n",
        "                ddqn_tst = best_agent.get_testing_episodic_data()\n",
        "                score = ddqn_tst['tot_r'].mean()\n",
        "                scores.append(score)\n",
        "\n",
        "                ## Export Test data\n",
        "                a = rl_env.get_step_data()\n",
        "                b = best_agent.get_step_data()\n",
        "                combined_df = pd.concat([a,b],axis=1)\n",
        "                tst_df_file_name  = f'TST-{key}' + test_name + '.csv'\n",
        "                trn_df_save_path = test_name_path + '/' + tst_df_file_name\n",
        "                combined_df.to_csv(trn_df_save_path)\n",
        "\n",
        "                ## Generate Trading Graphic\n",
        "                tst_graph_file_name = trn_df_save_path[:-4] + '.png'\n",
        "                agentperform.agent_stock_performance(env[key].stock_price_data[hyp_tst_idx[key][0]:hyp_tst_idx[key][1]][:,-1,0], # Selecting all batches, last price of window, closing price\n",
        "                                                    combined_df['Env Action'].to_numpy(),\n",
        "                                                    key,\n",
        "                                                    best_agent.get_name(),\n",
        "                                                    display_graph=False,\n",
        "                                                    save_graphic=True,\n",
        "                                                    path_file=tst_graph_file_name)\n",
        "\n",
        "        mean = np.mean(scores)\n",
        "        return mean\n",
        "\n",
        "    study = optuna.create_study(direction='maximize')\n",
        "    study.optimize(objective, n_trials=2)\n",
        "    \n",
        "    \n",
        "    best_params = study.best_params\n",
        "    \n",
        "    # Export best Parameters\n",
        "    best_param_file_name = save_path_root + '/hyp_param_search/train_params.txt'\n",
        "\n",
        "    with open(best_param_file_name, 'w') as file:\n",
        "        for key, value in best_params.items():\n",
        "            file.write(f'{key}:\\t{value}')\n",
        "    \n",
        "    fig = plot_parallel_coordinate(study)\n",
        "    fig.show()\n",
        "    print(\"Best value: \", study.best_value)\n",
        "    print(\"Best params: \", study.best_params)   \n",
        "\n",
        "    \n",
        "\n",
        "\n",
        "\n"
      ]
    },
    {
      "cell_type": "code",
      "execution_count": 18,
      "metadata": {},
      "outputs": [
        {
          "name": "stdout",
          "output_type": "stream",
          "text": [
            "Best value:  0.0\n",
            "Best params:  {'hidden_size': 384, 'update_q_freq': 2, 'update_tgt_freq': 148, 'activation_function': 'GELU', 'opt_lre': 0.0001, 'gamma': 0.96, 'buffer_size': 430, 'batch_size': 95}\n"
          ]
        }
      ],
      "source": [
        "if hyperparam_discovery: \n",
        "    fig = plot_parallel_coordinate(study)\n",
        "    plt.show()\n",
        "    print(\"Best value: \", study.best_value)\n",
        "    print(\"Best params: \", study.best_params)   "
      ]
    },
    {
      "cell_type": "markdown",
      "metadata": {
        "id": "zwUdEMmhQFnX"
      },
      "source": [
        "# Agent Setup"
      ]
    },
    {
      "cell_type": "markdown",
      "metadata": {
        "id": "95MUF9R5QFnp"
      },
      "source": [
        "## Parameters"
      ]
    },
    {
      "cell_type": "code",
      "execution_count": 19,
      "metadata": {
        "id": "OA5UDlQjQFnp"
      },
      "outputs": [
        {
          "name": "stdout",
          "output_type": "stream",
          "text": [
            "{'profit_1': {'name': 'profit_1', 'environment': None, 'reward_function': <function future_profit at 0x00000188D6C17A60>, 'reward_params': {'n': 5}, 'env_state_mod_func': None, 'input_size': 15, 'hidden_size': 256, 'output_size': 3, 'activation_function': ReLU(), 'num_hidden_layers': 3, 'buffer_size': 400, 'batch_size': 100, 'alpha': 0.005, 'gamma': 0.9, 'opt_wgt_dcy': 0, 'dropout_rate': 0.15, 'device': 'cpu'}, 'profit_2': {'name': 'profit_2', 'environment': None, 'reward_function': <function future_profit at 0x00000188D6C17A60>, 'reward_params': {'n': 5}, 'env_state_mod_func': None, 'input_size': 15, 'hidden_size': 512, 'output_size': 3, 'activation_function': ELU(alpha=1.0), 'num_hidden_layers': 3, 'buffer_size': 300, 'batch_size': 100, 'alpha': 0.001, 'gamma': 0.9, 'opt_wgt_dcy': 0.001, 'dropout_rate': 0.2, 'device': 'cpu'}, 'random': {'name': 'random', 'environment': None, 'reward_function': <function zero_reward at 0x00000188D6C2F4C0>, 'reward_params': {}}}\n"
          ]
        }
      ],
      "source": [
        "# Agent Type Setup\n",
        "agent_classes = {'profit_1': DdqnAgent,\n",
        "                 'profit_2': DdqnAgent,\n",
        "                 #'final': DdqnAgent,\n",
        "                 'random':RandomAgent}\n",
        "\n",
        "# Mul\n",
        "agent_setup = {'profit_1': ['profit_1'],\n",
        "                 'profit_2': ['profit_2'],\n",
        "                 'random': ['random']}\n",
        "                 #'final': ['profit_1', 'profit_2']}# for multi agent key is decision agent\n",
        "                 #'macro': 'macro',\n",
        "                 #'opt': ['profit', 'risk', 'macro']}\n",
        "\n",
        "agent_name_list = list(agent_classes.keys())\n",
        "\n",
        "agents_to_train = ['profit_1','profit_2']\n",
        "\n",
        "import_agents = False\n",
        "\n",
        "agent_configs_to_import = {'profit_1': f'c:/Programming/MADDQN/test005/profit_1/profit_1_config.json',\n",
        "                           'profit_2': f'c:/Programming/MADDQN/test005/profit_2/profit_2_config.json'}\n",
        "\n",
        "agents_to_import = {'profit_1': f'c:/Programming/MADDQN/test005/profit_1/profit_1_model',\n",
        "                    'profit_2': f'c:/Programming/MADDQN/test005/profit_2/profit_2_model'}\n",
        "\n",
        "agent_params = {\n",
        "    agent_name_list[0]:{\n",
        "        'name': agent_name_list[0],\n",
        "        'environment': None,\n",
        "        'reward_function': future_profit,\n",
        "        'reward_params': {'n':5},\n",
        "        'env_state_mod_func': None,  #Is Set in Training Loop\n",
        "        'input_size': 15,\n",
        "        'hidden_size': 256,\n",
        "        'output_size':3,\n",
        "        'activation_function': nn.ReLU(),\n",
        "        'num_hidden_layers': 3,\n",
        "        'buffer_size': 400,\n",
        "        'batch_size': 100,\n",
        "        'alpha': 0.005,\n",
        "        'gamma':0.90,\n",
        "        'opt_wgt_dcy': 0,\n",
        "        'dropout_rate': 0.15,\n",
        "        'device': device\n",
        "    },\n",
        "    agent_name_list[1]:{\n",
        "        'name': agent_name_list[1],\n",
        "        'environment': None,\n",
        "        'reward_function': future_profit,\n",
        "        'reward_params': {'n':5},\n",
        "        'env_state_mod_func': None, #Is Set in Training Loop\n",
        "        'input_size': 15,\n",
        "        'hidden_size': 512,\n",
        "        'output_size':3,\n",
        "        'activation_function': nn.ELU(),\n",
        "        'num_hidden_layers': 3,\n",
        "        'buffer_size': 300,\n",
        "        'batch_size': 100,\n",
        "        'alpha': 0.001,\n",
        "        'gamma':0.90,\n",
        "        'opt_wgt_dcy': 1e-3,\n",
        "        'dropout_rate': 0.20,\n",
        "        'device': device\n",
        "    },\n",
        "        agent_name_list[2]:{\n",
        "        'name': agent_name_list[2],\n",
        "        'environment': None,\n",
        "        'reward_function': zero_reward,\n",
        "        'reward_params': {},\n",
        "        }}\n",
        "\n",
        "if import_agents:\n",
        "    for agent, config_loc in agent_configs_to_import.items():\n",
        "        with open(config_loc, 'r') as json_file:\n",
        "            config_data = json.load(json_file)\n",
        "        agent_params[agent].update(config_data)\n",
        "        agent_params[agent].update({'device':device})   # Ensure Current Device is used for computing GPU (config)\n",
        "\n",
        "print(agent_params)\n",
        "    \n",
        "    \n"
      ]
    },
    {
      "cell_type": "markdown",
      "metadata": {
        "id": "dbtjT_9IQFnq"
      },
      "source": [
        "## Agent Generation"
      ]
    },
    {
      "cell_type": "code",
      "execution_count": 20,
      "metadata": {
        "id": "5Wcjvy7-QFnq"
      },
      "outputs": [
        {
          "name": "stdout",
          "output_type": "stream",
          "text": [
            "profit_1 {'name': 'profit_1', 'environment': None, 'reward_function': <function future_profit at 0x00000188D6C17A60>, 'reward_params': {'n': 5}, 'env_state_mod_func': None, 'input_size': 15, 'hidden_size': 256, 'output_size': 3, 'activation_function': ReLU(), 'num_hidden_layers': 3, 'buffer_size': 400, 'batch_size': 100, 'alpha': 0.005, 'gamma': 0.9, 'opt_wgt_dcy': 0, 'dropout_rate': 0.15, 'device': 'cpu'}\n",
            "profit_2 {'name': 'profit_2', 'environment': None, 'reward_function': <function future_profit at 0x00000188D6C17A60>, 'reward_params': {'n': 5}, 'env_state_mod_func': None, 'input_size': 15, 'hidden_size': 512, 'output_size': 3, 'activation_function': ELU(alpha=1.0), 'num_hidden_layers': 3, 'buffer_size': 300, 'batch_size': 100, 'alpha': 0.001, 'gamma': 0.9, 'opt_wgt_dcy': 0.001, 'dropout_rate': 0.2, 'device': 'cpu'}\n",
            "random {'name': 'random', 'environment': None, 'reward_function': <function zero_reward at 0x00000188D6C2F4C0>, 'reward_params': {}}\n"
          ]
        }
      ],
      "source": [
        "agents_dic = {}\n",
        "\n",
        "for agent_name, agent_class in agent_classes.items():\n",
        "    print(agent_name,agent_params[agent_name])\n",
        "    selected_agent = agent_class(**agent_params[agent_name])\n",
        "    agents_dic[agent_name] = selected_agent\n",
        "    if agent_name in agents_to_import.keys() and import_agents:\n",
        "        agents_dic[agent_name].import_Q_nn(agents_to_import[agent_name])\n",
        "\n"
      ]
    },
    {
      "cell_type": "markdown",
      "metadata": {
        "id": "k4y7pGWBQFnq"
      },
      "source": [
        "# Training Parameters"
      ]
    },
    {
      "cell_type": "code",
      "execution_count": 21,
      "metadata": {
        "id": "nswPoExzQFnr"
      },
      "outputs": [],
      "source": [
        "training_params = {'training_episodes': 1,\n",
        "                   'epsilon_decya_func': linear_decay,\n",
        "                   'initial_epsilon': 0.9,\n",
        "                   'final_epsilon': 0.1,\n",
        "                   'update_q_freq': 1,\n",
        "                   'update_tgt_freq': 50,\n",
        "                   'save_path': export_path,\n",
        "                   'metric_func': metric_function\n",
        "                   }\n",
        "\n",
        "earlystop_params = {'min_training_episodes': 1,\n",
        "                   'early_stop': False,\n",
        "                   'stop_metric': None,\n",
        "                   'stop_patience': 2,\n",
        "                   'stop_delta': 0.001\n",
        "                    }\n",
        "\n"
      ]
    },
    {
      "cell_type": "code",
      "execution_count": 22,
      "metadata": {},
      "outputs": [],
      "source": [
        "if use_best_params:\n",
        "    # Update first agent with best parameters\n",
        "    filtered_new_agent_params = {key: best_params[key] for key in agent_params[agent_name_list[0]] if key in best_params}\n",
        "    agent_params[agent_name_list[0]].update(filtered_new_agent_params)\n",
        "    # Update training params with best parameters\n",
        "    filtered_traing_params = {key: best_params[key] for key in training_params if key in best_params}\n",
        "    training_params.update(filtered_traing_params)"
      ]
    },
    {
      "cell_type": "code",
      "execution_count": 23,
      "metadata": {
        "colab": {
          "base_uri": "https://localhost:8080/"
        },
        "id": "jX37f6UKQFnr",
        "outputId": "d5599fb9-5897-4b14-b5fa-b806c405ed42"
      },
      "outputs": [
        {
          "name": "stdout",
          "output_type": "stream",
          "text": [
            "DJI ENV: Agent profit_1 added\n",
            "DJI ENV: Agent profit_1 assigned as decision agent\n",
            "\n",
            "profit_1: Training Initialized on DJI[0:3244]\n",
            "profit_1: EP 1 of 1 Finished -> ΔQ1 = 2277.40, ΔQ2 = 2318.33 | ∑R = 1414.49, μR = 0.44 σR = 2.43                                                                                                                                                          \n",
            "profit_1: Training finished on DJI[0:3244]\n",
            "\n",
            "profit_1: Q-Network Exported to file \"C:/programming/MADDQN/test_unit_run/profit_1/profit_1_model\"\n",
            "DJI ENV: Agent profit_1 removed\n",
            "NDAQ ENV: Agent profit_1 added\n",
            "NDAQ ENV: Agent profit_1 assigned as decision agent\n",
            "\n",
            "profit_1: Training Initialized on NDAQ[0:3244]\n",
            "profit_1: EP 1 of 1 Finished -> ΔQ1 = 49575.43, ΔQ2 = 36822.02 | ∑R = 1785.96, μR = 0.55 σR = 3.40                                                                                                                                                        \n",
            "profit_1: Training finished on NDAQ[0:3244]\n",
            "\n",
            "profit_1: Q-Network Exported to file \"C:/programming/MADDQN/test_unit_run/profit_1/profit_1_model\"\n",
            "NDAQ ENV: Agent profit_1 removed\n",
            "SP500 ENV: Agent profit_1 added\n",
            "SP500 ENV: Agent profit_1 assigned as decision agent\n",
            "\n",
            "profit_1: Training Initialized on SP500[0:3244]\n",
            "profit_1: EP 1 of 1 Finished -> ΔQ1 = 1013.06, ΔQ2 = 2023.55 | ∑R = 1031.99, μR = 0.32 σR = 3.60                                                                                                                                                          \n",
            "profit_1: Training finished on SP500[0:3244]\n",
            "\n",
            "profit_1: Q-Network Exported to file \"C:/programming/MADDQN/test_unit_run/profit_1/profit_1_model\"\n",
            "SP500 ENV: Agent profit_1 removed\n",
            "DJI ENV: Agent profit_2 added\n",
            "DJI ENV: Agent profit_2 assigned as decision agent\n",
            "\n",
            "profit_2: Training Initialized on DJI[0:3244]\n",
            "profit_2: EP 1 of 1 Finished -> ΔQ1 = 1.77, ΔQ2 = 2.51 | ∑R = 1606.07, μR = 0.50 σR = 1.74                                                                                                                                                                \n",
            "profit_2: Training finished on DJI[0:3244]\n",
            "\n",
            "profit_2: Q-Network Exported to file \"C:/programming/MADDQN/test_unit_run/profit_2/profit_2_model\"\n",
            "DJI ENV: Agent profit_2 removed\n",
            "NDAQ ENV: Agent profit_2 added\n",
            "NDAQ ENV: Agent profit_2 assigned as decision agent\n",
            "\n",
            "profit_2: Training Initialized on NDAQ[0:3244]\n",
            "profit_2: EP 1 of 1 Finished -> ΔQ1 = 7.87, ΔQ2 = 12.56 | ∑R = -1657.22, μR = -0.51 σR = 6.23                                                                                                                                                             \n",
            "profit_2: Training finished on NDAQ[0:3244]\n",
            "\n",
            "profit_2: Q-Network Exported to file \"C:/programming/MADDQN/test_unit_run/profit_2/profit_2_model\"\n",
            "NDAQ ENV: Agent profit_2 removed\n",
            "SP500 ENV: Agent profit_2 added\n",
            "SP500 ENV: Agent profit_2 assigned as decision agent\n",
            "\n",
            "profit_2: Training Initialized on SP500[0:3244]\n",
            "profit_2: EP 1 of 1 Finished -> ΔQ1 = 0.85, ΔQ2 = 0.39 | ∑R = 2205.61, μR = 0.68 σR = 3.53                                                                                                                                                                \n",
            "profit_2: Training finished on SP500[0:3244]\n",
            "\n",
            "profit_2: Q-Network Exported to file \"C:/programming/MADDQN/test_unit_run/profit_2/profit_2_model\"\n",
            "SP500 ENV: Agent profit_2 removed\n"
          ]
        }
      ],
      "source": [
        "\n",
        "if train_agent:\n",
        "    \n",
        "    # Export Training Parameters (Does nost handle imported parameters Q_value/Tgt_value)\n",
        "    train_param_file_name = save_path_root + '/train_params.txt'\n",
        "    with open(train_param_file_name, 'w') as file:\n",
        "        for key, value in training_params.items():\n",
        "            file.write(f'{key}:\\t\\t{value}\\n')\n",
        "    # Export Early Stop Paramters:\n",
        "    train_param_file_name = save_path_root + '/earlystop_params.txt'\n",
        "    with open(train_param_file_name, 'w') as file:\n",
        "        for key, value in training_params.items():\n",
        "            file.write(f'{key}:\\t\\t{value}\\n')   \n",
        "    # Agent Params\n",
        "    train_param_file_name = save_path_root + '/agent_params.txt'\n",
        "    with open(train_param_file_name, 'w') as file:\n",
        "        for agent in agent_params:\n",
        "            file.write(f'{agent}------\\n')\n",
        "            for key, value in agent_params[agent].items():\n",
        "                file.write(f'\\t{key}:\\t\\t{value}\\n')\n",
        "\n",
        "    # Which Agents to Train\n",
        "    filtered_agents = {\n",
        "        decision_agent: agents_in_setup\n",
        "        for decision_agent, agents_in_setup in agent_setup.items()\n",
        "        if decision_agent in agents_to_train\n",
        "    }\n",
        "\n",
        "    for decision_agent, agents_in_setup in filtered_agents.items():\n",
        "        for key in trn_keys:\n",
        "            rl_env = env[key]\n",
        "\n",
        "            if validate:\n",
        "                idx_params = {'start_idx': trn_idx[key][0],\n",
        "                              'end_idx':trn_idx[key][1],\n",
        "                              'val_start_idx': val_idx[key][0],\n",
        "                              'val_end_idx': val_idx[key][1]}\n",
        "            else:\n",
        "                idx_params ={'start_idx': trn_idx[key][0],\n",
        "                             'end_idx':trn_idx[key][1],\n",
        "                             'val_start_idx': None,\n",
        "                             'val_end_idx': None}\n",
        "\n",
        "            combined_params = training_params | earlystop_params | idx_params\n",
        "\n",
        "            # Setup agents with environment\n",
        "            rl_env.add_agent(decision_agent)\n",
        "            rl_env.set_decision_agent(decision_agent)   \n",
        "            agents_dic[decision_agent].set_environment(rl_env)\n",
        "\n",
        "            # Multi-Agent Setup\n",
        "            if decision_agent not in agents_in_setup or len(agents_in_setup) != 1:\n",
        "                subagent_list = []\n",
        "                for agent in agents_in_setup:\n",
        "                    subagent_list.append(agents_dic[agent])\n",
        "                env_mod_func_dic[key].add_subagents(subagent_list)\n",
        "            \n",
        "            #Train Agent    \n",
        "            agents_dic[decision_agent].set_env_stat_modify_func(env_mod_func_dic[key].process)\n",
        "            agents_dic[decision_agent].train(**combined_params)\n",
        "            \n",
        "            # Remove Multi-Agent Setup in ENV_MOD function\n",
        "            if decision_agent not in agents_in_setup or len(agents_in_setup) != 1:\n",
        "                env_mod_func_dic[key].remove_subagents()\n",
        "\n",
        "            # Save Agent\n",
        "            save_agent_path = save_path_root + f'/{decision_agent}/'\n",
        "            os.makedirs(save_agent_path, exist_ok=True)\n",
        "            file_root_name = f'{key}_TRN_{trn_idx[key][0]}-{trn_idx[key][1]}'\n",
        "            agents_dic[decision_agent].export_Q_nn(f'{save_agent_path}{decision_agent}_model')\n",
        "            agents_dic[decision_agent].save_config(f'{save_agent_path}{decision_agent}_config.json')\n",
        "            \n",
        "            # Create/Export Records\n",
        "            env_data_record = rl_env.get_step_data()\n",
        "            agent_data_record = agents_dic[decision_agent].get_step_data()\n",
        "            training_record =  pd.concat([env_data_record, agent_data_record], axis=1, join='inner')\n",
        "            training_record.to_csv(f'{save_agent_path}{file_root_name}_step_data.csv')\n",
        "            episodic_training_record = agents_dic[decision_agent].get_training_episodic_data()\n",
        "            episodic_training_record.to_csv(f'{save_agent_path}{file_root_name}_epi_data.csv')\n",
        "\n",
        "            # Remove Agent\n",
        "            rl_env.remove_agent(decision_agent)\n",
        "            agents_dic[decision_agent].set_environment(None)\n",
        "\n"
      ]
    },
    {
      "cell_type": "markdown",
      "metadata": {
        "id": "CVcrJ5qVQFns"
      },
      "source": [
        "# Agent Testing"
      ]
    },
    {
      "cell_type": "markdown",
      "metadata": {
        "id": "Xc6ZYhOsQFns"
      },
      "source": [
        "## Parameters"
      ]
    },
    {
      "cell_type": "code",
      "execution_count": 24,
      "metadata": {
        "id": "qegyTiiIQFns"
      },
      "outputs": [],
      "source": [
        "testing_params = {DdqnAgent: {\n",
        "                   'metric_func': metric_function,\n",
        "                   'metric_func_arg': {},\n",
        "                   'testing_episodes':1},\n",
        "                  RandomAgent: {\n",
        "                    'metric_func': metric_function,\n",
        "                   'metric_func_arg': {},\n",
        "                   'testing_episodes':5}}"
      ]
    },
    {
      "cell_type": "markdown",
      "metadata": {
        "id": "9rF1E25JQFns"
      },
      "source": [
        "## Testing"
      ]
    },
    {
      "cell_type": "code",
      "execution_count": 25,
      "metadata": {
        "id": "8buSLH7yQFnt"
      },
      "outputs": [
        {
          "name": "stdout",
          "output_type": "stream",
          "text": [
            "AAPL ENV: Agent profit_1 added\n",
            "AAPL ENV: Agent profit_1 assigned as decision agent\n",
            "\n",
            "profit_1: Testing Initialized on AAPL[3272:4250]\n",
            "profit_1 - AAPL[3272:4250] - Testing Finished - EP - 1 of 1-> ∑R = 0.00, μR = 0.00, σR = 0.00\n",
            "profit_1: Testing Complete on AAPL[3272:4250]\n",
            "\n",
            "AAPL ENV: Agent profit_1 removed\n",
            "AAPL ENV: Agent profit_2 added\n",
            "AAPL ENV: Agent profit_2 assigned as decision agent\n",
            "\n",
            "profit_2: Testing Initialized on AAPL[3272:4250]\n",
            "profit_2 - AAPL[3272:4250] - Testing Finished - EP - 1 of 1-> ∑R = -49942.07, μR = -51.07, σR = 1280.81\n",
            "profit_2: Testing Complete on AAPL[3272:4250]\n",
            "\n",
            "AAPL ENV: Agent profit_2 removed\n",
            "AAPL ENV: Agent random added\n",
            "AAPL ENV: Agent random assigned as decision agent\n",
            "random: Testing Initialized on AAPL[3272:4250]\n",
            "random: EP 5 of 5 Finished -> ∑R = -85372.75, μR = -87.29, σR = 1057.70                                                                                                                                 \n",
            "random: Testing Complete on AAPL[3272:4250]\n",
            "AAPL ENV: Agent random removed\n",
            "AMZN ENV: Agent profit_1 added\n",
            "AMZN ENV: Agent profit_1 assigned as decision agent\n",
            "\n",
            "profit_1: Testing Initialized on AMZN[3272:4250]\n",
            "profit_1 - AMZN[3272:4250] - Testing Finished - EP - 1 of 1-> ∑R = 0.00, μR = 0.00, σR = 0.00\n",
            "profit_1: Testing Complete on AMZN[3272:4250]\n",
            "\n",
            "AMZN ENV: Agent profit_1 removed\n",
            "AMZN ENV: Agent profit_2 added\n",
            "AMZN ENV: Agent profit_2 assigned as decision agent\n",
            "\n",
            "profit_2: Testing Initialized on AMZN[3272:4250]\n",
            "profit_2 - AMZN[3272:4250] - Testing Finished - EP - 1 of 1-> ∑R = -90422.41, μR = -92.46, σR = 960.84\n",
            "profit_2: Testing Complete on AMZN[3272:4250]\n",
            "\n",
            "AMZN ENV: Agent profit_2 removed\n",
            "AMZN ENV: Agent random added\n",
            "AMZN ENV: Agent random assigned as decision agent\n",
            "random: Testing Initialized on AMZN[3272:4250]\n",
            "random: EP 5 of 5 Finished -> ∑R = -92367.45, μR = -94.45, σR = 727.36                                                                                                                                  \n",
            "random: Testing Complete on AMZN[3272:4250]\n",
            "AMZN ENV: Agent random removed\n",
            "GOOGL ENV: Agent profit_1 added\n",
            "GOOGL ENV: Agent profit_1 assigned as decision agent\n",
            "\n",
            "profit_1: Testing Initialized on GOOGL[3272:4250]\n",
            "profit_1 - GOOGL[3272:4250] - Testing Finished - EP - 1 of 1-> ∑R = 0.00, μR = 0.00, σR = 0.00\n",
            "profit_1: Testing Complete on GOOGL[3272:4250]\n",
            "\n",
            "GOOGL ENV: Agent profit_1 removed\n",
            "GOOGL ENV: Agent profit_2 added\n",
            "GOOGL ENV: Agent profit_2 assigned as decision agent\n",
            "\n",
            "profit_2: Testing Initialized on GOOGL[3272:4250]\n",
            "profit_2 - GOOGL[3272:4250] - Testing Finished - EP - 1 of 1-> ∑R = -56837.86, μR = -58.12, σR = 1288.92\n",
            "profit_2: Testing Complete on GOOGL[3272:4250]\n",
            "\n",
            "GOOGL ENV: Agent profit_2 removed\n",
            "GOOGL ENV: Agent random added\n",
            "GOOGL ENV: Agent random assigned as decision agent\n",
            "random: Testing Initialized on GOOGL[3272:4250]\n",
            "random: EP 5 of 5 Finished -> ∑R = -83232.83, μR = -85.11, σR = 823.96                                                                                                                                  \n",
            "random: Testing Complete on GOOGL[3272:4250]\n",
            "GOOGL ENV: Agent random removed\n",
            "MSFT ENV: Agent profit_1 added\n",
            "MSFT ENV: Agent profit_1 assigned as decision agent\n",
            "\n",
            "profit_1: Testing Initialized on MSFT[3272:4250]\n",
            "profit_1 - MSFT[3272:4250] - Testing Finished - EP - 1 of 1-> ∑R = 0.00, μR = 0.00, σR = 0.00\n",
            "profit_1: Testing Complete on MSFT[3272:4250]\n",
            "\n",
            "MSFT ENV: Agent profit_1 removed\n",
            "MSFT ENV: Agent profit_2 added\n",
            "MSFT ENV: Agent profit_2 assigned as decision agent\n",
            "\n",
            "profit_2: Testing Initialized on MSFT[3272:4250]\n",
            "profit_2 - MSFT[3272:4250] - Testing Finished - EP - 1 of 1-> ∑R = -51038.67, μR = -52.19, σR = 1282.58\n",
            "profit_2: Testing Complete on MSFT[3272:4250]\n",
            "\n",
            "MSFT ENV: Agent profit_2 removed\n",
            "MSFT ENV: Agent random added\n",
            "MSFT ENV: Agent random assigned as decision agent\n",
            "random: Testing Initialized on MSFT[3272:4250]\n",
            "random: EP 5 of 5 Finished -> ∑R = -85227.15, μR = -87.14, σR = 972.09                                                                                                                                  \n",
            "random: Testing Complete on MSFT[3272:4250]\n",
            "MSFT ENV: Agent random removed\n",
            "FORD ENV: Agent profit_1 added\n",
            "FORD ENV: Agent profit_1 assigned as decision agent\n",
            "\n",
            "profit_1: Testing Initialized on FORD[3272:4250]\n",
            "profit_1 - FORD[3272:4250] - Testing Finished - EP - 1 of 1-> ∑R = 0.00, μR = 0.00, σR = 0.00\n",
            "profit_1: Testing Complete on FORD[3272:4250]\n",
            "\n",
            "FORD ENV: Agent profit_1 removed\n",
            "FORD ENV: Agent profit_2 added\n",
            "FORD ENV: Agent profit_2 assigned as decision agent\n",
            "\n",
            "profit_2: Testing Initialized on FORD[3272:4250]\n",
            "profit_2 - FORD[3272:4250] - Testing Finished - EP - 1 of 1-> ∑R = -98596.38, μR = -100.81, σR = 936.84\n",
            "profit_2: Testing Complete on FORD[3272:4250]\n",
            "\n",
            "FORD ENV: Agent profit_2 removed\n",
            "FORD ENV: Agent random added\n",
            "FORD ENV: Agent random assigned as decision agent\n",
            "random: Testing Initialized on FORD[3272:4250]\n",
            "random: EP 5 of 5 Finished -> ∑R = -85005.53, μR = -86.92, σR = 1292.04                                                                                                                                 \n",
            "random: Testing Complete on FORD[3272:4250]\n",
            "FORD ENV: Agent random removed\n",
            "JNJ ENV: Agent profit_1 added\n",
            "JNJ ENV: Agent profit_1 assigned as decision agent\n",
            "\n",
            "profit_1: Testing Initialized on JNJ[3272:4250]\n",
            "profit_1 - JNJ[3272:4250] - Testing Finished - EP - 1 of 1-> ∑R = 0.00, μR = 0.00, σR = 0.00\n",
            "profit_1: Testing Complete on JNJ[3272:4250]\n",
            "\n",
            "JNJ ENV: Agent profit_1 removed\n",
            "JNJ ENV: Agent profit_2 added\n",
            "JNJ ENV: Agent profit_2 assigned as decision agent\n",
            "\n",
            "profit_2: Testing Initialized on JNJ[3272:4250]\n",
            "profit_2 - JNJ[3272:4250] - Testing Finished - EP - 1 of 1-> ∑R = -94637.50, μR = -96.77, σR = 592.52\n",
            "profit_2: Testing Complete on JNJ[3272:4250]\n",
            "\n",
            "JNJ ENV: Agent profit_2 removed\n",
            "JNJ ENV: Agent random added\n",
            "JNJ ENV: Agent random assigned as decision agent\n",
            "random: Testing Initialized on JNJ[3272:4250]\n",
            "random: EP 5 of 5 Finished -> ∑R = -95251.27, μR = -97.39, σR = 569.16                                                                                                                                  \n",
            "random: Testing Complete on JNJ[3272:4250]\n",
            "JNJ ENV: Agent random removed\n",
            "NEE ENV: Agent profit_1 added\n",
            "NEE ENV: Agent profit_1 assigned as decision agent\n",
            "\n",
            "profit_1: Testing Initialized on NEE[3272:4250]\n",
            "profit_1 - NEE[3272:4250] - Testing Finished - EP - 1 of 1-> ∑R = 0.00, μR = 0.00, σR = 0.00\n",
            "profit_1: Testing Complete on NEE[3272:4250]\n",
            "\n",
            "NEE ENV: Agent profit_1 removed\n",
            "NEE ENV: Agent profit_2 added\n",
            "NEE ENV: Agent profit_2 assigned as decision agent\n",
            "\n",
            "profit_2: Testing Initialized on NEE[3272:4250]\n",
            "profit_2 - NEE[3272:4250] - Testing Finished - EP - 1 of 1-> ∑R = -92786.73, μR = -94.87, σR = 856.38\n",
            "profit_2: Testing Complete on NEE[3272:4250]\n",
            "\n",
            "NEE ENV: Agent profit_2 removed\n",
            "NEE ENV: Agent random added\n",
            "NEE ENV: Agent random assigned as decision agent\n",
            "random: Testing Initialized on NEE[3272:4250]\n",
            "random: EP 5 of 5 Finished -> ∑R = -91554.18, μR = -93.61, σR = 789.43                                                                                                                                  \n",
            "random: Testing Complete on NEE[3272:4250]\n",
            "NEE ENV: Agent random removed\n",
            "PFE ENV: Agent profit_1 added\n",
            "PFE ENV: Agent profit_1 assigned as decision agent\n",
            "\n",
            "profit_1: Testing Initialized on PFE[3272:4250]\n",
            "profit_1 - PFE[3272:4250] - Testing Finished - EP - 1 of 1-> ∑R = 0.00, μR = 0.00, σR = 0.00\n",
            "profit_1: Testing Complete on PFE[3272:4250]\n",
            "\n",
            "PFE ENV: Agent profit_1 removed\n",
            "PFE ENV: Agent profit_2 added\n",
            "PFE ENV: Agent profit_2 assigned as decision agent\n",
            "\n",
            "profit_2: Testing Initialized on PFE[3272:4250]\n",
            "profit_2 - PFE[3272:4250] - Testing Finished - EP - 1 of 1-> ∑R = -96542.09, μR = -98.71, σR = 688.31\n",
            "profit_2: Testing Complete on PFE[3272:4250]\n",
            "\n",
            "PFE ENV: Agent profit_2 removed\n",
            "PFE ENV: Agent random added\n",
            "PFE ENV: Agent random assigned as decision agent\n",
            "random: Testing Initialized on PFE[3272:4250]\n",
            "random: EP 5 of 5 Finished -> ∑R = -93642.02, μR = -95.75, σR = 686.80                                                                                                                                  \n",
            "random: Testing Complete on PFE[3272:4250]\n",
            "PFE ENV: Agent random removed\n",
            "TSLA ENV: Agent profit_1 added\n",
            "TSLA ENV: Agent profit_1 assigned as decision agent\n",
            "\n",
            "profit_1: Testing Initialized on TSLA[2394:3372]\n",
            "profit_1 - TSLA[2394:3372] - Testing Finished - EP - 1 of 1-> ∑R = 0.00, μR = 0.00, σR = 0.00\n",
            "profit_1: Testing Complete on TSLA[2394:3372]\n",
            "\n",
            "TSLA ENV: Agent profit_1 removed\n",
            "TSLA ENV: Agent profit_2 added\n",
            "TSLA ENV: Agent profit_2 assigned as decision agent\n",
            "\n",
            "profit_2: Testing Initialized on TSLA[2394:3372]\n",
            "profit_2 - TSLA[2394:3372] - Testing Finished - EP - 1 of 1-> ∑R = 20047.47, μR = 20.50, σR = 5967.91\n",
            "profit_2: Testing Complete on TSLA[2394:3372]\n",
            "\n",
            "TSLA ENV: Agent profit_2 removed\n",
            "TSLA ENV: Agent random added\n",
            "TSLA ENV: Agent random assigned as decision agent\n",
            "random: Testing Initialized on TSLA[2394:3372]\n",
            "random: EP 5 of 5 Finished -> ∑R = -88529.82, μR = -90.52, σR = 1880.59                                                                                                                                 \n",
            "random: Testing Complete on TSLA[2394:3372]\n",
            "TSLA ENV: Agent random removed\n",
            "COKE ENV: Agent profit_1 added\n",
            "COKE ENV: Agent profit_1 assigned as decision agent\n",
            "\n",
            "profit_1: Testing Initialized on COKE[3272:4250]\n",
            "profit_1 - COKE[3272:4250] - Testing Finished - EP - 1 of 1-> ∑R = 0.00, μR = 0.00, σR = 0.00\n",
            "profit_1: Testing Complete on COKE[3272:4250]\n",
            "\n",
            "COKE ENV: Agent profit_1 removed\n",
            "COKE ENV: Agent profit_2 added\n",
            "COKE ENV: Agent profit_2 assigned as decision agent\n",
            "\n",
            "profit_2: Testing Initialized on COKE[3272:4250]\n",
            "profit_2 - COKE[3272:4250] - Testing Finished - EP - 1 of 1-> ∑R = -51764.74, μR = -52.93, σR = 1159.64\n",
            "profit_2: Testing Complete on COKE[3272:4250]\n",
            "\n",
            "COKE ENV: Agent profit_2 removed\n",
            "COKE ENV: Agent random added\n",
            "COKE ENV: Agent random assigned as decision agent\n",
            "random: Testing Initialized on COKE[3272:4250]\n",
            "random: EP 5 of 5 Finished -> ∑R = -84326.03, μR = -86.22, σR = 980.70                                                                                                                                  \n",
            "random: Testing Complete on COKE[3272:4250]\n",
            "COKE ENV: Agent random removed\n",
            "PG ENV: Agent profit_1 added\n",
            "PG ENV: Agent profit_1 assigned as decision agent\n",
            "\n",
            "profit_1: Testing Initialized on PG[3272:4250]\n",
            "profit_1 - PG[3272:4250] - Testing Finished - EP - 1 of 1-> ∑R = 0.00, μR = 0.00, σR = 0.00\n",
            "profit_1: Testing Complete on PG[3272:4250]\n",
            "\n",
            "PG ENV: Agent profit_1 removed\n",
            "PG ENV: Agent profit_2 added\n",
            "PG ENV: Agent profit_2 assigned as decision agent\n",
            "\n",
            "profit_2: Testing Initialized on PG[3272:4250]\n",
            "profit_2 - PG[3272:4250] - Testing Finished - EP - 1 of 1-> ∑R = -84780.66, μR = -86.69, σR = 741.41\n",
            "profit_2: Testing Complete on PG[3272:4250]\n",
            "\n",
            "PG ENV: Agent profit_2 removed\n",
            "PG ENV: Agent random added\n",
            "PG ENV: Agent random assigned as decision agent\n",
            "random: Testing Initialized on PG[3272:4250]\n",
            "random: EP 5 of 5 Finished -> ∑R = -84345.51, μR = -86.24, σR = 889.37                                                                                                                                  \n",
            "random: Testing Complete on PG[3272:4250]\n",
            "PG ENV: Agent random removed\n"
          ]
        },
        {
          "data": {
            "text/plain": [
              "{'AAPL': {'profit_1': {'3272:4250': {0: {'n_trades': 0,\n",
              "     'n_wins': 0,\n",
              "     'n_losses': 0,\n",
              "     'win_percentage': 0,\n",
              "     'cumulative_return': 0,\n",
              "     'sortino': 0,\n",
              "     'max_drawdown': 0,\n",
              "     'sharpe': 0,\n",
              "     'trade_dur_avg': 0,\n",
              "     'trade_dur_min': 0,\n",
              "     'trade_dur_max': 0,\n",
              "     'buy_hold': 2.4227784730913644}}},\n",
              "  'profit_2': {'3272:4250': {0: {'n_trades': 131,\n",
              "     'n_wins': 78,\n",
              "     'n_losses': 53,\n",
              "     'win_percentage': 59.541984732824424,\n",
              "     'cumulative_return': 1.8621981761739315,\n",
              "     'sortino': 2.738190659027195,\n",
              "     'max_drawdown': -38.37992668020124,\n",
              "     'sharpe': 1.8670973059579734,\n",
              "     'trade_dur_avg': 6.465648854961832,\n",
              "     'trade_dur_min': 2,\n",
              "     'trade_dur_max': 12,\n",
              "     'buy_hold': 2.4227784730913644}}},\n",
              "  'random': {'3272:4250': {0: {'n_trades': 242,\n",
              "     'n_wins': 108,\n",
              "     'n_losses': 132,\n",
              "     'win_percentage': 44.62809917355372,\n",
              "     'cumulative_return': 0.6296223701911612,\n",
              "     'sortino': -1.2390413024696914,\n",
              "     'max_drawdown': -50.080415790149715,\n",
              "     'sharpe': -0.9211246594021036,\n",
              "     'trade_dur_avg': 2.0330578512396693,\n",
              "     'trade_dur_min': 1,\n",
              "     'trade_dur_max': 11,\n",
              "     'buy_hold': 2.4227784730913644},\n",
              "    1: {'n_trades': 250,\n",
              "     'n_wins': 126,\n",
              "     'n_losses': 124,\n",
              "     'win_percentage': 50.4,\n",
              "     'cumulative_return': 1.01661291371194,\n",
              "     'sortino': 0.4081057105269326,\n",
              "     'max_drawdown': -44.29512431279169,\n",
              "     'sharpe': 0.2587487981546355,\n",
              "     'trade_dur_avg': 1.856,\n",
              "     'trade_dur_min': 1,\n",
              "     'trade_dur_max': 8,\n",
              "     'buy_hold': 2.4227784730913644},\n",
              "    2: {'n_trades': 251,\n",
              "     'n_wins': 136,\n",
              "     'n_losses': 115,\n",
              "     'win_percentage': 54.18326693227091,\n",
              "     'cumulative_return': 2.417408565172691,\n",
              "     'sortino': 3.821978368274029,\n",
              "     'max_drawdown': -21.691344473327902,\n",
              "     'sharpe': 2.28161845898187,\n",
              "     'trade_dur_avg': 1.8844621513944224,\n",
              "     'trade_dur_min': 1,\n",
              "     'trade_dur_max': 10,\n",
              "     'buy_hold': 2.4227784730913644},\n",
              "    3: {'n_trades': 218,\n",
              "     'n_wins': 111,\n",
              "     'n_losses': 107,\n",
              "     'win_percentage': 50.917431192660544,\n",
              "     'cumulative_return': 1.209132827126683,\n",
              "     'sortino': 1.016115847421955,\n",
              "     'max_drawdown': -42.285306996789785,\n",
              "     'sharpe': 0.6921763455069758,\n",
              "     'trade_dur_avg': 2.2477064220183487,\n",
              "     'trade_dur_min': 1,\n",
              "     'trade_dur_max': 12,\n",
              "     'buy_hold': 2.4227784730913644},\n",
              "    4: {'n_trades': 249,\n",
              "     'n_wins': 138,\n",
              "     'n_losses': 111,\n",
              "     'win_percentage': 55.42168674698795,\n",
              "     'cumulative_return': 1.7743740179161118,\n",
              "     'sortino': 2.4465009218144917,\n",
              "     'max_drawdown': -23.10554533773391,\n",
              "     'sharpe': 1.5751123249672252,\n",
              "     'trade_dur_avg': 1.859437751004016,\n",
              "     'trade_dur_min': 1,\n",
              "     'trade_dur_max': 7,\n",
              "     'buy_hold': 2.4227784730913644}}}},\n",
              " 'AMZN': {'profit_1': {'3272:4250': {0: {'n_trades': 0,\n",
              "     'n_wins': 0,\n",
              "     'n_losses': 0,\n",
              "     'win_percentage': 0,\n",
              "     'cumulative_return': 0,\n",
              "     'sortino': 0,\n",
              "     'max_drawdown': 0,\n",
              "     'sharpe': 0,\n",
              "     'trade_dur_avg': 0,\n",
              "     'trade_dur_min': 0,\n",
              "     'trade_dur_max': 0,\n",
              "     'buy_hold': 1.4262599962804536}}},\n",
              "  'profit_2': {'3272:4250': {0: {'n_trades': 226,\n",
              "     'n_wins': 110,\n",
              "     'n_losses': 116,\n",
              "     'win_percentage': 48.67256637168141,\n",
              "     'cumulative_return': 0.9230220131481297,\n",
              "     'sortino': 0.2782534012182637,\n",
              "     'max_drawdown': -46.87193029159641,\n",
              "     'sharpe': 0.1986855426602135,\n",
              "     'trade_dur_avg': 3.327433628318584,\n",
              "     'trade_dur_min': 2,\n",
              "     'trade_dur_max': 6,\n",
              "     'buy_hold': 1.4262599962804536}}},\n",
              "  'random': {'3272:4250': {0: {'n_trades': 243,\n",
              "     'n_wins': 133,\n",
              "     'n_losses': 109,\n",
              "     'win_percentage': 54.73251028806584,\n",
              "     'cumulative_return': 1.0951648098260853,\n",
              "     'sortino': 0.6426954327411027,\n",
              "     'max_drawdown': -41.9675505406372,\n",
              "     'sharpe': 0.43832455968121814,\n",
              "     'trade_dur_avg': 2.016460905349794,\n",
              "     'trade_dur_min': 1,\n",
              "     'trade_dur_max': 10,\n",
              "     'buy_hold': 1.4262599962804536},\n",
              "    1: {'n_trades': 243,\n",
              "     'n_wins': 129,\n",
              "     'n_losses': 113,\n",
              "     'win_percentage': 53.086419753086425,\n",
              "     'cumulative_return': 0.7990802105509243,\n",
              "     'sortino': -0.24859530546526068,\n",
              "     'max_drawdown': -55.00924596851937,\n",
              "     'sharpe': -0.19012372069364075,\n",
              "     'trade_dur_avg': 2.0123456790123457,\n",
              "     'trade_dur_min': 1,\n",
              "     'trade_dur_max': 9,\n",
              "     'buy_hold': 1.4262599962804536},\n",
              "    2: {'n_trades': 244,\n",
              "     'n_wins': 126,\n",
              "     'n_losses': 118,\n",
              "     'win_percentage': 51.63934426229508,\n",
              "     'cumulative_return': 1.0506757587221347,\n",
              "     'sortino': 0.4946887724802254,\n",
              "     'max_drawdown': -44.543854707555234,\n",
              "     'sharpe': 0.3632571122478929,\n",
              "     'trade_dur_avg': 1.9877049180327868,\n",
              "     'trade_dur_min': 1,\n",
              "     'trade_dur_max': 10,\n",
              "     'buy_hold': 1.4262599962804536},\n",
              "    3: {'n_trades': 240,\n",
              "     'n_wins': 114,\n",
              "     'n_losses': 124,\n",
              "     'win_percentage': 47.5,\n",
              "     'cumulative_return': 0.5801655266196961,\n",
              "     'sortino': -0.9692117950621137,\n",
              "     'max_drawdown': -60.75052818023599,\n",
              "     'sharpe': -0.7251978626906939,\n",
              "     'trade_dur_avg': 2.0541666666666667,\n",
              "     'trade_dur_min': 1,\n",
              "     'trade_dur_max': 9,\n",
              "     'buy_hold': 1.4262599962804536},\n",
              "    4: {'n_trades': 241,\n",
              "     'n_wins': 126,\n",
              "     'n_losses': 115,\n",
              "     'win_percentage': 52.282157676348554,\n",
              "     'cumulative_return': 0.8569057878344357,\n",
              "     'sortino': -0.05126235163595875,\n",
              "     'max_drawdown': -44.65193013603512,\n",
              "     'sharpe': -0.03766556211354573,\n",
              "     'trade_dur_avg': 2.0622406639004147,\n",
              "     'trade_dur_min': 1,\n",
              "     'trade_dur_max': 9,\n",
              "     'buy_hold': 1.4262599962804536}}}},\n",
              " 'GOOGL': {'profit_1': {'3272:4250': {0: {'n_trades': 0,\n",
              "     'n_wins': 0,\n",
              "     'n_losses': 0,\n",
              "     'win_percentage': 0,\n",
              "     'cumulative_return': 0,\n",
              "     'sortino': 0,\n",
              "     'max_drawdown': 0,\n",
              "     'sharpe': 0,\n",
              "     'trade_dur_avg': 0,\n",
              "     'trade_dur_min': 0,\n",
              "     'trade_dur_max': 0,\n",
              "     'buy_hold': 1.8573509933774832}}},\n",
              "  'profit_2': {'3272:4250': {0: {'n_trades': 162,\n",
              "     'n_wins': 93,\n",
              "     'n_losses': 68,\n",
              "     'win_percentage': 57.407407407407405,\n",
              "     'cumulative_return': 2.191306103946229,\n",
              "     'sortino': 3.288299568505259,\n",
              "     'max_drawdown': -40.63777220209851,\n",
              "     'sharpe': 2.115280560455607,\n",
              "     'trade_dur_avg': 5.037037037037037,\n",
              "     'trade_dur_min': 2,\n",
              "     'trade_dur_max': 9,\n",
              "     'buy_hold': 1.8573509933774832}}},\n",
              "  'random': {'3272:4250': {0: {'n_trades': 227,\n",
              "     'n_wins': 129,\n",
              "     'n_losses': 98,\n",
              "     'win_percentage': 56.82819383259912,\n",
              "     'cumulative_return': 1.2970425134652535,\n",
              "     'sortino': 1.1667727333745217,\n",
              "     'max_drawdown': -43.84414097167081,\n",
              "     'sharpe': 0.808639397203071,\n",
              "     'trade_dur_avg': 2.154185022026432,\n",
              "     'trade_dur_min': 1,\n",
              "     'trade_dur_max': 9,\n",
              "     'buy_hold': 1.8573509933774832},\n",
              "    1: {'n_trades': 241,\n",
              "     'n_wins': 137,\n",
              "     'n_losses': 103,\n",
              "     'win_percentage': 56.84647302904564,\n",
              "     'cumulative_return': 1.4992892338669253,\n",
              "     'sortino': 1.7005264982213137,\n",
              "     'max_drawdown': -34.587741618939106,\n",
              "     'sharpe': 1.1837531302541175,\n",
              "     'trade_dur_avg': 1.983402489626556,\n",
              "     'trade_dur_min': 1,\n",
              "     'trade_dur_max': 14,\n",
              "     'buy_hold': 1.8573509933774832},\n",
              "    2: {'n_trades': 244,\n",
              "     'n_wins': 129,\n",
              "     'n_losses': 115,\n",
              "     'win_percentage': 52.86885245901639,\n",
              "     'cumulative_return': 1.8257791026574373,\n",
              "     'sortino': 2.2982193319151234,\n",
              "     'max_drawdown': -28.500646045786617,\n",
              "     'sharpe': 1.5169768204606424,\n",
              "     'trade_dur_avg': 1.9877049180327868,\n",
              "     'trade_dur_min': 1,\n",
              "     'trade_dur_max': 10,\n",
              "     'buy_hold': 1.8573509933774832},\n",
              "    3: {'n_trades': 245,\n",
              "     'n_wins': 139,\n",
              "     'n_losses': 106,\n",
              "     'win_percentage': 56.734693877551024,\n",
              "     'cumulative_return': 1.8873881578220926,\n",
              "     'sortino': 2.554498045585538,\n",
              "     'max_drawdown': -24.878377501059624,\n",
              "     'sharpe': 1.6940264386727162,\n",
              "     'trade_dur_avg': 1.9836734693877551,\n",
              "     'trade_dur_min': 1,\n",
              "     'trade_dur_max': 11,\n",
              "     'buy_hold': 1.8573509933774832},\n",
              "    4: {'n_trades': 246,\n",
              "     'n_wins': 139,\n",
              "     'n_losses': 106,\n",
              "     'win_percentage': 56.50406504065041,\n",
              "     'cumulative_return': 1.9745354748042894,\n",
              "     'sortino': 2.9593951781423615,\n",
              "     'max_drawdown': -29.85541809772545,\n",
              "     'sharpe': 1.8233818991160906,\n",
              "     'trade_dur_avg': 1.9552845528455285,\n",
              "     'trade_dur_min': 1,\n",
              "     'trade_dur_max': 8,\n",
              "     'buy_hold': 1.8573509933774832}}}},\n",
              " 'MSFT': {'profit_1': {'3272:4250': {0: {'n_trades': 0,\n",
              "     'n_wins': 0,\n",
              "     'n_losses': 0,\n",
              "     'win_percentage': 0,\n",
              "     'cumulative_return': 0,\n",
              "     'sortino': 0,\n",
              "     'max_drawdown': 0,\n",
              "     'sharpe': 0,\n",
              "     'trade_dur_avg': 0,\n",
              "     'trade_dur_min': 0,\n",
              "     'trade_dur_max': 0,\n",
              "     'buy_hold': 2.034699631316417}}},\n",
              "  'profit_2': {'3272:4250': {0: {'n_trades': 145,\n",
              "     'n_wins': 89,\n",
              "     'n_losses': 56,\n",
              "     'win_percentage': 61.37931034482759,\n",
              "     'cumulative_return': 2.090804324124222,\n",
              "     'sortino': 3.51962346158588,\n",
              "     'max_drawdown': -28.47505735061835,\n",
              "     'sharpe': 2.2588996553507985,\n",
              "     'trade_dur_avg': 5.744827586206896,\n",
              "     'trade_dur_min': 2,\n",
              "     'trade_dur_max': 11,\n",
              "     'buy_hold': 2.034699631316417}}},\n",
              "  'random': {'3272:4250': {0: {'n_trades': 249,\n",
              "     'n_wins': 135,\n",
              "     'n_losses': 114,\n",
              "     'win_percentage': 54.21686746987952,\n",
              "     'cumulative_return': 1.574332547696028,\n",
              "     'sortino': 1.8558000479907228,\n",
              "     'max_drawdown': -30.198018524180238,\n",
              "     'sharpe': 1.265360137504121,\n",
              "     'trade_dur_avg': 2.0,\n",
              "     'trade_dur_min': 1,\n",
              "     'trade_dur_max': 7,\n",
              "     'buy_hold': 2.034699631316417},\n",
              "    1: {'n_trades': 247,\n",
              "     'n_wins': 143,\n",
              "     'n_losses': 104,\n",
              "     'win_percentage': 57.89473684210527,\n",
              "     'cumulative_return': 1.6078954669652685,\n",
              "     'sortino': 2.1441002346396667,\n",
              "     'max_drawdown': -23.713458236760733,\n",
              "     'sharpe': 1.4756262969126634,\n",
              "     'trade_dur_avg': 1.9757085020242915,\n",
              "     'trade_dur_min': 1,\n",
              "     'trade_dur_max': 10,\n",
              "     'buy_hold': 2.034699631316417},\n",
              "    2: {'n_trades': 232,\n",
              "     'n_wins': 120,\n",
              "     'n_losses': 112,\n",
              "     'win_percentage': 51.724137931034484,\n",
              "     'cumulative_return': 1.0393372720960092,\n",
              "     'sortino': 0.45645079861244825,\n",
              "     'max_drawdown': -45.420215016644065,\n",
              "     'sharpe': 0.3089714038440083,\n",
              "     'trade_dur_avg': 2.1379310344827585,\n",
              "     'trade_dur_min': 1,\n",
              "     'trade_dur_max': 11,\n",
              "     'buy_hold': 2.034699631316417},\n",
              "    3: {'n_trades': 243,\n",
              "     'n_wins': 126,\n",
              "     'n_losses': 117,\n",
              "     'win_percentage': 51.85185185185185,\n",
              "     'cumulative_return': 0.93836123292202,\n",
              "     'sortino': 0.06812066097249227,\n",
              "     'max_drawdown': -36.9063471749422,\n",
              "     'sharpe': 0.0498824257626448,\n",
              "     'trade_dur_avg': 2.0329218106995883,\n",
              "     'trade_dur_min': 1,\n",
              "     'trade_dur_max': 8,\n",
              "     'buy_hold': 2.034699631316417},\n",
              "    4: {'n_trades': 237,\n",
              "     'n_wins': 123,\n",
              "     'n_losses': 114,\n",
              "     'win_percentage': 51.89873417721519,\n",
              "     'cumulative_return': 1.5821800331565758,\n",
              "     'sortino': 2.1707985497411464,\n",
              "     'max_drawdown': -20.482484344540197,\n",
              "     'sharpe': 1.360781868040151,\n",
              "     'trade_dur_avg': 2.0928270042194095,\n",
              "     'trade_dur_min': 1,\n",
              "     'trade_dur_max': 12,\n",
              "     'buy_hold': 2.034699631316417}}}},\n",
              " 'FORD': {'profit_1': {'3272:4250': {0: {'n_trades': 0,\n",
              "     'n_wins': 0,\n",
              "     'n_losses': 0,\n",
              "     'win_percentage': 0,\n",
              "     'cumulative_return': 0,\n",
              "     'sortino': 0,\n",
              "     'max_drawdown': 0,\n",
              "     'sharpe': 0,\n",
              "     'trade_dur_avg': 0,\n",
              "     'trade_dur_min': 0,\n",
              "     'trade_dur_max': 0,\n",
              "     'buy_hold': 1.5234567901234568}}},\n",
              "  'profit_2': {'3272:4250': {0: {'n_trades': 449,\n",
              "     'n_wins': 218,\n",
              "     'n_losses': 226,\n",
              "     'win_percentage': 48.55233853006681,\n",
              "     'cumulative_return': 1.2739821254585677,\n",
              "     'sortino': 0.795787943306293,\n",
              "     'max_drawdown': -57.390638177768295,\n",
              "     'sharpe': 0.5169113015656462,\n",
              "     'trade_dur_avg': 1.175946547884187,\n",
              "     'trade_dur_min': 1,\n",
              "     'trade_dur_max': 5,\n",
              "     'buy_hold': 1.5234567901234568}}},\n",
              "  'random': {'3272:4250': {0: {'n_trades': 245,\n",
              "     'n_wins': 118,\n",
              "     'n_losses': 121,\n",
              "     'win_percentage': 48.16326530612245,\n",
              "     'cumulative_return': 1.4675777269255321,\n",
              "     'sortino': 1.420796046348172,\n",
              "     'max_drawdown': -36.35349313806668,\n",
              "     'sharpe': 0.9332076402571259,\n",
              "     'trade_dur_avg': 2.0448979591836736,\n",
              "     'trade_dur_min': 1,\n",
              "     'trade_dur_max': 8,\n",
              "     'buy_hold': 1.5234567901234568},\n",
              "    1: {'n_trades': 246,\n",
              "     'n_wins': 121,\n",
              "     'n_losses': 122,\n",
              "     'win_percentage': 49.1869918699187,\n",
              "     'cumulative_return': 1.7539536639646753,\n",
              "     'sortino': 2.0689291055957444,\n",
              "     'max_drawdown': -58.82837817023935,\n",
              "     'sharpe': 1.133840010834445,\n",
              "     'trade_dur_avg': 1.9308943089430894,\n",
              "     'trade_dur_min': 1,\n",
              "     'trade_dur_max': 7,\n",
              "     'buy_hold': 1.5234567901234568},\n",
              "    2: {'n_trades': 264,\n",
              "     'n_wins': 136,\n",
              "     'n_losses': 126,\n",
              "     'win_percentage': 51.515151515151516,\n",
              "     'cumulative_return': 1.5870159721488906,\n",
              "     'sortino': 1.506287738199032,\n",
              "     'max_drawdown': -46.774783096634145,\n",
              "     'sharpe': 0.9990497116998746,\n",
              "     'trade_dur_avg': 1.871212121212121,\n",
              "     'trade_dur_min': 1,\n",
              "     'trade_dur_max': 8,\n",
              "     'buy_hold': 1.5234567901234568},\n",
              "    3: {'n_trades': 245,\n",
              "     'n_wins': 125,\n",
              "     'n_losses': 117,\n",
              "     'win_percentage': 51.02040816326531,\n",
              "     'cumulative_return': 0.9243712296918771,\n",
              "     'sortino': 0.341609085266126,\n",
              "     'max_drawdown': -63.414537043981056,\n",
              "     'sharpe': 0.24240898222229026,\n",
              "     'trade_dur_avg': 1.9918367346938775,\n",
              "     'trade_dur_min': 1,\n",
              "     'trade_dur_max': 8,\n",
              "     'buy_hold': 1.5234567901234568},\n",
              "    4: {'n_trades': 241,\n",
              "     'n_wins': 123,\n",
              "     'n_losses': 117,\n",
              "     'win_percentage': 51.037344398340245,\n",
              "     'cumulative_return': 1.686286885092459,\n",
              "     'sortino': 1.9351364606426016,\n",
              "     'max_drawdown': -31.98898567086932,\n",
              "     'sharpe': 1.1561963029717452,\n",
              "     'trade_dur_avg': 2.0497925311203318,\n",
              "     'trade_dur_min': 1,\n",
              "     'trade_dur_max': 8,\n",
              "     'buy_hold': 1.5234567901234568}}}},\n",
              " 'JNJ': {'profit_1': {'3272:4250': {0: {'n_trades': 0,\n",
              "     'n_wins': 0,\n",
              "     'n_losses': 0,\n",
              "     'win_percentage': 0,\n",
              "     'cumulative_return': 0,\n",
              "     'sortino': 0,\n",
              "     'max_drawdown': 0,\n",
              "     'sharpe': 0,\n",
              "     'trade_dur_avg': 0,\n",
              "     'trade_dur_min': 0,\n",
              "     'trade_dur_max': 0,\n",
              "     'buy_hold': 1.0301993552207382}}},\n",
              "  'profit_2': {'3272:4250': {0: {'n_trades': 258,\n",
              "     'n_wins': 126,\n",
              "     'n_losses': 132,\n",
              "     'win_percentage': 48.837209302325576,\n",
              "     'cumulative_return': 0.7078067907840998,\n",
              "     'sortino': -1.1100186353171453,\n",
              "     'max_drawdown': -30.295155922709682,\n",
              "     'sharpe': -0.8134076797091051,\n",
              "     'trade_dur_avg': 2.7906976744186047,\n",
              "     'trade_dur_min': 1,\n",
              "     'trade_dur_max': 4,\n",
              "     'buy_hold': 1.0301993552207382}}},\n",
              "  'random': {'3272:4250': {0: {'n_trades': 247,\n",
              "     'n_wins': 127,\n",
              "     'n_losses': 120,\n",
              "     'win_percentage': 51.417004048582996,\n",
              "     'cumulative_return': 0.9404443902058386,\n",
              "     'sortino': -0.19772435807149336,\n",
              "     'max_drawdown': -29.05626684687177,\n",
              "     'sharpe': -0.13763534173656577,\n",
              "     'trade_dur_avg': 1.9230769230769231,\n",
              "     'trade_dur_min': 1,\n",
              "     'trade_dur_max': 10,\n",
              "     'buy_hold': 1.0301993552207382},\n",
              "    1: {'n_trades': 231,\n",
              "     'n_wins': 122,\n",
              "     'n_losses': 109,\n",
              "     'win_percentage': 52.81385281385281,\n",
              "     'cumulative_return': 1.4361358942716107,\n",
              "     'sortino': 2.4175907295684844,\n",
              "     'max_drawdown': -11.853404798791068,\n",
              "     'sharpe': 1.5358105970589107,\n",
              "     'trade_dur_avg': 2.051948051948052,\n",
              "     'trade_dur_min': 1,\n",
              "     'trade_dur_max': 10,\n",
              "     'buy_hold': 1.0301993552207382},\n",
              "    2: {'n_trades': 233,\n",
              "     'n_wins': 121,\n",
              "     'n_losses': 111,\n",
              "     'win_percentage': 51.931330472103,\n",
              "     'cumulative_return': 1.1177911036897068,\n",
              "     'sortino': 0.8853980684198728,\n",
              "     'max_drawdown': -21.115823615027907,\n",
              "     'sharpe': 0.5924154304696185,\n",
              "     'trade_dur_avg': 2.244635193133047,\n",
              "     'trade_dur_min': 1,\n",
              "     'trade_dur_max': 10,\n",
              "     'buy_hold': 1.0301993552207382},\n",
              "    3: {'n_trades': 239,\n",
              "     'n_wins': 123,\n",
              "     'n_losses': 116,\n",
              "     'win_percentage': 51.46443514644351,\n",
              "     'cumulative_return': 0.7431688619136878,\n",
              "     'sortino': -1.2510893228527173,\n",
              "     'max_drawdown': -28.488436414123285,\n",
              "     'sharpe': -0.976326239454954,\n",
              "     'trade_dur_avg': 2.0418410041841004,\n",
              "     'trade_dur_min': 1,\n",
              "     'trade_dur_max': 8,\n",
              "     'buy_hold': 1.0301993552207382},\n",
              "    4: {'n_trades': 250,\n",
              "     'n_wins': 116,\n",
              "     'n_losses': 134,\n",
              "     'win_percentage': 46.400000000000006,\n",
              "     'cumulative_return': 0.5783280929480382,\n",
              "     'sortino': -2.1368234849171865,\n",
              "     'max_drawdown': -42.794088991801004,\n",
              "     'sharpe': -1.8589355624126445,\n",
              "     'trade_dur_avg': 1.9,\n",
              "     'trade_dur_min': 1,\n",
              "     'trade_dur_max': 9,\n",
              "     'buy_hold': 1.0301993552207382}}}},\n",
              " 'NEE': {'profit_1': {'3272:4250': {0: {'n_trades': 0,\n",
              "     'n_wins': 0,\n",
              "     'n_losses': 0,\n",
              "     'win_percentage': 0,\n",
              "     'cumulative_return': 0,\n",
              "     'sortino': 0,\n",
              "     'max_drawdown': 0,\n",
              "     'sharpe': 0,\n",
              "     'trade_dur_avg': 0,\n",
              "     'trade_dur_min': 0,\n",
              "     'trade_dur_max': 0,\n",
              "     'buy_hold': 0.8968253968253967}}},\n",
              "  'profit_2': {'3272:4250': {0: {'n_trades': 210,\n",
              "     'n_wins': 103,\n",
              "     'n_losses': 107,\n",
              "     'win_percentage': 49.047619047619044,\n",
              "     'cumulative_return': 0.5943974730167019,\n",
              "     'sortino': -0.8834801862095645,\n",
              "     'max_drawdown': -48.137273742014166,\n",
              "     'sharpe': -0.6797295939676161,\n",
              "     'trade_dur_avg': 3.657142857142857,\n",
              "     'trade_dur_min': 1,\n",
              "     'trade_dur_max': 6,\n",
              "     'buy_hold': 0.8968253968253967}}},\n",
              "  'random': {'3272:4250': {0: {'n_trades': 257,\n",
              "     'n_wins': 132,\n",
              "     'n_losses': 124,\n",
              "     'win_percentage': 51.36186770428015,\n",
              "     'cumulative_return': 0.9056792376572257,\n",
              "     'sortino': -0.05774861789677007,\n",
              "     'max_drawdown': -27.18411283400971,\n",
              "     'sharpe': -0.04133514080118414,\n",
              "     'trade_dur_avg': 1.9182879377431907,\n",
              "     'trade_dur_min': 1,\n",
              "     'trade_dur_max': 7,\n",
              "     'buy_hold': 0.8968253968253967},\n",
              "    1: {'n_trades': 236,\n",
              "     'n_wins': 119,\n",
              "     'n_losses': 117,\n",
              "     'win_percentage': 50.42372881355932,\n",
              "     'cumulative_return': 0.6596294594583602,\n",
              "     'sortino': -1.0618139793876944,\n",
              "     'max_drawdown': -36.347768512910484,\n",
              "     'sharpe': -0.8715379410552235,\n",
              "     'trade_dur_avg': 2.016949152542373,\n",
              "     'trade_dur_min': 1,\n",
              "     'trade_dur_max': 8,\n",
              "     'buy_hold': 0.8968253968253967},\n",
              "    2: {'n_trades': 252,\n",
              "     'n_wins': 135,\n",
              "     'n_losses': 117,\n",
              "     'win_percentage': 53.57142857142857,\n",
              "     'cumulative_return': 1.1753974726829381,\n",
              "     'sortino': 0.869549437316173,\n",
              "     'max_drawdown': -38.01543170689072,\n",
              "     'sharpe': 0.6003752510869386,\n",
              "     'trade_dur_avg': 1.8452380952380953,\n",
              "     'trade_dur_min': 1,\n",
              "     'trade_dur_max': 9,\n",
              "     'buy_hold': 0.8968253968253967},\n",
              "    3: {'n_trades': 251,\n",
              "     'n_wins': 124,\n",
              "     'n_losses': 127,\n",
              "     'win_percentage': 49.40239043824701,\n",
              "     'cumulative_return': 0.48889362133390235,\n",
              "     'sortino': -1.7261365936141557,\n",
              "     'max_drawdown': -54.05478245259282,\n",
              "     'sharpe': -1.428455792791309,\n",
              "     'trade_dur_avg': 2.00398406374502,\n",
              "     'trade_dur_min': 1,\n",
              "     'trade_dur_max': 8,\n",
              "     'buy_hold': 0.8968253968253967},\n",
              "    4: {'n_trades': 238,\n",
              "     'n_wins': 130,\n",
              "     'n_losses': 108,\n",
              "     'win_percentage': 54.621848739495796,\n",
              "     'cumulative_return': 0.9209777374104295,\n",
              "     'sortino': 0.09409526537127307,\n",
              "     'max_drawdown': -37.062798740798165,\n",
              "     'sharpe': 0.07566720623456472,\n",
              "     'trade_dur_avg': 2.088235294117647,\n",
              "     'trade_dur_min': 1,\n",
              "     'trade_dur_max': 13,\n",
              "     'buy_hold': 0.8968253968253967}}}},\n",
              " 'PFE': {'profit_1': {'3272:4250': {0: {'n_trades': 0,\n",
              "     'n_wins': 0,\n",
              "     'n_losses': 0,\n",
              "     'win_percentage': 0,\n",
              "     'cumulative_return': 0,\n",
              "     'sortino': 0,\n",
              "     'max_drawdown': 0,\n",
              "     'sharpe': 0,\n",
              "     'trade_dur_avg': 0,\n",
              "     'trade_dur_min': 0,\n",
              "     'trade_dur_max': 0,\n",
              "     'buy_hold': 0.7966242390702822}}},\n",
              "  'profit_2': {'3272:4250': {0: {'n_trades': 287,\n",
              "     'n_wins': 130,\n",
              "     'n_losses': 155,\n",
              "     'win_percentage': 45.29616724738676,\n",
              "     'cumulative_return': 0.6172375549817604,\n",
              "     'sortino': -1.0829898534000693,\n",
              "     'max_drawdown': -58.13920630692334,\n",
              "     'sharpe': -0.7538904282930846,\n",
              "     'trade_dur_avg': 2.4041811846689893,\n",
              "     'trade_dur_min': 1,\n",
              "     'trade_dur_max': 6,\n",
              "     'buy_hold': 0.7966242390702822}}},\n",
              "  'random': {'3272:4250': {0: {'n_trades': 252,\n",
              "     'n_wins': 120,\n",
              "     'n_losses': 130,\n",
              "     'win_percentage': 47.61904761904761,\n",
              "     'cumulative_return': 1.027535512973744,\n",
              "     'sortino': 0.38304807956356707,\n",
              "     'max_drawdown': -32.98769779864791,\n",
              "     'sharpe': 0.2615360227784635,\n",
              "     'trade_dur_avg': 1.8968253968253967,\n",
              "     'trade_dur_min': 1,\n",
              "     'trade_dur_max': 6,\n",
              "     'buy_hold': 0.7966242390702822},\n",
              "    1: {'n_trades': 252,\n",
              "     'n_wins': 119,\n",
              "     'n_losses': 132,\n",
              "     'win_percentage': 47.22222222222222,\n",
              "     'cumulative_return': 1.0822139926642076,\n",
              "     'sortino': 0.5876649955272624,\n",
              "     'max_drawdown': -24.11493699410202,\n",
              "     'sharpe': 0.39840198554374573,\n",
              "     'trade_dur_avg': 1.876984126984127,\n",
              "     'trade_dur_min': 1,\n",
              "     'trade_dur_max': 8,\n",
              "     'buy_hold': 0.7966242390702822},\n",
              "    2: {'n_trades': 234,\n",
              "     'n_wins': 109,\n",
              "     'n_losses': 122,\n",
              "     'win_percentage': 46.58119658119658,\n",
              "     'cumulative_return': 1.0960149173044247,\n",
              "     'sortino': 0.6191522988369331,\n",
              "     'max_drawdown': -32.64590980875156,\n",
              "     'sharpe': 0.44813067985810706,\n",
              "     'trade_dur_avg': 2.158119658119658,\n",
              "     'trade_dur_min': 1,\n",
              "     'trade_dur_max': 9,\n",
              "     'buy_hold': 0.7966242390702822},\n",
              "    3: {'n_trades': 234,\n",
              "     'n_wins': 100,\n",
              "     'n_losses': 133,\n",
              "     'win_percentage': 42.73504273504273,\n",
              "     'cumulative_return': 1.2208388769247622,\n",
              "     'sortino': 1.2020008168592813,\n",
              "     'max_drawdown': -30.174460837962215,\n",
              "     'sharpe': 0.7151076486423523,\n",
              "     'trade_dur_avg': 2.051282051282051,\n",
              "     'trade_dur_min': 1,\n",
              "     'trade_dur_max': 7,\n",
              "     'buy_hold': 0.7966242390702822},\n",
              "    4: {'n_trades': 259,\n",
              "     'n_wins': 116,\n",
              "     'n_losses': 142,\n",
              "     'win_percentage': 44.78764478764479,\n",
              "     'cumulative_return': 0.8568560763356284,\n",
              "     'sortino': -0.3518996736604163,\n",
              "     'max_drawdown': -36.2751106896008,\n",
              "     'sharpe': -0.2479217718322141,\n",
              "     'trade_dur_avg': 1.7953667953667953,\n",
              "     'trade_dur_min': 1,\n",
              "     'trade_dur_max': 9,\n",
              "     'buy_hold': 0.7966242390702822}}}},\n",
              " 'TSLA': {'profit_1': {'2394:3372': {0: {'n_trades': 0,\n",
              "     'n_wins': 0,\n",
              "     'n_losses': 0,\n",
              "     'win_percentage': 0,\n",
              "     'cumulative_return': 0,\n",
              "     'sortino': 0,\n",
              "     'max_drawdown': 0,\n",
              "     'sharpe': 0,\n",
              "     'trade_dur_avg': 0,\n",
              "     'trade_dur_min': 0,\n",
              "     'trade_dur_max': 0,\n",
              "     'buy_hold': 4.903738136742204}}},\n",
              "  'profit_2': {'2394:3372': {0: {'n_trades': 124,\n",
              "     'n_wins': 70,\n",
              "     'n_losses': 54,\n",
              "     'win_percentage': 56.451612903225815,\n",
              "     'cumulative_return': 4.15904539560722,\n",
              "     'sortino': 4.123542044299535,\n",
              "     'max_drawdown': -66.80751636308773,\n",
              "     'sharpe': 2.475274734446965,\n",
              "     'trade_dur_avg': 6.887096774193548,\n",
              "     'trade_dur_min': 1,\n",
              "     'trade_dur_max': 33,\n",
              "     'buy_hold': 4.903738136742204}}},\n",
              "  'random': {'2394:3372': {0: {'n_trades': 242,\n",
              "     'n_wins': 135,\n",
              "     'n_losses': 107,\n",
              "     'win_percentage': 55.78512396694215,\n",
              "     'cumulative_return': 1.3679638775985947,\n",
              "     'sortino': 1.1767568584170394,\n",
              "     'max_drawdown': -69.31374718827878,\n",
              "     'sharpe': 0.8298159030365797,\n",
              "     'trade_dur_avg': 1.9710743801652892,\n",
              "     'trade_dur_min': 1,\n",
              "     'trade_dur_max': 9,\n",
              "     'buy_hold': 4.903738136742204},\n",
              "    1: {'n_trades': 232,\n",
              "     'n_wins': 117,\n",
              "     'n_losses': 114,\n",
              "     'win_percentage': 50.43103448275862,\n",
              "     'cumulative_return': 0.2987794787687074,\n",
              "     'sortino': -1.1939453277927194,\n",
              "     'max_drawdown': -78.84863650703372,\n",
              "     'sharpe': -0.9211955784914252,\n",
              "     'trade_dur_avg': 1.8922413793103448,\n",
              "     'trade_dur_min': 1,\n",
              "     'trade_dur_max': 10,\n",
              "     'buy_hold': 4.903738136742204},\n",
              "    2: {'n_trades': 233,\n",
              "     'n_wins': 119,\n",
              "     'n_losses': 114,\n",
              "     'win_percentage': 51.072961373390555,\n",
              "     'cumulative_return': 1.3441587662157901,\n",
              "     'sortino': 1.2327553420944275,\n",
              "     'max_drawdown': -78.88793393552466,\n",
              "     'sharpe': 0.8200537643074698,\n",
              "     'trade_dur_avg': 2.2145922746781115,\n",
              "     'trade_dur_min': 1,\n",
              "     'trade_dur_max': 8,\n",
              "     'buy_hold': 4.903738136742204},\n",
              "    3: {'n_trades': 247,\n",
              "     'n_wins': 131,\n",
              "     'n_losses': 116,\n",
              "     'win_percentage': 53.036437246963565,\n",
              "     'cumulative_return': 5.659679732790771,\n",
              "     'sortino': 4.012141915338958,\n",
              "     'max_drawdown': -64.97246733029769,\n",
              "     'sharpe': 2.260259615705162,\n",
              "     'trade_dur_avg': 1.9716599190283401,\n",
              "     'trade_dur_min': 1,\n",
              "     'trade_dur_max': 8,\n",
              "     'buy_hold': 4.903738136742204},\n",
              "    4: {'n_trades': 241,\n",
              "     'n_wins': 123,\n",
              "     'n_losses': 117,\n",
              "     'win_percentage': 51.037344398340245,\n",
              "     'cumulative_return': 1.27689245230079,\n",
              "     'sortino': 1.1111155989781443,\n",
              "     'max_drawdown': -58.497211037052146,\n",
              "     'sharpe': 0.731286376729685,\n",
              "     'trade_dur_avg': 2.1659751037344397,\n",
              "     'trade_dur_min': 1,\n",
              "     'trade_dur_max': 8,\n",
              "     'buy_hold': 4.903738136742204}}}},\n",
              " 'COKE': {'profit_1': {'3272:4250': {0: {'n_trades': 0,\n",
              "     'n_wins': 0,\n",
              "     'n_losses': 0,\n",
              "     'win_percentage': 0,\n",
              "     'cumulative_return': 0,\n",
              "     'sortino': 0,\n",
              "     'max_drawdown': 0,\n",
              "     'sharpe': 0,\n",
              "     'trade_dur_avg': 0,\n",
              "     'trade_dur_min': 0,\n",
              "     'trade_dur_max': 0,\n",
              "     'buy_hold': 3.3071033602722246}}},\n",
              "  'profit_2': {'3272:4250': {0: {'n_trades': 187,\n",
              "     'n_wins': 94,\n",
              "     'n_losses': 93,\n",
              "     'win_percentage': 50.26737967914438,\n",
              "     'cumulative_return': 3.1535732091427704,\n",
              "     'sortino': 4.1821047078374285,\n",
              "     'max_drawdown': -36.28093336458599,\n",
              "     'sharpe': 2.30804432089133,\n",
              "     'trade_dur_avg': 4.229946524064171,\n",
              "     'trade_dur_min': 1,\n",
              "     'trade_dur_max': 16,\n",
              "     'buy_hold': 3.3071033602722246}}},\n",
              "  'random': {'3272:4250': {0: {'n_trades': 244,\n",
              "     'n_wins': 133,\n",
              "     'n_losses': 111,\n",
              "     'win_percentage': 54.50819672131148,\n",
              "     'cumulative_return': 3.028150962381745,\n",
              "     'sortino': 4.210829850708629,\n",
              "     'max_drawdown': -25.73662919038148,\n",
              "     'sharpe': 2.1307702803302067,\n",
              "     'trade_dur_avg': 1.7950819672131149,\n",
              "     'trade_dur_min': 1,\n",
              "     'trade_dur_max': 7,\n",
              "     'buy_hold': 3.3071033602722246},\n",
              "    1: {'n_trades': 249,\n",
              "     'n_wins': 126,\n",
              "     'n_losses': 123,\n",
              "     'win_percentage': 50.602409638554214,\n",
              "     'cumulative_return': 1.9991338418416458,\n",
              "     'sortino': 2.8784718985249187,\n",
              "     'max_drawdown': -30.252354331952226,\n",
              "     'sharpe': 1.6017996537142039,\n",
              "     'trade_dur_avg': 2.0080321285140563,\n",
              "     'trade_dur_min': 1,\n",
              "     'trade_dur_max': 13,\n",
              "     'buy_hold': 3.3071033602722246},\n",
              "    2: {'n_trades': 269,\n",
              "     'n_wins': 126,\n",
              "     'n_losses': 143,\n",
              "     'win_percentage': 46.84014869888476,\n",
              "     'cumulative_return': 1.1065404945240769,\n",
              "     'sortino': 0.7230449685914049,\n",
              "     'max_drawdown': -51.14055290002981,\n",
              "     'sharpe': 0.45908639067870277,\n",
              "     'trade_dur_avg': 1.8364312267657992,\n",
              "     'trade_dur_min': 1,\n",
              "     'trade_dur_max': 8,\n",
              "     'buy_hold': 3.3071033602722246},\n",
              "    3: {'n_trades': 248,\n",
              "     'n_wins': 132,\n",
              "     'n_losses': 115,\n",
              "     'win_percentage': 53.2258064516129,\n",
              "     'cumulative_return': 2.299997123974194,\n",
              "     'sortino': 2.949458061348647,\n",
              "     'max_drawdown': -27.434010061032556,\n",
              "     'sharpe': 1.7739891528606215,\n",
              "     'trade_dur_avg': 2.0120967741935485,\n",
              "     'trade_dur_min': 1,\n",
              "     'trade_dur_max': 9,\n",
              "     'buy_hold': 3.3071033602722246},\n",
              "    4: {'n_trades': 254,\n",
              "     'n_wins': 133,\n",
              "     'n_losses': 121,\n",
              "     'win_percentage': 52.362204724409445,\n",
              "     'cumulative_return': 1.9829364280959563,\n",
              "     'sortino': 2.35781977617993,\n",
              "     'max_drawdown': -26.044722172924185,\n",
              "     'sharpe': 1.4844987264520904,\n",
              "     'trade_dur_avg': 1.9645669291338583,\n",
              "     'trade_dur_min': 1,\n",
              "     'trade_dur_max': 12,\n",
              "     'buy_hold': 3.3071033602722246}}}},\n",
              " 'PG': {'profit_1': {'3272:4250': {0: {'n_trades': 0,\n",
              "     'n_wins': 0,\n",
              "     'n_losses': 0,\n",
              "     'win_percentage': 0,\n",
              "     'cumulative_return': 0,\n",
              "     'sortino': 0,\n",
              "     'max_drawdown': 0,\n",
              "     'sharpe': 0,\n",
              "     'trade_dur_avg': 0,\n",
              "     'trade_dur_min': 0,\n",
              "     'trade_dur_max': 0,\n",
              "     'buy_hold': 1.1737274484536082}}},\n",
              "  'profit_2': {'3272:4250': {0: {'n_trades': 192,\n",
              "     'n_wins': 108,\n",
              "     'n_losses': 84,\n",
              "     'win_percentage': 56.25,\n",
              "     'cumulative_return': 1.0454235095609654,\n",
              "     'sortino': 0.4543396004236077,\n",
              "     'max_drawdown': -31.607254979756437,\n",
              "     'sharpe': 0.3597882686778361,\n",
              "     'trade_dur_avg': 4.09375,\n",
              "     'trade_dur_min': 1,\n",
              "     'trade_dur_max': 6,\n",
              "     'buy_hold': 1.1737274484536082}}},\n",
              "  'random': {'3272:4250': {0: {'n_trades': 259,\n",
              "     'n_wins': 144,\n",
              "     'n_losses': 114,\n",
              "     'win_percentage': 55.5984555984556,\n",
              "     'cumulative_return': 1.0669311768107657,\n",
              "     'sortino': 0.4695512385094163,\n",
              "     'max_drawdown': -24.681374701771198,\n",
              "     'sharpe': 0.3602670056092686,\n",
              "     'trade_dur_avg': 1.8571428571428572,\n",
              "     'trade_dur_min': 1,\n",
              "     'trade_dur_max': 8,\n",
              "     'buy_hold': 1.1737274484536082},\n",
              "    1: {'n_trades': 239,\n",
              "     'n_wins': 129,\n",
              "     'n_losses': 108,\n",
              "     'win_percentage': 53.97489539748954,\n",
              "     'cumulative_return': 0.984080079842886,\n",
              "     'sortino': 0.10753916856178035,\n",
              "     'max_drawdown': -21.959208016819744,\n",
              "     'sharpe': 0.07630523303054067,\n",
              "     'trade_dur_avg': 1.99163179916318,\n",
              "     'trade_dur_min': 1,\n",
              "     'trade_dur_max': 9,\n",
              "     'buy_hold': 1.1737274484536082},\n",
              "    2: {'n_trades': 261,\n",
              "     'n_wins': 144,\n",
              "     'n_losses': 115,\n",
              "     'win_percentage': 55.172413793103445,\n",
              "     'cumulative_return': 1.1916086266852834,\n",
              "     'sortino': 1.0182123785993553,\n",
              "     'max_drawdown': -19.07099425527229,\n",
              "     'sharpe': 0.6810941095294598,\n",
              "     'trade_dur_avg': 1.8237547892720307,\n",
              "     'trade_dur_min': 1,\n",
              "     'trade_dur_max': 7,\n",
              "     'buy_hold': 1.1737274484536082},\n",
              "    3: {'n_trades': 237,\n",
              "     'n_wins': 140,\n",
              "     'n_losses': 96,\n",
              "     'win_percentage': 59.07172995780591,\n",
              "     'cumulative_return': 1.1793525362592026,\n",
              "     'sortino': 0.9985251861041186,\n",
              "     'max_drawdown': -24.571250372441067,\n",
              "     'sharpe': 0.7276523207119884,\n",
              "     'trade_dur_avg': 2.147679324894515,\n",
              "     'trade_dur_min': 1,\n",
              "     'trade_dur_max': 13,\n",
              "     'buy_hold': 1.1737274484536082},\n",
              "    4: {'n_trades': 248,\n",
              "     'n_wins': 146,\n",
              "     'n_losses': 101,\n",
              "     'win_percentage': 58.87096774193549,\n",
              "     'cumulative_return': 1.8791674942420316,\n",
              "     'sortino': 3.7738224060803414,\n",
              "     'max_drawdown': -16.637907978654297,\n",
              "     'sharpe': 2.1679618225965336,\n",
              "     'trade_dur_avg': 1.8830645161290323,\n",
              "     'trade_dur_min': 1,\n",
              "     'trade_dur_max': 8,\n",
              "     'buy_hold': 1.1737274484536082}}}}}"
            ]
          },
          "metadata": {},
          "output_type": "display_data"
        }
      ],
      "source": [
        "if test_agent:\n",
        "    result_dic_struct = ['stock','agent','test_interval','test_num']\n",
        "    results = {}\n",
        "\n",
        "    for key in tst_keys:\n",
        "\n",
        "        # Init Record[Stock]\n",
        "        results[key] = {}\n",
        "        test_key = f'{tst_idx[key][0]}:{tst_idx[key][1]}'\n",
        "        stock_price_data = env_data[key]['rw_raw_price_env'][tst_idx[key][0]:tst_idx[key][1],-1,0]\n",
        "        rl_env = env[key]\n",
        "\n",
        "        for decision_agent, agents_in_setup in agent_setup.items():\n",
        "\n",
        "            # Init Record[Stock][Agent]\n",
        "            results[key][decision_agent] = {}\n",
        "\n",
        "            # Init Record[Stock][Agent][test_interval]\n",
        "            results[key][decision_agent][test_key] = {}   # Different Test Keys will need loop\n",
        "\n",
        "            # Setup agents with environment\n",
        "            rl_env.add_agent(decision_agent)\n",
        "            rl_env.set_decision_agent(decision_agent)   \n",
        "            agents_dic[decision_agent].set_environment(rl_env)\n",
        "\n",
        "            # Enable Randomess if Agent is of class RandomAgent\n",
        "            if isinstance(agents_dic[decision_agent], RandomAgent):\n",
        "                new_random_seed = random.randint(1, 10**9)\n",
        "                set_seed(new_random_seed)\n",
        "\n",
        "            # Save Agent\n",
        "            save_agent_path = save_path_root + f'/{decision_agent}/'\n",
        "            os.makedirs(save_agent_path, exist_ok=True)\n",
        "            file_root_name = f'{key}_TST_{tst_idx[key][0]}-{tst_idx[key][1]}'\n",
        "\n",
        "            # Multi-Agent Setup\n",
        "            if decision_agent not in agents_in_setup or len(agents_in_setup) != 1:\n",
        "                print('here')\n",
        "                subagent_list = []\n",
        "                for agent in agents_in_setup:\n",
        "                    subagent_list.append(agents_dic[agent])\n",
        "                env_mod_func_dic[key].add_subagents(subagent_list)\n",
        "            \n",
        "            \n",
        "            # Test Decision Agent\n",
        "            params = testing_params[agent_classes[decision_agent]]\n",
        "            if not isinstance(agents_dic[decision_agent], RandomAgent):\n",
        "                agents_dic[decision_agent].set_env_stat_modify_func(env_mod_func_dic[key].process)\n",
        "            agents_dic[decision_agent].test(start_idx=tst_idx[key][0],\n",
        "                                            end_idx=tst_idx[key][1],\n",
        "                                            **params)\n",
        "            \n",
        "            # Remove Multi-Agent Setup in ENV_MOD function\n",
        "            if decision_agent not in agents_in_setup or len(agents_in_setup) != 1:\n",
        "                env_mod_func_dic[key].remove_subagents()\n",
        "\n",
        "            # Generate Testing Records\n",
        "            env_data_record = rl_env.get_step_data()\n",
        "            agent_data_record = agents_dic[decision_agent].get_step_data()\n",
        "            test_record =  pd.concat([env_data_record, agent_data_record], axis=1, join='inner')\n",
        "            test_record.to_csv(f'{save_agent_path}{file_root_name}_step_data.csv')\n",
        "            episodic_testing_record = agents_dic[decision_agent].get_testing_episodic_data()\n",
        "            episodic_testing_record.to_csv(f'{save_agent_path}{file_root_name}_epi_data.csv')\n",
        "\n",
        "            trade_actions_per_test = episodic_testing_record['tst_actions']\n",
        "\n",
        "            for idx, action_set in enumerate(trade_actions_per_test):\n",
        "                file_root_name = f'{key}_TST_{tst_idx[key][0]}-{tst_idx[key][1]}_{[idx]}'\n",
        "                test_metrics = agentperform.agent_stock_performance(stock_price_ts=np.array(stock_price_data),\n",
        "                                                                    trade_ts=np.array(action_set),\n",
        "                                                                    stock_name=key,\n",
        "                                                                    agent_name=decision_agent,\n",
        "                                                                    display_graph=False,\n",
        "                                                                    save_graphic= True,\n",
        "                                                                    path_file = f'{save_agent_path}{file_root_name}.png')\n",
        "                del test_metrics['stock']\n",
        "                del test_metrics['agent_name']\n",
        "                results[key][decision_agent][test_key][idx] = test_metrics\n",
        "\n",
        "            # Remove Agent\n",
        "            for agent in set([decision_agent] + agents_in_setup):\n",
        "                rl_env.remove_agent(agent)\n",
        "                agents_dic[agent].set_environment(None)\n",
        "\n",
        "    display(results)\n",
        "    set_seed(RANDOM_SEED)"
      ]
    },
    {
      "cell_type": "markdown",
      "metadata": {
        "id": "tFAgjjt1QFnt"
      },
      "source": [
        "# Aggreating Test Results"
      ]
    },
    {
      "cell_type": "code",
      "execution_count": 26,
      "metadata": {
        "id": "BApRg8hXQFnt"
      },
      "outputs": [
        {
          "data": {
            "text/plain": [
              "{'n_trades':             dataset  profit_1  profit_2  random\n",
              " 0    AAPL-3272:4250       0.0     131.0   242.0\n",
              " 1    AMZN-3272:4250       0.0     226.0   242.2\n",
              " 2   GOOGL-3272:4250       0.0     162.0   240.6\n",
              " 3    MSFT-3272:4250       0.0     145.0   241.6\n",
              " 4    FORD-3272:4250       0.0     449.0   248.2\n",
              " 5     JNJ-3272:4250       0.0     258.0   240.0\n",
              " 6     NEE-3272:4250       0.0     210.0   246.8\n",
              " 7     PFE-3272:4250       0.0     287.0   246.2\n",
              " 8    TSLA-2394:3372       0.0     124.0   239.0\n",
              " 9    COKE-3272:4250       0.0     187.0   252.8\n",
              " 10     PG-3272:4250       0.0     192.0   248.8,\n",
              " 'n_wins':             dataset  profit_1  profit_2  random\n",
              " 0    AAPL-3272:4250       0.0      78.0   123.8\n",
              " 1    AMZN-3272:4250       0.0     110.0   125.6\n",
              " 2   GOOGL-3272:4250       0.0      93.0   134.6\n",
              " 3    MSFT-3272:4250       0.0      89.0   129.4\n",
              " 4    FORD-3272:4250       0.0     218.0   124.6\n",
              " 5     JNJ-3272:4250       0.0     126.0   121.8\n",
              " 6     NEE-3272:4250       0.0     103.0   128.0\n",
              " 7     PFE-3272:4250       0.0     130.0   112.8\n",
              " 8    TSLA-2394:3372       0.0      70.0   125.0\n",
              " 9    COKE-3272:4250       0.0      94.0   130.0\n",
              " 10     PG-3272:4250       0.0     108.0   140.6,\n",
              " 'win_percentage':             dataset  profit_1  profit_2  random\n",
              " 0    AAPL-3272:4250       0.0     59.54   51.11\n",
              " 1    AMZN-3272:4250       0.0     48.67   51.85\n",
              " 2   GOOGL-3272:4250       0.0     57.41   55.96\n",
              " 3    MSFT-3272:4250       0.0     61.38   53.52\n",
              " 4    FORD-3272:4250       0.0     48.55   50.18\n",
              " 5     JNJ-3272:4250       0.0     48.84   50.81\n",
              " 6     NEE-3272:4250       0.0     49.05   51.88\n",
              " 7     PFE-3272:4250       0.0     45.30   45.79\n",
              " 8    TSLA-2394:3372       0.0     56.45   52.27\n",
              " 9    COKE-3272:4250       0.0     50.27   51.51\n",
              " 10     PG-3272:4250       0.0     56.25   56.54,\n",
              " 'cumulative_return':             dataset  profit_1  profit_2  random\n",
              " 0    AAPL-3272:4250       0.0      1.86    1.41\n",
              " 1    AMZN-3272:4250       0.0      0.92    0.88\n",
              " 2   GOOGL-3272:4250       0.0      2.19    1.70\n",
              " 3    MSFT-3272:4250       0.0      2.09    1.35\n",
              " 4    FORD-3272:4250       0.0      1.27    1.48\n",
              " 5     JNJ-3272:4250       0.0      0.71    0.96\n",
              " 6     NEE-3272:4250       0.0      0.59    0.83\n",
              " 7     PFE-3272:4250       0.0      0.62    1.06\n",
              " 8    TSLA-2394:3372       0.0      4.16    1.99\n",
              " 9    COKE-3272:4250       0.0      3.15    2.08\n",
              " 10     PG-3272:4250       0.0      1.05    1.26,\n",
              " 'sortino':             dataset  profit_1  profit_2  random\n",
              " 0    AAPL-3272:4250       0.0      2.74    1.29\n",
              " 1    AMZN-3272:4250       0.0      0.28   -0.03\n",
              " 2   GOOGL-3272:4250       0.0      3.29    2.14\n",
              " 3    MSFT-3272:4250       0.0      3.52    1.34\n",
              " 4    FORD-3272:4250       0.0      0.80    1.45\n",
              " 5     JNJ-3272:4250       0.0     -1.11   -0.06\n",
              " 6     NEE-3272:4250       0.0     -0.88   -0.38\n",
              " 7     PFE-3272:4250       0.0     -1.08    0.49\n",
              " 8    TSLA-2394:3372       0.0      4.12    1.27\n",
              " 9    COKE-3272:4250       0.0      4.18    2.62\n",
              " 10     PG-3272:4250       0.0      0.45    1.27,\n",
              " 'max_drawdown':             dataset  profit_1  profit_2  random\n",
              " 0    AAPL-3272:4250       0.0    -38.38  -36.29\n",
              " 1    AMZN-3272:4250       0.0    -46.87  -49.38\n",
              " 2   GOOGL-3272:4250       0.0    -40.64  -32.33\n",
              " 3    MSFT-3272:4250       0.0    -28.48  -31.34\n",
              " 4    FORD-3272:4250       0.0    -57.39  -47.47\n",
              " 5     JNJ-3272:4250       0.0    -30.30  -26.66\n",
              " 6     NEE-3272:4250       0.0    -48.14  -38.53\n",
              " 7     PFE-3272:4250       0.0    -58.14  -31.24\n",
              " 8    TSLA-2394:3372       0.0    -66.81  -70.10\n",
              " 9    COKE-3272:4250       0.0    -36.28  -32.12\n",
              " 10     PG-3272:4250       0.0    -31.61  -21.38,\n",
              " 'sharpe':             dataset  profit_1  profit_2  random\n",
              " 0    AAPL-3272:4250       0.0      1.87    0.78\n",
              " 1    AMZN-3272:4250       0.0      0.20   -0.03\n",
              " 2   GOOGL-3272:4250       0.0      2.12    1.41\n",
              " 3    MSFT-3272:4250       0.0      2.26    0.89\n",
              " 4    FORD-3272:4250       0.0      0.52    0.89\n",
              " 5     JNJ-3272:4250       0.0     -0.81   -0.17\n",
              " 6     NEE-3272:4250       0.0     -0.68   -0.33\n",
              " 7     PFE-3272:4250       0.0     -0.75    0.32\n",
              " 8    TSLA-2394:3372       0.0      2.48    0.74\n",
              " 9    COKE-3272:4250       0.0      2.31    1.49\n",
              " 10     PG-3272:4250       0.0      0.36    0.80,\n",
              " 'trade_dur_avg':             dataset  profit_1  profit_2  random\n",
              " 0    AAPL-3272:4250       0.0      6.47    1.98\n",
              " 1    AMZN-3272:4250       0.0      3.33    2.03\n",
              " 2   GOOGL-3272:4250       0.0      5.04    2.01\n",
              " 3    MSFT-3272:4250       0.0      5.74    2.05\n",
              " 4    FORD-3272:4250       0.0      1.18    1.98\n",
              " 5     JNJ-3272:4250       0.0      2.79    2.03\n",
              " 6     NEE-3272:4250       0.0      3.66    1.97\n",
              " 7     PFE-3272:4250       0.0      2.40    1.96\n",
              " 8    TSLA-2394:3372       0.0      6.89    2.04\n",
              " 9    COKE-3272:4250       0.0      4.23    1.92\n",
              " 10     PG-3272:4250       0.0      4.09    1.94}"
            ]
          },
          "metadata": {},
          "output_type": "display_data"
        }
      ],
      "source": [
        "if test_agent:\n",
        "    aggerate_results = {}\n",
        "    for agent in agent_name_list:\n",
        "        aggerate_results[agent] = {}\n",
        "        for stock in tst_keys:\n",
        "            aggerate_results[agent][stock] = {}\n",
        "            test_key = f'{tst_idx[stock][0]}:{tst_idx[stock][1]}'\n",
        "            aggerate_results[agent][stock][test_key] = {}\n",
        "            values = np.empty((0,len(metrics)))\n",
        "            for test_num in range(testing_params[agent_classes[agent]]['testing_episodes']):\n",
        "\n",
        "                values_array = [results[stock][agent][test_key][test_num][key] for key in metrics]\n",
        "                current_values = np.array(values_array)\n",
        "                values = np.vstack((values,current_values))\n",
        "\n",
        "                means_for_metrics = np.mean(values, axis=0)\n",
        "                std_for_metrics = np.std(values, axis=0)\n",
        "\n",
        "            for idx,metric in enumerate(metrics):\n",
        "                aggerate_results[agent][stock][test_key][metric] = (means_for_metrics[idx],std_for_metrics[idx])\n",
        "\n",
        "    summarized_aggerate_results = {}\n",
        "\n",
        "    for metric in metrics:\n",
        "        model_list = []\n",
        "        dataset_name = []\n",
        "        scores = []\n",
        "        for agent in aggerate_results.keys():\n",
        "\n",
        "            model_list.append(agent)\n",
        "            score_list = []\n",
        "            for stock in aggerate_results[agent].keys():\n",
        "                for test in aggerate_results[agent][stock].keys():\n",
        "                    run_name = stock + \"-\" + test\n",
        "                    if run_name not in dataset_name:\n",
        "                        dataset_name.append(run_name)\n",
        "                    score = aggerate_results[agent][stock][test][metric][0]\n",
        "                    score_list.append(np.round(score,2))\n",
        "            scores.append(score_list)\n",
        "\n",
        "        score_array = np.array(scores).T\n",
        "\n",
        "        df = pd.DataFrame(score_array,columns=model_list)\n",
        "        df['dataset'] = dataset_name\n",
        "\n",
        "        column_order = ['dataset'] + [col for col in df.columns if col != 'dataset']\n",
        "        df = df[column_order]\n",
        "        summarized_aggerate_results[metric] = df\n",
        "\n",
        "\n",
        "        # Export Aggreate Date to CSV\n",
        "        means = df[model_list].mean()\n",
        "        model_means = {model: means[model] for model in model_list}\n",
        "        model_means.update({'dataset': 'mean'})\n",
        "        df_export = df.copy()\n",
        "        df_export.loc[len(df)] = model_means\n",
        "        df_export.to_csv(f'{save_path_root}/{metric}_agg_data.csv')\n",
        "\n",
        "\n",
        "\n",
        "\n",
        "    display(summarized_aggerate_results)\n"
      ]
    },
    {
      "cell_type": "markdown",
      "metadata": {
        "id": "Y0ZPtDYFQFnu"
      },
      "source": [
        "# Significance Testing"
      ]
    },
    {
      "cell_type": "code",
      "execution_count": 27,
      "metadata": {
        "id": "XDyd0N45QFnu"
      },
      "outputs": [
        {
          "data": {
            "text/plain": [
              "'n_trades'"
            ]
          },
          "metadata": {},
          "output_type": "display_data"
        },
        {
          "data": {
            "text/html": [
              "<div>\n",
              "<style scoped>\n",
              "    .dataframe tbody tr th:only-of-type {\n",
              "        vertical-align: middle;\n",
              "    }\n",
              "\n",
              "    .dataframe tbody tr th {\n",
              "        vertical-align: top;\n",
              "    }\n",
              "\n",
              "    .dataframe thead th {\n",
              "        text-align: right;\n",
              "    }\n",
              "</style>\n",
              "<table border=\"1\" class=\"dataframe\">\n",
              "  <thead>\n",
              "    <tr style=\"text-align: right;\">\n",
              "      <th></th>\n",
              "      <th>dataset</th>\n",
              "      <th>profit_1</th>\n",
              "      <th>profit_2</th>\n",
              "      <th>random</th>\n",
              "    </tr>\n",
              "  </thead>\n",
              "  <tbody>\n",
              "    <tr>\n",
              "      <th>0</th>\n",
              "      <td>AAPL-3272:4250</td>\n",
              "      <td>0.0</td>\n",
              "      <td>131.0</td>\n",
              "      <td>242.0</td>\n",
              "    </tr>\n",
              "    <tr>\n",
              "      <th>1</th>\n",
              "      <td>AMZN-3272:4250</td>\n",
              "      <td>0.0</td>\n",
              "      <td>226.0</td>\n",
              "      <td>242.2</td>\n",
              "    </tr>\n",
              "    <tr>\n",
              "      <th>2</th>\n",
              "      <td>GOOGL-3272:4250</td>\n",
              "      <td>0.0</td>\n",
              "      <td>162.0</td>\n",
              "      <td>240.6</td>\n",
              "    </tr>\n",
              "    <tr>\n",
              "      <th>3</th>\n",
              "      <td>MSFT-3272:4250</td>\n",
              "      <td>0.0</td>\n",
              "      <td>145.0</td>\n",
              "      <td>241.6</td>\n",
              "    </tr>\n",
              "    <tr>\n",
              "      <th>4</th>\n",
              "      <td>FORD-3272:4250</td>\n",
              "      <td>0.0</td>\n",
              "      <td>449.0</td>\n",
              "      <td>248.2</td>\n",
              "    </tr>\n",
              "    <tr>\n",
              "      <th>5</th>\n",
              "      <td>JNJ-3272:4250</td>\n",
              "      <td>0.0</td>\n",
              "      <td>258.0</td>\n",
              "      <td>240.0</td>\n",
              "    </tr>\n",
              "    <tr>\n",
              "      <th>6</th>\n",
              "      <td>NEE-3272:4250</td>\n",
              "      <td>0.0</td>\n",
              "      <td>210.0</td>\n",
              "      <td>246.8</td>\n",
              "    </tr>\n",
              "    <tr>\n",
              "      <th>7</th>\n",
              "      <td>PFE-3272:4250</td>\n",
              "      <td>0.0</td>\n",
              "      <td>287.0</td>\n",
              "      <td>246.2</td>\n",
              "    </tr>\n",
              "    <tr>\n",
              "      <th>8</th>\n",
              "      <td>TSLA-2394:3372</td>\n",
              "      <td>0.0</td>\n",
              "      <td>124.0</td>\n",
              "      <td>239.0</td>\n",
              "    </tr>\n",
              "    <tr>\n",
              "      <th>9</th>\n",
              "      <td>COKE-3272:4250</td>\n",
              "      <td>0.0</td>\n",
              "      <td>187.0</td>\n",
              "      <td>252.8</td>\n",
              "    </tr>\n",
              "    <tr>\n",
              "      <th>10</th>\n",
              "      <td>PG-3272:4250</td>\n",
              "      <td>0.0</td>\n",
              "      <td>192.0</td>\n",
              "      <td>248.8</td>\n",
              "    </tr>\n",
              "  </tbody>\n",
              "</table>\n",
              "</div>"
            ],
            "text/plain": [
              "            dataset  profit_1  profit_2  random\n",
              "0    AAPL-3272:4250       0.0     131.0   242.0\n",
              "1    AMZN-3272:4250       0.0     226.0   242.2\n",
              "2   GOOGL-3272:4250       0.0     162.0   240.6\n",
              "3    MSFT-3272:4250       0.0     145.0   241.6\n",
              "4    FORD-3272:4250       0.0     449.0   248.2\n",
              "5     JNJ-3272:4250       0.0     258.0   240.0\n",
              "6     NEE-3272:4250       0.0     210.0   246.8\n",
              "7     PFE-3272:4250       0.0     287.0   246.2\n",
              "8    TSLA-2394:3372       0.0     124.0   239.0\n",
              "9    COKE-3272:4250       0.0     187.0   252.8\n",
              "10     PG-3272:4250       0.0     192.0   248.8"
            ]
          },
          "metadata": {},
          "output_type": "display_data"
        },
        {
          "data": {
            "text/plain": [
              "array([[3, 3, 3, 3, 3, 3, 3, 3, 3, 3, 3],\n",
              "       [2, 2, 2, 2, 1, 1, 2, 1, 2, 2, 2],\n",
              "       [1, 1, 1, 1, 2, 2, 1, 2, 1, 1, 1]])"
            ]
          },
          "metadata": {},
          "output_type": "display_data"
        },
        {
          "data": {
            "text/plain": [
              "'n models: 3, n_datasets 11, ImanDavenport Stat: 40.41666666666688, Critical Value: 3.492828476735632, pvalue: 0.00014801723797451283, Reject Null Hypoth: True'"
            ]
          },
          "metadata": {},
          "output_type": "display_data"
        },
        {
          "data": {
            "text/html": [
              "<div>\n",
              "<style scoped>\n",
              "    .dataframe tbody tr th:only-of-type {\n",
              "        vertical-align: middle;\n",
              "    }\n",
              "\n",
              "    .dataframe tbody tr th {\n",
              "        vertical-align: top;\n",
              "    }\n",
              "\n",
              "    .dataframe thead th {\n",
              "        text-align: right;\n",
              "    }\n",
              "</style>\n",
              "<table border=\"1\" class=\"dataframe\">\n",
              "  <thead>\n",
              "    <tr style=\"text-align: right;\">\n",
              "      <th></th>\n",
              "      <th>agent1</th>\n",
              "      <th>agent2</th>\n",
              "      <th>nemenyi_stat</th>\n",
              "      <th>nemenyi_threshold</th>\n",
              "      <th>reject_null_hypo</th>\n",
              "    </tr>\n",
              "  </thead>\n",
              "  <tbody>\n",
              "    <tr>\n",
              "      <th>0</th>\n",
              "      <td>profit_1</td>\n",
              "      <td>profit_2</td>\n",
              "      <td>1.272727</td>\n",
              "      <td>0.999059</td>\n",
              "      <td>True</td>\n",
              "    </tr>\n",
              "    <tr>\n",
              "      <th>1</th>\n",
              "      <td>profit_1</td>\n",
              "      <td>random</td>\n",
              "      <td>1.727273</td>\n",
              "      <td>0.999059</td>\n",
              "      <td>True</td>\n",
              "    </tr>\n",
              "    <tr>\n",
              "      <th>2</th>\n",
              "      <td>profit_2</td>\n",
              "      <td>random</td>\n",
              "      <td>0.454545</td>\n",
              "      <td>0.999059</td>\n",
              "      <td>False</td>\n",
              "    </tr>\n",
              "  </tbody>\n",
              "</table>\n",
              "</div>"
            ],
            "text/plain": [
              "     agent1    agent2  nemenyi_stat  nemenyi_threshold  reject_null_hypo\n",
              "0  profit_1  profit_2      1.272727           0.999059              True\n",
              "1  profit_1    random      1.727273           0.999059              True\n",
              "2  profit_2    random      0.454545           0.999059             False"
            ]
          },
          "metadata": {},
          "output_type": "display_data"
        },
        {
          "data": {
            "text/plain": [
              "'n_wins'"
            ]
          },
          "metadata": {},
          "output_type": "display_data"
        },
        {
          "data": {
            "text/html": [
              "<div>\n",
              "<style scoped>\n",
              "    .dataframe tbody tr th:only-of-type {\n",
              "        vertical-align: middle;\n",
              "    }\n",
              "\n",
              "    .dataframe tbody tr th {\n",
              "        vertical-align: top;\n",
              "    }\n",
              "\n",
              "    .dataframe thead th {\n",
              "        text-align: right;\n",
              "    }\n",
              "</style>\n",
              "<table border=\"1\" class=\"dataframe\">\n",
              "  <thead>\n",
              "    <tr style=\"text-align: right;\">\n",
              "      <th></th>\n",
              "      <th>dataset</th>\n",
              "      <th>profit_1</th>\n",
              "      <th>profit_2</th>\n",
              "      <th>random</th>\n",
              "    </tr>\n",
              "  </thead>\n",
              "  <tbody>\n",
              "    <tr>\n",
              "      <th>0</th>\n",
              "      <td>AAPL-3272:4250</td>\n",
              "      <td>0.0</td>\n",
              "      <td>78.0</td>\n",
              "      <td>123.8</td>\n",
              "    </tr>\n",
              "    <tr>\n",
              "      <th>1</th>\n",
              "      <td>AMZN-3272:4250</td>\n",
              "      <td>0.0</td>\n",
              "      <td>110.0</td>\n",
              "      <td>125.6</td>\n",
              "    </tr>\n",
              "    <tr>\n",
              "      <th>2</th>\n",
              "      <td>GOOGL-3272:4250</td>\n",
              "      <td>0.0</td>\n",
              "      <td>93.0</td>\n",
              "      <td>134.6</td>\n",
              "    </tr>\n",
              "    <tr>\n",
              "      <th>3</th>\n",
              "      <td>MSFT-3272:4250</td>\n",
              "      <td>0.0</td>\n",
              "      <td>89.0</td>\n",
              "      <td>129.4</td>\n",
              "    </tr>\n",
              "    <tr>\n",
              "      <th>4</th>\n",
              "      <td>FORD-3272:4250</td>\n",
              "      <td>0.0</td>\n",
              "      <td>218.0</td>\n",
              "      <td>124.6</td>\n",
              "    </tr>\n",
              "    <tr>\n",
              "      <th>5</th>\n",
              "      <td>JNJ-3272:4250</td>\n",
              "      <td>0.0</td>\n",
              "      <td>126.0</td>\n",
              "      <td>121.8</td>\n",
              "    </tr>\n",
              "    <tr>\n",
              "      <th>6</th>\n",
              "      <td>NEE-3272:4250</td>\n",
              "      <td>0.0</td>\n",
              "      <td>103.0</td>\n",
              "      <td>128.0</td>\n",
              "    </tr>\n",
              "    <tr>\n",
              "      <th>7</th>\n",
              "      <td>PFE-3272:4250</td>\n",
              "      <td>0.0</td>\n",
              "      <td>130.0</td>\n",
              "      <td>112.8</td>\n",
              "    </tr>\n",
              "    <tr>\n",
              "      <th>8</th>\n",
              "      <td>TSLA-2394:3372</td>\n",
              "      <td>0.0</td>\n",
              "      <td>70.0</td>\n",
              "      <td>125.0</td>\n",
              "    </tr>\n",
              "    <tr>\n",
              "      <th>9</th>\n",
              "      <td>COKE-3272:4250</td>\n",
              "      <td>0.0</td>\n",
              "      <td>94.0</td>\n",
              "      <td>130.0</td>\n",
              "    </tr>\n",
              "    <tr>\n",
              "      <th>10</th>\n",
              "      <td>PG-3272:4250</td>\n",
              "      <td>0.0</td>\n",
              "      <td>108.0</td>\n",
              "      <td>140.6</td>\n",
              "    </tr>\n",
              "  </tbody>\n",
              "</table>\n",
              "</div>"
            ],
            "text/plain": [
              "            dataset  profit_1  profit_2  random\n",
              "0    AAPL-3272:4250       0.0      78.0   123.8\n",
              "1    AMZN-3272:4250       0.0     110.0   125.6\n",
              "2   GOOGL-3272:4250       0.0      93.0   134.6\n",
              "3    MSFT-3272:4250       0.0      89.0   129.4\n",
              "4    FORD-3272:4250       0.0     218.0   124.6\n",
              "5     JNJ-3272:4250       0.0     126.0   121.8\n",
              "6     NEE-3272:4250       0.0     103.0   128.0\n",
              "7     PFE-3272:4250       0.0     130.0   112.8\n",
              "8    TSLA-2394:3372       0.0      70.0   125.0\n",
              "9    COKE-3272:4250       0.0      94.0   130.0\n",
              "10     PG-3272:4250       0.0     108.0   140.6"
            ]
          },
          "metadata": {},
          "output_type": "display_data"
        },
        {
          "data": {
            "text/plain": [
              "array([[3, 3, 3, 3, 3, 3, 3, 3, 3, 3, 3],\n",
              "       [2, 2, 2, 2, 1, 1, 2, 1, 2, 2, 2],\n",
              "       [1, 1, 1, 1, 2, 2, 1, 2, 1, 1, 1]])"
            ]
          },
          "metadata": {},
          "output_type": "display_data"
        },
        {
          "data": {
            "text/plain": [
              "'n models: 3, n_datasets 11, ImanDavenport Stat: 40.41666666666688, Critical Value: 3.492828476735632, pvalue: 0.00014801723797451283, Reject Null Hypoth: True'"
            ]
          },
          "metadata": {},
          "output_type": "display_data"
        },
        {
          "data": {
            "text/html": [
              "<div>\n",
              "<style scoped>\n",
              "    .dataframe tbody tr th:only-of-type {\n",
              "        vertical-align: middle;\n",
              "    }\n",
              "\n",
              "    .dataframe tbody tr th {\n",
              "        vertical-align: top;\n",
              "    }\n",
              "\n",
              "    .dataframe thead th {\n",
              "        text-align: right;\n",
              "    }\n",
              "</style>\n",
              "<table border=\"1\" class=\"dataframe\">\n",
              "  <thead>\n",
              "    <tr style=\"text-align: right;\">\n",
              "      <th></th>\n",
              "      <th>agent1</th>\n",
              "      <th>agent2</th>\n",
              "      <th>nemenyi_stat</th>\n",
              "      <th>nemenyi_threshold</th>\n",
              "      <th>reject_null_hypo</th>\n",
              "    </tr>\n",
              "  </thead>\n",
              "  <tbody>\n",
              "    <tr>\n",
              "      <th>0</th>\n",
              "      <td>profit_1</td>\n",
              "      <td>profit_2</td>\n",
              "      <td>1.272727</td>\n",
              "      <td>0.999059</td>\n",
              "      <td>True</td>\n",
              "    </tr>\n",
              "    <tr>\n",
              "      <th>1</th>\n",
              "      <td>profit_1</td>\n",
              "      <td>random</td>\n",
              "      <td>1.727273</td>\n",
              "      <td>0.999059</td>\n",
              "      <td>True</td>\n",
              "    </tr>\n",
              "    <tr>\n",
              "      <th>2</th>\n",
              "      <td>profit_2</td>\n",
              "      <td>random</td>\n",
              "      <td>0.454545</td>\n",
              "      <td>0.999059</td>\n",
              "      <td>False</td>\n",
              "    </tr>\n",
              "  </tbody>\n",
              "</table>\n",
              "</div>"
            ],
            "text/plain": [
              "     agent1    agent2  nemenyi_stat  nemenyi_threshold  reject_null_hypo\n",
              "0  profit_1  profit_2      1.272727           0.999059              True\n",
              "1  profit_1    random      1.727273           0.999059              True\n",
              "2  profit_2    random      0.454545           0.999059             False"
            ]
          },
          "metadata": {},
          "output_type": "display_data"
        },
        {
          "data": {
            "text/plain": [
              "'win_percentage'"
            ]
          },
          "metadata": {},
          "output_type": "display_data"
        },
        {
          "data": {
            "text/html": [
              "<div>\n",
              "<style scoped>\n",
              "    .dataframe tbody tr th:only-of-type {\n",
              "        vertical-align: middle;\n",
              "    }\n",
              "\n",
              "    .dataframe tbody tr th {\n",
              "        vertical-align: top;\n",
              "    }\n",
              "\n",
              "    .dataframe thead th {\n",
              "        text-align: right;\n",
              "    }\n",
              "</style>\n",
              "<table border=\"1\" class=\"dataframe\">\n",
              "  <thead>\n",
              "    <tr style=\"text-align: right;\">\n",
              "      <th></th>\n",
              "      <th>dataset</th>\n",
              "      <th>profit_1</th>\n",
              "      <th>profit_2</th>\n",
              "      <th>random</th>\n",
              "    </tr>\n",
              "  </thead>\n",
              "  <tbody>\n",
              "    <tr>\n",
              "      <th>0</th>\n",
              "      <td>AAPL-3272:4250</td>\n",
              "      <td>0.0</td>\n",
              "      <td>59.54</td>\n",
              "      <td>51.11</td>\n",
              "    </tr>\n",
              "    <tr>\n",
              "      <th>1</th>\n",
              "      <td>AMZN-3272:4250</td>\n",
              "      <td>0.0</td>\n",
              "      <td>48.67</td>\n",
              "      <td>51.85</td>\n",
              "    </tr>\n",
              "    <tr>\n",
              "      <th>2</th>\n",
              "      <td>GOOGL-3272:4250</td>\n",
              "      <td>0.0</td>\n",
              "      <td>57.41</td>\n",
              "      <td>55.96</td>\n",
              "    </tr>\n",
              "    <tr>\n",
              "      <th>3</th>\n",
              "      <td>MSFT-3272:4250</td>\n",
              "      <td>0.0</td>\n",
              "      <td>61.38</td>\n",
              "      <td>53.52</td>\n",
              "    </tr>\n",
              "    <tr>\n",
              "      <th>4</th>\n",
              "      <td>FORD-3272:4250</td>\n",
              "      <td>0.0</td>\n",
              "      <td>48.55</td>\n",
              "      <td>50.18</td>\n",
              "    </tr>\n",
              "    <tr>\n",
              "      <th>5</th>\n",
              "      <td>JNJ-3272:4250</td>\n",
              "      <td>0.0</td>\n",
              "      <td>48.84</td>\n",
              "      <td>50.81</td>\n",
              "    </tr>\n",
              "    <tr>\n",
              "      <th>6</th>\n",
              "      <td>NEE-3272:4250</td>\n",
              "      <td>0.0</td>\n",
              "      <td>49.05</td>\n",
              "      <td>51.88</td>\n",
              "    </tr>\n",
              "    <tr>\n",
              "      <th>7</th>\n",
              "      <td>PFE-3272:4250</td>\n",
              "      <td>0.0</td>\n",
              "      <td>45.30</td>\n",
              "      <td>45.79</td>\n",
              "    </tr>\n",
              "    <tr>\n",
              "      <th>8</th>\n",
              "      <td>TSLA-2394:3372</td>\n",
              "      <td>0.0</td>\n",
              "      <td>56.45</td>\n",
              "      <td>52.27</td>\n",
              "    </tr>\n",
              "    <tr>\n",
              "      <th>9</th>\n",
              "      <td>COKE-3272:4250</td>\n",
              "      <td>0.0</td>\n",
              "      <td>50.27</td>\n",
              "      <td>51.51</td>\n",
              "    </tr>\n",
              "    <tr>\n",
              "      <th>10</th>\n",
              "      <td>PG-3272:4250</td>\n",
              "      <td>0.0</td>\n",
              "      <td>56.25</td>\n",
              "      <td>56.54</td>\n",
              "    </tr>\n",
              "  </tbody>\n",
              "</table>\n",
              "</div>"
            ],
            "text/plain": [
              "            dataset  profit_1  profit_2  random\n",
              "0    AAPL-3272:4250       0.0     59.54   51.11\n",
              "1    AMZN-3272:4250       0.0     48.67   51.85\n",
              "2   GOOGL-3272:4250       0.0     57.41   55.96\n",
              "3    MSFT-3272:4250       0.0     61.38   53.52\n",
              "4    FORD-3272:4250       0.0     48.55   50.18\n",
              "5     JNJ-3272:4250       0.0     48.84   50.81\n",
              "6     NEE-3272:4250       0.0     49.05   51.88\n",
              "7     PFE-3272:4250       0.0     45.30   45.79\n",
              "8    TSLA-2394:3372       0.0     56.45   52.27\n",
              "9    COKE-3272:4250       0.0     50.27   51.51\n",
              "10     PG-3272:4250       0.0     56.25   56.54"
            ]
          },
          "metadata": {},
          "output_type": "display_data"
        },
        {
          "data": {
            "text/plain": [
              "array([[3, 3, 3, 3, 3, 3, 3, 3, 3, 3, 3],\n",
              "       [1, 2, 1, 1, 2, 2, 2, 2, 1, 2, 2],\n",
              "       [2, 1, 2, 2, 1, 1, 1, 1, 2, 1, 1]])"
            ]
          },
          "metadata": {},
          "output_type": "display_data"
        },
        {
          "data": {
            "text/plain": [
              "'n models: 3, n_datasets 11, ImanDavenport Stat: 33.214285714285694, Critical Value: 3.492828476735632, pvalue: 0.00021293034712313702, Reject Null Hypoth: True'"
            ]
          },
          "metadata": {},
          "output_type": "display_data"
        },
        {
          "data": {
            "text/html": [
              "<div>\n",
              "<style scoped>\n",
              "    .dataframe tbody tr th:only-of-type {\n",
              "        vertical-align: middle;\n",
              "    }\n",
              "\n",
              "    .dataframe tbody tr th {\n",
              "        vertical-align: top;\n",
              "    }\n",
              "\n",
              "    .dataframe thead th {\n",
              "        text-align: right;\n",
              "    }\n",
              "</style>\n",
              "<table border=\"1\" class=\"dataframe\">\n",
              "  <thead>\n",
              "    <tr style=\"text-align: right;\">\n",
              "      <th></th>\n",
              "      <th>agent1</th>\n",
              "      <th>agent2</th>\n",
              "      <th>nemenyi_stat</th>\n",
              "      <th>nemenyi_threshold</th>\n",
              "      <th>reject_null_hypo</th>\n",
              "    </tr>\n",
              "  </thead>\n",
              "  <tbody>\n",
              "    <tr>\n",
              "      <th>0</th>\n",
              "      <td>profit_1</td>\n",
              "      <td>profit_2</td>\n",
              "      <td>1.363636</td>\n",
              "      <td>0.999059</td>\n",
              "      <td>True</td>\n",
              "    </tr>\n",
              "    <tr>\n",
              "      <th>1</th>\n",
              "      <td>profit_1</td>\n",
              "      <td>random</td>\n",
              "      <td>1.636364</td>\n",
              "      <td>0.999059</td>\n",
              "      <td>True</td>\n",
              "    </tr>\n",
              "    <tr>\n",
              "      <th>2</th>\n",
              "      <td>profit_2</td>\n",
              "      <td>random</td>\n",
              "      <td>0.272727</td>\n",
              "      <td>0.999059</td>\n",
              "      <td>False</td>\n",
              "    </tr>\n",
              "  </tbody>\n",
              "</table>\n",
              "</div>"
            ],
            "text/plain": [
              "     agent1    agent2  nemenyi_stat  nemenyi_threshold  reject_null_hypo\n",
              "0  profit_1  profit_2      1.363636           0.999059              True\n",
              "1  profit_1    random      1.636364           0.999059              True\n",
              "2  profit_2    random      0.272727           0.999059             False"
            ]
          },
          "metadata": {},
          "output_type": "display_data"
        },
        {
          "data": {
            "text/plain": [
              "'cumulative_return'"
            ]
          },
          "metadata": {},
          "output_type": "display_data"
        },
        {
          "data": {
            "text/html": [
              "<div>\n",
              "<style scoped>\n",
              "    .dataframe tbody tr th:only-of-type {\n",
              "        vertical-align: middle;\n",
              "    }\n",
              "\n",
              "    .dataframe tbody tr th {\n",
              "        vertical-align: top;\n",
              "    }\n",
              "\n",
              "    .dataframe thead th {\n",
              "        text-align: right;\n",
              "    }\n",
              "</style>\n",
              "<table border=\"1\" class=\"dataframe\">\n",
              "  <thead>\n",
              "    <tr style=\"text-align: right;\">\n",
              "      <th></th>\n",
              "      <th>dataset</th>\n",
              "      <th>profit_1</th>\n",
              "      <th>profit_2</th>\n",
              "      <th>random</th>\n",
              "    </tr>\n",
              "  </thead>\n",
              "  <tbody>\n",
              "    <tr>\n",
              "      <th>0</th>\n",
              "      <td>AAPL-3272:4250</td>\n",
              "      <td>0.0</td>\n",
              "      <td>1.86</td>\n",
              "      <td>1.41</td>\n",
              "    </tr>\n",
              "    <tr>\n",
              "      <th>1</th>\n",
              "      <td>AMZN-3272:4250</td>\n",
              "      <td>0.0</td>\n",
              "      <td>0.92</td>\n",
              "      <td>0.88</td>\n",
              "    </tr>\n",
              "    <tr>\n",
              "      <th>2</th>\n",
              "      <td>GOOGL-3272:4250</td>\n",
              "      <td>0.0</td>\n",
              "      <td>2.19</td>\n",
              "      <td>1.70</td>\n",
              "    </tr>\n",
              "    <tr>\n",
              "      <th>3</th>\n",
              "      <td>MSFT-3272:4250</td>\n",
              "      <td>0.0</td>\n",
              "      <td>2.09</td>\n",
              "      <td>1.35</td>\n",
              "    </tr>\n",
              "    <tr>\n",
              "      <th>4</th>\n",
              "      <td>FORD-3272:4250</td>\n",
              "      <td>0.0</td>\n",
              "      <td>1.27</td>\n",
              "      <td>1.48</td>\n",
              "    </tr>\n",
              "    <tr>\n",
              "      <th>5</th>\n",
              "      <td>JNJ-3272:4250</td>\n",
              "      <td>0.0</td>\n",
              "      <td>0.71</td>\n",
              "      <td>0.96</td>\n",
              "    </tr>\n",
              "    <tr>\n",
              "      <th>6</th>\n",
              "      <td>NEE-3272:4250</td>\n",
              "      <td>0.0</td>\n",
              "      <td>0.59</td>\n",
              "      <td>0.83</td>\n",
              "    </tr>\n",
              "    <tr>\n",
              "      <th>7</th>\n",
              "      <td>PFE-3272:4250</td>\n",
              "      <td>0.0</td>\n",
              "      <td>0.62</td>\n",
              "      <td>1.06</td>\n",
              "    </tr>\n",
              "    <tr>\n",
              "      <th>8</th>\n",
              "      <td>TSLA-2394:3372</td>\n",
              "      <td>0.0</td>\n",
              "      <td>4.16</td>\n",
              "      <td>1.99</td>\n",
              "    </tr>\n",
              "    <tr>\n",
              "      <th>9</th>\n",
              "      <td>COKE-3272:4250</td>\n",
              "      <td>0.0</td>\n",
              "      <td>3.15</td>\n",
              "      <td>2.08</td>\n",
              "    </tr>\n",
              "    <tr>\n",
              "      <th>10</th>\n",
              "      <td>PG-3272:4250</td>\n",
              "      <td>0.0</td>\n",
              "      <td>1.05</td>\n",
              "      <td>1.26</td>\n",
              "    </tr>\n",
              "  </tbody>\n",
              "</table>\n",
              "</div>"
            ],
            "text/plain": [
              "            dataset  profit_1  profit_2  random\n",
              "0    AAPL-3272:4250       0.0      1.86    1.41\n",
              "1    AMZN-3272:4250       0.0      0.92    0.88\n",
              "2   GOOGL-3272:4250       0.0      2.19    1.70\n",
              "3    MSFT-3272:4250       0.0      2.09    1.35\n",
              "4    FORD-3272:4250       0.0      1.27    1.48\n",
              "5     JNJ-3272:4250       0.0      0.71    0.96\n",
              "6     NEE-3272:4250       0.0      0.59    0.83\n",
              "7     PFE-3272:4250       0.0      0.62    1.06\n",
              "8    TSLA-2394:3372       0.0      4.16    1.99\n",
              "9    COKE-3272:4250       0.0      3.15    2.08\n",
              "10     PG-3272:4250       0.0      1.05    1.26"
            ]
          },
          "metadata": {},
          "output_type": "display_data"
        },
        {
          "data": {
            "text/plain": [
              "array([[3, 3, 3, 3, 3, 3, 3, 3, 3, 3, 3],\n",
              "       [1, 1, 1, 1, 2, 2, 2, 2, 1, 1, 2],\n",
              "       [2, 2, 2, 2, 1, 1, 1, 1, 2, 2, 1]])"
            ]
          },
          "metadata": {},
          "output_type": "display_data"
        },
        {
          "data": {
            "text/plain": [
              "'n models: 3, n_datasets 11, ImanDavenport Stat: 30.33333333333345, Critical Value: 3.492828476735632, pvalue: 0.00025538782834452984, Reject Null Hypoth: True'"
            ]
          },
          "metadata": {},
          "output_type": "display_data"
        },
        {
          "data": {
            "text/html": [
              "<div>\n",
              "<style scoped>\n",
              "    .dataframe tbody tr th:only-of-type {\n",
              "        vertical-align: middle;\n",
              "    }\n",
              "\n",
              "    .dataframe tbody tr th {\n",
              "        vertical-align: top;\n",
              "    }\n",
              "\n",
              "    .dataframe thead th {\n",
              "        text-align: right;\n",
              "    }\n",
              "</style>\n",
              "<table border=\"1\" class=\"dataframe\">\n",
              "  <thead>\n",
              "    <tr style=\"text-align: right;\">\n",
              "      <th></th>\n",
              "      <th>agent1</th>\n",
              "      <th>agent2</th>\n",
              "      <th>nemenyi_stat</th>\n",
              "      <th>nemenyi_threshold</th>\n",
              "      <th>reject_null_hypo</th>\n",
              "    </tr>\n",
              "  </thead>\n",
              "  <tbody>\n",
              "    <tr>\n",
              "      <th>0</th>\n",
              "      <td>profit_1</td>\n",
              "      <td>profit_2</td>\n",
              "      <td>1.545455</td>\n",
              "      <td>0.999059</td>\n",
              "      <td>True</td>\n",
              "    </tr>\n",
              "    <tr>\n",
              "      <th>1</th>\n",
              "      <td>profit_1</td>\n",
              "      <td>random</td>\n",
              "      <td>1.454545</td>\n",
              "      <td>0.999059</td>\n",
              "      <td>True</td>\n",
              "    </tr>\n",
              "    <tr>\n",
              "      <th>2</th>\n",
              "      <td>profit_2</td>\n",
              "      <td>random</td>\n",
              "      <td>0.090909</td>\n",
              "      <td>0.999059</td>\n",
              "      <td>False</td>\n",
              "    </tr>\n",
              "  </tbody>\n",
              "</table>\n",
              "</div>"
            ],
            "text/plain": [
              "     agent1    agent2  nemenyi_stat  nemenyi_threshold  reject_null_hypo\n",
              "0  profit_1  profit_2      1.545455           0.999059              True\n",
              "1  profit_1    random      1.454545           0.999059              True\n",
              "2  profit_2    random      0.090909           0.999059             False"
            ]
          },
          "metadata": {},
          "output_type": "display_data"
        },
        {
          "data": {
            "text/plain": [
              "'sortino'"
            ]
          },
          "metadata": {},
          "output_type": "display_data"
        },
        {
          "data": {
            "text/html": [
              "<div>\n",
              "<style scoped>\n",
              "    .dataframe tbody tr th:only-of-type {\n",
              "        vertical-align: middle;\n",
              "    }\n",
              "\n",
              "    .dataframe tbody tr th {\n",
              "        vertical-align: top;\n",
              "    }\n",
              "\n",
              "    .dataframe thead th {\n",
              "        text-align: right;\n",
              "    }\n",
              "</style>\n",
              "<table border=\"1\" class=\"dataframe\">\n",
              "  <thead>\n",
              "    <tr style=\"text-align: right;\">\n",
              "      <th></th>\n",
              "      <th>dataset</th>\n",
              "      <th>profit_1</th>\n",
              "      <th>profit_2</th>\n",
              "      <th>random</th>\n",
              "    </tr>\n",
              "  </thead>\n",
              "  <tbody>\n",
              "    <tr>\n",
              "      <th>0</th>\n",
              "      <td>AAPL-3272:4250</td>\n",
              "      <td>0.0</td>\n",
              "      <td>2.74</td>\n",
              "      <td>1.29</td>\n",
              "    </tr>\n",
              "    <tr>\n",
              "      <th>1</th>\n",
              "      <td>AMZN-3272:4250</td>\n",
              "      <td>0.0</td>\n",
              "      <td>0.28</td>\n",
              "      <td>-0.03</td>\n",
              "    </tr>\n",
              "    <tr>\n",
              "      <th>2</th>\n",
              "      <td>GOOGL-3272:4250</td>\n",
              "      <td>0.0</td>\n",
              "      <td>3.29</td>\n",
              "      <td>2.14</td>\n",
              "    </tr>\n",
              "    <tr>\n",
              "      <th>3</th>\n",
              "      <td>MSFT-3272:4250</td>\n",
              "      <td>0.0</td>\n",
              "      <td>3.52</td>\n",
              "      <td>1.34</td>\n",
              "    </tr>\n",
              "    <tr>\n",
              "      <th>4</th>\n",
              "      <td>FORD-3272:4250</td>\n",
              "      <td>0.0</td>\n",
              "      <td>0.80</td>\n",
              "      <td>1.45</td>\n",
              "    </tr>\n",
              "    <tr>\n",
              "      <th>5</th>\n",
              "      <td>JNJ-3272:4250</td>\n",
              "      <td>0.0</td>\n",
              "      <td>-1.11</td>\n",
              "      <td>-0.06</td>\n",
              "    </tr>\n",
              "    <tr>\n",
              "      <th>6</th>\n",
              "      <td>NEE-3272:4250</td>\n",
              "      <td>0.0</td>\n",
              "      <td>-0.88</td>\n",
              "      <td>-0.38</td>\n",
              "    </tr>\n",
              "    <tr>\n",
              "      <th>7</th>\n",
              "      <td>PFE-3272:4250</td>\n",
              "      <td>0.0</td>\n",
              "      <td>-1.08</td>\n",
              "      <td>0.49</td>\n",
              "    </tr>\n",
              "    <tr>\n",
              "      <th>8</th>\n",
              "      <td>TSLA-2394:3372</td>\n",
              "      <td>0.0</td>\n",
              "      <td>4.12</td>\n",
              "      <td>1.27</td>\n",
              "    </tr>\n",
              "    <tr>\n",
              "      <th>9</th>\n",
              "      <td>COKE-3272:4250</td>\n",
              "      <td>0.0</td>\n",
              "      <td>4.18</td>\n",
              "      <td>2.62</td>\n",
              "    </tr>\n",
              "    <tr>\n",
              "      <th>10</th>\n",
              "      <td>PG-3272:4250</td>\n",
              "      <td>0.0</td>\n",
              "      <td>0.45</td>\n",
              "      <td>1.27</td>\n",
              "    </tr>\n",
              "  </tbody>\n",
              "</table>\n",
              "</div>"
            ],
            "text/plain": [
              "            dataset  profit_1  profit_2  random\n",
              "0    AAPL-3272:4250       0.0      2.74    1.29\n",
              "1    AMZN-3272:4250       0.0      0.28   -0.03\n",
              "2   GOOGL-3272:4250       0.0      3.29    2.14\n",
              "3    MSFT-3272:4250       0.0      3.52    1.34\n",
              "4    FORD-3272:4250       0.0      0.80    1.45\n",
              "5     JNJ-3272:4250       0.0     -1.11   -0.06\n",
              "6     NEE-3272:4250       0.0     -0.88   -0.38\n",
              "7     PFE-3272:4250       0.0     -1.08    0.49\n",
              "8    TSLA-2394:3372       0.0      4.12    1.27\n",
              "9    COKE-3272:4250       0.0      4.18    2.62\n",
              "10     PG-3272:4250       0.0      0.45    1.27"
            ]
          },
          "metadata": {},
          "output_type": "display_data"
        },
        {
          "data": {
            "text/plain": [
              "array([[3, 2, 3, 3, 3, 1, 1, 2, 3, 3, 3],\n",
              "       [1, 1, 1, 1, 2, 3, 3, 3, 1, 1, 2],\n",
              "       [2, 3, 2, 2, 1, 2, 2, 1, 2, 2, 1]])"
            ]
          },
          "metadata": {},
          "output_type": "display_data"
        },
        {
          "data": {
            "text/plain": [
              "'n models: 3, n_datasets 11, ImanDavenport Stat: 1.862745098039224, Critical Value: 3.492828476735632, pvalue: 0.17776857282813666, Reject Null Hypoth: False'"
            ]
          },
          "metadata": {},
          "output_type": "display_data"
        },
        {
          "data": {
            "text/html": [
              "<div>\n",
              "<style scoped>\n",
              "    .dataframe tbody tr th:only-of-type {\n",
              "        vertical-align: middle;\n",
              "    }\n",
              "\n",
              "    .dataframe tbody tr th {\n",
              "        vertical-align: top;\n",
              "    }\n",
              "\n",
              "    .dataframe thead th {\n",
              "        text-align: right;\n",
              "    }\n",
              "</style>\n",
              "<table border=\"1\" class=\"dataframe\">\n",
              "  <thead>\n",
              "    <tr style=\"text-align: right;\">\n",
              "      <th></th>\n",
              "      <th>agent1</th>\n",
              "      <th>agent2</th>\n",
              "      <th>nemenyi_stat</th>\n",
              "      <th>nemenyi_threshold</th>\n",
              "      <th>reject_null_hypo</th>\n",
              "    </tr>\n",
              "  </thead>\n",
              "  <tbody>\n",
              "    <tr>\n",
              "      <th>0</th>\n",
              "      <td>profit_1</td>\n",
              "      <td>profit_2</td>\n",
              "      <td>0.727273</td>\n",
              "      <td>0.999059</td>\n",
              "      <td>False</td>\n",
              "    </tr>\n",
              "    <tr>\n",
              "      <th>1</th>\n",
              "      <td>profit_1</td>\n",
              "      <td>random</td>\n",
              "      <td>0.636364</td>\n",
              "      <td>0.999059</td>\n",
              "      <td>False</td>\n",
              "    </tr>\n",
              "    <tr>\n",
              "      <th>2</th>\n",
              "      <td>profit_2</td>\n",
              "      <td>random</td>\n",
              "      <td>0.090909</td>\n",
              "      <td>0.999059</td>\n",
              "      <td>False</td>\n",
              "    </tr>\n",
              "  </tbody>\n",
              "</table>\n",
              "</div>"
            ],
            "text/plain": [
              "     agent1    agent2  nemenyi_stat  nemenyi_threshold  reject_null_hypo\n",
              "0  profit_1  profit_2      0.727273           0.999059             False\n",
              "1  profit_1    random      0.636364           0.999059             False\n",
              "2  profit_2    random      0.090909           0.999059             False"
            ]
          },
          "metadata": {},
          "output_type": "display_data"
        },
        {
          "data": {
            "text/plain": [
              "'max_drawdown'"
            ]
          },
          "metadata": {},
          "output_type": "display_data"
        },
        {
          "data": {
            "text/html": [
              "<div>\n",
              "<style scoped>\n",
              "    .dataframe tbody tr th:only-of-type {\n",
              "        vertical-align: middle;\n",
              "    }\n",
              "\n",
              "    .dataframe tbody tr th {\n",
              "        vertical-align: top;\n",
              "    }\n",
              "\n",
              "    .dataframe thead th {\n",
              "        text-align: right;\n",
              "    }\n",
              "</style>\n",
              "<table border=\"1\" class=\"dataframe\">\n",
              "  <thead>\n",
              "    <tr style=\"text-align: right;\">\n",
              "      <th></th>\n",
              "      <th>dataset</th>\n",
              "      <th>profit_1</th>\n",
              "      <th>profit_2</th>\n",
              "      <th>random</th>\n",
              "    </tr>\n",
              "  </thead>\n",
              "  <tbody>\n",
              "    <tr>\n",
              "      <th>0</th>\n",
              "      <td>AAPL-3272:4250</td>\n",
              "      <td>0.0</td>\n",
              "      <td>-38.38</td>\n",
              "      <td>-36.29</td>\n",
              "    </tr>\n",
              "    <tr>\n",
              "      <th>1</th>\n",
              "      <td>AMZN-3272:4250</td>\n",
              "      <td>0.0</td>\n",
              "      <td>-46.87</td>\n",
              "      <td>-49.38</td>\n",
              "    </tr>\n",
              "    <tr>\n",
              "      <th>2</th>\n",
              "      <td>GOOGL-3272:4250</td>\n",
              "      <td>0.0</td>\n",
              "      <td>-40.64</td>\n",
              "      <td>-32.33</td>\n",
              "    </tr>\n",
              "    <tr>\n",
              "      <th>3</th>\n",
              "      <td>MSFT-3272:4250</td>\n",
              "      <td>0.0</td>\n",
              "      <td>-28.48</td>\n",
              "      <td>-31.34</td>\n",
              "    </tr>\n",
              "    <tr>\n",
              "      <th>4</th>\n",
              "      <td>FORD-3272:4250</td>\n",
              "      <td>0.0</td>\n",
              "      <td>-57.39</td>\n",
              "      <td>-47.47</td>\n",
              "    </tr>\n",
              "    <tr>\n",
              "      <th>5</th>\n",
              "      <td>JNJ-3272:4250</td>\n",
              "      <td>0.0</td>\n",
              "      <td>-30.30</td>\n",
              "      <td>-26.66</td>\n",
              "    </tr>\n",
              "    <tr>\n",
              "      <th>6</th>\n",
              "      <td>NEE-3272:4250</td>\n",
              "      <td>0.0</td>\n",
              "      <td>-48.14</td>\n",
              "      <td>-38.53</td>\n",
              "    </tr>\n",
              "    <tr>\n",
              "      <th>7</th>\n",
              "      <td>PFE-3272:4250</td>\n",
              "      <td>0.0</td>\n",
              "      <td>-58.14</td>\n",
              "      <td>-31.24</td>\n",
              "    </tr>\n",
              "    <tr>\n",
              "      <th>8</th>\n",
              "      <td>TSLA-2394:3372</td>\n",
              "      <td>0.0</td>\n",
              "      <td>-66.81</td>\n",
              "      <td>-70.10</td>\n",
              "    </tr>\n",
              "    <tr>\n",
              "      <th>9</th>\n",
              "      <td>COKE-3272:4250</td>\n",
              "      <td>0.0</td>\n",
              "      <td>-36.28</td>\n",
              "      <td>-32.12</td>\n",
              "    </tr>\n",
              "    <tr>\n",
              "      <th>10</th>\n",
              "      <td>PG-3272:4250</td>\n",
              "      <td>0.0</td>\n",
              "      <td>-31.61</td>\n",
              "      <td>-21.38</td>\n",
              "    </tr>\n",
              "  </tbody>\n",
              "</table>\n",
              "</div>"
            ],
            "text/plain": [
              "            dataset  profit_1  profit_2  random\n",
              "0    AAPL-3272:4250       0.0    -38.38  -36.29\n",
              "1    AMZN-3272:4250       0.0    -46.87  -49.38\n",
              "2   GOOGL-3272:4250       0.0    -40.64  -32.33\n",
              "3    MSFT-3272:4250       0.0    -28.48  -31.34\n",
              "4    FORD-3272:4250       0.0    -57.39  -47.47\n",
              "5     JNJ-3272:4250       0.0    -30.30  -26.66\n",
              "6     NEE-3272:4250       0.0    -48.14  -38.53\n",
              "7     PFE-3272:4250       0.0    -58.14  -31.24\n",
              "8    TSLA-2394:3372       0.0    -66.81  -70.10\n",
              "9    COKE-3272:4250       0.0    -36.28  -32.12\n",
              "10     PG-3272:4250       0.0    -31.61  -21.38"
            ]
          },
          "metadata": {},
          "output_type": "display_data"
        },
        {
          "data": {
            "text/plain": [
              "array([[1, 1, 1, 1, 1, 1, 1, 1, 1, 1, 1],\n",
              "       [3, 2, 3, 2, 3, 3, 3, 3, 2, 3, 3],\n",
              "       [2, 3, 2, 3, 2, 2, 2, 2, 3, 2, 2]])"
            ]
          },
          "metadata": {},
          "output_type": "display_data"
        },
        {
          "data": {
            "text/plain": [
              "'n models: 3, n_datasets 11, ImanDavenport Stat: 40.41666666666688, Critical Value: 3.492828476735632, pvalue: 0.00014801723797451283, Reject Null Hypoth: True'"
            ]
          },
          "metadata": {},
          "output_type": "display_data"
        },
        {
          "data": {
            "text/html": [
              "<div>\n",
              "<style scoped>\n",
              "    .dataframe tbody tr th:only-of-type {\n",
              "        vertical-align: middle;\n",
              "    }\n",
              "\n",
              "    .dataframe tbody tr th {\n",
              "        vertical-align: top;\n",
              "    }\n",
              "\n",
              "    .dataframe thead th {\n",
              "        text-align: right;\n",
              "    }\n",
              "</style>\n",
              "<table border=\"1\" class=\"dataframe\">\n",
              "  <thead>\n",
              "    <tr style=\"text-align: right;\">\n",
              "      <th></th>\n",
              "      <th>agent1</th>\n",
              "      <th>agent2</th>\n",
              "      <th>nemenyi_stat</th>\n",
              "      <th>nemenyi_threshold</th>\n",
              "      <th>reject_null_hypo</th>\n",
              "    </tr>\n",
              "  </thead>\n",
              "  <tbody>\n",
              "    <tr>\n",
              "      <th>0</th>\n",
              "      <td>profit_1</td>\n",
              "      <td>profit_2</td>\n",
              "      <td>1.727273</td>\n",
              "      <td>0.999059</td>\n",
              "      <td>True</td>\n",
              "    </tr>\n",
              "    <tr>\n",
              "      <th>1</th>\n",
              "      <td>profit_1</td>\n",
              "      <td>random</td>\n",
              "      <td>1.272727</td>\n",
              "      <td>0.999059</td>\n",
              "      <td>True</td>\n",
              "    </tr>\n",
              "    <tr>\n",
              "      <th>2</th>\n",
              "      <td>profit_2</td>\n",
              "      <td>random</td>\n",
              "      <td>0.454545</td>\n",
              "      <td>0.999059</td>\n",
              "      <td>False</td>\n",
              "    </tr>\n",
              "  </tbody>\n",
              "</table>\n",
              "</div>"
            ],
            "text/plain": [
              "     agent1    agent2  nemenyi_stat  nemenyi_threshold  reject_null_hypo\n",
              "0  profit_1  profit_2      1.727273           0.999059              True\n",
              "1  profit_1    random      1.272727           0.999059              True\n",
              "2  profit_2    random      0.454545           0.999059             False"
            ]
          },
          "metadata": {},
          "output_type": "display_data"
        },
        {
          "data": {
            "text/plain": [
              "'sharpe'"
            ]
          },
          "metadata": {},
          "output_type": "display_data"
        },
        {
          "data": {
            "text/html": [
              "<div>\n",
              "<style scoped>\n",
              "    .dataframe tbody tr th:only-of-type {\n",
              "        vertical-align: middle;\n",
              "    }\n",
              "\n",
              "    .dataframe tbody tr th {\n",
              "        vertical-align: top;\n",
              "    }\n",
              "\n",
              "    .dataframe thead th {\n",
              "        text-align: right;\n",
              "    }\n",
              "</style>\n",
              "<table border=\"1\" class=\"dataframe\">\n",
              "  <thead>\n",
              "    <tr style=\"text-align: right;\">\n",
              "      <th></th>\n",
              "      <th>dataset</th>\n",
              "      <th>profit_1</th>\n",
              "      <th>profit_2</th>\n",
              "      <th>random</th>\n",
              "    </tr>\n",
              "  </thead>\n",
              "  <tbody>\n",
              "    <tr>\n",
              "      <th>0</th>\n",
              "      <td>AAPL-3272:4250</td>\n",
              "      <td>0.0</td>\n",
              "      <td>1.87</td>\n",
              "      <td>0.78</td>\n",
              "    </tr>\n",
              "    <tr>\n",
              "      <th>1</th>\n",
              "      <td>AMZN-3272:4250</td>\n",
              "      <td>0.0</td>\n",
              "      <td>0.20</td>\n",
              "      <td>-0.03</td>\n",
              "    </tr>\n",
              "    <tr>\n",
              "      <th>2</th>\n",
              "      <td>GOOGL-3272:4250</td>\n",
              "      <td>0.0</td>\n",
              "      <td>2.12</td>\n",
              "      <td>1.41</td>\n",
              "    </tr>\n",
              "    <tr>\n",
              "      <th>3</th>\n",
              "      <td>MSFT-3272:4250</td>\n",
              "      <td>0.0</td>\n",
              "      <td>2.26</td>\n",
              "      <td>0.89</td>\n",
              "    </tr>\n",
              "    <tr>\n",
              "      <th>4</th>\n",
              "      <td>FORD-3272:4250</td>\n",
              "      <td>0.0</td>\n",
              "      <td>0.52</td>\n",
              "      <td>0.89</td>\n",
              "    </tr>\n",
              "    <tr>\n",
              "      <th>5</th>\n",
              "      <td>JNJ-3272:4250</td>\n",
              "      <td>0.0</td>\n",
              "      <td>-0.81</td>\n",
              "      <td>-0.17</td>\n",
              "    </tr>\n",
              "    <tr>\n",
              "      <th>6</th>\n",
              "      <td>NEE-3272:4250</td>\n",
              "      <td>0.0</td>\n",
              "      <td>-0.68</td>\n",
              "      <td>-0.33</td>\n",
              "    </tr>\n",
              "    <tr>\n",
              "      <th>7</th>\n",
              "      <td>PFE-3272:4250</td>\n",
              "      <td>0.0</td>\n",
              "      <td>-0.75</td>\n",
              "      <td>0.32</td>\n",
              "    </tr>\n",
              "    <tr>\n",
              "      <th>8</th>\n",
              "      <td>TSLA-2394:3372</td>\n",
              "      <td>0.0</td>\n",
              "      <td>2.48</td>\n",
              "      <td>0.74</td>\n",
              "    </tr>\n",
              "    <tr>\n",
              "      <th>9</th>\n",
              "      <td>COKE-3272:4250</td>\n",
              "      <td>0.0</td>\n",
              "      <td>2.31</td>\n",
              "      <td>1.49</td>\n",
              "    </tr>\n",
              "    <tr>\n",
              "      <th>10</th>\n",
              "      <td>PG-3272:4250</td>\n",
              "      <td>0.0</td>\n",
              "      <td>0.36</td>\n",
              "      <td>0.80</td>\n",
              "    </tr>\n",
              "  </tbody>\n",
              "</table>\n",
              "</div>"
            ],
            "text/plain": [
              "            dataset  profit_1  profit_2  random\n",
              "0    AAPL-3272:4250       0.0      1.87    0.78\n",
              "1    AMZN-3272:4250       0.0      0.20   -0.03\n",
              "2   GOOGL-3272:4250       0.0      2.12    1.41\n",
              "3    MSFT-3272:4250       0.0      2.26    0.89\n",
              "4    FORD-3272:4250       0.0      0.52    0.89\n",
              "5     JNJ-3272:4250       0.0     -0.81   -0.17\n",
              "6     NEE-3272:4250       0.0     -0.68   -0.33\n",
              "7     PFE-3272:4250       0.0     -0.75    0.32\n",
              "8    TSLA-2394:3372       0.0      2.48    0.74\n",
              "9    COKE-3272:4250       0.0      2.31    1.49\n",
              "10     PG-3272:4250       0.0      0.36    0.80"
            ]
          },
          "metadata": {},
          "output_type": "display_data"
        },
        {
          "data": {
            "text/plain": [
              "array([[3, 2, 3, 3, 3, 1, 1, 2, 3, 3, 3],\n",
              "       [1, 1, 1, 1, 2, 3, 3, 3, 1, 1, 2],\n",
              "       [2, 3, 2, 2, 1, 2, 2, 1, 2, 2, 1]])"
            ]
          },
          "metadata": {},
          "output_type": "display_data"
        },
        {
          "data": {
            "text/plain": [
              "'n models: 3, n_datasets 11, ImanDavenport Stat: 1.862745098039224, Critical Value: 3.492828476735632, pvalue: 0.17776857282813666, Reject Null Hypoth: False'"
            ]
          },
          "metadata": {},
          "output_type": "display_data"
        },
        {
          "data": {
            "text/html": [
              "<div>\n",
              "<style scoped>\n",
              "    .dataframe tbody tr th:only-of-type {\n",
              "        vertical-align: middle;\n",
              "    }\n",
              "\n",
              "    .dataframe tbody tr th {\n",
              "        vertical-align: top;\n",
              "    }\n",
              "\n",
              "    .dataframe thead th {\n",
              "        text-align: right;\n",
              "    }\n",
              "</style>\n",
              "<table border=\"1\" class=\"dataframe\">\n",
              "  <thead>\n",
              "    <tr style=\"text-align: right;\">\n",
              "      <th></th>\n",
              "      <th>agent1</th>\n",
              "      <th>agent2</th>\n",
              "      <th>nemenyi_stat</th>\n",
              "      <th>nemenyi_threshold</th>\n",
              "      <th>reject_null_hypo</th>\n",
              "    </tr>\n",
              "  </thead>\n",
              "  <tbody>\n",
              "    <tr>\n",
              "      <th>0</th>\n",
              "      <td>profit_1</td>\n",
              "      <td>profit_2</td>\n",
              "      <td>0.727273</td>\n",
              "      <td>0.999059</td>\n",
              "      <td>False</td>\n",
              "    </tr>\n",
              "    <tr>\n",
              "      <th>1</th>\n",
              "      <td>profit_1</td>\n",
              "      <td>random</td>\n",
              "      <td>0.636364</td>\n",
              "      <td>0.999059</td>\n",
              "      <td>False</td>\n",
              "    </tr>\n",
              "    <tr>\n",
              "      <th>2</th>\n",
              "      <td>profit_2</td>\n",
              "      <td>random</td>\n",
              "      <td>0.090909</td>\n",
              "      <td>0.999059</td>\n",
              "      <td>False</td>\n",
              "    </tr>\n",
              "  </tbody>\n",
              "</table>\n",
              "</div>"
            ],
            "text/plain": [
              "     agent1    agent2  nemenyi_stat  nemenyi_threshold  reject_null_hypo\n",
              "0  profit_1  profit_2      0.727273           0.999059             False\n",
              "1  profit_1    random      0.636364           0.999059             False\n",
              "2  profit_2    random      0.090909           0.999059             False"
            ]
          },
          "metadata": {},
          "output_type": "display_data"
        },
        {
          "data": {
            "text/plain": [
              "'trade_dur_avg'"
            ]
          },
          "metadata": {},
          "output_type": "display_data"
        },
        {
          "data": {
            "text/html": [
              "<div>\n",
              "<style scoped>\n",
              "    .dataframe tbody tr th:only-of-type {\n",
              "        vertical-align: middle;\n",
              "    }\n",
              "\n",
              "    .dataframe tbody tr th {\n",
              "        vertical-align: top;\n",
              "    }\n",
              "\n",
              "    .dataframe thead th {\n",
              "        text-align: right;\n",
              "    }\n",
              "</style>\n",
              "<table border=\"1\" class=\"dataframe\">\n",
              "  <thead>\n",
              "    <tr style=\"text-align: right;\">\n",
              "      <th></th>\n",
              "      <th>dataset</th>\n",
              "      <th>profit_1</th>\n",
              "      <th>profit_2</th>\n",
              "      <th>random</th>\n",
              "    </tr>\n",
              "  </thead>\n",
              "  <tbody>\n",
              "    <tr>\n",
              "      <th>0</th>\n",
              "      <td>AAPL-3272:4250</td>\n",
              "      <td>0.0</td>\n",
              "      <td>6.47</td>\n",
              "      <td>1.98</td>\n",
              "    </tr>\n",
              "    <tr>\n",
              "      <th>1</th>\n",
              "      <td>AMZN-3272:4250</td>\n",
              "      <td>0.0</td>\n",
              "      <td>3.33</td>\n",
              "      <td>2.03</td>\n",
              "    </tr>\n",
              "    <tr>\n",
              "      <th>2</th>\n",
              "      <td>GOOGL-3272:4250</td>\n",
              "      <td>0.0</td>\n",
              "      <td>5.04</td>\n",
              "      <td>2.01</td>\n",
              "    </tr>\n",
              "    <tr>\n",
              "      <th>3</th>\n",
              "      <td>MSFT-3272:4250</td>\n",
              "      <td>0.0</td>\n",
              "      <td>5.74</td>\n",
              "      <td>2.05</td>\n",
              "    </tr>\n",
              "    <tr>\n",
              "      <th>4</th>\n",
              "      <td>FORD-3272:4250</td>\n",
              "      <td>0.0</td>\n",
              "      <td>1.18</td>\n",
              "      <td>1.98</td>\n",
              "    </tr>\n",
              "    <tr>\n",
              "      <th>5</th>\n",
              "      <td>JNJ-3272:4250</td>\n",
              "      <td>0.0</td>\n",
              "      <td>2.79</td>\n",
              "      <td>2.03</td>\n",
              "    </tr>\n",
              "    <tr>\n",
              "      <th>6</th>\n",
              "      <td>NEE-3272:4250</td>\n",
              "      <td>0.0</td>\n",
              "      <td>3.66</td>\n",
              "      <td>1.97</td>\n",
              "    </tr>\n",
              "    <tr>\n",
              "      <th>7</th>\n",
              "      <td>PFE-3272:4250</td>\n",
              "      <td>0.0</td>\n",
              "      <td>2.40</td>\n",
              "      <td>1.96</td>\n",
              "    </tr>\n",
              "    <tr>\n",
              "      <th>8</th>\n",
              "      <td>TSLA-2394:3372</td>\n",
              "      <td>0.0</td>\n",
              "      <td>6.89</td>\n",
              "      <td>2.04</td>\n",
              "    </tr>\n",
              "    <tr>\n",
              "      <th>9</th>\n",
              "      <td>COKE-3272:4250</td>\n",
              "      <td>0.0</td>\n",
              "      <td>4.23</td>\n",
              "      <td>1.92</td>\n",
              "    </tr>\n",
              "    <tr>\n",
              "      <th>10</th>\n",
              "      <td>PG-3272:4250</td>\n",
              "      <td>0.0</td>\n",
              "      <td>4.09</td>\n",
              "      <td>1.94</td>\n",
              "    </tr>\n",
              "  </tbody>\n",
              "</table>\n",
              "</div>"
            ],
            "text/plain": [
              "            dataset  profit_1  profit_2  random\n",
              "0    AAPL-3272:4250       0.0      6.47    1.98\n",
              "1    AMZN-3272:4250       0.0      3.33    2.03\n",
              "2   GOOGL-3272:4250       0.0      5.04    2.01\n",
              "3    MSFT-3272:4250       0.0      5.74    2.05\n",
              "4    FORD-3272:4250       0.0      1.18    1.98\n",
              "5     JNJ-3272:4250       0.0      2.79    2.03\n",
              "6     NEE-3272:4250       0.0      3.66    1.97\n",
              "7     PFE-3272:4250       0.0      2.40    1.96\n",
              "8    TSLA-2394:3372       0.0      6.89    2.04\n",
              "9    COKE-3272:4250       0.0      4.23    1.92\n",
              "10     PG-3272:4250       0.0      4.09    1.94"
            ]
          },
          "metadata": {},
          "output_type": "display_data"
        },
        {
          "data": {
            "text/plain": [
              "array([[3, 3, 3, 3, 3, 3, 3, 3, 3, 3, 3],\n",
              "       [1, 1, 1, 1, 2, 1, 1, 1, 1, 1, 1],\n",
              "       [2, 2, 2, 2, 1, 2, 2, 2, 2, 2, 2]])"
            ]
          },
          "metadata": {},
          "output_type": "display_data"
        },
        {
          "data": {
            "text/plain": [
              "'n models: 3, n_datasets 11, ImanDavenport Stat: 111.00000000000034, Critical Value: 3.492828476735632, pvalue: 4.145470838528921e-05, Reject Null Hypoth: True'"
            ]
          },
          "metadata": {},
          "output_type": "display_data"
        },
        {
          "data": {
            "text/html": [
              "<div>\n",
              "<style scoped>\n",
              "    .dataframe tbody tr th:only-of-type {\n",
              "        vertical-align: middle;\n",
              "    }\n",
              "\n",
              "    .dataframe tbody tr th {\n",
              "        vertical-align: top;\n",
              "    }\n",
              "\n",
              "    .dataframe thead th {\n",
              "        text-align: right;\n",
              "    }\n",
              "</style>\n",
              "<table border=\"1\" class=\"dataframe\">\n",
              "  <thead>\n",
              "    <tr style=\"text-align: right;\">\n",
              "      <th></th>\n",
              "      <th>agent1</th>\n",
              "      <th>agent2</th>\n",
              "      <th>nemenyi_stat</th>\n",
              "      <th>nemenyi_threshold</th>\n",
              "      <th>reject_null_hypo</th>\n",
              "    </tr>\n",
              "  </thead>\n",
              "  <tbody>\n",
              "    <tr>\n",
              "      <th>0</th>\n",
              "      <td>profit_1</td>\n",
              "      <td>profit_2</td>\n",
              "      <td>1.909091</td>\n",
              "      <td>0.999059</td>\n",
              "      <td>True</td>\n",
              "    </tr>\n",
              "    <tr>\n",
              "      <th>1</th>\n",
              "      <td>profit_1</td>\n",
              "      <td>random</td>\n",
              "      <td>1.090909</td>\n",
              "      <td>0.999059</td>\n",
              "      <td>True</td>\n",
              "    </tr>\n",
              "    <tr>\n",
              "      <th>2</th>\n",
              "      <td>profit_2</td>\n",
              "      <td>random</td>\n",
              "      <td>0.818182</td>\n",
              "      <td>0.999059</td>\n",
              "      <td>False</td>\n",
              "    </tr>\n",
              "  </tbody>\n",
              "</table>\n",
              "</div>"
            ],
            "text/plain": [
              "     agent1    agent2  nemenyi_stat  nemenyi_threshold  reject_null_hypo\n",
              "0  profit_1  profit_2      1.909091           0.999059              True\n",
              "1  profit_1    random      1.090909           0.999059              True\n",
              "2  profit_2    random      0.818182           0.999059             False"
            ]
          },
          "metadata": {},
          "output_type": "display_data"
        }
      ],
      "source": [
        "if test_agent:\n",
        "    for metric in metrics:\n",
        "        display(metric)\n",
        "        display(summarized_aggerate_results[metric])\n",
        "        test = prob_evaluate.generate_rank_array_from_dataframe(summarized_aggerate_results[metric],\n",
        "                                                                model_list,equal_rank_behav=\"mean\",\n",
        "                                                                rank_order=aval_metrics_rank_dic[metric])\n",
        "        display(test)\n",
        "        stat, critical_f_value, reject_null_hypo, k, n, pvalue = prob_evaluate.iman_davenport_test(test,0.95,arr_order='rows')\n",
        "        display(f'n models: {k}, n_datasets {n}, ImanDavenport Stat: {stat}, Critical Value: {critical_f_value}, pvalue: {pvalue}, Reject Null Hypoth: {reject_null_hypo}')\n",
        "\n",
        "        # Create a dictionary with the output values\n",
        "        result_dict = {\n",
        "                    'n_models': [k],\n",
        "                    'n_datasets': [n],\n",
        "                    'Iman_Davenport_Stat': [stat],\n",
        "                    'Critical_Value': [critical_f_value],\n",
        "                    'pvalue': [pvalue],\n",
        "                    'Reject_Null_Hypothesis': [reject_null_hypo]}\n",
        "\n",
        "        result_df = pd.DataFrame(result_dict)\n",
        "        result_df.to_csv(f'{save_path_root}/{metric}_iman_davenport_test.csv')\n",
        "\n",
        "        # Nemenyi Test\n",
        "        results_raw = prob_evaluate.nemenyi_test(test,0.95,model_list)\n",
        "        # Formating Output\n",
        "        df_export = pd.DataFrame(results_raw, columns=['agent1_agent2', 'nemenyi_stat', 'nemenyi_threshold', 'reject_null_hypo'])\n",
        "        df_export[['agent1', 'agent2']] = pd.DataFrame(df_export['agent1_agent2'].tolist(), index=df_export.index)\n",
        "        df_export = df_export.drop(columns=['agent1_agent2'])\n",
        "        new_column_order = ['agent1', 'agent2', 'nemenyi_stat', 'nemenyi_threshold', 'reject_null_hypo']\n",
        "        df_export = df_export[new_column_order]\n",
        "        df_export.to_csv(f'{save_path_root}/{metric}_nemenyi_test.csv')\n",
        "\n",
        "        display(df_export)"
      ]
    },
    {
      "cell_type": "markdown",
      "metadata": {
        "id": "yAx4C23NWsie"
      },
      "source": [
        "#Move records to Google Drive for VM"
      ]
    },
    {
      "cell_type": "code",
      "execution_count": 28,
      "metadata": {
        "id": "6AVXuuyVUJtT"
      },
      "outputs": [],
      "source": [
        "if IN_COLAB:\n",
        "  import shutil\n",
        "  from google.colab import drive\n",
        "\n",
        "  # Connect Google Drive to download records for autoclosing of VM\n",
        "  drive.mount('/content/drive')\n",
        "\n",
        "  # Define your directory path and case name\n",
        "  directory_path = save_path_root\n",
        "  zip_file_name = case_name.replace(\"/\", \"\")\n",
        "  output_filename = f'{zip_file_name}.zip'\n",
        "\n",
        "  # Create a zip file of the directory\n",
        "  shutil.make_archive(zip_file_name, 'zip', directory_path)\n",
        "\n",
        "  # Move the zip file to Google Drive\n",
        "  shutil.move(f'{zip_file_name}.zip', f'/content/drive/My Drive/{output_filename}')"
      ]
    },
    {
      "cell_type": "markdown",
      "metadata": {
        "id": "j2THhlh2QFnv"
      },
      "source": []
    }
  ],
  "metadata": {
    "accelerator": "GPU",
    "colab": {
      "collapsed_sections": [
        "90L1szCuQFnU"
      ],
      "gpuType": "T4",
      "provenance": []
    },
    "kernelspec": {
      "display_name": "Python 3",
      "name": "python3"
    },
    "language_info": {
      "codemirror_mode": {
        "name": "ipython",
        "version": 3
      },
      "file_extension": ".py",
      "mimetype": "text/x-python",
      "name": "python",
      "nbconvert_exporter": "python",
      "pygments_lexer": "ipython3",
      "version": "3.11.5"
    }
  },
  "nbformat": 4,
  "nbformat_minor": 0
}
